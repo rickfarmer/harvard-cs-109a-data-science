{
 "cells": [
  {
   "cell_type": "markdown",
   "metadata": {},
   "source": [
    "# CS 109A/AC 209A/STAT 121A Data Science: Lab 3 (Solutions)\n",
    "**Harvard University**<br>\n",
    "**Fall 2016**<br>\n",
    "**Instructors: W. Pan, P. Protopapas, K. Rader**<br>\n",
    "**Due Date: ** Wednesday, September 28th, 2016 at 11:59pm"
   ]
  },
  {
   "cell_type": "markdown",
   "metadata": {},
   "source": [
    "Download the `IPython` notebook as well as the data file from Vocareum and complete locally.\n",
    "\n",
    "To submit your assignment, in Vocareum, upload (using the 'Upload' button on your Jupyter Dashboard) your solution to Vocareum as a single notebook with following file name format:\n",
    "\n",
    "`last_first_CourseNumber_HW3.ipynb`\n",
    "\n",
    "where `CourseNumber` is the course in which you're enrolled (CS 109a, Stats 121a, AC 209a). Submit your assignment in Vocareum using the 'Submit' button.\n",
    "\n",
    "**Avoid editing your file in Vocareum after uploading. If you need to make a change in a solution. Delete your old solution file from Vocareum and upload a new solution. Click submit only ONCE after verifying that you have uploaded the correct file. The assignment will CLOSE after you click the submit button.**\n",
    "\n",
    "Problems on homework assignments are equally weighted. The Challenge Question is required for AC 209A students and optional for all others. Student who complete the Challenge Problem as optional extra credit will receive +0.5% towards your final grade for each correct solution. "
   ]
  },
  {
   "cell_type": "markdown",
   "metadata": {},
   "source": [
    "Import libraries"
   ]
  },
  {
   "cell_type": "code",
   "execution_count": 2,
   "metadata": {
    "collapsed": false
   },
   "outputs": [],
   "source": [
    "import numpy as np\n",
    "import pandas as pd\n",
    "from sklearn.linear_model import LinearRegression as Lin_Reg\n",
    "import matplotlib\n",
    "import matplotlib.pyplot as plt\n",
    "import matplotlib.cm as cmx\n",
    "import matplotlib.colors as colors\n",
    "import statsmodels.api as sm\n",
    "import scipy as sp\n",
    "%matplotlib inline"
   ]
  },
  {
   "cell_type": "markdown",
   "metadata": {},
   "source": [
    "## Problem 0: Basic Information\n",
    "\n",
    "Fill in your basic information. \n",
    "\n",
    "### Part (a): Your name"
   ]
  },
  {
   "cell_type": "markdown",
   "metadata": {},
   "source": [
    "[Last, First]"
   ]
  },
  {
   "cell_type": "markdown",
   "metadata": {},
   "source": [
    "### Part (b): Course Number"
   ]
  },
  {
   "cell_type": "markdown",
   "metadata": {},
   "source": [
    "[CS 109a or STATS 121a or AC 209a]"
   ]
  },
  {
   "cell_type": "markdown",
   "metadata": {},
   "source": [
    "### Part (c): Who did you work with?"
   ]
  },
  {
   "cell_type": "markdown",
   "metadata": {},
   "source": [
    "[First and Land names of students with whom you have collaborated]"
   ]
  },
  {
   "cell_type": "markdown",
   "metadata": {},
   "source": [
    "**All data sets can be found in the ``datasets`` folder and are in comma separated value (CSV) format**"
   ]
  },
  {
   "cell_type": "markdown",
   "metadata": {},
   "source": [
    "## Problem 1: Multiple linear regression\n",
    "\n",
    "### Part (a): Implement multiple linear regression from scratch\n",
    "\n",
    "You are provided a data set containing attributes related to automobiles as well as their corresponding prices. The task is to build a linear regression model from scratch that can estimate the price of an automobile (response variable) using its attributes (predictor variables).\n",
    "\n",
    "The file ``dataset_1_train.txt`` contains the training set that you can use to fit a regression model, and the file ``dataset_1_test.txt`` contains the test set that you can use to evaluate the model. In each file, the first two columns contain the predictors of the automobile, namely ``'horsepower'`` and ``'highway MPG'``, and the last column contains the automobile prices.\n",
    "\n",
    "- Implement the following two functions from scratch. \n",
    "\n",
    "    - ``multiple_linear_regression_fit``:\n",
    "\n",
    "        - takes as input: the training set, ``x_train``, ``y_train``\n",
    "\n",
    "        - fits a multiple linear regression model\n",
    "\n",
    "        - returns the model parameters (coefficients on the predictors, as an array, and the intercept, as a float).\n",
    "\n",
    "    - ``multiple_linear_regression_score``:\n",
    "\n",
    "        - takes model parameters (coefficients and intercept) and the test set, ``x_test`` ``y_test``, as inputs\n",
    "\n",
    "        - returns the R^2 score for the model on the test set, along with the predicted y-values.\n",
    "        \n",
    "- Use your functions to predict automobile prices and evaluate your predictions.\n",
    "\n",
    "**Note:** You **may not** use pre-built models or model evaluators for these tasks."
   ]
  },
  {
   "cell_type": "markdown",
   "metadata": {},
   "source": [
    "**Solution:**"
   ]
  },
  {
   "cell_type": "code",
   "execution_count": 8,
   "metadata": {
    "collapsed": true
   },
   "outputs": [],
   "source": [
    "### Functions for fitting and evaluating multiple linear regression\n",
    "\n",
    "#--------  multiple_linear_regression_fit\n",
    "# A function for fitting a multiple linear regression\n",
    "# Fitted model: f(x) = x.w + c\n",
    "# Input: \n",
    "#      x_train (n x d array of predictors in training data)\n",
    "#      y_train (n x 1 array of response variable vals in training data)\n",
    "# Return: \n",
    "#      w (d x 1 array of coefficients) \n",
    "#      c (float representing intercept)\n",
    "\n",
    "def multiple_linear_regression_fit(x_train, y_train):\n",
    "    \n",
    "    # Append a column of one's to x\n",
    "    n = x_train.shape[0]\n",
    "    ones_col = np.ones((n, 1))\n",
    "    x_train = np.concatenate((x_train, ones_col), axis=1)\n",
    "    \n",
    "    # Compute transpose of x\n",
    "    x_transpose = np.transpose(x_train)\n",
    "    \n",
    "    # Compute coefficients: w = inv(x^T * x) x^T * y\n",
    "    # Compute intermediate term: inv(x^T * x)\n",
    "    # Note: We have to take pseudo-inverse (pinv), just in case x^T * x is not invertible \n",
    "    x_t_x_inv = np.linalg.pinv(np.dot(x_transpose, x_train))\n",
    "    \n",
    "    # Compute w: inter_term * x^T * y \n",
    "    w = np.dot(np.dot(x_t_x_inv, x_transpose), y_train)\n",
    "    \n",
    "    # Obtain intercept: 'c' (last index)\n",
    "    c = w[-1]\n",
    "    \n",
    "    return w[:-1], c\n",
    "\n",
    "#--------  multiple_linear_regression_score\n",
    "# A function for evaluating R^2 score and MSE \n",
    "# of the linear regression model on a data set\n",
    "# Input: \n",
    "#      w (d x 1 array of coefficients)\n",
    "#      c (float representing intercept)\n",
    "#      x_test (n x d array of predictors in testing data)\n",
    "#      y_test (n x 1 array of response variable vals in testing data)\n",
    "# Return: \n",
    "#      r_squared (float) \n",
    "#      y_pred (n x 1 array of predicted y-vals)\n",
    "\n",
    "def multiple_linear_regression_score(w, c, x_test, y_test):        \n",
    "    # Compute predicted labels\n",
    "    y_pred = np.dot(x_test, w) + c\n",
    "    \n",
    "    # Evaluate sqaured error, against target labels\n",
    "    # sq_error = \\sum_i (y[i] - y_pred[i])^2\n",
    "    sq_error = np.sum(np.square(y_test - y_pred))\n",
    "    \n",
    "    # Evaluate squared error for a predicting the mean value, against target labels\n",
    "    # variance = \\sum_i (y[i] - y_mean)^2\n",
    "    y_mean = np.mean(y_test)\n",
    "    y_variance = np.sum(np.square(y_test - y_mean))\n",
    "    \n",
    "    # Evaluate R^2 score value\n",
    "    r_squared = 1 - sq_error / y_variance\n",
    "\n",
    "    return r_squared, y_pred"
   ]
  },
  {
   "cell_type": "code",
   "execution_count": 9,
   "metadata": {
    "collapsed": false
   },
   "outputs": [
    {
     "name": "stdout",
     "output_type": "stream",
     "text": [
      "R^2 score on test set: 0.177944627327\n"
     ]
    }
   ],
   "source": [
    "# Load train and test data sets\n",
    "data_train = np.loadtxt('datasets/dataset_1_train.txt', delimiter=',', skiprows=1)\n",
    "data_test = np.loadtxt('datasets/dataset_1_test.txt', delimiter=',', skiprows=1)\n",
    "\n",
    "# Split predictors from response\n",
    "# Training\n",
    "y_train = data_train[:, -1]\n",
    "x_train = data_train[:, :-1]\n",
    "\n",
    "# Testing\n",
    "y_test = data_test[:, -1]\n",
    "x_test = data_test[:, :-1]\n",
    "\n",
    "# Fit multiple linear regression model\n",
    "w, c = multiple_linear_regression_fit(x_train, y_train)\n",
    "\n",
    "# Evaluate model\n",
    "r_squared, _ = multiple_linear_regression_score(w, c, x_test, y_test)\n",
    "\n",
    "print 'R^2 score on test set:', r_squared"
   ]
  },
  {
   "cell_type": "code",
   "execution_count": 13,
   "metadata": {
    "collapsed": false
   },
   "outputs": [
    {
     "name": "stdout",
     "output_type": "stream",
     "text": [
      "[[ 1.  0.]\n",
      " [ 0.  0.]]\n",
      "[1, 0]\n"
     ]
    }
   ],
   "source": [
    "def change_x(x):\n",
    "    x[0, 0] = 1\n",
    "    \n",
    "def change_y(y):\n",
    "    y[0] = 1\n",
    "\n",
    "x = np.zeros((2, 2))\n",
    "change_x(x)\n",
    "print x\n",
    "\n",
    "y = [0, 0]\n",
    "change_y(y)\n",
    "print y\n"
   ]
  },
  {
   "cell_type": "markdown",
   "metadata": {},
   "source": [
    "### Part (b): Confidence interval on regression parameters\n",
    "Using your linear regression implementation from Part (a), model the data in ``dataset_2.txt``, which contains five predictor variables in the first five columns, and the response variable in the last column.\n",
    "\n",
    "Compute confidence intervals for the model parameters you obtain:\n",
    "\n",
    "- Create 200 random subsamples of the data set of size 100, and use your function to fit a multiple linear regression model to each subsample. \n",
    "\n",
    "- For each coefficient on the predictor variables: plot a histogram of the values obtained across the subsamples, and calculate the confidence interval for the coefficients at a confidence level of 95%. \n",
    "\n",
    "- Highlight the mean coeffcient values and the end points of the confidence intervals using vertical lines on the histogram plot. How large is the spread of the coefficient values in the histograms, and how tight are the confidence intervals?\n",
    "\n",
    "- Use the formula for computing confidence intervals provided in class (or use ``statmodels``) to compute the the confidence intervals. Compare confidence intervals you find through simulation to the ones given by the formula (or ``statmodels``), are your results what you would expect?\n",
    "\n",
    "**Note:** You **may not** use pre-built models or model evaluators for these tasks."
   ]
  },
  {
   "cell_type": "markdown",
   "metadata": {},
   "source": [
    "**Solution:**"
   ]
  },
  {
   "cell_type": "code",
   "execution_count": 11,
   "metadata": {
    "collapsed": false
   },
   "outputs": [
    {
     "name": "stdout",
     "output_type": "stream",
     "text": [
      "Linear regression with all predictors\n"
     ]
    },
    {
     "data": {
      "image/png": "[encoded data removed]",
      "text/plain": [
       "<matplotlib.figure.Figure at 0x114a94450>"
      ]
     },
     "metadata": {},
     "output_type": "display_data"
    }
   ],
   "source": [
    "# Load train set\n",
    "data = np.loadtxt(\"datasets/dataset_2.txt\", delimiter=',', skiprows = 1)\n",
    "\n",
    "# Size of data set, and subsample (10%)\n",
    "x = data[:, :-1]\n",
    "y = data[:, -1]\n",
    "\n",
    "# Record size of the data set\n",
    "n = x.shape[0]\n",
    "d = x.shape[1]\n",
    "subsample_size = 100\n",
    "\n",
    "# No. of subsamples\n",
    "num_samples = 200\n",
    "    \n",
    "### Linear regression with all 5 predictors\n",
    "\n",
    "# Create a n x d array to store coefficients for 100 subsamples\n",
    "coefs_multiple = np.zeros((num_samples, d))\n",
    "\n",
    "print 'Linear regression with all predictors'\n",
    "\n",
    "# Repeat for 200 subsamples\n",
    "for i in range(num_samples):\n",
    "    # Generate a random subsample of 50 data points\n",
    "    perm = np.random.permutation(n) # Generate a list of indices 0 to n and permute it\n",
    "    x_subsample = x[perm[:subsample_size], :] # Get x-vals for the first 50 indices in permuted list\n",
    "    \n",
    "    y_subsample = y[perm[:subsample_size]] # Get y-vals for the first 50 indices in permuted list\n",
    "\n",
    "    # Fit linear regression model on subsample\n",
    "    w, c = multiple_linear_regression_fit(x_subsample, y_subsample)\n",
    "    # Store the coefficient for the model we obtain\n",
    "    coefs_multiple[i, :] = w\n",
    "\n",
    "# Plot histogram of coefficients, and report their confidence intervals \n",
    "fig, axes = plt.subplots(1, d, figsize=(20, 3))\n",
    "\n",
    "# Repeat for each coefficient\n",
    "for j in range(d):\n",
    "    # Compute mean for the j-th coefficent from subsamples\n",
    "    coef_j_mean = np.mean(coefs_multiple[:, j])\n",
    "    \n",
    "    # Compute confidence interval at 95% confidence level (use formula!)\n",
    "    conf_int_left = np.percentile(coefs_multiple[:, j], 2.5)\n",
    "    conf_int_right = np.percentile(coefs_multiple[:, j], 97.5)\n",
    "       \n",
    "    # Plot histogram of coefficient values\n",
    "    axes[j].hist(coefs_multiple[:, j], alpha=0.5)\n",
    "\n",
    "    # Plot vertical lines at mean and left, right extremes of confidence interval\n",
    "    axes[j].axvline(x = coef_j_mean, linewidth=3)\n",
    "    axes[j].axvline(x = conf_int_left, linewidth=1, c='r')\n",
    "    axes[j].axvline(x = conf_int_right, linewidth=1, c='r')\n",
    "    \n",
    "    # Set plot labels\n",
    "    axes[j].set_title('[' + str(round(conf_int_left, 4)) \n",
    "                      + ', ' \n",
    "                      + str(round(conf_int_right, 4)) + ']')\n",
    "    axes[j].set_xlabel('Predictor ' + str(j + 1))\n",
    "    axes[j].set_ylabel('Frequency')\n",
    "\n",
    "plt.show()"
   ]
  },
  {
   "cell_type": "code",
   "execution_count": 12,
   "metadata": {
    "collapsed": false
   },
   "outputs": [
    {
     "name": "stdout",
     "output_type": "stream",
     "text": [
      "the confidence interval for the 0 th coefficient: [ 0.552772624515 , 0.75038508161 ]\n",
      "the confidence interval for the 1 th coefficient: [ 0.352230409656 , 0.749743369436 ]\n",
      "the confidence interval for the 2 th coefficient: [ 0.0889138463555 , 0.47338926001 ]\n",
      "the confidence interval for the 3 th coefficient: [ 0.809809940402 , 1.09854837094 ]\n",
      "the confidence interval for the 4 th coefficient: [ 0.0785426153804 , 0.488433606409 ]\n"
     ]
    }
   ],
   "source": [
    "# Add column of ones to x matrix\n",
    "x = sm.add_constant(x)\n",
    "\n",
    "# Create model for linear regression\n",
    "model = sm.OLS(y, x)\n",
    "# Fit model\n",
    "fitted_model = model.fit()\n",
    "# The confidence intervals for our five coefficients are contained in the last five\n",
    "# rows of the fitted_model.conf_int() array\n",
    "conf_int = fitted_model.conf_int()[1:, :]\n",
    "\n",
    "for j in range(d):\n",
    "    print 'the confidence interval for the', j, 'th coefficient: [', conf_int[j][0], ',', conf_int[j][1], ']'"
   ]
  }
 ],
 "metadata": {
  "anaconda-cloud": {},
  "kernelspec": {
   "display_name": "Python 2",
   "language": "python",
   "name": "python2"
  },
  "language_info": {
   "codemirror_mode": {
    "name": "ipython",
    "version": 2
   },
   "file_extension": ".py",
   "mimetype": "text/x-python",
   "name": "python",
   "nbconvert_exporter": "python",
   "pygments_lexer": "ipython2",
   "version": "2.7.11"
  }
 },
 "nbformat": 4,
 "nbformat_minor": 0
}
