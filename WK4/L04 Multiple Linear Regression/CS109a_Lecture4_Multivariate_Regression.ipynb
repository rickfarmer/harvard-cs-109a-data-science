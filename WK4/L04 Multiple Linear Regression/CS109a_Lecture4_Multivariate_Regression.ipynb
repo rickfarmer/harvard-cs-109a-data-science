{
 "cells": [
  {
   "cell_type": "markdown",
   "metadata": {
    "slideshow": {
     "slide_type": "slide"
    }
   },
   "source": [
    "# Lecture 4. Multiple  Linear Regresssion\n",
    "--- \n",
    "\n",
    "### CS 109A/AC 209A/STAT 121A Data Science:\n",
    "### Harvard University\n",
    "Fall 2016 <br>\n",
    "Instructors:  P. Protopapas, K. Rader, W. Pan\n",
    "\n",
    "\n"
   ]
  },
  {
   "cell_type": "markdown",
   "metadata": {
    "slideshow": {
     "slide_type": "slide"
    }
   },
   "source": [
    "## Announcements \n",
    "\n",
    "- Lectures will be held in Emerson Hall, Room 105\n",
    "- HW0: You should have received simple test comments. Please check it out.  \n",
    "- HW1: Grading is almost done. Grades should be out by Thursday \n",
    "- HW2: will be posted on Wed **after** the lecture \n",
    "- Projects: \n",
    "    - List of projects are posted\n",
    "    - Canvas Project Page has: guideline, project descriptions, form to fill\n",
    "    - Deadline for milestone 1 (choose project and form a group)  is being pushed back to next wednesday (28th) \n",
    "\n"
   ]
  },
  {
   "cell_type": "markdown",
   "metadata": {
    "slideshow": {
     "slide_type": "slide"
    }
   },
   "source": [
    "<br>\n",
    "\n",
    "# Outline \n",
    "- Review of last lecture\n",
    "- Multiple Regression\n",
    "    - Estimating the regression coefficients\n",
    "    - Relationship Between the Response and Predictors: F-statistics \n",
    "    - Important Variables: Information Criteria\n",
    "    - Model Fit\n",
    "    - Prediction \n",
    "- Extensions of the Linear Model\n",
    "    - Interaction Terms \n",
    "   \n",
    "\n",
    "    \n"
   ]
  },
  {
   "cell_type": "code",
   "execution_count": 1085,
   "metadata": {
    "collapsed": false,
    "slideshow": {
     "slide_type": "slide"
    }
   },
   "outputs": [
    {
     "name": "stdout",
     "output_type": "stream",
     "text": [
      "QUIZ TIME\n",
      "5 4 3 2 1 "
     ]
    }
   ],
   "source": [
    "import sys\n",
    "import time\n",
    "print(\"QUIZ TIME\")\n",
    "for i in range(5*1,0,-1):\n",
    "    #time.sleep(10)\n",
    "    sys.stdout.write(str(i)+' ')\n",
    "    sys.stdout.flush() \n"
   ]
  },
  {
   "cell_type": "markdown",
   "metadata": {
    "slideshow": {
     "slide_type": "slide"
    }
   },
   "source": [
    "<br>\n",
    "\n",
    "# Outline \n",
    "- ** Review of last lecture ** \n",
    "- Multiple Regression\n",
    "    - Estimating the regression coefficients\n",
    "    - Relationship Between the Response and Predictors: F-statistics \n",
    "    - Important Variables: Information Criteria\n",
    "    - Model Fit\n",
    "    - Prediction \n",
    "- Extensions of the Linear Model\n",
    "    - Interaction Terms \n",
    "   \n",
    "\n",
    "    \n"
   ]
  },
  {
   "cell_type": "code",
   "execution_count": 1086,
   "metadata": {
    "collapsed": true,
    "slideshow": {
     "slide_type": "skip"
    }
   },
   "outputs": [],
   "source": [
    "from ipywidgets import interact,  FloatSlider, RadioButtons\n",
    "import numpy as np \n",
    "import matplotlib\n",
    "import matplotlib.pyplot as plt\n",
    "%matplotlib inline\n",
    "from sklearn.linear_model import LinearRegression as Lin_Reg\n",
    "\n",
    "import statsmodels.api as sm\n",
    "\n",
    "    \n",
    "from mpl_toolkits.mplot3d import Axes3D"
   ]
  },
  {
   "cell_type": "code",
   "execution_count": 1087,
   "metadata": {
    "collapsed": true,
    "slideshow": {
     "slide_type": "skip"
    }
   },
   "outputs": [],
   "source": [
    "## GENERATE ANOTHER DATASET AND EXAMINE RESIDUALS \n",
    "def GenerateDataLinearFun(N=1000, beta0=2.2, beta1=3.0, sigma=10.0,  Xmax=90.0):\n",
    "    epsilon=np.random.normal(0,sigma,N)  # Random normally distributed points \n",
    "    X = np.linspace(Xmin,Xmax, N)           \n",
    "    Y = beta0 + beta1 * X + epsilon \n",
    "    return X, Y \n",
    "    \n",
    "def GenerateDataNotLinearFun(N=1000, beta0=2.2, beta1=3.0, sigma=1.0, Xmax=1.0, alpha=1):\n",
    "    epsilon=np.random.normal(0,sigma,N)  # Random normally distributed points \n",
    "    X = np.linspace(0,Xmax, N)           \n",
    "    Y = beta0 + beta1 * X + alpha* np.sin(6*X)+ epsilon \n",
    "    #Y =  beta0 + beta1 * X +4*beta1*(X>0.5) + epsilon \n",
    "    #Y =  beta0 + beta1 * X + alpha * X*X*X + epsilon\n",
    "    return X, Y \n",
    "\n",
    "def FitLinearModel(X,Y):\n",
    "    # Estimate the coefficients \n",
    "    beta1 =  np.sum((X-np.mean(X)) * (Y-np.mean(Y)))/np.sum( (X-np.mean(X))**2)\n",
    "    beta0 = np.mean(Y) - beta1*np.mean(X)  \n",
    "    return beta0, beta1\n",
    "\n",
    "def PredictLinearModel(X, beta0, beta1):\n",
    "    Y = beta0 + beta1 * X \n",
    "    return Y\n",
    "\n",
    "def RSS(Y, beta0, beta1):\n",
    "    return np.sum( (Y-PredictLinearModel(X, beta0, beta1))**2)"
   ]
  },
  {
   "cell_type": "code",
   "execution_count": 1088,
   "metadata": {
    "collapsed": true,
    "slideshow": {
     "slide_type": "slide"
    }
   },
   "outputs": [],
   "source": [
    "#  IMPORT DATA \n",
    "data = pd.read_csv('maxheartrate.csv')\n",
    "X=data['age'].values\n",
    "Y=data['maxheartrate'].values"
   ]
  },
  {
   "cell_type": "code",
   "execution_count": 1089,
   "metadata": {
    "collapsed": false,
    "slideshow": {
     "slide_type": "skip"
    }
   },
   "outputs": [],
   "source": [
    "font = {'family' : 'serif',\n",
    "        'weight' : 'bold',\n",
    "        'size'   : 22}\n",
    "\n",
    "matplotlib.rc('font', **font)"
   ]
  },
  {
   "cell_type": "code",
   "execution_count": 1090,
   "metadata": {
    "collapsed": false,
    "slideshow": {
     "slide_type": "skip"
    }
   },
   "outputs": [],
   "source": [
    "def plotit():\n",
    "    plt.figure(figsize=(15,10)) \n",
    "    plt.plot(X,Y, 'ro', label='Data', markersize=20)\n",
    "    plt.xlabel('Age'); plt.ylabel('Max Hear Rate')\n",
    "    plt.title('Max Heart Rate for Males')\n",
    "    plt.grid()"
   ]
  },
  {
   "cell_type": "code",
   "execution_count": 1091,
   "metadata": {
    "collapsed": false,
    "slideshow": {
     "slide_type": "slide"
    }
   },
   "outputs": [
    {
     "data": {
      "image/png": "[encoded data removed]",
      "text/plain": [
       "<matplotlib.figure.Figure at 0x13a6d14a8>"
      ]
     },
     "metadata": {},
     "output_type": "display_data"
    }
   ],
   "source": [
    "plotit()"
   ]
  },
  {
   "cell_type": "code",
   "execution_count": 1092,
   "metadata": {
    "collapsed": false,
    "slideshow": {
     "slide_type": "skip"
    }
   },
   "outputs": [],
   "source": [
    "def plotit(beta0, beta1,fit):\n",
    "    print(X.shape, Y.shape)\n",
    "    plt.figure(figsize=(15,10)) \n",
    "    plt.plot(X,Y, 'ro', label='Data', markersize=20)\n",
    "    plt.xlabel('Age'); plt.ylabel('Max Hear Rate')\n",
    "    plt.title('Max Heart Rate for Males')\n",
    "    plt.grid()\n",
    "    plt.plot([X,X],[Y, beta0+beta1*X] , 'k')\n",
    "    plt.plot(X, beta0+beta1*X, 'b', label=\"RSS=\"+str(np.around(RSS(Y, beta0, beta1), decimals=2)))\n",
    "    beta0_hat, beta1_hat = FitLinearModel(X,Y)\n",
    "    if fit==True:\n",
    "        plt.plot(X,beta0_hat+beta1_hat*X, 'g' , label=r'$\\hat{\\beta}_0=$'+str(np.around(beta0_hat,decimals=1))\n",
    "                 +r' $\\hat{\\beta}_1=$'+str(np.around(beta1_hat, decimals=1)))\n",
    "    plt.legend()"
   ]
  },
  {
   "cell_type": "code",
   "execution_count": 1093,
   "metadata": {
    "collapsed": false,
    "slideshow": {
     "slide_type": "slide"
    }
   },
   "outputs": [
    {
     "name": "stdout",
     "output_type": "stream",
     "text": [
      "(30,) (30,)\n"
     ]
    },
    {
     "data": {
      "text/plain": [
       "<function __main__.plotit>"
      ]
     },
     "execution_count": 1093,
     "metadata": {},
     "output_type": "execute_result"
    },
    {
     "data": {
      "image/png": "[encoded data removed]",
      "text/plain": [
       "<matplotlib.figure.Figure at 0x13627ecf8>"
      ]
     },
     "metadata": {},
     "output_type": "display_data"
    }
   ],
   "source": [
    "interact(plotit, beta0=(200, 250, 2), beta1=(-1.5,-0.5,.1), fit=False)\n"
   ]
  },
  {
   "cell_type": "markdown",
   "metadata": {
    "collapsed": false,
    "slideshow": {
     "slide_type": "slide"
    }
   },
   "source": [
    "\n",
    "<br>\n",
    "## Review: Calculate coefficients\n",
    "The most common approach involves minimizing least squares (sum of the square errors)\n",
    "\n",
    "$$RSS   = \\sum_i \\,e_i^2= \\sum_i ( y_i - \\hat{y_i} )^2$$\n",
    "\n",
    "The following minimize the RSS\n",
    "\n",
    "$$\\hat{\\beta_1} = \\frac{\\sum_i(x_i-\\bar{x})(y_i-\\bar{y})}{\\sum_i (x_i-\\bar{x})^2 }$$\n",
    "\n",
    "$$ \\hat{\\beta_0} = \\bar{y} - \\hat{\\beta_1} \\bar{x}$$\n",
    "\n",
    "where $\\bar{y} = \\frac{1}{n} \\sum_i y_i$ and  $\\bar{x} = \\frac{1}{n} \\sum_i x_i$ are the sample means.\n",
    "\n"
   ]
  },
  {
   "cell_type": "markdown",
   "metadata": {
    "slideshow": {
     "slide_type": "subslide"
    }
   },
   "source": [
    "## Gradient Decent\n",
    "\n",
    "Also known as steepest descent \n",
    "\n",
    "<img src=\"Gradient_descent.svg.png\">\n",
    "\n",
    "\n",
    "Note: More on this during Lab <br>\n",
    "Good reads: <br>\n",
    "http://www.bogotobogo.com/python/python_numpy_batch_gradient_descent_algorithm.php <br>\n",
    "http://www.scipy-lectures.org/advanced/mathematical_optimization/"
   ]
  },
  {
   "cell_type": "markdown",
   "metadata": {
    "slideshow": {
     "slide_type": "slide"
    }
   },
   "source": [
    "## Review: SE and Confidence Intervals \n",
    "\n",
    "\n",
    "\n",
    "\n",
    "\n",
    "The standard errors associated with $\\hat{\\beta}_0$ and $\\hat{\\beta}_1$:\n",
    "$$SE(\\hat{\\beta}_0)^2 = \\sigma^2 \\left[ \\frac{1}{n} + \\frac{\\bar{x}^2}{\\sum_i(x_i-\\bar{x})^2} \\right]$$\n",
    "\n",
    "$$SE(\\hat{\\beta}_1)^2 =  \\frac{ \\sigma^2}{\\sum_i(x_i-\\bar{x})^2}$$\n",
    "\n",
    "\n",
    "$$\\sigma \\approx RSE = \\sqrt{ \\frac{RSS}{n-2}} $$\n",
    "\n",
    "$$RSS  = \\sum_i ( y_i - \\hat{y_i} )^2 = \\sum_i \\,e_i^2$$\n",
    "\n",
    "\n"
   ]
  },
  {
   "cell_type": "code",
   "execution_count": 1094,
   "metadata": {
    "collapsed": false,
    "slideshow": {
     "slide_type": "skip"
    }
   },
   "outputs": [],
   "source": [
    "def plotit(alpha):\n",
    "    font = {'family' : 'monospace',\n",
    "        'weight' : 'normal',\n",
    "        'size'   : 14}\n",
    "\n",
    "    matplotlib.rc('font', **font)\n",
    "    plt.figure(figsize=(14,6)) \n",
    "\n",
    "    beta1=1.02\n",
    "    SE = 0.4\n",
    "    X=np.random.normal(beta1, SE, 1000)\n",
    "    hf, bh=np.histogram(X, bins=20) #, alpha=0.8, bins =20, color='w');\n",
    "    plt.step(bh[1:],  hf)\n",
    "    plt.xlabel(r'$\\beta_1$')\n",
    "    plt.axvline(x=np.mean(X), color='r', linestyle='-', label='Estiamed value')\n",
    "    plt.axvline(x=0, color='g', linestyle='-', label='Hypothesis testing')\n",
    "    #plt.show()\n",
    "    plt.hist(X[(X< bh[np.argmax(beta1+alpha*SE <  bh)]) * (X> bh[np.argmax(beta1-alpha*SE <  bh)])], color='k', alpha=0.3, bins =bh, label='95% confidence');\n",
    "    plt.legend(loc='best')\n"
   ]
  },
  {
   "cell_type": "code",
   "execution_count": 1095,
   "metadata": {
    "collapsed": false,
    "slideshow": {
     "slide_type": "slide"
    }
   },
   "outputs": [
    {
     "data": {
      "image/png": "[encoded data removed]",
      "text/plain": [
       "<matplotlib.figure.Figure at 0x13a995400>"
      ]
     },
     "metadata": {},
     "output_type": "display_data"
    }
   ],
   "source": [
    "plotit(2)\n",
    "\n"
   ]
  },
  {
   "cell_type": "markdown",
   "metadata": {
    "slideshow": {
     "slide_type": "slide"
    }
   },
   "source": [
    "## Review: Model accuracy/goodness of fit and $R^2$ \n",
    "\n",
    "$$ RSE = \\sqrt{ \\frac{RSS}{n-2}} $$\n",
    "\n",
    "- It is considered a measure of the lack of fit of the model\n",
    "- Absolute measure since it is in units of Y \n",
    "\n",
    "Alternatively we can use $R^2$ statistics that is propotion of deviation in units of variance \n",
    "\n",
    "\n",
    "$$R^2 = \\frac{TSS-RSS}{TSS} =  1 - \\frac{RSS}{TSS} $$\n",
    "\n",
    "where $TSS = \\sum_i (y_i-\\bar{y})^2 $ is the total sum of squares, or the deviation of Y before we regress and RSS is the deviation left after the regression. \n",
    "\n",
    "The ration tells as how well the regression performed to remove deviations on Y"
   ]
  },
  {
   "cell_type": "markdown",
   "metadata": {
    "slideshow": {
     "slide_type": "slide"
    }
   },
   "source": [
    " <br>\n",
    "# Outline \n",
    "\n",
    "- Review of last lecture\n",
    "- ** Multiple Regression ** \n",
    "    - Estimating the regression coefficients \n",
    "    - Relationship Between the Response and Predictors: F-statistics \n",
    "    - Important Variables: Information Criteria\n",
    "    - Model Fit\n",
    "    - Prediction \n",
    "- Extensions of the Linear Model\n",
    "    - Interaction Terms \n",
    "\n",
    "    \n"
   ]
  },
  {
   "cell_type": "markdown",
   "metadata": {
    "slideshow": {
     "slide_type": "slide"
    }
   },
   "source": [
    "# Linear Regression and Beyond \n",
    "So far we saw single predictor regression but usually we have more complex models, models with several predictors. \n",
    "\n",
    "For those we need to consider all predictor simultaneously, or **multiple regression ** \n",
    "\n",
    "We will see the difference from single regression and interpretation \n",
    "\n",
    "We will revisit everything we did before: \n",
    "    - How to estimate the coefficients\n",
    "    - Relationship between response and predictors \n",
    "    - Model fit and prediction \n",
    "\n",
    "But also\n",
    "    - Which predictors are important \n",
    "    - Extending beyond linearity more \n"
   ]
  },
  {
   "cell_type": "markdown",
   "metadata": {
    "slideshow": {
     "slide_type": "slide"
    }
   },
   "source": [
    "## Motivational Example:\n",
    "\n",
    "Systolic blood pressure\n",
    "\n",
    "In this dataset we have for 120 individuals:\n",
    " - systolic blood pressure (response variable) \n",
    " - weight in pounds\n",
    " - height in inches \n",
    " - age in years\n",
    " - gender\n",
    "\n",
    "\n"
   ]
  },
  {
   "cell_type": "markdown",
   "metadata": {
    "slideshow": {
     "slide_type": "slide"
    }
   },
   "source": [
    "Sample questions: \n",
    "\n",
    "- Does age affect the blood pressure?\n",
    "- Does weight affect the blood pressure?\n",
    "- Does height affect the blood pressure?\n",
    "- Does the height affect the weight and therefore the blood pressure? \n",
    "- How do we determine which predictors are important?\n",
    "\n",
    "\n",
    "We will answer all these questions and more. "
   ]
  },
  {
   "cell_type": "markdown",
   "metadata": {
    "slideshow": {
     "slide_type": "slide"
    }
   },
   "source": [
    "Run three independent single linear regression models "
   ]
  },
  {
   "cell_type": "code",
   "execution_count": 1096,
   "metadata": {
    "collapsed": true,
    "slideshow": {
     "slide_type": "skip"
    }
   },
   "outputs": [],
   "source": [
    "#  IMPORT DATA \n",
    "data = pd.read_csv('bloodpressure_males.csv')\n",
    "age=data['age'].values\n",
    "weight=data['weight'].values\n",
    "height=data['height'].values\n",
    "blood=data['bloodpressure'].values"
   ]
  },
  {
   "cell_type": "code",
   "execution_count": 1097,
   "metadata": {
    "collapsed": false,
    "slideshow": {
     "slide_type": "skip"
    }
   },
   "outputs": [],
   "source": [
    "def plotit(fit):\n",
    "    font = {'family' : 'monospace',\n",
    "        'weight' : 'normal',\n",
    "        'size'   : 12}\n",
    "\n",
    "    matplotlib.rc('font', **font)\n",
    "    plt.figure(figsize=(8,6)) \n",
    "\n",
    "    fig, ((ax1, ax2, ax3)) = plt.subplots(1, 3, figsize=(15, 5))\n",
    "    ax1.plot(age, blood, 'bo')\n",
    "    ax1.set_xlabel('age [yeas]'); ax1.set_ylabel('Systolic Pressure')\n",
    "    ax2.plot(height, blood, 'bo')\n",
    "    ax2.set_xlabel('height [inches]'); ax1.set_ylabel('Systolic Pressure')\n",
    "    ax3.plot(weight, blood, 'bo')\n",
    "    ax3.set_xlabel('weight [lb]'); ax1.set_ylabel('Systolic Pressure')\n",
    "    if fit==True:\n",
    "        beta0_hat, beta1_hat = FitLinearModel(age, blood)\n",
    "        ax1.plot(age, beta0_hat+ beta1_hat*age, 'r', label=r'$\\hat{\\beta}_0=$'+str(np.around(beta0_hat, decimals=1))\n",
    "                     +r' $\\hat{\\beta}_1=$'+str(np.around(beta1_hat, decimals=1)))\n",
    "        ax1.legend(loc='best')\n",
    "    if fit==True:\n",
    "        beta0_hat, beta1_hat = FitLinearModel(height, blood)\n",
    "        ax2.plot(height, beta0_hat+ beta1_hat*height, 'r', label=r'$\\hat{\\beta_0}=$'+str(np.around(beta0_hat, decimals=1))\n",
    "                     +r' $\\hat{\\beta}_1=$'+str(np.around(beta1_hat, decimals=1)))\n",
    "        ax2.legend(loc='best')\n",
    "    if fit==True:\n",
    "        beta0_hat, beta1_hat = FitLinearModel(weight, blood)\n",
    "        ax3.plot(weight, beta0_hat+ beta1_hat*weight, 'r', label=r'$\\hat{\\beta}_0=$'+str(np.around(beta0_hat, decimals=1))\n",
    "                     +r' $\\hat{\\beta}_1=$'+str(np.around(beta1_hat, decimals=1)))\n",
    "        ax3.legend(loc='best')"
   ]
  },
  {
   "cell_type": "code",
   "execution_count": 1098,
   "metadata": {
    "collapsed": false,
    "slideshow": {
     "slide_type": "slide"
    }
   },
   "outputs": [
    {
     "data": {
      "text/plain": [
       "<matplotlib.figure.Figure at 0x13630c3c8>"
      ]
     },
     "metadata": {},
     "output_type": "display_data"
    },
    {
     "data": {
      "image/png": "[encoded data removed]",
      "text/plain": [
       "<matplotlib.figure.Figure at 0x13a988160>"
      ]
     },
     "metadata": {},
     "output_type": "display_data"
    }
   ],
   "source": [
    "interact( plotit, fit=False);"
   ]
  },
  {
   "cell_type": "code",
   "execution_count": 1099,
   "metadata": {
    "collapsed": false,
    "slideshow": {
     "slide_type": "slide"
    }
   },
   "outputs": [],
   "source": [
    "# add constant for the intercept to work \n",
    "heightc = sm.add_constant(height)\n",
    "weightc =  sm.add_constant(weight)\n",
    "agec = sm.add_constant(age)\n",
    "\n",
    "# fit three models\n",
    "olsa = sm.OLS(  blood , agec)\n",
    "olsa_result = olsa.fit()\n",
    "\n",
    "olsh = sm.OLS(  blood, heightc)\n",
    "olsh_result = olsh.fit()\n",
    "\n",
    "olsw = sm.OLS(  blood, weightc)\n",
    "olsw_result = olsw.fit()\n"
   ]
  },
  {
   "cell_type": "code",
   "execution_count": 1100,
   "metadata": {
    "collapsed": false,
    "slideshow": {
     "slide_type": "slide"
    }
   },
   "outputs": [
    {
     "name": "stdout",
     "output_type": "stream",
     "text": [
      "                            OLS Regression Results                            \n",
      "==============================================================================\n",
      "Dep. Variable:                      y   R-squared:                       0.613\n",
      "Model:                            OLS   Adj. R-squared:                  0.610\n",
      "Method:                 Least Squares   F-statistic:                     187.0\n",
      "Date:                Mon, 19 Sep 2016   Prob (F-statistic):           4.36e-26\n",
      "Time:                        12:45:37   Log-Likelihood:                -451.25\n",
      "No. Observations:                 120   AIC:                             906.5\n",
      "Df Residuals:                     118   BIC:                             912.1\n",
      "Df Model:                           1                                         \n",
      "Covariance Type:            nonrobust                                         \n",
      "==============================================================================\n",
      "                 coef    std err          t      P>|t|      [95.0% Conf. Int.]\n",
      "------------------------------------------------------------------------------\n",
      "const         73.4840      3.991     18.411      0.000        65.580    81.388\n",
      "x1             0.9365      0.068     13.674      0.000         0.801     1.072\n",
      "==============================================================================\n",
      "Omnibus:                        2.872   Durbin-Watson:                   2.133\n",
      "Prob(Omnibus):                  0.238   Jarque-Bera (JB):                2.301\n",
      "Skew:                          -0.296   Prob(JB):                        0.316\n",
      "Kurtosis:                       3.330   Cond. No.                         243.\n",
      "==============================================================================\n",
      "\n",
      "Warnings:\n",
      "[1] Standard Errors assume that the covariance matrix of the errors is correctly specified.\n",
      "                            OLS Regression Results                            \n",
      "==============================================================================\n",
      "Dep. Variable:                      y   R-squared:                       0.022\n",
      "Model:                            OLS   Adj. R-squared:                  0.014\n",
      "Method:                 Least Squares   F-statistic:                     2.655\n",
      "Date:                Mon, 19 Sep 2016   Prob (F-statistic):              0.106\n",
      "Time:                        12:45:38   Log-Likelihood:                -506.89\n",
      "No. Observations:                 120   AIC:                             1018.\n",
      "Df Residuals:                     118   BIC:                             1023.\n",
      "Df Model:                           1                                         \n",
      "Covariance Type:            nonrobust                                         \n",
      "==============================================================================\n",
      "                 coef    std err          t      P>|t|      [95.0% Conf. Int.]\n",
      "------------------------------------------------------------------------------\n",
      "const        116.4032      6.360     18.303      0.000       103.809   128.997\n",
      "x1             0.0630      0.039      1.630      0.106        -0.014     0.140\n",
      "==============================================================================\n",
      "Omnibus:                        0.181   Durbin-Watson:                   2.010\n",
      "Prob(Omnibus):                  0.914   Jarque-Bera (JB):                0.354\n",
      "Skew:                          -0.033   Prob(JB):                        0.838\n",
      "Kurtosis:                       2.743   Cond. No.                         688.\n",
      "==============================================================================\n",
      "\n",
      "Warnings:\n",
      "[1] Standard Errors assume that the covariance matrix of the errors is correctly specified.\n",
      "                            OLS Regression Results                            \n",
      "==============================================================================\n",
      "Dep. Variable:                      y   R-squared:                       0.001\n",
      "Model:                            OLS   Adj. R-squared:                 -0.008\n",
      "Method:                 Least Squares   F-statistic:                   0.08712\n",
      "Date:                Mon, 19 Sep 2016   Prob (F-statistic):              0.768\n",
      "Time:                        12:45:38   Log-Likelihood:                -508.18\n",
      "No. Observations:                 120   AIC:                             1020.\n",
      "Df Residuals:                     118   BIC:                             1026.\n",
      "Df Model:                           1                                         \n",
      "Covariance Type:            nonrobust                                         \n",
      "==============================================================================\n",
      "                 coef    std err          t      P>|t|      [95.0% Conf. Int.]\n",
      "------------------------------------------------------------------------------\n",
      "const        120.5907     19.964      6.040      0.000        81.057   160.125\n",
      "x1             0.0836      0.283      0.295      0.768        -0.477     0.644\n",
      "==============================================================================\n",
      "Omnibus:                        0.027   Durbin-Watson:                   2.031\n",
      "Prob(Omnibus):                  0.986   Jarque-Bera (JB):                0.119\n",
      "Skew:                          -0.033   Prob(JB):                        0.942\n",
      "Kurtosis:                       2.861   Cond. No.                         915.\n",
      "==============================================================================\n",
      "\n",
      "Warnings:\n",
      "[1] Standard Errors assume that the covariance matrix of the errors is correctly specified.\n"
     ]
    }
   ],
   "source": [
    "print(olsa_result.summary())\n",
    "print(olsw_result.summary())\n",
    "\n",
    "print(olsh_result.summary())"
   ]
  },
  {
   "cell_type": "markdown",
   "metadata": {
    "slideshow": {
     "slide_type": "slide"
    }
   },
   "source": [
    "#### Age:\n",
    "|     |     Coefficient     |  SE |  p-value | \n",
    "|----------|:-------------:|:------:|:------: | \n",
    "| $\\beta_0$ |   79.871  | 3.982 |  <0.000 \n",
    "| $\\beta_1$ |   0.800   |   0.069 | <0.000     | \n",
    "\n",
    "\n",
    "#### Height:\n",
    "|     |     Coefficient     |  SE |  p-value | \n",
    "|----------|:-------------:|:------:|:------: | \n",
    "| $\\beta_0$ |  100.6361     |  17.416  |  <0.000 \n",
    "| $\\beta_1$ |     0.3458      |     0.247  | 0.064       | \n",
    "\n",
    "#### Weight:\n",
    "|     |     Coefficient     |  SE |  p-value | \n",
    "|----------|:-------------:|:------:|:------: | \n",
    "| $\\beta_0$ | 114.002 | 6.417 |  <0.000 \n",
    "| $\\beta_1$ |    0.068   |   0.039  | <0.000     | \n"
   ]
  },
  {
   "cell_type": "code",
   "execution_count": 1106,
   "metadata": {
    "collapsed": false,
    "slideshow": {
     "slide_type": "skip"
    }
   },
   "outputs": [],
   "source": [
    "def plotit3d():\n",
    "    xx1, xx2 = np.meshgrid(np.linspace(age.min(), age.max(), 100), \n",
    "                           np.linspace(weight.min(), weight.max(), 100))\n",
    "    Z = 56 + 0.8 * xx1 + .15 * xx2\n",
    "    # create matplotlib 3d axes\n",
    "    fig = plt.figure(figsize=(12, 8))\n",
    "    ax = Axes3D(fig, azim=-115, elev=15)\n",
    "\n",
    "\n",
    "    resid = blood-( 56+0.8*age+0.15*weight)\n",
    "    # plot hyperplane\n",
    "    surf = ax.plot_surface(xx1, xx2, Z, alpha=0.3, linewidth=0)\n",
    "    ax.scatter(age[resid>0], weight[resid>0], blood[resid>0], color='black', alpha=1.0, facecolor='white')\n",
    "    ax.scatter(age[resid<0], weight[resid<0], blood[resid<0], color='white', alpha=1.0, facecolor='white')\n",
    "\n",
    "    ax.set_xlabel('age [year]')\n",
    "    ax.set_ylabel('weight [lb]')\n",
    "    ax.set_zlabel('Blood Pressure')\n",
    "\n"
   ]
  },
  {
   "cell_type": "code",
   "execution_count": 1107,
   "metadata": {
    "collapsed": false
   },
   "outputs": [
    {
     "data": {
      "image/png": "[encoded data removed]",
      "text/plain": [
       "<matplotlib.figure.Figure at 0x13a6792b0>"
      ]
     },
     "metadata": {},
     "output_type": "display_data"
    }
   ],
   "source": [
    "plotit3d()"
   ]
  },
  {
   "cell_type": "markdown",
   "metadata": {
    "slideshow": {
     "slide_type": "slide"
    }
   },
   "source": [
    " <br>\n",
    "# Outline \n",
    "\n",
    "- Review of last lecture\n",
    "-  Multiple Regression \n",
    "    - ** Estimating the regression coefficients ** \n",
    "    - Relationship Between the Response and Predictors: F-statistics \n",
    "    - Important Variables: Information Criteria\n",
    "    - Model Fit\n",
    "    - Prediction \n",
    "- Extensions of the Linear Model\n",
    "    - Interaction Terms \n",
    "\n",
    "    \n"
   ]
  },
  {
   "cell_type": "markdown",
   "metadata": {
    "slideshow": {
     "slide_type": "slide"
    }
   },
   "source": [
    "## Fit a linear regression model with three predictors\n",
    "\n",
    "$$ \\hat{y} = \\hat{\\beta}_0+\\hat{\\beta}_1 \\, x_1+ \\hat{\\beta}_2 \\, x_2 + \\ldots + \\hat{\\beta}_p \\, x_p + \\epsilon$$ \n",
    "\n",
    "\n",
    "Estimate the coefficients: \n",
    "$$\n",
    "{\\bf Y} = \\left( \\begin{array}{c}\n",
    "Y_1  \\\\\n",
    "Y_2  \\\\\n",
    "\\vdots \\\\\n",
    "Y_n  \\end{array} \\right)$$\n",
    "\n",
    "$$\n",
    "{\\bf X} = \\left( \\begin{array}{ccccc}\n",
    "1 & X_{1,1} & X_{1,2} & \\ldots & X_{1,p} \\\\\n",
    "1 & X_{2,1} & X_{2,2} & \\ldots & X_{2,p}  \\\\\n",
    "1 & \\vdots  & \\vdots  & \\ddots & \\vdots \\\\\n",
    "1 & X_{n,1} & X_{n,2} & \\ldots & X_{n,p} \\end{array} \\right)$$\n",
    "\n",
    "\n",
    "$$\n",
    "{\\bf \\beta} = \\left( \\begin{array}{c}\n",
    "\\beta_0  \\\\\n",
    "\\beta_1  \\\\\n",
    "\\vdots  \\\\\n",
    "\\beta_p \\end{array} \\right)$$\n",
    "\n",
    "With a little calculus one can show that: \n",
    "\n",
    "$$ \\hat{\\beta} = {\\bf (X^{T}X)^{-1} X^T Y } $$\n"
   ]
  },
  {
   "cell_type": "markdown",
   "metadata": {
    "slideshow": {
     "slide_type": "slide"
    }
   },
   "source": [
    "Good review:\n",
    "    \n",
    "    https://onlinecourses.science.psu.edu/stat501/sites/onlinecourses.science.psu.edu.stat501/files/pt2_multiple_linear_regression.pdf\n",
    "    \n",
    "    \n",
    "And also we will review some of the numpy's linear argebra toolset"
   ]
  },
  {
   "cell_type": "code",
   "execution_count": 1101,
   "metadata": {
    "collapsed": true,
    "slideshow": {
     "slide_type": "slide"
    }
   },
   "outputs": [],
   "source": [
    "# LIN-REG FIT USING statsmodels\n",
    "\n",
    "Xt = np.vstack([age, weight, height]).T\n",
    "X = sm.add_constant(Xt)\n",
    "ols = sm.OLS(  blood, X)\n",
    "ols_result = ols.fit()"
   ]
  },
  {
   "cell_type": "code",
   "execution_count": 1102,
   "metadata": {
    "collapsed": false,
    "slideshow": {
     "slide_type": "slide"
    }
   },
   "outputs": [
    {
     "name": "stdout",
     "output_type": "stream",
     "text": [
      "0.674893718965\n",
      "9.69311388891\n"
     ]
    },
    {
     "data": {
      "text/html": [
       "<table class=\"simpletable\">\n",
       "<caption>OLS Regression Results</caption>\n",
       "<tr>\n",
       "  <th>Dep. Variable:</th>            <td>y</td>        <th>  R-squared:         </th> <td>   0.675</td>\n",
       "</tr>\n",
       "<tr>\n",
       "  <th>Model:</th>                   <td>OLS</td>       <th>  Adj. R-squared:    </th> <td>   0.666</td>\n",
       "</tr>\n",
       "<tr>\n",
       "  <th>Method:</th>             <td>Least Squares</td>  <th>  F-statistic:       </th> <td>   80.27</td>\n",
       "</tr>\n",
       "<tr>\n",
       "  <th>Date:</th>             <td>Mon, 19 Sep 2016</td> <th>  Prob (F-statistic):</th> <td>3.55e-28</td>\n",
       "</tr>\n",
       "<tr>\n",
       "  <th>Time:</th>                 <td>12:45:38</td>     <th>  Log-Likelihood:    </th> <td> -440.81</td>\n",
       "</tr>\n",
       "<tr>\n",
       "  <th>No. Observations:</th>      <td>   120</td>      <th>  AIC:               </th> <td>   889.6</td>\n",
       "</tr>\n",
       "<tr>\n",
       "  <th>Df Residuals:</th>          <td>   116</td>      <th>  BIC:               </th> <td>   900.8</td>\n",
       "</tr>\n",
       "<tr>\n",
       "  <th>Df Model:</th>              <td>     3</td>      <th>                     </th>     <td> </td>   \n",
       "</tr>\n",
       "<tr>\n",
       "  <th>Covariance Type:</th>      <td>nonrobust</td>    <th>                     </th>     <td> </td>   \n",
       "</tr>\n",
       "</table>\n",
       "<table class=\"simpletable\">\n",
       "<tr>\n",
       "    <td></td>       <th>coef</th>     <th>std err</th>      <th>t</th>      <th>P>|t|</th> <th>[95.0% Conf. Int.]</th> \n",
       "</tr>\n",
       "<tr>\n",
       "  <th>const</th> <td>   72.6356</td> <td>   16.368</td> <td>    4.438</td> <td> 0.000</td> <td>   40.217   105.055</td>\n",
       "</tr>\n",
       "<tr>\n",
       "  <th>x1</th>    <td>    0.9610</td> <td>    0.064</td> <td>   14.948</td> <td> 0.000</td> <td>    0.834     1.088</td>\n",
       "</tr>\n",
       "<tr>\n",
       "  <th>x2</th>    <td>    0.1393</td> <td>    0.039</td> <td>    3.568</td> <td> 0.001</td> <td>    0.062     0.217</td>\n",
       "</tr>\n",
       "<tr>\n",
       "  <th>x3</th>    <td>   -0.3242</td> <td>    0.285</td> <td>   -1.137</td> <td> 0.258</td> <td>   -0.889     0.240</td>\n",
       "</tr>\n",
       "</table>\n",
       "<table class=\"simpletable\">\n",
       "<tr>\n",
       "  <th>Omnibus:</th>       <td> 1.044</td> <th>  Durbin-Watson:     </th> <td>   2.033</td>\n",
       "</tr>\n",
       "<tr>\n",
       "  <th>Prob(Omnibus):</th> <td> 0.593</td> <th>  Jarque-Bera (JB):  </th> <td>   1.060</td>\n",
       "</tr>\n",
       "<tr>\n",
       "  <th>Skew:</th>          <td>-0.218</td> <th>  Prob(JB):          </th> <td>   0.589</td>\n",
       "</tr>\n",
       "<tr>\n",
       "  <th>Kurtosis:</th>      <td> 2.852</td> <th>  Cond. No.          </th> <td>3.46e+03</td>\n",
       "</tr>\n",
       "</table>"
      ],
      "text/plain": [
       "<class 'statsmodels.iolib.summary.Summary'>\n",
       "\"\"\"\n",
       "                            OLS Regression Results                            \n",
       "==============================================================================\n",
       "Dep. Variable:                      y   R-squared:                       0.675\n",
       "Model:                            OLS   Adj. R-squared:                  0.666\n",
       "Method:                 Least Squares   F-statistic:                     80.27\n",
       "Date:                Mon, 19 Sep 2016   Prob (F-statistic):           3.55e-28\n",
       "Time:                        12:45:38   Log-Likelihood:                -440.81\n",
       "No. Observations:                 120   AIC:                             889.6\n",
       "Df Residuals:                     116   BIC:                             900.8\n",
       "Df Model:                           3                                         \n",
       "Covariance Type:            nonrobust                                         \n",
       "==============================================================================\n",
       "                 coef    std err          t      P>|t|      [95.0% Conf. Int.]\n",
       "------------------------------------------------------------------------------\n",
       "const         72.6356     16.368      4.438      0.000        40.217   105.055\n",
       "x1             0.9610      0.064     14.948      0.000         0.834     1.088\n",
       "x2             0.1393      0.039      3.568      0.001         0.062     0.217\n",
       "x3            -0.3242      0.285     -1.137      0.258        -0.889     0.240\n",
       "==============================================================================\n",
       "Omnibus:                        1.044   Durbin-Watson:                   2.033\n",
       "Prob(Omnibus):                  0.593   Jarque-Bera (JB):                1.060\n",
       "Skew:                          -0.218   Prob(JB):                        0.589\n",
       "Kurtosis:                       2.852   Cond. No.                     3.46e+03\n",
       "==============================================================================\n",
       "\n",
       "Warnings:\n",
       "[1] Standard Errors assume that the covariance matrix of the errors is correctly specified.\n",
       "[2] The condition number is large, 3.46e+03. This might indicate that there are\n",
       "strong multicollinearity or other numerical problems.\n",
       "\"\"\""
      ]
     },
     "execution_count": 1102,
     "metadata": {},
     "output_type": "execute_result"
    }
   ],
   "source": [
    "print(ols_result.rsquared)\n",
    "print(np.sqrt(np.sum(ols_result.resid**2)/(np.size(age)-1-Xt.shape[1])))\n",
    "ols_result.summary()"
   ]
  },
  {
   "cell_type": "code",
   "execution_count": 1103,
   "metadata": {
    "collapsed": false,
    "slideshow": {
     "slide_type": "skip"
    }
   },
   "outputs": [
    {
     "data": {
      "text/plain": [
       "array([[ 1.        , -0.11654074, -0.16884552],\n",
       "       [-0.11654074,  1.        ,  0.81736595],\n",
       "       [-0.16884552,  0.81736595,  1.        ]])"
      ]
     },
     "execution_count": 1103,
     "metadata": {},
     "output_type": "execute_result"
    }
   ],
   "source": [
    "np.corrcoef(Xt.T)"
   ]
  },
  {
   "cell_type": "markdown",
   "metadata": {
    "slideshow": {
     "slide_type": "skip"
    }
   },
   "source": [
    "### Interpretation "
   ]
  },
  {
   "cell_type": "markdown",
   "metadata": {
    "slideshow": {
     "slide_type": "slide"
    }
   },
   "source": [
    " <br>\n",
    "# Outline \n",
    "\n",
    "- Review of last lecture\n",
    "-  Multiple Regression  \n",
    "    - Estimating the regression coefficients\n",
    "    - ** Relationship Between the Response and Predictors: F-statistics ** \n",
    "    - Important Variables: Information Criteria\n",
    "    - Model Fit\n",
    "    - Prediction \n",
    "- Extensions of the Linear Model\n",
    "    - Interaction Terms \n",
    "\n",
    "    \n"
   ]
  },
  {
   "cell_type": "markdown",
   "metadata": {
    "slideshow": {
     "slide_type": "slide"
    }
   },
   "source": [
    "## Relationship Between the Response and Predictors?\n",
    "    \n",
    "In the simple linear regression, to check if there is a relationship between the response and the predictor we checked if $\\beta_1=0$ \n",
    "    \n",
    "Here we check if all the coefficients $\\beta_1 = \\ldots =\\beta_p=0 $\n",
    "    \n",
    "** Hypothesis test ** \n",
    "    \n",
    "Null hypothesis: \n",
    "       \n",
    "- H0: $\\beta_1 = \\ldots =\\beta_p=0 $ \n",
    "       \n",
    "\n",
    "Alternative hypothesis:        \n",
    "- Ha: at least one $\\beta_j$ is non-zero.\n",
    "   \n",
    "\n",
    "\n",
    "\n",
    "    "
   ]
  },
  {
   "cell_type": "markdown",
   "metadata": {
    "slideshow": {
     "slide_type": "slide"
    }
   },
   "source": [
    "\n",
    "This hypothesis test is performed by computing the F-statistic,\n",
    "\n",
    "  $$ F = \\frac{(TSS-RSS)/p}{RSS/(n-p-1)} $$\n",
    "    \n",
    "where as with simple linear regression $TSS = \\sum_i (y_i-\\bar{y} ) $ and $RSS = \\sum_i ( y_i-\\hat{y}) $\n",
    "\n",
    "If H0 is correct F takes the value of 1 \n",
    "If Ha is correct F takes the value greater than 1 \n",
    "\n",
    "In the example above F= 80.27 which is much higher than 1. Therefore we **reject** H0 \n",
    "            $\\rightarrow$ There is a relationship.\n",
    "            \n",
    "Note: if $\\epsilon$ is normally distributed then F follows the F-distribution <br>\n",
    "Note: For large n and p, F-test being just a little larger than 1 is still enough to reject H0."
   ]
  },
  {
   "cell_type": "markdown",
   "metadata": {
    "slideshow": {
     "slide_type": "slide"
    }
   },
   "source": [
    "This just proved that the response variable has  relationship with at least one of the variables. \n",
    "We rejected that **ALL** are zero. \n",
    "\n",
    "We can also test for a subset of size q:\n",
    "\n",
    "  $$ F = \\frac{(TSS-RSS)/q}{RSS/(n-p-1)} $$\n",
    "  \n",
    "Note1: For single regression the t-statistics and F-test are the same as if leave out that single variable from the model (q=1 above).\n",
    "\n",
    "[ could we just observe at the individual p-values and reject H0 if any of them is small. This does not work for large p because there is always a small probability to have some of them to be small] \n"
   ]
  },
  {
   "cell_type": "markdown",
   "metadata": {
    "slideshow": {
     "slide_type": "slide"
    }
   },
   "source": [
    " <br>\n",
    "# Outline \n",
    "\n",
    "- Review of last lecture\n",
    "-  Multiple Regression  \n",
    "    - Estimating the regression coefficients\n",
    "    - Relationship Between the Response and Predictors: F-statistics \n",
    "    - ** Important Variables: Information Criteria ** \n",
    "    - Model Fit\n",
    "    - Prediction \n",
    "- Extensions of the Linear Model\n",
    "    - Interaction Terms \n",
    "\n",
    "    \n"
   ]
  },
  {
   "cell_type": "markdown",
   "metadata": {
    "slideshow": {
     "slide_type": "slide"
    }
   },
   "source": [
    "## Deciding the important variables \n",
    "\n",
    "F-score and associated p-value tells us that at least one predictor is related to the response variable.\n",
    "** THEN ** which ones are they?\n",
    "\n",
    "Looking at the individual p-values can be misleading as we saw in the example above due to colinearity. \n",
    "\n",
    "The task of determining which predictors are associated with the response, in order to fit a single model involving only those predictors, is referred to as ** variable selection**.\n",
    "\n",
    "\n",
    " \n",
    "\n"
   ]
  },
  {
   "cell_type": "markdown",
   "metadata": {
    "slideshow": {
     "slide_type": "subslide"
    }
   },
   "source": [
    "### Collinearity - Correlation between X\n",
    "\n",
    "If two predictors  are correlated, then they are trying to explain the same part of variation \n",
    "\n",
    "|     |     age     |  height |  weight | \n",
    "|----------|:-------------:|:------:|:------: | \n",
    "| age |  1 | -0.0171856 |   -0.01752642\n",
    "| height |      |  1 |  ** 0.81625664**    | \n",
    "| weight |      |   | 1    | \n",
    "\n",
    "\n",
    "What X-variables is size correlated with?\n",
    "  \t– bed, bath, and lot\n",
    "\t– Since those 3 variables are also in the multiple regression model, there’s nothing left for size to do with the Y-variable (price)!\n",
    "\t– This happens a lot!\n",
    "\n"
   ]
  },
  {
   "cell_type": "code",
   "execution_count": 1104,
   "metadata": {
    "collapsed": false,
    "slideshow": {
     "slide_type": "skip"
    }
   },
   "outputs": [],
   "source": [
    "def plotit():\n",
    "    font = {'family' : 'monospace',\n",
    "        'weight' : 'normal',\n",
    "        'size'   : 12}\n",
    "\n",
    "    matplotlib.rc('font', **font)\n",
    "    plt.figure(figsize=(8,6)) \n",
    "\n",
    "    fig, ((ax1, ax2, ax3)) = plt.subplots(1, 3, figsize=(15, 5))\n",
    "    ax1.plot(age, height, 'bo')\n",
    "    ax1.set_xlabel('age [yeas]'); ax1.set_ylabel('heigh [in]')\n",
    "    ax2.plot(height, weight, 'bo')\n",
    "    ax2.set_xlabel('height [in]'); ax2.set_ylabel('weight [lbs]')\n",
    "    ax3.plot(weight, age, 'bo')\n",
    "    ax3.set_xlabel('weight [lb]'); ax1.set_ylabel('age [years]')\n",
    "   "
   ]
  },
  {
   "cell_type": "code",
   "execution_count": 1105,
   "metadata": {
    "collapsed": false,
    "slideshow": {
     "slide_type": "subslide"
    }
   },
   "outputs": [
    {
     "data": {
      "text/plain": [
       "<matplotlib.figure.Figure at 0x13a667f98>"
      ]
     },
     "metadata": {},
     "output_type": "display_data"
    },
    {
     "data": {
      "image/png": "[encoded data removed]",
      "text/plain": [
       "<matplotlib.figure.Figure at 0x13a676748>"
      ]
     },
     "metadata": {},
     "output_type": "display_data"
    }
   ],
   "source": [
    "plotit()"
   ]
  },
  {
   "cell_type": "markdown",
   "metadata": {
    "slideshow": {
     "slide_type": "slide"
    }
   },
   "source": [
    "## Important variables (continue) \n",
    "\n",
    "- Perform variable selection by trying out a lot of different models, each containing a different subset of the predictors. \n",
    "\n",
    "- For example we can use: \n",
    "    - null \n",
    "    - age\n",
    "    - height\n",
    "    - weight\n",
    "    - age and height\n",
    "    - height and weight\n",
    "    - weight and age\n",
    "    - height and weight and age \n",
    " \n",
    "\n",
    "\n",
    "** Select **  the best model out of all \n",
    "\n",
    "HOW ???? \n",
    "\n",
    "Statistics to the rescue: \n",
    "- Mallow’s Cp\n",
    "- Akaike information criterion (AIC)\n",
    "- Bayesian information criterion (BIC)\n",
    "- Adjusted $R^2$\n",
    "<br>\n",
    "NOTE: WE WILL DISCUSS THESE LATER AND WE SHOW HOW TO USE THEM WITH SKLEANR IN LAB\n",
    "\n",
    "when p$\\rightarrow$ large there are too many model combinations so it becomes intractable \n",
    "\n",
    "There are three classical approaches for this task:\n",
    "\n"
   ]
  },
  {
   "cell_type": "markdown",
   "metadata": {
    "slideshow": {
     "slide_type": "slide"
    }
   },
   "source": [
    "#### Forward selection\n",
    " - Start with the null model (just $\\beta_0$).  \n",
    " - Fit p simple linear regressions and add to the null model the variable that results in the lowest RSS\n",
    " - Try all two-variable model and add  the variable that results in the lowest RSS\n",
    " - Continue until some stopping rule is satisfied (change in RSS is lower than a threshold) \n",
    "\n",
    "#### Backward selection\n",
    " - Start with all variables in the model\n",
    " - Remove the variable with the largest p-value\n",
    " - Fit the (p − 1)-variable model and remove the variable with largest p-value\n",
    " - Continue until some stopping rule is satisfied (all remaining variables have low p-value) \n",
    "\n",
    "\n",
    "#### Mixed selection\n",
    " - Start with the null model (just $\\beta_0$)\n",
    " - Fit p simple linear regressions and add to the null model the variable that results in the lowest RSS \n",
    " - If any variable has low p-value we remove it \n",
    " - Continue until some stopping rule is satisfied (until all variables have low p-value) \n",
    " \n"
   ]
  },
  {
   "cell_type": "markdown",
   "metadata": {
    "slideshow": {
     "slide_type": "slide"
    }
   },
   "source": [
    " <br>\n",
    "# Outline \n",
    "\n",
    "- Review of last lecture\n",
    "-  Multiple Regression  \n",
    "    - Estimating the regression coefficients\n",
    "    - Relationship Between the Response and Predictors: F-statistics \n",
    "    - Important Variables: Information Criteria\n",
    "    - ** Model Fit ** \n",
    "    - Prediction \n",
    "- Extensions of the Linear Model\n",
    "    - Interaction Terms \n",
    "\n",
    "    \n"
   ]
  },
  {
   "cell_type": "markdown",
   "metadata": {
    "slideshow": {
     "slide_type": "slide"
    }
   },
   "source": [
    "## Model Fit\n",
    "\n",
    "As with the simple regression, $R^2$ and RSE are the most common numerical measures to evaluate the goodness of fit.\n",
    "\n",
    "\n",
    "\n",
    "\n",
    "$$RSE = \\sqrt{ \\frac{RSS}{n-1-p}} $$\n",
    "\n",
    "$$RSS  = \\sum_i ( y_i - \\hat{y_i} )^2 = \\sum_i \\,e_i^2$$  \n",
    " \n",
    "$$TSS = \\sum_i ( y_i - \\bar{y_i} )^2  $$\n",
    "\n",
    "$$ R^2 = 1-\\frac{RSS}{TSS} $$\n",
    "\n"
   ]
  },
  {
   "cell_type": "markdown",
   "metadata": {
    "slideshow": {
     "slide_type": "slide"
    }
   },
   "source": [
    "## Model fit \n",
    "\n",
    "|     |     age     |  height |  weight | weight+age |age+height | height+weight |age+weight +height|\n",
    "|----------|:-------------:|:------:|:------: | :------: | :------: | :------: | :------: | \n",
    "| $R^2$ |  0.4951 | 0.0764 |  0.11840 |  0.11842 | 0.56212| 0.61336 | 0.61458 |\n",
    "| RSE |   12.0612   |  16.315 |   15.93917  | 15.93903 | 11.2857048  |  10.59641  |   10.63217     |   \n",
    "\n",
    "\n",
    "Observation:\n",
    "- The RSE goes up when \"weight+age\" $\\rightarrow$ \"age+weight +height\"\n",
    "- $R^2$ goes up when \"weight+age\" $\\rightarrow$ \"age+weight +height\"\n"
   ]
  },
  {
   "cell_type": "markdown",
   "metadata": {
    "slideshow": {
     "slide_type": "slide"
    }
   },
   "source": [
    " <br>\n",
    "# Outline \n",
    "\n",
    "- Review of last lecture\n",
    "-  Multiple Regression  \n",
    "    - Estimating the regression coefficients\n",
    "    - Relationship Between the Response and Predictors: F-statistics \n",
    "    - Important Variables: Information Criteria\n",
    "    - Model Fit \n",
    "    - ** Prediction ** \n",
    "- Extensions of the Linear Model\n",
    "    - Interaction Terms \n",
    "\n",
    "    \n"
   ]
  },
  {
   "cell_type": "markdown",
   "metadata": {
    "slideshow": {
     "slide_type": "slide"
    }
   },
   "source": [
    "## Prediction \n",
    "\n",
    "As with the simple linear regression we have two types of errors\n",
    "\n",
    "$$ \\hat{Y} = \\hat{\\beta}_0+\\hat{\\beta}_1 \\, X_1+ \\hat{\\beta}_2 \\, X_2 + \\ldots + \\hat{\\beta}_p \\, X_p + \\epsilon$$ \n",
    "\n",
    "but the real data are produced by (assume linear model) \n",
    "\n",
    "$$ f(X) = \\beta_0+\\beta_1 \\, x_1+ \\beta_2 \\, x_2 + \\ldots + \\beta_p \\, x_p $$ \n",
    "\n",
    "\n"
   ]
  },
  {
   "cell_type": "markdown",
   "metadata": {
    "slideshow": {
     "slide_type": "slide"
    }
   },
   "source": [
    "##### Prediction (cont)\n",
    "\n",
    "\n",
    "- Linear model is always an approximation.  This source of potentially ** reducible**  is called model bias\n",
    "- Even if we knew f(X) perfectly we will still never predict the response perfectly due to $\\epsilon$ noise. This is ** irreducible error ** and there is nothing we can do about it\n",
    "\n",
    "We use prediction intervals to deal with this.  Prediction intervals are always larger than the confidence intervals that can be estimated using the SE of the coefficients because they incorprate both the reducible and irreducile error. \n",
    "\n",
    "In our example: we  predict the blood pressure of an individua who is <br>\n",
    "    70in tall, 180lb and 45 years old to be $\\rightarrow$ 118.26 and the 95% predictor intervals to be [98, 137]:\n"
   ]
  },
  {
   "cell_type": "code",
   "execution_count": 1108,
   "metadata": {
    "collapsed": false,
    "slideshow": {
     "slide_type": "slide"
    }
   },
   "outputs": [
    {
     "name": "stdout",
     "output_type": "stream",
     "text": [
      "[ 98.84895723] [ 137.68086145] [ 118.26490934]\n"
     ]
    }
   ],
   "source": [
    "\n",
    "from statsmodels.sandbox.regression.predstd import wls_prediction_std\n",
    "\n",
    "Xs = np.array( [1, 45, 180, 70])\n",
    "Q=ols_result.predict(Xs)\n",
    "\n",
    "sdev, lower, upper = wls_prediction_std(ols_result, exog=Xs, alpha=0.05)\n",
    "print(lower, upper, Q)"
   ]
  },
  {
   "cell_type": "markdown",
   "metadata": {
    "slideshow": {
     "slide_type": "slide"
    }
   },
   "source": [
    " <br>\n",
    "# Outline \n",
    "\n",
    "- Review of last lecture\n",
    "-  Multiple Regression  \n",
    "    - Estimating the regression coefficients\n",
    "    - Relationship Between the Response and Predictors: F-statistics \n",
    "    - Important Variables: Information Criteria\n",
    "    - Model Fit \n",
    "    - Prediction  \n",
    "- Extensions of the Linear Model\n",
    "    - ** Interaction Terms ** "
   ]
  },
  {
   "cell_type": "markdown",
   "metadata": {
    "slideshow": {
     "slide_type": "slide"
    }
   },
   "source": [
    "## Interaction terms (moving away from linearity)\n",
    "\n",
    "Rynergy effect \n",
    "\n",
    "$$ Y = \\beta_0 + \\beta_1 \\times {\\rm age} +  \\beta_2 \\times {\\rm height} +  \\beta_3 \\times {\\rm weight} $$\n",
    "\n",
    "$$ Y = \\beta_0 + \\beta_1 \\times {\\rm age} +  \\beta_2 \\times {\\rm height} +  \\beta_3 \\times {\\rm weight} + \\\\ \\beta_4 \\times ({\\rm weight} \\times {\\rm height}) $$"
   ]
  },
  {
   "cell_type": "code",
   "execution_count": 1109,
   "metadata": {
    "collapsed": false,
    "slideshow": {
     "slide_type": "slide"
    }
   },
   "outputs": [
    {
     "name": "stdout",
     "output_type": "stream",
     "text": [
      "R^2= 0.678425110592\n",
      "RSE= 9.81096402391\n"
     ]
    },
    {
     "data": {
      "text/html": [
       "<table class=\"simpletable\">\n",
       "<caption>OLS Regression Results</caption>\n",
       "<tr>\n",
       "  <th>Dep. Variable:</th>            <td>y</td>        <th>  R-squared:         </th> <td>   0.678</td>\n",
       "</tr>\n",
       "<tr>\n",
       "  <th>Model:</th>                   <td>OLS</td>       <th>  Adj. R-squared:    </th> <td>   0.661</td>\n",
       "</tr>\n",
       "<tr>\n",
       "  <th>Method:</th>             <td>Least Squares</td>  <th>  F-statistic:       </th> <td>   39.73</td>\n",
       "</tr>\n",
       "<tr>\n",
       "  <th>Date:</th>             <td>Mon, 19 Sep 2016</td> <th>  Prob (F-statistic):</th> <td>1.14e-25</td>\n",
       "</tr>\n",
       "<tr>\n",
       "  <th>Time:</th>                 <td>12:45:39</td>     <th>  Log-Likelihood:    </th> <td> -440.15</td>\n",
       "</tr>\n",
       "<tr>\n",
       "  <th>No. Observations:</th>      <td>   120</td>      <th>  AIC:               </th> <td>   894.3</td>\n",
       "</tr>\n",
       "<tr>\n",
       "  <th>Df Residuals:</th>          <td>   113</td>      <th>  BIC:               </th> <td>   913.8</td>\n",
       "</tr>\n",
       "<tr>\n",
       "  <th>Df Model:</th>              <td>     6</td>      <th>                     </th>     <td> </td>   \n",
       "</tr>\n",
       "<tr>\n",
       "  <th>Covariance Type:</th>      <td>nonrobust</td>    <th>                     </th>     <td> </td>   \n",
       "</tr>\n",
       "</table>\n",
       "<table class=\"simpletable\">\n",
       "<tr>\n",
       "    <td></td>       <th>coef</th>     <th>std err</th>      <th>t</th>      <th>P>|t|</th> <th>[95.0% Conf. Int.]</th> \n",
       "</tr>\n",
       "<tr>\n",
       "  <th>const</th> <td>   66.0076</td> <td>   55.970</td> <td>    1.179</td> <td> 0.241</td> <td>  -44.880   176.895</td>\n",
       "</tr>\n",
       "<tr>\n",
       "  <th>x1</th>    <td>    0.6059</td> <td>    0.455</td> <td>    1.333</td> <td> 0.185</td> <td>   -0.295     1.507</td>\n",
       "</tr>\n",
       "<tr>\n",
       "  <th>x2</th>    <td>   -0.2570</td> <td>    0.716</td> <td>   -0.359</td> <td> 0.720</td> <td>   -1.676     1.162</td>\n",
       "</tr>\n",
       "<tr>\n",
       "  <th>x3</th>    <td>    0.0656</td> <td>    0.691</td> <td>    0.095</td> <td> 0.924</td> <td>   -1.303     1.434</td>\n",
       "</tr>\n",
       "<tr>\n",
       "  <th>x4</th>    <td>    0.0019</td> <td>    0.004</td> <td>    0.456</td> <td> 0.649</td> <td>   -0.006     0.010</td>\n",
       "</tr>\n",
       "<tr>\n",
       "  <th>x5</th>    <td>    0.0101</td> <td>    0.011</td> <td>    0.909</td> <td> 0.365</td> <td>   -0.012     0.032</td>\n",
       "</tr>\n",
       "<tr>\n",
       "  <th>x6</th>    <td>    0.0019</td> <td>    0.004</td> <td>    0.456</td> <td> 0.649</td> <td>   -0.006     0.010</td>\n",
       "</tr>\n",
       "<tr>\n",
       "  <th>x7</th>    <td>   -0.0001</td> <td>    0.000</td> <td>   -0.904</td> <td> 0.368</td> <td>   -0.000     0.000</td>\n",
       "</tr>\n",
       "</table>\n",
       "<table class=\"simpletable\">\n",
       "<tr>\n",
       "  <th>Omnibus:</th>       <td> 1.032</td> <th>  Durbin-Watson:     </th> <td>   2.009</td>\n",
       "</tr>\n",
       "<tr>\n",
       "  <th>Prob(Omnibus):</th> <td> 0.597</td> <th>  Jarque-Bera (JB):  </th> <td>   0.983</td>\n",
       "</tr>\n",
       "<tr>\n",
       "  <th>Skew:</th>          <td>-0.217</td> <th>  Prob(JB):          </th> <td>   0.612</td>\n",
       "</tr>\n",
       "<tr>\n",
       "  <th>Kurtosis:</th>      <td> 2.908</td> <th>  Cond. No.          </th> <td>7.53e+19</td>\n",
       "</tr>\n",
       "</table>"
      ],
      "text/plain": [
       "<class 'statsmodels.iolib.summary.Summary'>\n",
       "\"\"\"\n",
       "                            OLS Regression Results                            \n",
       "==============================================================================\n",
       "Dep. Variable:                      y   R-squared:                       0.678\n",
       "Model:                            OLS   Adj. R-squared:                  0.661\n",
       "Method:                 Least Squares   F-statistic:                     39.73\n",
       "Date:                Mon, 19 Sep 2016   Prob (F-statistic):           1.14e-25\n",
       "Time:                        12:45:39   Log-Likelihood:                -440.15\n",
       "No. Observations:                 120   AIC:                             894.3\n",
       "Df Residuals:                     113   BIC:                             913.8\n",
       "Df Model:                           6                                         \n",
       "Covariance Type:            nonrobust                                         \n",
       "==============================================================================\n",
       "                 coef    std err          t      P>|t|      [95.0% Conf. Int.]\n",
       "------------------------------------------------------------------------------\n",
       "const         66.0076     55.970      1.179      0.241       -44.880   176.895\n",
       "x1             0.6059      0.455      1.333      0.185        -0.295     1.507\n",
       "x2            -0.2570      0.716     -0.359      0.720        -1.676     1.162\n",
       "x3             0.0656      0.691      0.095      0.924        -1.303     1.434\n",
       "x4             0.0019      0.004      0.456      0.649        -0.006     0.010\n",
       "x5             0.0101      0.011      0.909      0.365        -0.012     0.032\n",
       "x6             0.0019      0.004      0.456      0.649        -0.006     0.010\n",
       "x7            -0.0001      0.000     -0.904      0.368        -0.000     0.000\n",
       "==============================================================================\n",
       "Omnibus:                        1.032   Durbin-Watson:                   2.009\n",
       "Prob(Omnibus):                  0.597   Jarque-Bera (JB):                0.983\n",
       "Skew:                          -0.217   Prob(JB):                        0.612\n",
       "Kurtosis:                       2.908   Cond. No.                     7.53e+19\n",
       "==============================================================================\n",
       "\n",
       "Warnings:\n",
       "[1] Standard Errors assume that the covariance matrix of the errors is correctly specified.\n",
       "[2] The smallest eigenvalue is 9.9e-27. This might indicate that there are\n",
       "strong multicollinearity problems or that the design matrix is singular.\n",
       "\"\"\""
      ]
     },
     "execution_count": 1109,
     "metadata": {},
     "output_type": "execute_result"
    }
   ],
   "source": [
    "Xt = np.vstack([age, weight, height, height*weight,  age*weight, height*weight, age*height*weight]).T\n",
    "#Xt = np.vstack([age, weight, height, height*weight]).T\n",
    "X = sm.add_constant(Xt)\n",
    "ols = sm.OLS(  blood, X)\n",
    "ols_result = ols.fit()\n",
    "print(\"R^2=\",ols_result.rsquared)\n",
    "print(\"RSE=\", np.sqrt(np.sum(ols_result.resid**2)/(np.size(age)-1-Xt.shape[1])))\n",
    "ols_result.summary()"
   ]
  },
  {
   "cell_type": "code",
   "execution_count": null,
   "metadata": {
    "collapsed": true
   },
   "outputs": [],
   "source": []
  },
  {
   "cell_type": "code",
   "execution_count": 1110,
   "metadata": {
    "collapsed": false
   },
   "outputs": [],
   "source": [
    "#  IMPORT DAYA \n",
    "data = pd.read_csv('bloodpressure.csv')\n",
    "age=data['age'].values\n",
    "weight=data['weight'].values\n",
    "height=data['height'].values\n",
    "gender = data['gender'].values\n",
    "blood=data['bloodpressure'].values\n"
   ]
  },
  {
   "cell_type": "code",
   "execution_count": 1111,
   "metadata": {
    "collapsed": false
   },
   "outputs": [
    {
     "name": "stdout",
     "output_type": "stream",
     "text": [
      "R^2= 0.691629854093\n",
      "RSE= 9.31540174625\n"
     ]
    },
    {
     "data": {
      "text/html": [
       "<table class=\"simpletable\">\n",
       "<caption>OLS Regression Results</caption>\n",
       "<tr>\n",
       "  <th>Dep. Variable:</th>            <td>y</td>        <th>  R-squared:         </th> <td>   0.692</td>\n",
       "</tr>\n",
       "<tr>\n",
       "  <th>Model:</th>                   <td>OLS</td>       <th>  Adj. R-squared:    </th> <td>   0.672</td>\n",
       "</tr>\n",
       "<tr>\n",
       "  <th>Method:</th>             <td>Least Squares</td>  <th>  F-statistic:       </th> <td>   35.89</td>\n",
       "</tr>\n",
       "<tr>\n",
       "  <th>Date:</th>             <td>Mon, 19 Sep 2016</td> <th>  Prob (F-statistic):</th> <td>7.56e-26</td>\n",
       "</tr>\n",
       "<tr>\n",
       "  <th>Time:</th>                 <td>12:45:39</td>     <th>  Log-Likelihood:    </th> <td> -433.40</td>\n",
       "</tr>\n",
       "<tr>\n",
       "  <th>No. Observations:</th>      <td>   120</td>      <th>  AIC:               </th> <td>   882.8</td>\n",
       "</tr>\n",
       "<tr>\n",
       "  <th>Df Residuals:</th>          <td>   112</td>      <th>  BIC:               </th> <td>   905.1</td>\n",
       "</tr>\n",
       "<tr>\n",
       "  <th>Df Model:</th>              <td>     7</td>      <th>                     </th>     <td> </td>   \n",
       "</tr>\n",
       "<tr>\n",
       "  <th>Covariance Type:</th>      <td>nonrobust</td>    <th>                     </th>     <td> </td>   \n",
       "</tr>\n",
       "</table>\n",
       "<table class=\"simpletable\">\n",
       "<tr>\n",
       "    <td></td>       <th>coef</th>     <th>std err</th>      <th>t</th>      <th>P>|t|</th> <th>[95.0% Conf. Int.]</th> \n",
       "</tr>\n",
       "<tr>\n",
       "  <th>const</th> <td> -156.2842</td> <td>   57.935</td> <td>   -2.698</td> <td> 0.008</td> <td> -271.076   -41.493</td>\n",
       "</tr>\n",
       "<tr>\n",
       "  <th>x1</th>    <td>    2.4628</td> <td>    0.438</td> <td>    5.623</td> <td> 0.000</td> <td>    1.595     3.331</td>\n",
       "</tr>\n",
       "<tr>\n",
       "  <th>x2</th>    <td>    2.6551</td> <td>    0.605</td> <td>    4.386</td> <td> 0.000</td> <td>    1.456     3.854</td>\n",
       "</tr>\n",
       "<tr>\n",
       "  <th>x3</th>    <td>    1.7584</td> <td>    0.730</td> <td>    2.409</td> <td> 0.018</td> <td>    0.312     3.205</td>\n",
       "</tr>\n",
       "<tr>\n",
       "  <th>x4</th>    <td>   -3.6103</td> <td>    1.734</td> <td>   -2.082</td> <td> 0.040</td> <td>   -7.045    -0.175</td>\n",
       "</tr>\n",
       "<tr>\n",
       "  <th>x5</th>    <td>   -0.0139</td> <td>    0.003</td> <td>   -4.017</td> <td> 0.000</td> <td>   -0.021    -0.007</td>\n",
       "</tr>\n",
       "<tr>\n",
       "  <th>x6</th>    <td>   -0.0302</td> <td>    0.009</td> <td>   -3.376</td> <td> 0.001</td> <td>   -0.048    -0.012</td>\n",
       "</tr>\n",
       "<tr>\n",
       "  <th>x7</th>    <td>   -0.0139</td> <td>    0.003</td> <td>   -4.017</td> <td> 0.000</td> <td>   -0.021    -0.007</td>\n",
       "</tr>\n",
       "<tr>\n",
       "  <th>x8</th>    <td>    0.0003</td> <td> 9.64e-05</td> <td>    2.992</td> <td> 0.003</td> <td> 9.74e-05     0.000</td>\n",
       "</tr>\n",
       "</table>\n",
       "<table class=\"simpletable\">\n",
       "<tr>\n",
       "  <th>Omnibus:</th>       <td> 0.776</td> <th>  Durbin-Watson:     </th> <td>   1.883</td>\n",
       "</tr>\n",
       "<tr>\n",
       "  <th>Prob(Omnibus):</th> <td> 0.678</td> <th>  Jarque-Bera (JB):  </th> <td>   0.558</td>\n",
       "</tr>\n",
       "<tr>\n",
       "  <th>Skew:</th>          <td>-0.165</td> <th>  Prob(JB):          </th> <td>   0.757</td>\n",
       "</tr>\n",
       "<tr>\n",
       "  <th>Kurtosis:</th>      <td> 3.053</td> <th>  Cond. No.          </th> <td>1.12e+19</td>\n",
       "</tr>\n",
       "</table>"
      ],
      "text/plain": [
       "<class 'statsmodels.iolib.summary.Summary'>\n",
       "\"\"\"\n",
       "                            OLS Regression Results                            \n",
       "==============================================================================\n",
       "Dep. Variable:                      y   R-squared:                       0.692\n",
       "Model:                            OLS   Adj. R-squared:                  0.672\n",
       "Method:                 Least Squares   F-statistic:                     35.89\n",
       "Date:                Mon, 19 Sep 2016   Prob (F-statistic):           7.56e-26\n",
       "Time:                        12:45:39   Log-Likelihood:                -433.40\n",
       "No. Observations:                 120   AIC:                             882.8\n",
       "Df Residuals:                     112   BIC:                             905.1\n",
       "Df Model:                           7                                         \n",
       "Covariance Type:            nonrobust                                         \n",
       "==============================================================================\n",
       "                 coef    std err          t      P>|t|      [95.0% Conf. Int.]\n",
       "------------------------------------------------------------------------------\n",
       "const       -156.2842     57.935     -2.698      0.008      -271.076   -41.493\n",
       "x1             2.4628      0.438      5.623      0.000         1.595     3.331\n",
       "x2             2.6551      0.605      4.386      0.000         1.456     3.854\n",
       "x3             1.7584      0.730      2.409      0.018         0.312     3.205\n",
       "x4            -3.6103      1.734     -2.082      0.040        -7.045    -0.175\n",
       "x5            -0.0139      0.003     -4.017      0.000        -0.021    -0.007\n",
       "x6            -0.0302      0.009     -3.376      0.001        -0.048    -0.012\n",
       "x7            -0.0139      0.003     -4.017      0.000        -0.021    -0.007\n",
       "x8             0.0003   9.64e-05      2.992      0.003      9.74e-05     0.000\n",
       "==============================================================================\n",
       "Omnibus:                        0.776   Durbin-Watson:                   1.883\n",
       "Prob(Omnibus):                  0.678   Jarque-Bera (JB):                0.558\n",
       "Skew:                          -0.165   Prob(JB):                        0.757\n",
       "Kurtosis:                       3.053   Cond. No.                     1.12e+19\n",
       "==============================================================================\n",
       "\n",
       "Warnings:\n",
       "[1] Standard Errors assume that the covariance matrix of the errors is correctly specified.\n",
       "[2] The smallest eigenvalue is 4.3e-25. This might indicate that there are\n",
       "strong multicollinearity problems or that the design matrix is singular.\n",
       "\"\"\""
      ]
     },
     "execution_count": 1111,
     "metadata": {},
     "output_type": "execute_result"
    }
   ],
   "source": [
    "Xt = np.vstack([age, weight, height, gender, height*weight,  age*weight, height*weight, age*height*weight]).T\n",
    "#Xt = np.vstack([age, weight, height, height*weight]).T\n",
    "X = sm.add_constant(Xt)\n",
    "ols = sm.OLS(  blood, X)\n",
    "ols_result = ols.fit()\n",
    "print(\"R^2=\",ols_result.rsquared)\n",
    "print(\"RSE=\", np.sqrt(np.sum(ols_result.resid**2)/(np.size(age)-1-Xt.shape[1])))\n",
    "ols_result.summary()"
   ]
  }
 ],
 "metadata": {
  "celltoolbar": "Slideshow",
  "kernelspec": {
   "display_name": "Python 3",
   "language": "python",
   "name": "python3"
  },
  "language_info": {
   "codemirror_mode": {
    "name": "ipython",
    "version": 3
   },
   "file_extension": ".py",
   "mimetype": "text/x-python",
   "name": "python",
   "nbconvert_exporter": "python",
   "pygments_lexer": "ipython3",
   "version": "3.5.1"
  },
  "widgets": {
   "state": {
    "023db59ee57a4c8fb5ff3ac4b68bee47": {
     "views": []
    },
    "02b78a1793c2408682f1b70891c24b04": {
     "views": []
    },
    "0358c57f397a485e86a6941642298026": {
     "views": []
    },
    "037eb611f6b646268bc0207328f9c6a2": {
     "views": []
    },
    "0384afb050f843a093634bbb01182495": {
     "views": []
    },
    "04039ef702f5423cb55755ead84186d1": {
     "views": []
    },
    "04464c88f6e24622b49ded25747c1428": {
     "views": []
    },
    "0569879191154f39a1bdb664f8f79402": {
     "views": []
    },
    "057b449414a44a5388d3a3dfb344aeef": {
     "views": []
    },
    "05b16fa4ae294b3595adbf8bbc8e8274": {
     "views": []
    },
    "06611add9025414e94dd25871d30c660": {
     "views": []
    },
    "06a8fbaffd1e4e2594d57e9ba3ccad60": {
     "views": []
    },
    "0736f01678134e2685ee7323be749a7c": {
     "views": []
    },
    "082e2413cd7746d89fe0dba725adc8c4": {
     "views": []
    },
    "0839d12f3e884241b5a810945709539d": {
     "views": []
    },
    "090f1ede07d24fc4bea83c1f85010e97": {
     "views": []
    },
    "09ae363010cc4c249d46700fbddc3e9f": {
     "views": []
    },
    "09de8ca3bf1244579a69c8de618ca12b": {
     "views": []
    },
    "0a7431c3c3b74989a8fab336415a8900": {
     "views": []
    },
    "0c7d226cfd554624a2b42180597992e9": {
     "views": []
    },
    "0cee8f45d2e64f59bc921f692971bb52": {
     "views": []
    },
    "0d2de52690884d17b5d3036f908039b5": {
     "views": []
    },
    "0d7573dea45d4787957f745b0af17e45": {
     "views": []
    },
    "0e40352bbafa48d0a0527d07da65673c": {
     "views": []
    },
    "0f122aa18d074d2b8156454425db077f": {
     "views": []
    },
    "0f1d6a2e76974ec0b6b4c7d6589cdea8": {
     "views": []
    },
    "12f925cf246846c0a0d4d25c9e080960": {
     "views": []
    },
    "13bd7902713d4741baf804177c2606e8": {
     "views": []
    },
    "13e16a2078674fe6abeae016f21c05b3": {
     "views": []
    },
    "13ec3ec218994364816f291d747a274a": {
     "views": []
    },
    "13fe1246c37e4df89656460806f85e88": {
     "views": []
    },
    "1518fde31b764ae6b9f378c3f47ba32b": {
     "views": []
    },
    "17a02f83dae048ac8a8f5e8e7eba5cc5": {
     "views": []
    },
    "180c48656d8a420ab7da81fa804ca933": {
     "views": []
    },
    "18860d52098441a3aef9c58de0bc03c3": {
     "views": []
    },
    "18d851349d2c4b6aa5dd0580bbf56540": {
     "views": []
    },
    "1910be5255474f2580d42bc0653dfc59": {
     "views": []
    },
    "196cbd24c7f94a37a4a9c7de61b62b15": {
     "views": []
    },
    "198b827f354047d6bbb49dc4079cfb27": {
     "views": []
    },
    "1a3faff0a15e4f389dc601054f5a4aec": {
     "views": []
    },
    "1d2799abd50a47bd959298717b3a8de6": {
     "views": []
    },
    "1e9c459667894ea38cbb14fa502bf7cb": {
     "views": []
    },
    "1f96da127fe94be79963a72182cf5132": {
     "views": []
    },
    "200aedc95b7548c6be00893b036173f6": {
     "views": []
    },
    "2220f45caa0943b283e1af96bd8b18f8": {
     "views": []
    },
    "236d6910a17448b796035386d156d292": {
     "views": []
    },
    "2373ebe5bd384f57bbf64d7c3d949801": {
     "views": []
    },
    "23d5ddf789494bae96cdeaf624766cad": {
     "views": []
    },
    "2536faffe07040ff83a3a05f8cc00d22": {
     "views": []
    },
    "27e16fc7b832419695a8c165816ac8ca": {
     "views": []
    },
    "2830e15bc766414fbb7b76c57a352d24": {
     "views": []
    },
    "293595454892445683977b275702f552": {
     "views": []
    },
    "296e0601c1bc4d3682eaa94a3bc9fbf0": {
     "views": []
    },
    "2a7ce9543ec14187ab8ea91b045356be": {
     "views": []
    },
    "2aabcf11a1424ea3aafed6d7ef7c3b07": {
     "views": []
    },
    "2bb3d7a0c3ff48848924e297abd4c916": {
     "views": []
    },
    "2bf74b8dafd74e958a61ec34444d3aa2": {
     "views": []
    },
    "2c142cde5842404cb5c6ccd52871cdda": {
     "views": []
    },
    "2c32132064ee405ebc79f7f21b1605dd": {
     "views": [
      {
       "cell_index": 12
      }
     ]
    },
    "2c3fcee9c3b549debcbbd6614bf5d005": {
     "views": []
    },
    "2d020346bf1c4b7c81bacb05f9cb7654": {
     "views": []
    },
    "2d8f400ad6e8487f94e65ae2a67478fb": {
     "views": []
    },
    "2f383dd37a12451eb867f3511e92a5e9": {
     "views": []
    },
    "2f3ce5269d3840e29e93a3c963f5dee5": {
     "views": []
    },
    "324066bfcba54261bd105a5083be44aa": {
     "views": []
    },
    "32944ccd3c6d4dbc8fa8ec9ed041f8d3": {
     "views": []
    },
    "33c68ef771f54bf7a99ebf44d47e6665": {
     "views": []
    },
    "33e8295b2be74ed480bc1690c3699e8d": {
     "views": []
    },
    "340d676e43f94296ad5dae040f65d7bf": {
     "views": []
    },
    "3444967f15ae414fa75483a29e99c5a9": {
     "views": []
    },
    "34871ed647714a5d934ac0acfc3d4905": {
     "views": []
    },
    "34c6de049ade439f9aca5bd421252784": {
     "views": []
    },
    "35dc2527b26f4bc385ae53fbd5782430": {
     "views": []
    },
    "36b201e0367f4da2a2a1a53041e1b354": {
     "views": []
    },
    "36d8ef5614784bdd9b09dc876d6ce521": {
     "views": []
    },
    "376e3a04a41548dfb8183e073b780a3f": {
     "views": [
      {
       "cell_index": 26
      }
     ]
    },
    "37c463e4f3de4486891875ec30f7e173": {
     "views": []
    },
    "37f2a7cfd2154cda87c1523144354ef2": {
     "views": []
    },
    "395f137fae9a4923b1e2a91d0700047e": {
     "views": []
    },
    "3aa3ad4e144944a7b9ee06f870463575": {
     "views": []
    },
    "3c82fab6fbe646c588536179c8cb4a98": {
     "views": []
    },
    "3ccf7559818246f2995a169e8b2e7e77": {
     "views": []
    },
    "3dd7d6a5feb74ac8bc2e8ef2bd2edebb": {
     "views": []
    },
    "3e614afa544c4088a96c4cdbdf966e1a": {
     "views": []
    },
    "3eaf82e17b874f2883e88fa1fb00231e": {
     "views": []
    },
    "3f22a3cb259a4699a33b3e22210175fc": {
     "views": []
    },
    "3f2a58219895430fbe82aef51d9573b2": {
     "views": []
    },
    "3fbbc71bb9474b81a4fa076fc5fbbe1c": {
     "views": []
    },
    "4017db37b34245b0b5b42c20284005f4": {
     "views": []
    },
    "40264318045a4ef8ae9abc2894c7a5c3": {
     "views": []
    },
    "402fc953051d4aebbee2dd5cb5cc2aa5": {
     "views": []
    },
    "41de6d7f765347dea01e04adad80a290": {
     "views": []
    },
    "435697f5e842499eb5399022bb9c14ac": {
     "views": []
    },
    "43d99823001d41d5a35992a3967f2a7b": {
     "views": []
    },
    "4418b6c323734319941bf97af5835e53": {
     "views": []
    },
    "4489d40b6bf84a6e84f05cc3f3650230": {
     "views": []
    },
    "45025496276140fa89d5fdf535ebcb21": {
     "views": []
    },
    "456d65a229f3449ab45ca264d07eaac3": {
     "views": []
    },
    "464bee2e69294858adada18db7d85534": {
     "views": []
    },
    "4695f84f414345dca4985ac7b6de6e3d": {
     "views": []
    },
    "471bafacc4284d68bab08f62507368b1": {
     "views": []
    },
    "47caf80db0b14778b99d56178df4a86b": {
     "views": []
    },
    "49136dc7ef3c45388d8882f3acec423f": {
     "views": []
    },
    "49201d35df0d4091b159d5ef54920648": {
     "views": []
    },
    "49c194621d604f3e91d3844cf7989334": {
     "views": []
    },
    "4b7755cabb1343d198015d1517b33a7b": {
     "views": []
    },
    "4b9058b7c7a14e22a1c500d25349fc63": {
     "views": []
    },
    "4c32f8c3ab384599a7b7ba7ddc99e15e": {
     "views": []
    },
    "4d00b091fd464d2189cac7ee3dbcfe30": {
     "views": []
    },
    "4d42bd9fe04d4c5794a976f1e4c00b07": {
     "views": []
    },
    "4e38ae33f8a34fc9b658563ac27ca87c": {
     "views": []
    },
    "4ee3969934634b849a9a456e2b20ca3d": {
     "views": []
    },
    "4ef8fa05981a40aeb8408333ba08198f": {
     "views": []
    },
    "4f70fb13697c4a8182bd5025801397ff": {
     "views": []
    },
    "5033ad8a990849f38ac6c27ea9f7426b": {
     "views": []
    },
    "50520a9a47574467a1981d81178486ca": {
     "views": []
    },
    "5177114f2ff74e6ebb3430730943e2c5": {
     "views": []
    },
    "517915f4e4694c98a12388d004d3c07c": {
     "views": []
    },
    "5181d2a8199346b392707e22038f5645": {
     "views": []
    },
    "523a3194c99140498ff3b0701e000451": {
     "views": []
    },
    "5318325787a34b4da1b1271c7ca39c4c": {
     "views": []
    },
    "536e175a0858451dbc0dd031910d7f60": {
     "views": []
    },
    "5402c83711414c768c211f8f69dd608c": {
     "views": []
    },
    "54339afbcd6d4b8a895d14f0f1d154e8": {
     "views": []
    },
    "54a65f717d20444487fba964cfd98a20": {
     "views": []
    },
    "55258f54faa04e5986fc9d763e423605": {
     "views": [
      {
       "cell_index": 9
      }
     ]
    },
    "55922c3fc0bf414b8b14ea9a03ee7457": {
     "views": []
    },
    "55b7ed92a6754ba29757a193824ff92c": {
     "views": []
    },
    "566ee9f8adb542f4bdf41709bf77c93d": {
     "views": []
    },
    "568d45b38f964fc7baf98599a2e1e73a": {
     "views": []
    },
    "57419286b92b4040932e68218c1887a2": {
     "views": []
    },
    "57859188773a4a7bad129cc7e97a124b": {
     "views": []
    },
    "57e8621db935420cb33568e5917d91a0": {
     "views": []
    },
    "5822be4b4f604508ab09579a7c74fa4e": {
     "views": []
    },
    "58929532900249bda676698d5d771adb": {
     "views": []
    },
    "59acf8510a754a29b2861c73e44ee3b3": {
     "views": []
    },
    "59b58da9d2af4055859d96e32a5788bc": {
     "views": []
    },
    "5d35a8bd03ae46178f467d2d4495d377": {
     "views": []
    },
    "5eeebe4be93a4136aabf0a59ad93fc78": {
     "views": []
    },
    "5f51288fbd15407a8fca88412ab6cbcc": {
     "views": []
    },
    "5f7dcfc5a58c44c1842ecbe7418efa9f": {
     "views": []
    },
    "605e1cf8a153461c9d5fef9ba9c27a43": {
     "views": []
    },
    "6069875ed0b44447905f307cf1187380": {
     "views": []
    },
    "60bce802326941aca6271053cae4f458": {
     "views": []
    },
    "60d92f69633843388466d2b6710bb8bb": {
     "views": []
    },
    "60de3b19d661482393886be48a11aad2": {
     "views": []
    },
    "618c9c6456a046fe80b12ffa8accddb4": {
     "views": []
    },
    "61c0ff4ad845443f93fc7134f07a51c0": {
     "views": []
    },
    "62178dee35d2437c90f419d17adb3ee3": {
     "views": []
    },
    "6337251dbe42494c9403600ac6444d15": {
     "views": []
    },
    "6343c721122948a58412d7f6f4c3ede5": {
     "views": []
    },
    "63872c0e39114ce39d2d52dc8a092ecc": {
     "views": []
    },
    "63ccfa31b7dc425eb9d58f74ca2a1e16": {
     "views": []
    },
    "64136598767241b6bab7e6e6d0dcdd30": {
     "views": []
    },
    "643a373e885b4e99a070554f247e2f7a": {
     "views": []
    },
    "6480b44fb5764f8fb0b871fbd0a093e6": {
     "views": []
    },
    "6492608115f44dfdb95338ace70c28b8": {
     "views": []
    },
    "64afdd1414c04a9d9c999c8983e0a0f9": {
     "views": []
    },
    "692315b3025d446ebd7dda6738e58b57": {
     "views": []
    },
    "699db91a9411462db58872de85bae77b": {
     "views": []
    },
    "6a7d039585d74cfaba845f05ed7bc306": {
     "views": []
    },
    "6ab2cc358d2d4ee7b78be9b248f7bcba": {
     "views": []
    },
    "6ba434ef1bba4002907c5e54728da532": {
     "views": [
      {
       "cell_index": 13
      }
     ]
    },
    "6c5a6f2ad6a142bea85361b4c595bbdf": {
     "views": []
    },
    "6c9ec847ca1a4a438e3d307982b09060": {
     "views": []
    },
    "6ca78322809442f0ad9c1b0b013c691d": {
     "views": []
    },
    "6d7202b55fcf448eb58ec309b4b3662b": {
     "views": []
    },
    "6d982ed92c79442a96bc3f19328c38c7": {
     "views": []
    },
    "6dbe8e6c159142efa24fe39a96f3e70b": {
     "views": []
    },
    "6dec848b971c4f36b43874dfcade1c10": {
     "views": []
    },
    "6f6381c382d5447c91e9d08cbbd800fa": {
     "views": []
    },
    "7025d9c32bdf4b108fa9d0afb4bd8cda": {
     "views": []
    },
    "713b31835a744a57aab7c0fdcc9199bd": {
     "views": []
    },
    "736694dda530419caedbc2688ed284d5": {
     "views": []
    },
    "73afca7ea0fd4e1f8c828604c288c591": {
     "views": []
    },
    "743a55ef556f4e1eb473097b6ae7c75a": {
     "views": []
    },
    "75bcfcd6a71d449f8af09e4c38319bac": {
     "views": []
    },
    "775d957777ce4e27a8fd17186ed23939": {
     "views": []
    },
    "7765884e2a0548179a8434015f4cdb09": {
     "views": []
    },
    "778167dd90734429a8d98c3612f67551": {
     "views": []
    },
    "77ad18b2151c48bd9257cf2c793f305f": {
     "views": []
    },
    "7936121481c945b2b45bf4c5cf753728": {
     "views": []
    },
    "793fc34fb36e4c008f1bd90913d3d1cd": {
     "views": []
    },
    "7968709f294b40189d9dfeee21b4ddcc": {
     "views": []
    },
    "7b83480c5f91417ea9d3c0470aeb22d2": {
     "views": []
    },
    "7bb1dddaa0524faca2c3f86f8a4d7b9b": {
     "views": []
    },
    "7c080a23ce1045499b5de5f236b6f16f": {
     "views": []
    },
    "7d0ed02d1d664b3b8e21bc5b01924a80": {
     "views": []
    },
    "7d101bd056c94e829ceb71e2104d1cfd": {
     "views": []
    },
    "7f1d1e6b1e874ef5ab93fb2621bc519e": {
     "views": []
    },
    "7f8f80c9feb841f9a198883f4902c4db": {
     "views": []
    },
    "7fbc88694bbc494c9673daa3b64abd79": {
     "views": []
    },
    "808e2a0332f24b32923de6bf1d094388": {
     "views": []
    },
    "809d7ee38707406da89b2993bd821b5e": {
     "views": []
    },
    "81fdc8bdf3df4b2fa159bb8ae73d08e2": {
     "views": []
    },
    "8209596e03a64070ae059dc1f7adfe7f": {
     "views": []
    },
    "83ab8feba08f4967a18df9f1241594eb": {
     "views": []
    },
    "843cd21c0b1d47bbb35cc69408204c03": {
     "views": []
    },
    "85a495e365804693b90a72c38788ffe9": {
     "views": []
    },
    "861c9fbcc74c45e68c71eba93e73c12d": {
     "views": []
    },
    "8635799f0e6245818e0c29e8c7d38eaf": {
     "views": []
    },
    "86517963e1054b9f98960f85b19ed268": {
     "views": []
    },
    "865671c34f9f45089e462ca1ceb94e12": {
     "views": []
    },
    "866ab2b0b79b4fb985c241f77d00a2a8": {
     "views": []
    },
    "86c4ffbc9c6841928951f0b7d762c96a": {
     "views": []
    },
    "86efecd30c994c7e91c7ede02837170d": {
     "views": []
    },
    "874e473976bb42a68fef4130706aff65": {
     "views": []
    },
    "879f0d4a03c04d4c87a5b756b93a7b4e": {
     "views": []
    },
    "87ed88ef192e4204958d9810d01727ba": {
     "views": []
    },
    "883c228dedbf462d9436d0d41522c453": {
     "views": []
    },
    "88b417306dff4192a8ede139eba796b0": {
     "views": []
    },
    "890ed0f2c8ae4212959f5ee2ec72f53c": {
     "views": []
    },
    "8923b640b0f74b83b713d81126643aeb": {
     "views": []
    },
    "8a71da4a258a48caa34407f2a9fb56fa": {
     "views": []
    },
    "8b19a2eb60e54d1193dd3f6d02ccdb9a": {
     "views": []
    },
    "8d54a9f6287e47a3800686d47a9696a3": {
     "views": []
    },
    "8e2a648089044f0a8e95acd05dcc0295": {
     "views": []
    },
    "8e4205873e754b818db193d1d9cf543f": {
     "views": []
    },
    "8f6d8883659747cc95ac91bb81f623bb": {
     "views": []
    },
    "8fc0ec2400a24de8b7497a491caf4a49": {
     "views": []
    },
    "8fe43f16a9ab4cb8bc692ac01f57c485": {
     "views": []
    },
    "9079869f5a7242d1900c6a259f1a8878": {
     "views": []
    },
    "914fd6d362cd4a2490aa2468dd532ad0": {
     "views": []
    },
    "91617a215aeb4438ab4c2510fd90e5ac": {
     "views": []
    },
    "91893fed3c7b43c289c56c4b22c4b487": {
     "views": []
    },
    "92e19c82bee24abaa5ba2b13a7815733": {
     "views": []
    },
    "9480f7affe6f449fbaf303286e923356": {
     "views": []
    },
    "94b9ce754f504889ad35662cedad302b": {
     "views": []
    },
    "951f8a5356424e9ca480ecbaaf33e9c4": {
     "views": []
    },
    "95525ed5b6494c73b5a6851faf4e1fd3": {
     "views": []
    },
    "95adbdc969ba48cba80dce04cf96a7f5": {
     "views": []
    },
    "95ee2420e89c44e396269afbe5a56cbc": {
     "views": []
    },
    "967515f4443f43b587cd1914a1f576f4": {
     "views": []
    },
    "97c52ac0b4d44fd79612c4746f0b3ae0": {
     "views": []
    },
    "97dfd6a637e140f3beadad1071065e42": {
     "views": []
    },
    "97f7d8cb678c49cc9887dd3137288ade": {
     "views": []
    },
    "9961a9fcb4764d29946f020ffd0dd2e4": {
     "views": []
    },
    "99840a551fa647129696083ffd28105f": {
     "views": []
    },
    "9a29642ee1ac4b3a92121591c5bd85eb": {
     "views": []
    },
    "9a31f2064ba94fcb8da8ff6fa24afd55": {
     "views": []
    },
    "9b654813b25c4a28984ccbce9eb68329": {
     "views": []
    },
    "9bbf7bda704b49f98a49bb730a4e5ec9": {
     "views": []
    },
    "9d1e49fa12db43e2a1d5a513b3a18ad9": {
     "views": []
    },
    "9d34f3655a154bf5888397dd5bc6a0e0": {
     "views": []
    },
    "9d673806993849f29bd7e940e434364a": {
     "views": []
    },
    "a11b2f04f49d4f0faddb79e954b8ed9c": {
     "views": []
    },
    "a17235b1bd9a451fa67ae139b062c0b2": {
     "views": []
    },
    "a19028cfd85d4761bd7b0b44d34f06d9": {
     "views": []
    },
    "a2b93d3d6cfe4cf8b305ea9f923f32b0": {
     "views": []
    },
    "a34b92b715cf477da189bfec020e0c3e": {
     "views": []
    },
    "a3701514d64744279e58c22d01347c4a": {
     "views": []
    },
    "a3ddd85fdf8648d59f9f0c5d9421ee25": {
     "views": []
    },
    "a4394547cf814033b2a7c72b30f561e8": {
     "views": []
    },
    "a47cfd2be79b43e7b09f6b3d54294ba0": {
     "views": []
    },
    "a6085e5fb2a548d3872e9cb0d35b0b5e": {
     "views": []
    },
    "a62790ec904c4029ac0817c1b74300e7": {
     "views": []
    },
    "a66f6e034e9f4e62ba36cfb3730a3d68": {
     "views": []
    },
    "a6d5028330614ca0bc4bed739d195564": {
     "views": []
    },
    "a78af83439274a15a2d66ad6ac6a78d3": {
     "views": []
    },
    "a7c1669b70634d84acc79d3cbe985bde": {
     "views": []
    },
    "a7dd9622b6794069827921436b6b418f": {
     "views": []
    },
    "a97e0e2a1bf64773a6f494b28b4945a4": {
     "views": []
    },
    "a9a53f140fe541f1970243922d2071a6": {
     "views": []
    },
    "a9aa17ba5c1d4522a033478699941dba": {
     "views": []
    },
    "aa987653ef034b9fb791b33f2c9e7f16": {
     "views": []
    },
    "ab1e399fcfc94a8a92c8cf079805f638": {
     "views": []
    },
    "ac261e309f8f4effa741cd3bce87ced5": {
     "views": []
    },
    "ad48dd36dd934c90961ea31f49349fac": {
     "views": []
    },
    "ae86ffc5e85f41eb94002b5738b16314": {
     "views": []
    },
    "ae8b4e5a34bf459e873ef2d821fc7a55": {
     "views": [
      {
       "cell_index": 9
      }
     ]
    },
    "aedeccc35b1f455d83b56f4e36d63d56": {
     "views": []
    },
    "af8a59557360432aa1d5219808c2d98f": {
     "views": []
    },
    "af9e586a5a29481d978f5ff03f01beab": {
     "views": []
    },
    "afc5b2f2079a47e38bc57183222dec27": {
     "views": []
    },
    "b03acdbba601433f8ec59bb13aaa9736": {
     "views": []
    },
    "b068018d31364007bcd8eb5fd097efce": {
     "views": []
    },
    "b0f28822e0c341e988835c6d698f92d9": {
     "views": []
    },
    "b451359791834d968687970c7f3520a5": {
     "views": []
    },
    "b4c4e31013d4412d9ad0760e385d0132": {
     "views": []
    },
    "b4e62a5aa01946bf84947e3cd5a6cc9a": {
     "views": []
    },
    "b59b18ad33f84395974533bb0605bbf8": {
     "views": []
    },
    "b690aea7a0684f8fa1c40c5185cc0d97": {
     "views": []
    },
    "b69226b61569407aadaa55cb40a63c68": {
     "views": []
    },
    "b6f982ac008f443291f63162e024cffd": {
     "views": []
    },
    "b858477e94ba480ba24f4334285ba0ad": {
     "views": []
    },
    "b981ab2841814632ac902ac9fbe2f7b3": {
     "views": []
    },
    "b99bf324a56c4bae8044780d76e9bc3e": {
     "views": []
    },
    "bac49f5778eb45b2bfe5a4e0565255d9": {
     "views": []
    },
    "bb6c909f635e40a88befd275a2dd0752": {
     "views": []
    },
    "bc5977e98c044fff8bc0c086ebcbe68d": {
     "views": []
    },
    "bc5b9d219af94be99713ba25422e42b8": {
     "views": []
    },
    "bcefa2176ea84b9aa61b7535053dcb45": {
     "views": []
    },
    "bd39385872514ddda14011c4a934eb7c": {
     "views": []
    },
    "bdb5d5fdd2184f16900b99e73bc26909": {
     "views": []
    },
    "be4fcd184e754e1b9cc84e5d3899f34d": {
     "views": []
    },
    "bec6a2452c9541f2943806e12202d073": {
     "views": []
    },
    "bf78eddefe254674a16ba98d799abf46": {
     "views": []
    },
    "bf8dae321e6b427ebb2c6189fc658c67": {
     "views": []
    },
    "c000b899a77e44f0b027b6949ebf00b8": {
     "views": []
    },
    "c08c3f5b2229441b962e805a4d8cade3": {
     "views": []
    },
    "c1efd07ad75e4fd1afd4399b55f7d196": {
     "views": []
    },
    "c2111cb07d33486892899ec70bdc343f": {
     "views": []
    },
    "c211770706f34b56acfe95353fa6e916": {
     "views": []
    },
    "c24612813b754d97aa361de8e72ccb28": {
     "views": []
    },
    "c323fd709e934e9795f5430de2f96aba": {
     "views": []
    },
    "c3dbe2be0c8f4cf69437849f32d89bf1": {
     "views": []
    },
    "c4b000b930b340e9adbd15aa2497a718": {
     "views": []
    },
    "c4cbf73bfbb141dbb3e6025a23c190d9": {
     "views": []
    },
    "c5135eeb79ca4cb8822636cc89b6d98c": {
     "views": []
    },
    "c5bfe721220d4fceb676dc939cdd0e25": {
     "views": []
    },
    "c5f4f42ffa3a4a09b59c63fdf06fd1f9": {
     "views": []
    },
    "c821625c44e047e7aeb464c037d6ac95": {
     "views": []
    },
    "c91147e72437412b9020f74fb3523418": {
     "views": []
    },
    "c9f2684170b3431f8811067058ef766b": {
     "views": []
    },
    "cab4f5881019484ca2225b86b6d60433": {
     "views": []
    },
    "cac1dca60ab9497d9257ac6b539385a2": {
     "views": []
    },
    "cb266c7c04114fca8f216164171b9c34": {
     "views": []
    },
    "cb4033bd6cee4929894dd3ba30fd1dab": {
     "views": []
    },
    "cb6e64679e76452ebdf080aadf402b54": {
     "views": []
    },
    "cc2475b2966a4e30821442107619b2c8": {
     "views": []
    },
    "cc493c049e3b4321a15b3d8542e483a6": {
     "views": []
    },
    "cc5e018be95848f8b636060af93d16f2": {
     "views": []
    },
    "cda03e860af14762af23142e009ce582": {
     "views": []
    },
    "ce0b5dd5db6a4b44a3f7f8701cba07e9": {
     "views": []
    },
    "ce5cc3bd6f704b63ad39e60591a5909e": {
     "views": []
    },
    "d028239156d3470587a4951a0449cba8": {
     "views": []
    },
    "d0acc455cc4e4fb88a426c098eab80e5": {
     "views": []
    },
    "d0b8054462f0456ca81dc8ffaad8b2b6": {
     "views": []
    },
    "d0d4d2489b124310ae54979e7a2f0c01": {
     "views": []
    },
    "d1229f7a72954c40a5495e9f363855fb": {
     "views": []
    },
    "d195b3bea8924bfc8081ac0e69043c84": {
     "views": []
    },
    "d1b207980541499d87b805a567e24806": {
     "views": []
    },
    "d22fd3d117984d26897fdae651182667": {
     "views": []
    },
    "d2c3f84ec4a34998be79683791b02c75": {
     "views": []
    },
    "d2c7f887b3204258b4ba48f7b2d8665e": {
     "views": []
    },
    "d37e7ad1a7014561b96c62855d91613f": {
     "views": []
    },
    "d4de3946c6224ea3bc88bfe29c3dff0c": {
     "views": []
    },
    "d506c7d7ad3c41d8b78a4bf0806b20d4": {
     "views": []
    },
    "d63ea72474014310bdca63270151551f": {
     "views": []
    },
    "d69af785059e4cadad8846d38b1f7af4": {
     "views": []
    },
    "d73e8a059e884d82aea071f47b4a7777": {
     "views": []
    },
    "d7a280debb9649be95e2cc5a301462ae": {
     "views": []
    },
    "d7bf76564d3a476fba32a437dbef5c1d": {
     "views": []
    },
    "d7c0c068c45541ad9e6a1d3d27563a0a": {
     "views": []
    },
    "d81879e8bfd643f49cfa7e5938838e29": {
     "views": []
    },
    "d820271d81774eb1a9d459671b8827af": {
     "views": []
    },
    "d8c654c98e3e48abb2b37a5998d70039": {
     "views": []
    },
    "d938469521fa4b6dae01398bbd0100dc": {
     "views": []
    },
    "da2dbad25d40461da67a88a703729bbd": {
     "views": []
    },
    "dab83ac300c14766b3d420e77f01c738": {
     "views": []
    },
    "dae044adbe304776b0cf75ab0f413215": {
     "views": [
      {
       "cell_index": 9
      }
     ]
    },
    "db965e86b9014b8f8a67bcd05ef78138": {
     "views": []
    },
    "dbf08a77e3df436a97d3b853d0f81abd": {
     "views": []
    },
    "dc37995d93f44f51bd262dc49b7d99b0": {
     "views": [
      {
       "cell_index": 9
      }
     ]
    },
    "dc6aefa401bc4667a4475e332373c124": {
     "views": []
    },
    "dccc7eb7c7574dcc9ab67a004a6717e3": {
     "views": []
    },
    "dfe28b4e01e1401882ae1600cd15c7cc": {
     "views": []
    },
    "dfe928e2123b4f6eaebbf99bc9773a5f": {
     "views": []
    },
    "e044c0f8da6d44dbbc390011c9da75f0": {
     "views": []
    },
    "e072c94f13444a90819ca844bac7c79b": {
     "views": []
    },
    "e1aac1aefb484a908ff2d9a4c25269f9": {
     "views": []
    },
    "e1c4e6d88ad64688a9fb53fd65e8d1fc": {
     "views": []
    },
    "e1d0baf08fd741a48e6948418f0b17ac": {
     "views": []
    },
    "e2bceb85caa44fd5a38e00245a4f06a6": {
     "views": []
    },
    "e2c6666584b0483ab61990da5dffbfec": {
     "views": []
    },
    "e3580cb84fb74abc8b4a25056ebfa0c0": {
     "views": []
    },
    "e35dcf126421406f8d44eca7d255d4e0": {
     "views": []
    },
    "e3c79be1a4144f8ca712efb2afb3a420": {
     "views": []
    },
    "e3da4f1ae15c4b93b53378d529407202": {
     "views": []
    },
    "e557098efedb41189333945e4452f5a8": {
     "views": []
    },
    "e5fd5c93b37448fa82e36dfcc56fae24": {
     "views": []
    },
    "e674769d4c2c47f0a564a53f1b9fe4d4": {
     "views": []
    },
    "e6f073fc87aa4b86a286e8082e089ae0": {
     "views": []
    },
    "e72021e8e9924dc89f933535806e78b0": {
     "views": []
    },
    "e75278a9388343a9a0c9ccd1c829182b": {
     "views": []
    },
    "e7b20c05c3c5492580ef86941e2e97d5": {
     "views": []
    },
    "e829fa843e4f43c3ba57a4139600c38c": {
     "views": []
    },
    "e84355688aa542e88da4514967545ec6": {
     "views": []
    },
    "e8d7e67bc6a542ffa0a19a35c2da77f5": {
     "views": []
    },
    "ea627baa3b234f3ea9b24a0b93a6b4fa": {
     "views": []
    },
    "ea85e624f91f4bc88c756728a1c79aca": {
     "views": []
    },
    "eb754bc9a4ac4bf88446bc58ad63520f": {
     "views": []
    },
    "ecc7712848f945e2a619e11bc615c92c": {
     "views": []
    },
    "ed021123092148479fe3f4b9905a72f8": {
     "views": []
    },
    "ed2c853341d841ae9d3fdf423b38da01": {
     "views": []
    },
    "ed815bb7c7fc4d349d184c0b10fe3f29": {
     "views": []
    },
    "eec9dfa30b254ac4b80a2cfd4d40c860": {
     "views": []
    },
    "f019a72ec65146e68d39e9dd5e68208c": {
     "views": []
    },
    "f0fc9848464f4a6e810cc7dfc6562830": {
     "views": []
    },
    "f220b872f0aa41d0abf7c2ec13267cd0": {
     "views": []
    },
    "f2318dd4b514414ab90f9121b24f251c": {
     "views": []
    },
    "f23b8b6d152f48308ca3de7c14388b35": {
     "views": []
    },
    "f3268c2f61ac4de0bcb645a5f3f36238": {
     "views": []
    },
    "f3509a1835984cf9b2dd1a01ab9518f0": {
     "views": []
    },
    "f3d67d29765d49729eafbd1c18fa6782": {
     "views": []
    },
    "f448cea2cee54609bb668a201e50cbb6": {
     "views": []
    },
    "f5cdfa7cc8be41bdb3a3986d33f3f7fb": {
     "views": []
    },
    "f660464be09e4b189e468d86131996a3": {
     "views": []
    },
    "f6d537a733f44422a761c06df780db98": {
     "views": []
    },
    "f755d6ecdf07471ab9b9c070dfc5d8b5": {
     "views": []
    },
    "f84a5f5be831407eae1a737d161a0abd": {
     "views": []
    },
    "f8a85e5876964017b8ad09a35c5d0f5c": {
     "views": []
    },
    "f8cd2430affa44478267aa825b4b5e63": {
     "views": []
    },
    "f952c36b39494e95babbcccfd6bf75da": {
     "views": []
    },
    "f9c02952d3984740a7ba39e525bfd5a0": {
     "views": []
    },
    "fa6b4a0bc1f5423a9c287c01374228fd": {
     "views": []
    },
    "fb34df6af49b482d93f447c466106d67": {
     "views": []
    },
    "fb81fdb422d640bc85e8cadb37792540": {
     "views": []
    },
    "fbb8346e94814ecca5e03fd224fddc96": {
     "views": []
    },
    "fc916b1d21464d76a21ec910cb56bfd2": {
     "views": []
    },
    "fd38a1b7dad844b7ba5ed1b2eeba8dd0": {
     "views": []
    },
    "fd54c550540942438f9a11985c4e9672": {
     "views": []
    },
    "fd613836f65045129e8672812976d7c0": {
     "views": []
    },
    "fdc28d4f3a9248a3a0d94a8583da828a": {
     "views": []
    },
    "fe938901e3f34c1099871cfe789143c6": {
     "views": []
    },
    "fec6d596c24749bdb5051a46db7cc1f1": {
     "views": []
    },
    "ff39c0b16f1b45e78a0fbdbcd6d01087": {
     "views": []
    },
    "ff7cca9f0fa440b38ce9e38b8825e5f5": {
     "views": []
    }
   },
   "version": "1.1.2"
  }
 },
 "nbformat": 4,
 "nbformat_minor": 0
}
