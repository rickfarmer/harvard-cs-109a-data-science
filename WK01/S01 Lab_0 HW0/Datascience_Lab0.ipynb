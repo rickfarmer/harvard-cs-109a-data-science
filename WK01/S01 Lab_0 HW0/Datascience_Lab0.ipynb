{
 "cells": [
  {
   "cell_type": "markdown",
   "metadata": {},
   "source": [
    "# CS 109A/AC 209A/STAT 121A Data Science: Lab 0\n",
    "**Harvard University**<br>\n",
    "**Fall 2016**<br>\n",
    "**Instructors: W. Pan, P. Protopapas, K. Rader**"
   ]
  },
  {
   "cell_type": "markdown",
   "metadata": {},
   "source": [
    "Import libraries"
   ]
  },
  {
   "cell_type": "code",
   "execution_count": 4,
   "metadata": {
    "collapsed": false
   },
   "outputs": [],
   "source": [
    "import numpy as np\n",
    "import matplotlib\n",
    "import matplotlib.pyplot as plt\n",
    "import random\n",
    "from mpl_toolkits.mplot3d import Axes3D\n",
    "from bs4 import BeautifulSoup\n",
    "import urllib\n",
    "%matplotlib inline"
   ]
  },
  {
   "cell_type": "markdown",
   "metadata": {},
   "source": [
    "## Problem 1: Processing Tabular Data from File\n",
    "\n",
    "In this problem, we practice reading csv formatted data and doing some very simple data exploration."
   ]
  },
  {
   "cell_type": "markdown",
   "metadata": {},
   "source": [
    "### Part (a): Reading CSV Data with Numpy\n",
    "\n",
    "Open the file $\\mathtt{dataset}$\\_$\\mathtt{HW0.txt}$, containing birth biometrics as well as maternal data for a number of U.S. births, and inspect the csv formatting of the data. Load the data, without the column headers, into an numpy array. \n",
    "\n",
    "Do some preliminary explorations of the data by printing out the dimensions as well as the first three rows of the array. Finally, for each column, print out the range of the values. \n",
    "\n",
    "<b>Prettify your output</b>, add in some text and formatting to make sure your outputs are readable (e.g. \"36x4\" is less readable than \"array dimensions: 36x4\")."
   ]
  },
  {
   "cell_type": "code",
   "execution_count": null,
   "metadata": {
    "collapsed": false
   },
   "outputs": [],
   "source": []
  },
  {
   "cell_type": "markdown",
   "metadata": {},
   "source": [
    "### Part (b): Simple Data Statistics\n",
    "\n",
    "Compute the mean birth weight and mean femur length for the entire dataset. Now, we want to split the birth data into three groups based on the mother's age:\n",
    "\n",
    "1. Group I: ages 0-17\n",
    "2. Group II: ages 18-34\n",
    "3. Group III: ages 35-50\n",
    "\n",
    "For each maternal age group, compute the mean birth weight and mean femure length. \n",
    "\n",
    "<b>Prettify your output.</b>\n",
    "\n",
    "Compare the group means with each other and with the overall mean, what can you conclude?"
   ]
  },
  {
   "cell_type": "code",
   "execution_count": null,
   "metadata": {
    "collapsed": false
   },
   "outputs": [],
   "source": []
  },
  {
   "cell_type": "markdown",
   "metadata": {},
   "source": [
    "### Part (c): Simple Data Visualization\n",
    "\n",
    "Visualize the data using a 3-D scatter plot (label the axes and title your plot). How does your visual analysis compare with the stats you've computed in Part (b)?"
   ]
  },
  {
   "cell_type": "code",
   "execution_count": null,
   "metadata": {
    "collapsed": false,
    "scrolled": true
   },
   "outputs": [],
   "source": []
  },
  {
   "cell_type": "markdown",
   "metadata": {},
   "source": [
    "### Part (d): Simple Data Visualization (Continued)\n",
    "\n",
    "Visualize two data attributes at a time,\n",
    "\n",
    "1. maternal age against birth weight\n",
    "2. maternal age against femur length\n",
    "3. birth weight against femur length\n",
    "\n",
    "using 2-D scatter plots.\n",
    "\n",
    "Compare your visual analysis with your analysis from Part (b) and (c)."
   ]
  },
  {
   "cell_type": "code",
   "execution_count": null,
   "metadata": {
    "collapsed": false,
    "scrolled": true
   },
   "outputs": [],
   "source": []
  },
  {
   "cell_type": "markdown",
   "metadata": {},
   "source": [
    "## Problem 2: Processing Web Data\n",
    "\n",
    "In this problem we practice some basic web-scrapping using Beautiful Soup."
   ]
  },
  {
   "cell_type": "markdown",
   "metadata": {},
   "source": [
    "### Part (a): Opening and Reading Webpages\n",
    "\n",
    "Open and load the page (Kafka's The Metamorphosis) at \n",
    "\n",
    "$\\mathtt{http://www.gutenberg.org/files/5200/5200-h/5200-h.htm}$\n",
    "\n",
    "into a BeautifulSoup object. \n",
    "\n",
    "The object we obtain is a parse tree (a data structure representing all tags and relationship between tags) of the html file. To concretely visualize this object, print out the first 1000 characters of a representation of the parse tree using the $\\mathtt{prettify()}$ function."
   ]
  },
  {
   "cell_type": "code",
   "execution_count": null,
   "metadata": {
    "collapsed": false,
    "scrolled": true
   },
   "outputs": [],
   "source": []
  },
  {
   "cell_type": "markdown",
   "metadata": {},
   "source": [
    "### Part (b): Exploring the Parsed HTML\n",
    "\n",
    "Explore the nested data structure you obtain in Part (a) by printing out the following:\n",
    "\n",
    "1. the content of the head tag\n",
    "2. the string inside the head tag\n",
    "3. each child of the head tag\n",
    "2. the string inside the title tag\n",
    "3. the string inside the preformatted text (pre) tag\n",
    "4. the string inside the first paragraph (p) tag\n",
    "\n",
    "Make your output readable."
   ]
  },
  {
   "cell_type": "code",
   "execution_count": null,
   "metadata": {
    "collapsed": false,
    "scrolled": true
   },
   "outputs": [],
   "source": []
  },
  {
   "cell_type": "markdown",
   "metadata": {},
   "source": [
    "### Part (c): Extracting Text\n",
    "\n",
    "Now we want to extract the text of The Metamorphosis and do some simple analysis. Beautiful Soup provides a way to extract all text from a webpage via the $\\mathtt{get}$_$\\mathtt{text()}$ function. \n",
    "\n",
    "Print the first and last 1000 characters of the text returned by $\\mathtt{get}$_$\\mathtt{text()}$. Is this the content of the novela? Where is the content of The Metamorphosis stored in the BeautifulSoup object?"
   ]
  },
  {
   "cell_type": "code",
   "execution_count": null,
   "metadata": {
    "collapsed": false,
    "scrolled": true
   },
   "outputs": [],
   "source": []
  },
  {
   "cell_type": "markdown",
   "metadata": {},
   "source": [
    "### Part (d): Extracting Text (Continued)\n",
    "\n",
    "Using the $\\mathtt{find}$_$\\mathtt{all()}$ function, extract the text of The Metamorphosis and concatenate the result into a single string. Print out the first 1000 characters of the string as a sanity check."
   ]
  },
  {
   "cell_type": "code",
   "execution_count": null,
   "metadata": {
    "collapsed": false,
    "scrolled": false
   },
   "outputs": [],
   "source": []
  },
  {
   "cell_type": "markdown",
   "metadata": {},
   "source": [
    "### Part (e): Word Count\n",
    "\n",
    "Count the number of words in The Metamorphosis. Compute the average word length and plot a histogram of word lengths.\n",
    "\n",
    "You'll need to adjust the number of bins for each histogram.\n",
    "\n",
    "**Hint**: You'll need to pre-process the text in order to obtain the correct word/sentence length and count. "
   ]
  },
  {
   "cell_type": "code",
   "execution_count": null,
   "metadata": {
    "collapsed": false
   },
   "outputs": [],
   "source": []
  },
  {
   "cell_type": "markdown",
   "metadata": {},
   "source": [
    "## Problem 3: Data from Simulations\n",
    "\n",
    "In this problem we practice generating data by setting up a simulation of a simple phenomenon, a queue. \n",
    "\n",
    "Suppose we're interested in simulating a queue that forms in front of a small Bank of America branch with one teller, where the customers arrive one at a time.\n",
    "\n",
    "We want to study the queue length and customer waiting time."
   ]
  },
  {
   "cell_type": "markdown",
   "metadata": {},
   "source": [
    "### Part (a): Simulating Arrival and Service Time\n",
    "\n",
    "Assume that gaps between consecutive arrivals are uniformly distributed over the interval of 1 to 20 minutes (i.e. any two times between 1 minute and 6 minutes are equally likely). \n",
    "\n",
    "Assume that the service times are uniform over the interval of 5 to 15 minutes. \n",
    "\n",
    "Generate the arrival and service times for 100 customers, using the $\\mathtt{uniform()}$ function from the $\\mathtt{random}$ library."
   ]
  },
  {
   "cell_type": "code",
   "execution_count": null,
   "metadata": {
    "collapsed": false
   },
   "outputs": [],
   "source": []
  }
 ],
 "metadata": {
  "kernelspec": {
   "display_name": "Python 2",
   "language": "python",
   "name": "python2"
  },
  "language_info": {
   "codemirror_mode": {
    "name": "ipython",
    "version": 2
   },
   "file_extension": ".py",
   "mimetype": "text/x-python",
   "name": "python",
   "nbconvert_exporter": "python",
   "pygments_lexer": "ipython2",
   "version": "2.7.11"
  }
 },
 "nbformat": 4,
 "nbformat_minor": 0
}
