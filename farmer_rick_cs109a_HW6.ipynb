{
 "cells": [
  {
   "cell_type": "markdown",
   "metadata": {},
   "source": [
    "# CS 109A/AC 209A/STAT 121A Data Science: Homework 6\n",
    "**Harvard University**<br>\n",
    "**Fall 2016**<br>\n",
    "**Instructors: W. Pan, P. Protopapas, K. Rader**<br>\n",
    "**Due Date: ** Wednesday, November 2nd, 2016 at 11:59pm"
   ]
  },
  {
   "cell_type": "markdown",
   "metadata": {},
   "source": [
    "Download the `IPython` notebook as well as the data file from Vocareum and complete locally.\n",
    "\n",
    "To submit your assignment, in Vocareum, upload (using the 'Upload' button on your Jupyter Dashboard) your solution to Vocareum as a single notebook with following file name format:\n",
    "\n",
    "`last_first_CourseNumber_HW6.ipynb`\n",
    "\n",
    "where `CourseNumber` is the course in which you're enrolled (CS 109a, Stats 121a, AC 209a). Submit your assignment in Vocareum using the 'Submit' button.\n",
    "\n",
    "**Avoid editing your file in Vocareum after uploading. If you need to make a change in a solution. Delete your old solution file from Vocareum and upload a new solution. Click submit only ONCE after verifying that you have uploaded the correct file. The assignment will CLOSE after you click the submit button.**\n",
    "\n",
    "Problems on homework assignments are equally weighted. The Challenge Question is required for AC 209A students and optional for all others. Student who complete the Challenge Problem as optional extra credit will receive +0.5% towards your final grade for each correct solution. "
   ]
  },
  {
   "cell_type": "markdown",
   "metadata": {},
   "source": [
    "Import libraries"
   ]
  },
  {
   "cell_type": "code",
   "execution_count": 4,
   "metadata": {
    "collapsed": false
   },
   "outputs": [],
   "source": [
    "import numpy as np\n",
    "import pandas as pd\n",
    "import scipy as sp\n",
    "from scipy.stats import mode\n",
    "from sklearn import linear_model\n",
    "import matplotlib\n",
    "import matplotlib.pyplot as plt\n",
    "from sklearn import discriminant_analysis\n",
    "from sklearn.decomposition import PCA\n",
    "from sklearn import preprocessing\n",
    "%matplotlib inline"
   ]
  },
  {
   "cell_type": "markdown",
   "metadata": {},
   "source": [
    "## Problem 0: Basic Information\n",
    "\n",
    "Fill in your basic information. \n",
    "\n",
    "### Part (a): Your name"
   ]
  },
  {
   "cell_type": "markdown",
   "metadata": {},
   "source": [
    "Farmer, Rick"
   ]
  },
  {
   "cell_type": "markdown",
   "metadata": {},
   "source": [
    "### Part (b): Course Number"
   ]
  },
  {
   "cell_type": "markdown",
   "metadata": {},
   "source": [
    "CS 109a"
   ]
  },
  {
   "cell_type": "markdown",
   "metadata": {},
   "source": [
    "### Part (c): Who did you work with?"
   ]
  },
  {
   "cell_type": "markdown",
   "metadata": {},
   "source": [
    "N/A"
   ]
  },
  {
   "cell_type": "markdown",
   "metadata": {},
   "source": [
    "**All data sets can be found in the ``datasets`` folder and are in comma separated value (CSV) format**"
   ]
  },
  {
   "cell_type": "markdown",
   "metadata": {},
   "source": [
    "## Problem 1: Recommender System for Movies\n",
    "\n",
    "In this problem, you will build a model to recommend movies using ratings from users. \n",
    "\n",
    "The dataset for this problem is contained in `dataset_4_ratings.txt`. This dataset contains ratings from 100 users for 1000 movies. The first two columns contain the user and movie IDs. The last column contains a 1 if the user liked the movie, and 0 otherwise. Not every movie is rated by every user (i.e. some movies have more ratings than others).\n",
    "\n",
    "The names of the movies corresponding to the IDs are provided in `dataset_4_movie_names.txt`."
   ]
  },
  {
   "cell_type": "markdown",
   "metadata": {},
   "source": [
    "### Step 1: Read the data and explore\n",
    "\n",
    "Let's get acquainted with our data."
   ]
  },
  {
   "cell_type": "code",
   "execution_count": 6,
   "metadata": {
    "collapsed": false
   },
   "outputs": [
    {
     "data": {
      "text/html": [
       "<div>\n",
       "<table border=\"1\" class=\"dataframe\">\n",
       "  <thead>\n",
       "    <tr style=\"text-align: right;\">\n",
       "      <th></th>\n",
       "      <th>user_id</th>\n",
       "      <th>movie_id</th>\n",
       "      <th>rating</th>\n",
       "    </tr>\n",
       "  </thead>\n",
       "  <tbody>\n",
       "    <tr>\n",
       "      <th>0</th>\n",
       "      <td>22.0</td>\n",
       "      <td>377.0</td>\n",
       "      <td>0.0</td>\n",
       "    </tr>\n",
       "    <tr>\n",
       "      <th>1</th>\n",
       "      <td>62.0</td>\n",
       "      <td>257.0</td>\n",
       "      <td>0.0</td>\n",
       "    </tr>\n",
       "    <tr>\n",
       "      <th>2</th>\n",
       "      <td>95.0</td>\n",
       "      <td>546.0</td>\n",
       "      <td>0.0</td>\n",
       "    </tr>\n",
       "    <tr>\n",
       "      <th>3</th>\n",
       "      <td>38.0</td>\n",
       "      <td>95.0</td>\n",
       "      <td>1.0</td>\n",
       "    </tr>\n",
       "    <tr>\n",
       "      <th>4</th>\n",
       "      <td>63.0</td>\n",
       "      <td>277.0</td>\n",
       "      <td>1.0</td>\n",
       "    </tr>\n",
       "  </tbody>\n",
       "</table>\n",
       "</div>"
      ],
      "text/plain": [
       "   user_id  movie_id  rating\n",
       "0     22.0     377.0     0.0\n",
       "1     62.0     257.0     0.0\n",
       "2     95.0     546.0     0.0\n",
       "3     38.0      95.0     1.0\n",
       "4     63.0     277.0     1.0"
      ]
     },
     "execution_count": 6,
     "metadata": {},
     "output_type": "execute_result"
    }
   ],
   "source": [
    "ratings_df = pd.read_csv('datasets/dataset_4_ratings.txt', delimiter=',')\n",
    "ratings_df.head()"
   ]
  },
  {
   "cell_type": "code",
   "execution_count": 7,
   "metadata": {
    "collapsed": false
   },
   "outputs": [
    {
     "data": {
      "text/html": [
       "<div>\n",
       "<table border=\"1\" class=\"dataframe\">\n",
       "  <thead>\n",
       "    <tr style=\"text-align: right;\">\n",
       "      <th></th>\n",
       "      <th>movie_id</th>\n",
       "      <th>movie_name</th>\n",
       "      <th>release_date</th>\n",
       "      <th>Unnamed: 3</th>\n",
       "      <th>link</th>\n",
       "      <th>Unnamed: 5</th>\n",
       "      <th>Unnamed: 6</th>\n",
       "      <th>Unnamed: 7</th>\n",
       "      <th>Unnamed: 8</th>\n",
       "      <th>Unnamed: 9</th>\n",
       "      <th>...</th>\n",
       "      <th>Unnamed: 15</th>\n",
       "      <th>Unnamed: 16</th>\n",
       "      <th>Unnamed: 17</th>\n",
       "      <th>Unnamed: 18</th>\n",
       "      <th>Unnamed: 19</th>\n",
       "      <th>Unnamed: 20</th>\n",
       "      <th>Unnamed: 21</th>\n",
       "      <th>Unnamed: 22</th>\n",
       "      <th>Unnamed: 23</th>\n",
       "      <th>Unnamed: 24</th>\n",
       "    </tr>\n",
       "  </thead>\n",
       "  <tbody>\n",
       "    <tr>\n",
       "      <th>0</th>\n",
       "      <td>1</td>\n",
       "      <td>Toy Story (1995)</td>\n",
       "      <td>01-Jan-1995</td>\n",
       "      <td>NaN</td>\n",
       "      <td>http://us.imdb.com/M/title-exact?Toy%20Story%2...</td>\n",
       "      <td>0</td>\n",
       "      <td>0</td>\n",
       "      <td>0</td>\n",
       "      <td>1</td>\n",
       "      <td>1</td>\n",
       "      <td>...</td>\n",
       "      <td>0</td>\n",
       "      <td>0</td>\n",
       "      <td>0</td>\n",
       "      <td>0</td>\n",
       "      <td>0</td>\n",
       "      <td>0</td>\n",
       "      <td>0</td>\n",
       "      <td>0</td>\n",
       "      <td>0</td>\n",
       "      <td>NaN</td>\n",
       "    </tr>\n",
       "    <tr>\n",
       "      <th>1</th>\n",
       "      <td>2</td>\n",
       "      <td>GoldenEye (1995)</td>\n",
       "      <td>01-Jan-1995</td>\n",
       "      <td>NaN</td>\n",
       "      <td>http://us.imdb.com/M/title-exact?GoldenEye%20(...</td>\n",
       "      <td>0</td>\n",
       "      <td>1</td>\n",
       "      <td>1</td>\n",
       "      <td>0</td>\n",
       "      <td>0</td>\n",
       "      <td>...</td>\n",
       "      <td>0</td>\n",
       "      <td>0</td>\n",
       "      <td>0</td>\n",
       "      <td>0</td>\n",
       "      <td>0</td>\n",
       "      <td>0</td>\n",
       "      <td>1</td>\n",
       "      <td>0</td>\n",
       "      <td>0</td>\n",
       "      <td>NaN</td>\n",
       "    </tr>\n",
       "    <tr>\n",
       "      <th>2</th>\n",
       "      <td>3</td>\n",
       "      <td>Four Rooms (1995)</td>\n",
       "      <td>01-Jan-1995</td>\n",
       "      <td>NaN</td>\n",
       "      <td>http://us.imdb.com/M/title-exact?Four%20Rooms%...</td>\n",
       "      <td>0</td>\n",
       "      <td>0</td>\n",
       "      <td>0</td>\n",
       "      <td>0</td>\n",
       "      <td>0</td>\n",
       "      <td>...</td>\n",
       "      <td>0</td>\n",
       "      <td>0</td>\n",
       "      <td>0</td>\n",
       "      <td>0</td>\n",
       "      <td>0</td>\n",
       "      <td>0</td>\n",
       "      <td>1</td>\n",
       "      <td>0</td>\n",
       "      <td>0</td>\n",
       "      <td>NaN</td>\n",
       "    </tr>\n",
       "    <tr>\n",
       "      <th>3</th>\n",
       "      <td>4</td>\n",
       "      <td>Get Shorty (1995)</td>\n",
       "      <td>01-Jan-1995</td>\n",
       "      <td>NaN</td>\n",
       "      <td>http://us.imdb.com/M/title-exact?Get%20Shorty%...</td>\n",
       "      <td>0</td>\n",
       "      <td>1</td>\n",
       "      <td>0</td>\n",
       "      <td>0</td>\n",
       "      <td>0</td>\n",
       "      <td>...</td>\n",
       "      <td>0</td>\n",
       "      <td>0</td>\n",
       "      <td>0</td>\n",
       "      <td>0</td>\n",
       "      <td>0</td>\n",
       "      <td>0</td>\n",
       "      <td>0</td>\n",
       "      <td>0</td>\n",
       "      <td>0</td>\n",
       "      <td>NaN</td>\n",
       "    </tr>\n",
       "    <tr>\n",
       "      <th>4</th>\n",
       "      <td>5</td>\n",
       "      <td>Copycat (1995)</td>\n",
       "      <td>01-Jan-1995</td>\n",
       "      <td>NaN</td>\n",
       "      <td>http://us.imdb.com/M/title-exact?Copycat%20(1995)</td>\n",
       "      <td>0</td>\n",
       "      <td>0</td>\n",
       "      <td>0</td>\n",
       "      <td>0</td>\n",
       "      <td>0</td>\n",
       "      <td>...</td>\n",
       "      <td>0</td>\n",
       "      <td>0</td>\n",
       "      <td>0</td>\n",
       "      <td>0</td>\n",
       "      <td>0</td>\n",
       "      <td>0</td>\n",
       "      <td>1</td>\n",
       "      <td>0</td>\n",
       "      <td>0</td>\n",
       "      <td>NaN</td>\n",
       "    </tr>\n",
       "  </tbody>\n",
       "</table>\n",
       "<p>5 rows × 25 columns</p>\n",
       "</div>"
      ],
      "text/plain": [
       "   movie_id         movie_name release_date  Unnamed: 3  \\\n",
       "0         1   Toy Story (1995)  01-Jan-1995         NaN   \n",
       "1         2   GoldenEye (1995)  01-Jan-1995         NaN   \n",
       "2         3  Four Rooms (1995)  01-Jan-1995         NaN   \n",
       "3         4  Get Shorty (1995)  01-Jan-1995         NaN   \n",
       "4         5     Copycat (1995)  01-Jan-1995         NaN   \n",
       "\n",
       "                                                link  Unnamed: 5  Unnamed: 6  \\\n",
       "0  http://us.imdb.com/M/title-exact?Toy%20Story%2...           0           0   \n",
       "1  http://us.imdb.com/M/title-exact?GoldenEye%20(...           0           1   \n",
       "2  http://us.imdb.com/M/title-exact?Four%20Rooms%...           0           0   \n",
       "3  http://us.imdb.com/M/title-exact?Get%20Shorty%...           0           1   \n",
       "4  http://us.imdb.com/M/title-exact?Copycat%20(1995)           0           0   \n",
       "\n",
       "   Unnamed: 7  Unnamed: 8  Unnamed: 9     ...       Unnamed: 15  Unnamed: 16  \\\n",
       "0           0           1           1     ...                 0            0   \n",
       "1           1           0           0     ...                 0            0   \n",
       "2           0           0           0     ...                 0            0   \n",
       "3           0           0           0     ...                 0            0   \n",
       "4           0           0           0     ...                 0            0   \n",
       "\n",
       "   Unnamed: 17  Unnamed: 18  Unnamed: 19  Unnamed: 20  Unnamed: 21  \\\n",
       "0            0            0            0            0            0   \n",
       "1            0            0            0            0            1   \n",
       "2            0            0            0            0            1   \n",
       "3            0            0            0            0            0   \n",
       "4            0            0            0            0            1   \n",
       "\n",
       "   Unnamed: 22  Unnamed: 23  Unnamed: 24  \n",
       "0            0            0          NaN  \n",
       "1            0            0          NaN  \n",
       "2            0            0          NaN  \n",
       "3            0            0          NaN  \n",
       "4            0            0          NaN  \n",
       "\n",
       "[5 rows x 25 columns]"
      ]
     },
     "execution_count": 7,
     "metadata": {},
     "output_type": "execute_result"
    }
   ],
   "source": [
    "names_df = pd.read_csv('datasets/dataset_4_movie_names.txt', delimiter='|')\n",
    "names_df.head()"
   ]
  },
  {
   "cell_type": "markdown",
   "metadata": {},
   "source": [
    "It looks like movie names appear in the `names` dataframe but not in the `rating` dataframe. So we forsee a challenge later to cross reference a movie's id with its name. After all, it'd be more helpful to see the names of the movies in the top 25!"
   ]
  },
  {
   "cell_type": "markdown",
   "metadata": {},
   "source": [
    "### Part 1(a): Exploring how to rank\n",
    "\n",
    "One way of recommending movies is to recommend movies that are generally agreed upon to be good. But how do we measure the \"goodness\" or \"likability\" of a movie?\n",
    "\n",
    "\n",
    "- **Implementation:** Suppose we measure the \"goodness\" of a movie by the probability that it will be liked by a user, $P(\\textbf{label} = \\text{like}|\\textbf{movie}) = \\theta_{\\text{movie}}$. Assuming that each user independently rates a given movie according to the probability $\\theta_{\\text{movies}}$. Use a reasonable estimate of $\\theta_{\\text{movies}}$ to build a list of top 25 movies that you would recommend to a new user.\n",
    "\n",
    "   **Hint:** What does the likelihood function, $P(\\textbf{likes} = k | \\theta_{\\text{movie}}, n, \\textbf{movie})$, look like? What $\\theta_{\\text{movie}}$ will maximize the likelihood?\n",
    "   \n",
    "\n",
    "- **Analysis:** Why is using $\\theta_{\\text{movie}}$ to rank movies more appropriate than using the total number of likes? Explain why your estimate of $\\theta_{\\text{movie}}$ is reasonable. Explain the potential draw backs of estimating $\\theta_{\\text{movie}}$ this way.\n",
    "\n",
    "   **Hint:** Under what conditions may models that maximize the likelihood be suboptimal? Do those conditions apply here?   "
   ]
  },
  {
   "cell_type": "code",
   "execution_count": 8,
   "metadata": {
    "collapsed": true
   },
   "outputs": [],
   "source": [
    "#--------  movie_stats\n",
    "# A function that extracts the number of likes and total number of ratings for a movie\n",
    "# Input: \n",
    "#      movie_name (an optional parameter containing the exact name of the movie)\n",
    "#      movie_name_contains (an optional parameter containing a portion of the name of the movie)\n",
    "# Returns: \n",
    "#      total_ratings (the total number of ratings for a movie)\n",
    "#      likes (the total number of likes for a movie)\n",
    "\n",
    "def movie_stats(movie_name=None, movie_name_contains=None):\n",
    "    \n",
    "    #If given an exact movie name:\n",
    "    if movie_name is not None:        \n",
    "        #Find the index of the movie, by name, in the \"names\" dataframe\n",
    "        movie_index = names_df[names_df['movie_name'] == movie_name].index[0]\n",
    "        #Get the id for the movie in the \"names\" dataframe\n",
    "        movie_id = names_df.loc[movie_index, 'movie_id']\n",
    "        #Get all ratings for the movie, by id, in the \"ratings\" dataframe\n",
    "        ratings_for_movie = ratings_df[ratings_df['movie_id'] == movie_id]\n",
    "        #Count the total number of ratings\n",
    "        total_ratings = len(ratings_for_movie)\n",
    "        #Count the likes (the 1's)\n",
    "        likes = ratings_for_movie['rating'].sum()\n",
    "    \n",
    "    #Otherwise, if given a partial movie name:\n",
    "    elif movie_name_contains is not None:\n",
    "        #Find the index of the movie, by name, in the \"names\" dataframe\n",
    "        movie_index = names_df[names_df['movie_name'].str.contains(movie_name_contains)].index[0]\n",
    "        #Get the id for the movie in the \"names\" dataframe\n",
    "        movie_id = names_df.loc[movie_index, 'movie_id']\n",
    "        #Get all ratings for the movie, by id, in the \"ratings\" dataframe\n",
    "        ratings_for_movie = ratings_df[ratings_df['movie_id'] == movie_id]\n",
    "        #Count the total number of ratings\n",
    "        total_ratings = len(ratings_for_movie)\n",
    "        #Count the likes (the 1's)\n",
    "        likes = ratings_for_movie['rating'].sum()\n",
    "    \n",
    "    else:\n",
    "        total_ratings = 0.\n",
    "        likes = 0.\n",
    "    \n",
    "    return float(total_ratings), likes"
   ]
  },
  {
   "cell_type": "markdown",
   "metadata": {},
   "source": [
    "Using the helper function above, let's check out the stats for a couple of movies:"
   ]
  },
  {
   "cell_type": "code",
   "execution_count": 10,
   "metadata": {
    "collapsed": false
   },
   "outputs": [
    {
     "name": "stdout",
     "output_type": "stream",
     "text": [
      "total number of ratings for Toy Story: 51.0\n",
      "number of likes for Toy Story: 38.0\n"
     ]
    }
   ],
   "source": [
    "total_ratings, likes = movie_stats(movie_name_contains='Toy Story')\n",
    "\n",
    "print 'total number of ratings for Toy Story:', total_ratings\n",
    "print 'number of likes for Toy Story:', likes"
   ]
  },
  {
   "cell_type": "code",
   "execution_count": 11,
   "metadata": {
    "collapsed": false
   },
   "outputs": [
    {
     "name": "stdout",
     "output_type": "stream",
     "text": [
      "total number of ratings for Star Wars: 39.0\n",
      "number of likes for Star Wars: 39.0\n"
     ]
    }
   ],
   "source": [
    "total_ratings, likes = movie_stats(movie_name_contains=\"Shawshank Redemption\")\n",
    "\n",
    "print 'total number of ratings for Star Wars:', total_ratings\n",
    "print 'number of likes for Star Wars:', likes"
   ]
  },
  {
   "cell_type": "code",
   "execution_count": 12,
   "metadata": {
    "collapsed": false
   },
   "outputs": [
    {
     "name": "stdout",
     "output_type": "stream",
     "text": [
      "total number of ratings for French Twist: 2.0\n",
      "number of likes for French Twist: 2.0\n"
     ]
    }
   ],
   "source": [
    "total_ratings, likes = movie_stats(movie_name_contains='French Twist')\n",
    "\n",
    "print 'total number of ratings for French Twist:', total_ratings\n",
    "print 'number of likes for French Twist:', likes"
   ]
  },
  {
   "cell_type": "markdown",
   "metadata": {},
   "source": [
    "Clearly, not all movies have the same number of ratings. Now, if we want to rank the movies by the total number of likes, we'd have to rank \"Toy Story\" and \"Shawshank Redemption\" as similarly likable. Does this seem fair to you? Meaning, does our ranking reflect the likability of the movie based on the complete ratings information?"
   ]
  },
  {
   "cell_type": "markdown",
   "metadata": {},
   "source": [
    "### Step 3: Implement a fairer ranking system\n",
    "\n",
    "Now, instead of using the total number of likes, we use the total percentage of likes to rank the movies. Why is total like-percentage a more reasonable metric for likability than total number of likes? There is an intuitive, layman's explanation for this choice and there is a formal probabilistic way of justifying this choice.\n",
    "\n",
    "So what does the top 25 movies loook like when we rank by like-percentage?"
   ]
  },
  {
   "cell_type": "code",
   "execution_count": 14,
   "metadata": {
    "collapsed": false
   },
   "outputs": [
    {
     "name": "stdout",
     "output_type": "stream",
     "text": [
      "Top 25 Movies\n",
      "****************************\n",
      "French Twist (Gazon maudit) (1995) : 1.0 (2.0/2.0)\n",
      "Exotica (1994) : 1.0 (2.0/2.0)\n",
      "Three Colors: Red (1994) : 1.0 (12.0/12.0)\n",
      "Three Colors: White (1994) : 1.0 (8.0/8.0)\n",
      "Shawshank Redemption, The (1994) : 1.0 (39.0/39.0)\n",
      "Brother Minister: The Assassination of Malcolm X (1994) : 1.0 (1.0/1.0)\n",
      "Carlito's Way (1993) : 1.0 (4.0/4.0)\n",
      "Robert A. Heinlein's The Puppet Masters (1994) : 1.0 (2.0/2.0)\n",
      "Horseman on the Roof, The (Hussard sur le toit, Le) (1995) : 1.0 (2.0/2.0)\n",
      "Wallace & Gromit: The Best of Aardman Animation (1996) : 1.0 (6.0/6.0)\n",
      "Maya Lin: A Strong Clear Vision (1994) : 1.0 (1.0/1.0)\n",
      "Unhook the Stars (1996) : 1.0 (1.0/1.0)\n",
      "Wrong Trousers, The (1993) : 1.0 (14.0/14.0)\n",
      "Godfather: Part II, The (1974) : 1.0 (18.0/18.0)\n",
      "Ridicule (1996) : 1.0 (5.0/5.0)\n",
      "Pillow Book, The (1995) : 1.0 (2.0/2.0)\n",
      "When the Cats Away (Chacun cherche son chat) (1996) : 1.0 (3.0/3.0)\n",
      "unknown : 1.0 (2.0/2.0)\n",
      "Once Upon a Time... When We Were Colored (1995) : 1.0 (2.0/2.0)\n",
      "Assignment, The (1997) : 1.0 (1.0/1.0)\n",
      "Wonderland (1997) : 1.0 (2.0/2.0)\n",
      "Incognito (1997) : 1.0 (1.0/1.0)\n",
      "Blues Brothers 2000 (1998) : 1.0 (2.0/2.0)\n",
      "Fear of a Black Hat (1993) : 1.0 (2.0/2.0)\n",
      "To Catch a Thief (1955) : 1.0 (6.0/6.0)\n"
     ]
    }
   ],
   "source": [
    "#Make a list of movie names and their ratings info\n",
    "likability = []\n",
    "\n",
    "#Iterate through all the movie names\n",
    "for name in names_df['movie_name'].values:\n",
    "    #Get ratings info for movie\n",
    "    total_ratings, likes = movie_stats(movie_name=name)\n",
    "    #Add movie info to our list\n",
    "    likability.append((name, likes, total_ratings, likes / total_ratings))\n",
    "\n",
    "#Sort our list of movie info by like-percentage, in descending order\n",
    "sorted_likability = sorted(likability, key=lambda t: t[3], reverse=True)  \n",
    "#Get the movies with top 25 like-percentage\n",
    "top_25_movies = sorted_likability[:25]\n",
    "\n",
    "#Print results of ranking\n",
    "print 'Top 25 Movies'\n",
    "print '****************************'\n",
    "for movie, likes, total_ratings, likable in top_25_movies:\n",
    "    print movie, ':', likable, '({}/{})'.format(likes, total_ratings)"
   ]
  },
  {
   "cell_type": "markdown",
   "metadata": {},
   "source": [
    "We notice that \"Shawshank Redemption\" now far out ranks \"Toy Story\". This seems more reasonable. On the other hand, \"French Twist\" also, now, far out ranks \"Toy Story\". Does this seem fair? In fact, take a look at your top 25 movies, do you feel like this list best represents the most \"popular\" or \"beloved\" movies in the database? If not, why isn't our ranking system doing a good job (what's wrong with ranking by like-percentage)?"
   ]
  },
  {
   "cell_type": "markdown",
   "metadata": {},
   "source": [
    "### Part 1(b): Exploring the effect of prior beliefs\n",
    "\n",
    "Let's add a prior, $p(\\theta_{\\text{movie}})$, to our probabilistic model for movie rating. To keep things simple, we will restrict ourselves to using beta priors.\n",
    "\n",
    "- **Analysis:** How might adding a prior to our model benifit us in our specific task? Why are beta distributions appropriate priors for our application?\n",
    "\n",
    "  **Hint:** Try visualizing beta priors $a = b = 1$, $a = b = 0.5$, $a = b = 2$ and $a = 4, b = 2$, for example, what kind of plain-English prior beliefs about the movie does each beta pdf encode?\n",
    "\n",
    "\n",
    "- **Implementation/Analysis:** How does the choice of prior affect the posterior distribution of the 'likability' for the movies: *Toy Story, Star Wars, The Shawshank Redemption, Down Periscope and Chain Reaction*.\n",
    "\n",
    "   **Hint:** Use our posterior sampling function to visualize the posterior distribution.\n",
    "   \n",
    " \n",
    "- **Implementation/Analysis:** How does the effect of the prior on the posterior distribution vary with the number of user ratings? \n",
    "\n",
    "   **Hint:** Visualize the posterior distribution for different sizes of subsample of user ratings for the movie *Star Wars*.\n",
    "   \n",
    "In the following, we've provide you a couple of functions for visualize beta priors and approximating their associated posteriors."
   ]
  },
  {
   "cell_type": "code",
   "execution_count": 17,
   "metadata": {
    "collapsed": false
   },
   "outputs": [],
   "source": [
    "#--------  plot_beta_prior\n",
    "# A function to visualize a beta pdf on a set of axes\n",
    "# Input: \n",
    "#      a (parameter controlling shape of beta prior)\n",
    "#      b (parameter controlling shape of beta prior)\n",
    "#      color (color of beta pdf)\n",
    "#      ax (axes on which to plot pdf)\n",
    "# Returns: \n",
    "#      ax (axes with plot of beta pdf)\n",
    "\n",
    "def plot_beta_prior(a, b, color, ax):\n",
    "    rv = sp.stats.beta(a, b)\n",
    "    x = np.linspace(0, 1, 100)\n",
    "    ax.plot(x, rv.pdf(x), '-', lw=2, color=color, label='a=' + str(a) + ', b=' + str(b))\n",
    "    ax.set_title('Beta prior with a=' + str(a) + ', b=' + str(b))\n",
    "    ax.legend(loc='best')\n",
    "    return ax"
   ]
  },
  {
   "cell_type": "code",
   "execution_count": 18,
   "metadata": {
    "collapsed": false
   },
   "outputs": [],
   "source": [
    "#--------  sample_posterior\n",
    "# A function that samples points from the posterior over a movie's \n",
    "# likability, given a binomial likelihood function and beta prior\n",
    "# Input: \n",
    "#      a (parameter controlling shape of beta prior)\n",
    "#      b (parameter controlling shape of beta prior)\n",
    "#      likes (the number of likes in likelihood)\n",
    "#      ratings (total number of ratings in likelihood)\n",
    "#      n_samples (number of samples to take from posterior)\n",
    "# Returns: \n",
    "#      post_samples (a array of points from the posterior)\n",
    "\n",
    "def sample_posterior(a, b, likes, ratings, n_samples):\n",
    "    post_samples = np.random.beta(a + likes, b + ratings - likes, n_samples)\n",
    "    return post_samples"
   ]
  },
  {
   "cell_type": "code",
   "execution_count": 19,
   "metadata": {
    "collapsed": true
   },
   "outputs": [],
   "source": [
    "#--------  find_mode\n",
    "# A function that approximates the mode of a distribution given a sample from the distribution\n",
    "# Input: \n",
    "#      values (samples from the distribution)\n",
    "#      num_bins (number of bins to use in approximating histogram)\n",
    "# Returns: \n",
    "#      mode (the approximate mode of the distribution)\n",
    "\n",
    "def find_mode(values, num_bins):\n",
    "    \n",
    "    #Make an approximation (histogram) of the distribution using the samples\n",
    "    bins, edges = np.histogram(values, bins=num_bins)\n",
    "    #Find the bin in the histogram with the max height\n",
    "    max_height_index = np.argmax(bins)\n",
    "    #Find the sample corresponding to the bin with the max height (the mode)\n",
    "    mode = (edges[max_height_index] + edges[max_height_index + 1]) / 2.\n",
    "    \n",
    "    return mode"
   ]
  },
  {
   "cell_type": "markdown",
   "metadata": {},
   "source": [
    "First, let's explore the shapes of various beta pdfs and let's interpret these shapes as prior beliefs (stated in plain English)."
   ]
  },
  {
   "cell_type": "code",
   "execution_count": 20,
   "metadata": {
    "collapsed": false
   },
   "outputs": [
    {
     "data": {
      "image/png": "[encoded data removed]",
      "text/plain": [
       "<matplotlib.figure.Figure at 0x11aa94ad0>"
      ]
     },
     "metadata": {},
     "output_type": "display_data"
    }
   ],
   "source": [
    "#A list of beta distribution shapes to try out\n",
    "beta_shapes = [(1, 1), (0.5, 0.5), (2, 2), (4, 2), (2, 4)]\n",
    "#Length of the list of shapes\n",
    "n = len(beta_shapes)\n",
    "\n",
    "#Plot all the beta pdfs in a row\n",
    "fig, ax = plt.subplots(1, n, figsize=(20, 4))\n",
    "\n",
    "#Start the index of the current subplot at 0\n",
    "ax_ind = 0\n",
    "#Iterate through all the shapes\n",
    "for a, b in beta_shapes:\n",
    "    #Plot the beta pdf for a particular shape\n",
    "    plot_beta_prior(a, b, 'blue', ax[ax_ind])\n",
    "    #Increment the subplot index\n",
    "    ax_ind += 1\n",
    "    \n",
    "plt.tight_layout()    \n",
    "plt.show() "
   ]
  },
  {
   "cell_type": "markdown",
   "metadata": {},
   "source": [
    "So, which beta prior encodes an appropriate belief about likability? If this is a difficult question to answer, let's look at the effect of the priors on the posterior (i.e. the likelihood of a particular \"likelihood\" given a set of observed ratings). "
   ]
  },
  {
   "cell_type": "code",
   "execution_count": 22,
   "metadata": {
    "collapsed": false
   },
   "outputs": [
    {
     "name": "stdout",
     "output_type": "stream",
     "text": [
      "French Twist (Gazon maudit) (1995): 1.0 (2.0/2.0)\n"
     ]
    },
    {
     "data": {
      "image/png": "[encoded data removed]",
      "text/plain": [
       "<matplotlib.figure.Figure at 0x11a656490>"
      ]
     },
     "metadata": {},
     "output_type": "display_data"
    }
   ],
   "source": [
    "#Get the name of the first movie in the top 25 list\n",
    "movie_name = top_25_movies[0][0]\n",
    "\n",
    "#Get the ratings info for the first movie in the top 25 list\n",
    "likes = top_25_movies[0][1]\n",
    "total_ratings = top_25_movies[0][2]\n",
    "likability = top_25_movies[0][3]\n",
    "\n",
    "#Print movie info\n",
    "print '{}: {} ({}/{})'.format(movie_name, likability, likes, total_ratings)\n",
    "\n",
    "#Number of samples to use when approximating our posterior\n",
    "n_samples = 10000\n",
    "\n",
    "#Plot the posterior corresponding to each prior\n",
    "fig, ax = plt.subplots(1, n, figsize=(20, 4))\n",
    "\n",
    "#Start the index of the current subplot at 0\n",
    "ax_ind = 0\n",
    "\n",
    "#Iterate through all the shapes\n",
    "for a, b in beta_shapes:   \n",
    "    #Draw samples from the posterior corresponding to a particular beta prior\n",
    "    post_samples = sample_posterior(a, b, likes, total_ratings, n_samples)\n",
    "    #Approximate the posterior with a histogram of these samples\n",
    "    ax[ax_ind].hist(post_samples, bins=30, color='red', alpha=0.5)\n",
    "    #Find the approximate mode of the posterior\n",
    "    mode = find_mode(post_samples, 30)\n",
    "    #Plot the mode as a vertical line\n",
    "    ax[ax_ind].axvline(x=mode, linewidth=3, label='Posterior mode')\n",
    "    \n",
    "    #Set title, legends etc\n",
    "    ax[ax_ind].set_title('Posterior, with Beta prior (a={}, b={})'.format(a, b))\n",
    "    ax[ax_ind].legend(loc='best')\n",
    "    #Increment the subplot index\n",
    "    ax_ind += 1\n",
    "\n",
    "plt.tight_layout()\n",
    "plt.show() "
   ]
  },
  {
   "cell_type": "markdown",
   "metadata": {},
   "source": [
    "### Part 1(c): Recommendation based on ranking\n",
    "\n",
    "- **Implementation:** Choose a reasonable beta prior, choose a reasonable statistic to compute from the posterior, and then build a list of top 25 movies that you would recommend to a new user based on your chosen posterior statistic.  \n",
    "\n",
    " \n",
    "- **Analysis:** How does your top 25 movies compare with the list you obtained in part(a)? Which method of ranking is better?\n",
    "\n",
    " \n",
    "- **Analysis:** So far, our estimates of the 'likability' for a movie was based on the ratings provided by all users. What can be the draw back of this method? How can we improve the recommender system for individual users (if you feel up to the challenge, implement your improved system and compare it to the one you built in the above)? "
   ]
  },
  {
   "cell_type": "code",
   "execution_count": 23,
   "metadata": {
    "collapsed": false
   },
   "outputs": [
    {
     "name": "stdout",
     "output_type": "stream",
     "text": [
      "Top 25 Movies\n",
      "****************************\n",
      "Shawshank Redemption, The (1994) : 0.975327808375 (39.0/39.0)\n",
      "Manchurian Candidate, The (1962) : 0.950063466983 (17.0/17.0)\n",
      "Cool Hand Luke (1967) : 0.948468890672 (20.0/20.0)\n",
      "Glory (1989) : 0.945486566774 (17.0/17.0)\n",
      "Raiders of the Lost Ark (1981) : 0.943492205147 (47.0/49.0)\n",
      "Wrong Trousers, The (1993) : 0.940499829245 (14.0/14.0)\n",
      "Godfather: Part II, The (1974) : 0.93802445505 (18.0/18.0)\n",
      "Three Colors: Red (1994) : 0.934210166994 (12.0/12.0)\n",
      "Casablanca (1942) : 0.931484204935 (22.0/23.0)\n",
      "Third Man, The (1949) : 0.929877053484 (9.0/9.0)\n",
      "Local Hero (1983) : 0.926635005837 (10.0/10.0)\n",
      "Vertigo (1958) : 0.926450980876 (22.0/23.0)\n",
      "Killing Fields, The (1984) : 0.919546331906 (14.0/14.0)\n",
      "Thin Man, The (1934) : 0.913710481919 (8.0/8.0)\n",
      "High Noon (1952) : 0.910496180796 (11.0/11.0)\n",
      "Alien (1979) : 0.908613036841 (28.0/30.0)\n",
      "Taxi Driver (1976) : 0.906308555558 (17.0/18.0)\n",
      "Three Colors: White (1994) : 0.900175720592 (8.0/8.0)\n",
      "Close Shave, A (1995) : 0.899306370575 (16.0/17.0)\n",
      "Usual Suspects, The (1995) : 0.898826963258 (27.0/29.0)\n",
      "Henry V (1989) : 0.896698303844 (16.0/17.0)\n",
      "This Is Spinal Tap (1984) : 0.892984500069 (24.0/26.0)\n",
      "East of Eden (1955) : 0.89181230691 (8.0/8.0)\n",
      "39 Steps, The (1935) : 0.891008135704 (7.0/7.0)\n",
      "Chinatown (1974) : 0.889559268551 (14.0/15.0)\n"
     ]
    }
   ],
   "source": [
    "#Choose a beta prior that encodes a reasonable belief about likability \n",
    "a = 2 \n",
    "b = 2\n",
    "\n",
    "#Make a list of movie names and their ratings info\n",
    "likability = []\n",
    "\n",
    "#Iterate through all the movie names\n",
    "for name in names_df['movie_name'].values:\n",
    "    #Get ratings info for movie\n",
    "    total_ratings, likes = movie_stats(movie_name=name)\n",
    "    #Approximate the posterior given the ratings info and the prior\n",
    "    post_samples = sample_posterior(a, b, likes, total_ratings, n_samples)\n",
    "    #Approximate posterior mode\n",
    "    mode = find_mode(post_samples, 30)\n",
    "    #Add movie info to our list\n",
    "    likability.append((name, likes, total_ratings, mode))\n",
    "\n",
    "#Sort our list of movie info by like-percentage, in descending order\n",
    "sorted_likability = sorted(likability, key=lambda t: t[3], reverse=True)  \n",
    "#Get the movies with top 25 like-percentage\n",
    "top_25_movies = sorted_likability[:25]\n",
    "\n",
    "#Print results of ranking\n",
    "print 'Top 25 Movies'\n",
    "print '****************************'\n",
    "for movie, likes, total_ratings, likable in top_25_movies:\n",
    "    print movie, ':', likable, '({}/{})'.format(likes, total_ratings)"
   ]
  },
  {
   "cell_type": "markdown",
   "metadata": {},
   "source": [
    "So while \"Shawshank Redemption\" is still highly ranked, \"French Twist\" no longer appears on our top 25. This at least seems more intuitive."
   ]
  },
  {
   "cell_type": "markdown",
   "metadata": {},
   "source": [
    "---"
   ]
  },
  {
   "cell_type": "markdown",
   "metadata": {},
   "source": [
    "## Problem 2: Predicting Urban Demographic Changes\n",
    "\n",
    "### Part 2(a): Temporal patterns in urban demographics\n",
    "\n",
    "In this problem you'll work with some neighborhood demographics of a region in Boston from the years 2000 to 2010. \n",
    "\n",
    "The data you need are in the files `dataset_1_year_2000.txt`, ..., `dataset_1_year_2010.txt`. The first two columns of each dataset contain the adjusted latitude and longitude of some randomly sampled houses. The last column contains economic status of a household: \n",
    "\n",
    "0: low-income, \n",
    "\n",
    "1: middle-class, \n",
    "\n",
    "2: high-income \n",
    "\n",
    "Due to the migration of people in and out of the city, the distribution of each economic group over this region changes over the years. The city of Boston estimates that in this region there is approximately a 25% yearly increase in high-income households; and a 25% decrease in the remaining population, with the decrease being roughly the same amongst both the middle class and lower income households.\n",
    "\n",
    "Your task is to build a model for the city of Boston that is capable of predicting the economic status of a household based on its geographical location. Furthermore, your method of prediction must be accurate over time (through 2010 and beyond). \n",
    "\n",
    "**Hint:** look at data only from 2000, and consider using both Linear Discriminant Analysis (LDA) and Logistic Regression. Is there a reason one method would more suited than the other for this task?\n",
    "\n",
    "**Hint:** how well do your two models do over the years? Is it possible to make use of the estimated yearly changes in proportions of the three demographic groups to improve the predictive accuracy of each models over the years? \n",
    "\n",
    "To help you visually interpret and assess the quality of your classifiers, we are providing you a function to visualize a set of data along with the decision boundaries of a classifier."
   ]
  },
  {
   "cell_type": "code",
   "execution_count": 1,
   "metadata": {
    "collapsed": true
   },
   "outputs": [],
   "source": [
    "#--------  plot_decision_boundary\n",
    "# A function that visualizes the data and the decision boundaries\n",
    "# Input: \n",
    "#      x (predictors)\n",
    "#      y (labels)\n",
    "#      poly_flag (a boolean parameter, fits quadratic model if true, otherwise linear)\n",
    "#      title (title for plot)\n",
    "#      ax (a set of axes to plot on)\n",
    "# Returns: \n",
    "#      ax (axes with data and decision boundaries)\n",
    "\n",
    "def plot_decision_boundary(x, y, model, poly_flag, title, ax):\n",
    "    # Plot data\n",
    "    ax.scatter(x[y == 1, 0], x[y == 1, 1], c='b')\n",
    "    ax.scatter(x[y == 0, 0], x[y == 0, 1], c='r')\n",
    "    \n",
    "    # Create mesh\n",
    "    interval = np.arange(0,1,0.01)\n",
    "    n = size(interval)\n",
    "    x1, x2 = meshgrid(interval, interval)\n",
    "    x1 = x1.reshape(-1, 1)\n",
    "    x2 = x2.reshape(-1, 1)\n",
    "    xx = np.concatenate((x1, x2), axis=1)\n",
    "\n",
    "    # Predict on mesh points\n",
    "    if(poly_flag):\n",
    "        quad_features = preprocessing.PolynomialFeatures(degree=2)\n",
    "        xx = quad_features.fit_transform(xx)\n",
    "    yy = model.predict(xx)    \n",
    "    yy = yy.reshape((n, n))\n",
    "\n",
    "    # Plot decision surface\n",
    "    x1 = x1.reshape(n, n)\n",
    "    x2 = x2.reshape(n, n)\n",
    "    ax.contourf(x1, x2, yy, alpha=0.1)\n",
    "    \n",
    "    # Label axes, set title\n",
    "    ax.set_title(title)\n",
    "    ax.set_xlabel('Latitude')\n",
    "    ax.set_ylabel('Longitude')\n",
    "    \n",
    "    return ax"
   ]
  },
  {
   "cell_type": "markdown",
   "metadata": {},
   "source": [
    "### Part 2(b): Geographic patterns in urban demographics\n",
    "\n",
    "In `dataset_2.txt` and `dataset_3.txt` you have the demographic information for a random sample of houses in two regions in Cambridge. There are only two economic brackets for the households in these datasets: \n",
    "\n",
    "0: low-income or middle-class, \n",
    "\n",
    "1 - high-income. \n",
    "\n",
    "For each region, recommend a classification model, chosen from all the ones you have learned, that is most appropriate for classifying the demographics of households in the region.\n",
    "\n",
    "**Hint:** Support your answers with both numerical and visual analysis."
   ]
  },
  {
   "cell_type": "markdown",
   "metadata": {},
   "source": [
    "---"
   ]
  },
  {
   "cell_type": "markdown",
   "metadata": {},
   "source": [
    "## Challenge Problem: Regularization\n",
    "\n",
    "We have seen ways to include different forms of regularizations in Linear regression and Logistic regression, in order to avoid overfitting. We will now explore ways to incorporate regularization within the discriminant analysis framework.\n",
    "\n",
    "- When we have a small training sample, we end up with poor estimates of the class proportions $\\pi_i$ and covariance matrices $\\Sigma$. How can we regularize these quantities to improve the quality of the fitted model?\n",
    "\n",
    "\n",
    "- We have seen that different assumptions on the covariance matrix results in either a linear or quadratic decision boundary. While the former may yield poor prediction accuracy, the latter could lead to over-fitting. Can you think of a suitable way to regularize the covariance to have an intermediate fit?\n",
    "\n",
    "The solutions that you suggest must include a parameter that allows us to control the amount of regularization.\n",
    "\n",
    "Be detailed in your explanation and support your reasoning fully. You do not, however, need to implement any of these solutions."
   ]
  }
 ],
 "metadata": {
  "anaconda-cloud": {},
  "kernelspec": {
   "display_name": "Python [Root]",
   "language": "python",
   "name": "Python [Root]"
  },
  "language_info": {
   "codemirror_mode": {
    "name": "ipython",
    "version": 2
   },
   "file_extension": ".py",
   "mimetype": "text/x-python",
   "name": "python",
   "nbconvert_exporter": "python",
   "pygments_lexer": "ipython2",
   "version": "2.7.12"
  }
 },
 "nbformat": 4,
 "nbformat_minor": 0
}
