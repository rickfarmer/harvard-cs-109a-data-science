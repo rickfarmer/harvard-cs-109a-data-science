{
 "cells": [
  {
   "cell_type": "markdown",
   "metadata": {},
   "source": [
    "# CS 109A/AC 209A/STAT 121A Data Science: Homework 3 (Solutions)\n",
    "**Harvard University**<br>\n",
    "**Fall 2016**<br>\n",
    "**Instructors: W. Pan, P. Protopapas, K. Rader**<br>\n",
    "**Due Date: ** Wednesday, September 28th, 2016 at 11:59pm"
   ]
  },
  {
   "cell_type": "markdown",
   "metadata": {},
   "source": [
    "Download the `IPython` notebook as well as the data file from Vocareum and complete locally.\n",
    "\n",
    "To submit your assignment, in Vocareum, upload (using the 'Upload' button on your Jupyter Dashboard) your solution to Vocareum as a single notebook with following file name format:\n",
    "\n",
    "`last_first_CourseNumber_HW3.ipynb`\n",
    "\n",
    "where `CourseNumber` is the course in which you're enrolled (CS 109a, Stats 121a, AC 209a). Submit your assignment in Vocareum using the 'Submit' button.\n",
    "\n",
    "**Avoid editing your file in Vocareum after uploading. If you need to make a change in a solution. Delete your old solution file from Vocareum and upload a new solution. Click submit only ONCE after verifying that you have uploaded the correct file. The assignment will CLOSE after you click the submit button.**\n",
    "\n",
    "Problems on homework assignments are equally weighted. The Challenge Question is required for AC 209A students and optional for all others. Student who complete the Challenge Problem as optional extra credit will receive +0.5% towards your final grade for each correct solution. "
   ]
  },
  {
   "cell_type": "markdown",
   "metadata": {},
   "source": [
    "Import libraries"
   ]
  },
  {
   "cell_type": "code",
   "execution_count": 1,
   "metadata": {
    "collapsed": false
   },
   "outputs": [],
   "source": [
    "import numpy as np\n",
    "import pandas as pd\n",
    "from sklearn.linear_model import LinearRegression as Lin_Reg\n",
    "import matplotlib\n",
    "import matplotlib.pyplot as plt\n",
    "import matplotlib.cm as cmx\n",
    "import matplotlib.colors as colors\n",
    "import statsmodels.api as sm\n",
    "import scipy as sp\n",
    "%matplotlib inline"
   ]
  },
  {
   "cell_type": "markdown",
   "metadata": {},
   "source": [
    "## Problem 0: Basic Information\n",
    "\n",
    "Fill in your basic information. \n",
    "\n",
    "### Part (a): Your name"
   ]
  },
  {
   "cell_type": "markdown",
   "metadata": {},
   "source": [
    "[Last, First]"
   ]
  },
  {
   "cell_type": "markdown",
   "metadata": {},
   "source": [
    "### Part (b): Course Number"
   ]
  },
  {
   "cell_type": "markdown",
   "metadata": {},
   "source": [
    "[CS 109a or STATS 121a or AC 209a]"
   ]
  },
  {
   "cell_type": "markdown",
   "metadata": {},
   "source": [
    "### Part (c): Who did you work with?"
   ]
  },
  {
   "cell_type": "markdown",
   "metadata": {},
   "source": [
    "[First and Land names of students with whom you have collaborated]"
   ]
  },
  {
   "cell_type": "markdown",
   "metadata": {},
   "source": [
    "**All data sets can be found in the ``datasets`` folder and are in comma separated value (CSV) format**"
   ]
  },
  {
   "cell_type": "markdown",
   "metadata": {},
   "source": [
    "## Problem 1: Multiple linear regression\n",
    "\n",
    "### Part (a): Implement multiple linear regression from scratch\n",
    "\n",
    "You are provided a data set containing attributes related to automobiles as well as their corresponding prices. The task is to build a linear regression model from scratch that can estimate the price of an automobile (response variable) using its attributes (predictor variables).\n",
    "\n",
    "The file ``dataset_1_train.txt`` contains the training set that you can use to fit a regression model, and the file ``dataset_1_test.txt`` contains the test set that you can use to evaluate the model. In each file, the first two columns contain the predictors of the automobile, namely ``'horsepower'`` and ``'highway MPG'``, and the last column contains the automobile prices.\n",
    "\n",
    "- Implement the following two functions from scratch. \n",
    "\n",
    "    - ``multiple_linear_regression_fit``:\n",
    "\n",
    "        - takes as input: the training set, ``x_train``, ``y_train``\n",
    "\n",
    "        - fits a multiple linear regression model\n",
    "\n",
    "        - returns the model parameters (coefficients on the predictors, as an array, and the intercept, as a float).\n",
    "\n",
    "    - ``multiple_linear_regression_score``:\n",
    "\n",
    "        - takes model parameters (coefficients and intercept) and the test set, ``x_test`` ``y_test``, as inputs\n",
    "\n",
    "        - returns the R^2 score for the model on the test set, along with the predicted y-values.\n",
    "        \n",
    "- Use your functions to predict automobile prices and evaluate your predictions.\n",
    "\n",
    "**Note:** You **may not** use pre-built models or model evaluators for these tasks."
   ]
  },
  {
   "cell_type": "markdown",
   "metadata": {},
   "source": [
    "**Solution:**"
   ]
  },
  {
   "cell_type": "code",
   "execution_count": 3,
   "metadata": {
    "collapsed": false
   },
   "outputs": [],
   "source": [
    "### Functions for fitting and evaluating multiple linear regression\n",
    "\n",
    "#--------  multiple_linear_regression_fit\n",
    "# A function for fitting a multiple linear regression\n",
    "# Fitted model: f(x) = x.w + c\n",
    "# Input: \n",
    "#      x_train (n x d array of predictors in training data)\n",
    "#      y_train (n x 1 array of response variable vals in training data)\n",
    "# Return: \n",
    "#      w (d x 1 array of coefficients) \n",
    "#      c (float representing intercept)\n",
    "\n",
    "def multiple_linear_regression_fit(x_train, y_train):\n",
    "    \n",
    "    # Append a column of one's to x\n",
    "    n = x_train.shape[0]\n",
    "    ones_col = np.ones((n, 1))\n",
    "    x_train = np.concatenate((x_train, ones_col), axis=1)\n",
    "    \n",
    "    # Compute transpose of x\n",
    "    x_transpose = np.transpose(x_train)\n",
    "    \n",
    "    # Compute coefficients: w = inv(x^T * x) x^T * y\n",
    "    # Compute intermediate term: inv(x^T * x)\n",
    "    # Note: We have to take pseudo-inverse (pinv), just in case x^T * x is not invertible \n",
    "    x_t_x_inv = np.linalg.pinv(np.dot(x_transpose, x_train))\n",
    "    \n",
    "    # Compute w: inter_term * x^T * y \n",
    "    w = np.dot(np.dot(x_t_x_inv, x_transpose), y_train)\n",
    "    \n",
    "    # Obtain intercept: 'c' (last index)\n",
    "    c = w[-1]\n",
    "    \n",
    "    return w[:-1], c\n",
    "\n",
    "#--------  multiple_linear_regression_score\n",
    "# A function for evaluating R^2 score and MSE \n",
    "# of the linear regression model on a data set\n",
    "# Input: \n",
    "#      w (d x 1 array of coefficients)\n",
    "#      c (float representing intercept)\n",
    "#      x_test (n x d array of predictors in testing data)\n",
    "#      y_test (n x 1 array of response variable vals in testing data)\n",
    "# Return: \n",
    "#      r_squared (float) \n",
    "#      y_pred (n x 1 array of predicted y-vals)\n",
    "\n",
    "def multiple_linear_regression_score(w, c, x_test, y_test):        \n",
    "    # Compute predicted labels\n",
    "    y_pred = np.dot(x_test, w) + c\n",
    "    \n",
    "    # Evaluate sqaured error, against target labels\n",
    "    # sq_error = \\sum_i (y[i] - y_pred[i])^2\n",
    "    sq_error = np.sum(np.square(y_test - y_pred))\n",
    "    \n",
    "    # Evaluate squared error for a predicting the mean value, against target labels\n",
    "    # variance = \\sum_i (y[i] - y_mean)^2\n",
    "    y_mean = np.mean(y_test)\n",
    "    y_variance = np.sum(np.square(y_test - y_mean))\n",
    "    \n",
    "    # Evaluate R^2 score value\n",
    "    r_squared = 1 - sq_error / y_variance\n",
    "\n",
    "    return r_squared, y_pred"
   ]
  },
  {
   "cell_type": "code",
   "execution_count": 3,
   "metadata": {
    "collapsed": false,
    "scrolled": true
   },
   "outputs": [
    {
     "name": "stdout",
     "output_type": "stream",
     "text": [
      "R^2 score on test set: 0.177944627327\n"
     ]
    }
   ],
   "source": [
    "# Load train and test data sets\n",
    "data_train = np.loadtxt('datasets/dataset_1_train.txt', delimiter=',', skiprows=1)\n",
    "data_test = np.loadtxt('datasets/dataset_1_test.txt', delimiter=',', skiprows=1)\n",
    "\n",
    "# Split predictors from response\n",
    "# Training\n",
    "y_train = data_train[:, -1]\n",
    "x_train = data_train[:, :-1]\n",
    "\n",
    "# Testing\n",
    "y_test = data_test[:, -1]\n",
    "x_test = data_test[:, :-1]\n",
    "\n",
    "# Fit multiple linear regression model\n",
    "w, c = multiple_linear_regression_fit(x_train, y_train)\n",
    "\n",
    "# Evaluate model\n",
    "r_squared, _ = multiple_linear_regression_score(w, c, x_test, y_test)\n",
    "\n",
    "print 'R^2 score on test set:', r_squared"
   ]
  },
  {
   "cell_type": "markdown",
   "metadata": {},
   "source": [
    "### Part (b): Confidence interval on regression parameters\n",
    "Using your linear regression implementation from Part (a), model the data in ``dataset_2.txt``, which contains five predictor variables in the first five columns, and the response variable in the last column.\n",
    "\n",
    "Compute confidence intervals for the model parameters you obtain:\n",
    "\n",
    "- Create 200 random subsamples of the data set of size 100, and use your function to fit a multiple linear regression model to each subsample. \n",
    "\n",
    "- For each coefficient on the predictor variables: plot a histogram of the values obtained across the subsamples, and calculate the confidence interval for the coefficients at a confidence level of 95%. \n",
    "\n",
    "- Highlight the mean coeffcient values and the end points of the confidence intervals using vertical lines on the histogram plot. How large is the spread of the coefficient values in the histograms, and how tight are the confidence intervals?\n",
    "\n",
    "- Use the formula for computing confidence intervals provided in class (or use ``statmodels``) to compute the the confidence intervals. Compare confidence intervals you find through simulation to the ones given by the formula (or ``statmodels``), are your results what you would expect?\n",
    "\n",
    "**Note:** You **may not** use pre-built models or model evaluators for these tasks."
   ]
  },
  {
   "cell_type": "markdown",
   "metadata": {},
   "source": [
    "**Solution:**"
   ]
  },
  {
   "cell_type": "code",
   "execution_count": 4,
   "metadata": {
    "collapsed": false,
    "scrolled": true
   },
   "outputs": [
    {
     "name": "stdout",
     "output_type": "stream",
     "text": [
      "Linear regression with all predictors\n"
     ]
    },
    {
     "data": {
      "image/png": "[encoded data removed]",
      "text/plain": [
       "<matplotlib.figure.Figure at 0x112261fd0>"
      ]
     },
     "metadata": {},
     "output_type": "display_data"
    }
   ],
   "source": [
    "# Load train set\n",
    "data = np.loadtxt(\"datasets/dataset_2.txt\", delimiter=',', skiprows = 1)\n",
    "\n",
    "# Size of data set, and subsample (10%)\n",
    "x = data[:, :-1]\n",
    "y = data[:, -1]\n",
    "\n",
    "# Record size of the data set\n",
    "n = x.shape[0]\n",
    "d = x.shape[1]\n",
    "subsample_size = 100\n",
    "\n",
    "# No. of subsamples\n",
    "num_samples = 200\n",
    "    \n",
    "### Linear regression with all 5 predictors\n",
    "\n",
    "# Create a n x d array to store coefficients for 100 subsamples\n",
    "coefs_multiple = np.zeros((num_samples, d))\n",
    "\n",
    "print 'Linear regression with all predictors'\n",
    "\n",
    "# Repeat for 200 subsamples\n",
    "for i in range(num_samples):\n",
    "    # Generate a random subsample of 50 data points\n",
    "    perm = np.random.permutation(n) # Generate a list of indices 0 to n and permute it\n",
    "    x_subsample = x[perm[:subsample_size], :] # Get x-vals for the first 50 indices in permuted list\n",
    "    \n",
    "    y_subsample = y[perm[:subsample_size]] # Get y-vals for the first 50 indices in permuted list\n",
    "\n",
    "    # Fit linear regression model on subsample\n",
    "    w, c = multiple_linear_regression_fit(x_subsample, y_subsample)\n",
    "    # Store the coefficient for the model we obtain\n",
    "    coefs_multiple[i, :] = w\n",
    "\n",
    "# Plot histogram of coefficients, and report their confidence intervals \n",
    "fig, axes = plt.subplots(1, d, figsize=(20, 3))\n",
    "\n",
    "# Repeat for each coefficient\n",
    "for j in range(d):\n",
    "    # Compute mean for the j-th coefficent from subsamples\n",
    "    coef_j_mean = np.mean(coefs_multiple[:, j])\n",
    "    \n",
    "    # Compute confidence interval at 95% confidence level (use formula!)\n",
    "    conf_int_left = np.percentile(coefs_multiple[:, j], 2.5)\n",
    "    conf_int_right = np.percentile(coefs_multiple[:, j], 97.5)\n",
    "       \n",
    "    # Plot histogram of coefficient values\n",
    "    axes[j].hist(coefs_multiple[:, j], alpha=0.5)\n",
    "\n",
    "    # Plot vertical lines at mean and left, right extremes of confidence interval\n",
    "    axes[j].axvline(x = coef_j_mean, linewidth=3)\n",
    "    axes[j].axvline(x = conf_int_left, linewidth=1, c='r')\n",
    "    axes[j].axvline(x = conf_int_right, linewidth=1, c='r')\n",
    "    \n",
    "    # Set plot labels\n",
    "    axes[j].set_title('[' + str(round(conf_int_left, 4)) \n",
    "                      + ', ' \n",
    "                      + str(round(conf_int_right, 4)) + ']')\n",
    "    axes[j].set_xlabel('Predictor ' + str(j + 1))\n",
    "    axes[j].set_ylabel('Frequency')\n",
    "\n",
    "plt.show()\n"
   ]
  },
  {
   "cell_type": "code",
   "execution_count": 5,
   "metadata": {
    "collapsed": false
   },
   "outputs": [
    {
     "name": "stdout",
     "output_type": "stream",
     "text": [
      "the confidence interval for the 0 th coefficient: [ 0.552772624515 , 0.75038508161 ]\n",
      "the confidence interval for the 1 th coefficient: [ 0.352230409656 , 0.749743369436 ]\n",
      "the confidence interval for the 2 th coefficient: [ 0.0889138463555 , 0.47338926001 ]\n",
      "the confidence interval for the 3 th coefficient: [ 0.809809940402 , 1.09854837094 ]\n",
      "the confidence interval for the 4 th coefficient: [ 0.0785426153804 , 0.488433606409 ]\n"
     ]
    }
   ],
   "source": [
    "# Add column of ones to x matrix\n",
    "x = sm.add_constant(x)\n",
    "\n",
    "# Create model for linear regression\n",
    "model = sm.OLS(y, x)\n",
    "# Fit model\n",
    "fitted_model = model.fit()\n",
    "# The confidence intervals for our five coefficients are contained in the last five\n",
    "# rows of the fitted_model.conf_int() array\n",
    "conf_int = fitted_model.conf_int()[1:, :]\n",
    "\n",
    "for j in range(d):\n",
    "    print 'the confidence interval for the', j, 'th coefficient: [', conf_int[j][0], ',', conf_int[j][1], ']'"
   ]
  },
  {
   "cell_type": "markdown",
   "metadata": {},
   "source": [
    "The confidence interval for the coefficients given above are tighter than the ones we obtain through subsampling. This is because in each subsample we are only using 100 data points, thus, our estimates of the parameters will vary greatly across subsamples (leading to larger standard error and hence wider confidence intervals). When we compute the confidence interval in the above, we naively used the entire dataset! In order for the confidence intervals generated from the formula (or from ``statsmodels``) to match those from our simulation, we must scale the formula to take into account the difference between the size of the subsamples and that of the entire dataset!"
   ]
  },
  {
   "cell_type": "markdown",
   "metadata": {},
   "source": [
    "## Problem 2: Polynomial regression\n",
    "In this problem, we revisit a dataset from Homework 1 and fit polynomial regression models to it. The dataset is provided in the file ``dataset_3.txt``, which contains a single predictor variable ``x`` in the first column and the response variable ``y`` in the second column. \n",
    "\n",
    "### Part(a): Implement polynomial regression from scratch\n",
    "\n",
    "- Implement the following three functions from scratch:\n",
    "\n",
    "    - ``polynomial_regression_fit``:\n",
    "        - takes as input: training set, ``x_train``, ``y_train`` and the degree of the polynomial\n",
    "        - fits a polynomial regression model \n",
    "        - returns the model parameters (array of coefficients and the intercept)\n",
    "\n",
    "    - ``polynomial_regression_predict``: \n",
    "        - takes as input: the model parameters (array of coefficients and the intercept), the degree of the polynomial and the test set predictors ``x_test``\n",
    "        - returns the response values predicted by the model on the test set. \n",
    "\n",
    "    - ``polynomial_regression_score``: \n",
    "        - takes an array of predicted response values and the array of true response values ``y_test``\n",
    "        - returns R^2 score for the model on the test set, as well as the sum of squared errors\n",
    "\n",
    "- Fit polynomial regression models of degrees 3, 5, 10 and 25 to the data set. Visualize the original data along with the fitted models for the various degrees in the same plot. \n",
    "\n",
    "For this problem, you may either use the multiple linear regression functions implemented in the Problem 1 or use the in-built functions in ``sklearn``."
   ]
  },
  {
   "cell_type": "markdown",
   "metadata": {},
   "source": [
    "**Solution:**"
   ]
  },
  {
   "cell_type": "code",
   "execution_count": 2,
   "metadata": {
    "collapsed": true
   },
   "outputs": [],
   "source": [
    "#--------  polynomial_regression_fit\n",
    "# Input: \n",
    "#      x_train (n x d array of predictors in training data)\n",
    "#      y_train (n x 1 array of response variable vals in training data)\n",
    "#      degree (integer)\n",
    "# Return: \n",
    "#      w (d x 1 array of coefficients) \n",
    "#      c (float representing intercept)\n",
    "def polynomial_regression_fit(x_train, y_train, degree):\n",
    "    \n",
    "    # Expand the array for x with columns for x^2, x^3, etc \n",
    "    # so that x_expanded is of size n x degree\n",
    "    n = x_train.shape[0]\n",
    "    x_expanded = np.zeros([n, degree])\n",
    "    for d in range(1, degree + 1):\n",
    "        x_expanded[:, d - 1] = np.power(x_train, d)\n",
    "        \n",
    "    # Fit regression model on expanded feature space\n",
    "    # Using our functions from Problem 1:\n",
    "    # w, c = multiple_linear_regression_fit(x_expanded, y_train)\n",
    "    \n",
    "    # Fit sklearn multiple linear regression model\n",
    "    reg = Lin_Reg()\n",
    "    reg.fit(x_expanded, y_train)\n",
    "    \n",
    "    # Get coefficients from fitted model\n",
    "    w = reg.coef_\n",
    "    c = reg.intercept_\n",
    "    \n",
    "    return w, c\n",
    "\n",
    "#--------  polynomial_regression_predict\n",
    "# Input: \n",
    "#      w (d x 1 array of coefficients) \n",
    "#      c (float representing intercept)\n",
    "#      degree (integer)\n",
    "#      x_test (n x d array of predictors in testing data)\n",
    "# Return: \n",
    "#      y_pred (n x 1 array of predicted y-vals) \n",
    "def polynomial_regression_predict(w, c, degree, x_test):\n",
    "\n",
    "    # Expand the array for x with columns for x^2, x^3, etc \n",
    "    # so that x_expanded is of size n x degree\n",
    "    n = x_test.shape[0]\n",
    "    x_expanded = np.zeros([n, degree])\n",
    "    for d in range(1, degree + 1):\n",
    "        x_expanded[:, d - 1] = np.power(x_test, d)\n",
    "        \n",
    "    # Predict y-vals\n",
    "    y_pred = np.dot(x_expanded, w) + c\n",
    "        \n",
    "    return y_pred\n",
    "\n",
    "#--------  polynomial_regression_score\n",
    "# Input: \n",
    "#      y_pred (n x 1 array of predicted y-vals) \n",
    "#      y_test (n x 1 array of actual y-vals) \n",
    "# Return: \n",
    "#      r_squared (float) \n",
    "\n",
    "def polynomial_regression_score(y_pred, y_test):\n",
    "    # Input: \n",
    "    #      Model: w, c\n",
    "    #      Degree: degree    \n",
    "    #      Features: x (n x d)\n",
    "    #      Labels: y (n x 1)\n",
    "    # Output: \n",
    "    #      R^2 score\n",
    "    \n",
    "    # Evaluate sqaured error, against target labels\n",
    "    # sq_error = \\sum_i (y[i] - y_pred[i])^2\n",
    "    sq_error = np.sum(np.square(y_test - y_pred))\n",
    "    \n",
    "    # Evaluate squared error for a predicting the mean value, against target labels\n",
    "    # variance = \\sum_i (y[i] - y_mean)^2\n",
    "    y_mean = np.mean(y_test)\n",
    "    y_variance = np.sum(np.square(y_test - y_mean))\n",
    "    \n",
    "    # Evaluate R^2 score value\n",
    "    r_squared = 1 - sq_error / y_variance\n",
    "\n",
    "    return r_squared, sq_error"
   ]
  },
  {
   "cell_type": "code",
   "execution_count": 3,
   "metadata": {
    "collapsed": true
   },
   "outputs": [],
   "source": [
    "#--------  fit_and_plot_polynomial\n",
    "# Input: \n",
    "#      ax (axes)\n",
    "#      x (n x d array of x-vals) \n",
    "#      y (n x 1 array of y-vals) \n",
    "#      degree (int)\n",
    "#      color (str or tuple)\n",
    "# Return: \n",
    "#      ax (axes)\n",
    "\n",
    "def fit_and_plot_polynomial(ax, x, y, degree, color):\n",
    "    \n",
    "    # Fit polynomial model\n",
    "    w, c = polynomial_regression_fit(x, y, degree)\n",
    "\n",
    "    # Predict using fitted model\n",
    "    x_sorted = np.sort(x) # So the x-axis is ordered, crucial for plotting!\n",
    "    y_pred = polynomial_regression_predict(w, c, degree, x_sorted)\n",
    "    \n",
    "    # Plot predicted y-vals\n",
    "    legend_label = 'Degree = ' + str(degree)\n",
    "    ax.plot(x_sorted, y_pred, label=legend_label, c=color, linewidth=3.0)\n",
    "    \n",
    "    return ax"
   ]
  },
  {
   "cell_type": "code",
   "execution_count": 4,
   "metadata": {
    "collapsed": false
   },
   "outputs": [
    {
     "data": {
      "image/png": "[encoded data removed]",
      "text/plain": [
       "<matplotlib.figure.Figure at 0x1048d5210>"
      ]
     },
     "metadata": {},
     "output_type": "display_data"
    }
   ],
   "source": [
    "# Make a list of degree for polynomial regresion\n",
    "degrees = [2, 3, 10, 25]\n",
    "colors = ['c', 'r', 'b', 'g']\n",
    "\n",
    "\n",
    "# Load dataset_2\n",
    "data = np.loadtxt('datasets/dataset_3.txt', delimiter=',', skiprows=1)\n",
    "x = data[:, 0]\n",
    "y = data[:, 1]\n",
    "\n",
    "# Plot data\n",
    "fig, ax = plt.subplots(1, 1, figsize=(6, 6))\n",
    "ax.scatter(x, y)\n",
    "\n",
    "for i in range(len(degrees)):       \n",
    "    # Fit model and plot predicted y-vals\n",
    "    ax = fit_and_plot_polynomial(ax, x, y, degrees[i], colors[i]) \n",
    "\n",
    "# Set x, y labels, legend and title\n",
    "ax.set_xlim([0, 1])\n",
    "ax.set_xlabel('X')\n",
    "ax.set_ylabel('Y')\n",
    "ax.set_title('Polynomial Regression Models for dataset_2')\n",
    "ax.legend(loc='best')\n",
    "\n",
    "plt.show()"
   ]
  },
  {
   "cell_type": "markdown",
   "metadata": {},
   "source": [
    "###  Part (b): Comparing training and test errors\n",
    "\n",
    "- Split the data set in Problem 2 each into training and test sets: use the first 50% of the data for training and the remaining for testing. \n",
    "\n",
    "\n",
    "- Fit polynomial models of varying degree ranging from 1 to 15 to the training sets. Evaluate  the various fits on **both** the training and the test sets. Plot both the R^2 score of the fitted polynomial models on the training and test sets as a functions of the degree. \n",
    "\n",
    "\n",
    "- Describe the relationship between degree of the polynomial model and the fit on both the training and testing data. Explain, based on the plot, what is the best polynomial model for the data."
   ]
  },
  {
   "cell_type": "markdown",
   "metadata": {},
   "source": [
    "**Solution:**"
   ]
  },
  {
   "cell_type": "code",
   "execution_count": 5,
   "metadata": {
    "collapsed": false
   },
   "outputs": [],
   "source": [
    "#--------  fit_degrees_and_plot\n",
    "# Input: \n",
    "#      ax (axes)\n",
    "#      x_train (n x d array of x-vals) \n",
    "#      y_train (n x 1 array of y-vals) \n",
    "#      x_test (n x d array of x-vals) \n",
    "#      y_test (n x 1 array of y-vals) \n",
    "#      n_degrees (int)\n",
    "# Return: \n",
    "#      ax (axes)\n",
    "#      best_deg (degree corresponding to best fit for testing data)\n",
    "#      r_sq_max (max R^2 val on testing data)\n",
    "\n",
    "def fit_degrees_and_plot(ax, x_train, y_train, x_test, y_test, n_degrees): \n",
    "    # Store train R^2 score values for different degrees\n",
    "    r_squared_train = np.zeros(n_degrees) \n",
    "    \n",
    "    # Store test R^2 score values for different degrees\n",
    "    r_squared_test = np.zeros(n_degrees) \n",
    "    \n",
    "    # Iterate over degrees\n",
    "    for degree in range(1, n_degrees+1):\n",
    "        # Fit polynomial model on training set\n",
    "        w, c = polynomial_regression_fit(x_train, y_train, degree)\n",
    "        \n",
    "        # Evaluate model on training set\n",
    "        y_pred = polynomial_regression_predict(w, c, degree, x_train)\n",
    "        r_squared_train[degree - 1], _ = polynomial_regression_score(y_pred, y_train)\n",
    "        \n",
    "        # Evaluate model on test set\n",
    "        y_pred = polynomial_regression_predict(w, c, degree, x_test)\n",
    "        r_squared_test[degree - 1], _ = polynomial_regression_score(y_pred, y_test)\n",
    "    \n",
    "    ax.plot(np.arange(1,n_degrees + 1), r_squared_train, 'x-', label='Train') \n",
    "    ax.plot(np.arange(1,n_degrees + 1), r_squared_test, 'rx-', label='Test') \n",
    "\n",
    "    ax.set_xlabel('Degree of Polynomial')\n",
    "    ax.set_ylabel('R^2 score')\n",
    "    \n",
    "    ax.legend(loc='lower right')\n",
    "    \n",
    "    best_deg = np.argmax(r_squared_test) + 1\n",
    "    r_sq_max = max(r_squared_test)\n",
    "    \n",
    "    return ax, best_deg, r_sq_max"
   ]
  },
  {
   "cell_type": "code",
   "execution_count": 6,
   "metadata": {
    "collapsed": false
   },
   "outputs": [
    {
     "data": {
      "image/png": "[encoded data removed]",
      "text/plain": [
       "<matplotlib.figure.Figure at 0x1121bfe90>"
      ]
     },
     "metadata": {},
     "output_type": "display_data"
    },
    {
     "name": "stdout",
     "output_type": "stream",
     "text": [
      "Best fit on test set at 3\n",
      "Max R^2 score on test set 0.92\n"
     ]
    }
   ],
   "source": [
    "# Load dataset_2\n",
    "data = np.loadtxt('datasets/dataset_3.txt', delimiter=',', skiprows = 1)\n",
    "\n",
    "# No. of training points\n",
    "n = data.shape[0]\n",
    "n_train = int(n * 0.5)\n",
    "\n",
    "# First 50% train, remaining test\n",
    "x_train = data[0:n_train, 0]\n",
    "y_train = data[0:n_train, 1]\n",
    "\n",
    "x_test = data[n_train:, 0]\n",
    "y_test = data[n_train:, 1]\n",
    "\n",
    "\n",
    "# Fit and plot\n",
    "fig, ax = plt.subplots(1, 1, figsize=(6, 6))\n",
    "ax, best_deg, r_sq_max = fit_degrees_and_plot(ax, x_train, y_train, x_test, y_test, 15)\n",
    "plt.title('Model Fitness on Training vs Testing Data for dataset_2')\n",
    "plt.show()\n",
    "\n",
    "# Observations from plot\n",
    "print 'Best fit on test set at', best_deg\n",
    "print 'Max R^2 score on test set', round(r_sq_max, 2)"
   ]
  },
  {
   "cell_type": "markdown",
   "metadata": {},
   "source": [
    "**Observation:** Increase in polynomial degree improves train accuracy, but does not necessarily improve test accuracy as we begin to overfit the training set."
   ]
  },
  {
   "cell_type": "markdown",
   "metadata": {},
   "source": [
    "## Problem 3: Model selection criterion\n",
    "In this problem, we examine various criteria that help us decide how to choose between multiple models for the same data.\n",
    "\n",
    "###  Part (a): How does one choose the best polynomial degree?\n",
    "In Problem 2, you fitted polynomials of different degrees to the entire data set, and inspected the quality of fits on the test set. In practice, one needs to find the 'best' model for the given prediction task using **only** the training set. For this, we'll now make use of two model selection criteria, namely, the Akaike Information Criterion (AIC) and the Bayesian Information Criterion (BIC). These are evaluated on the training set, but serve as a proxy for the test set accuracy.\n",
    "\n",
    "For ``dataset_3.txt``, do the following:\n",
    "\n",
    "- For each polynomial model you fitted, compute the AIC and BIC for the model on the training set. Plot the criterion values as a function of the polynomial degree.\n",
    "\n",
    "\n",
    "- Which model is chosen by each criterion? Do they match with the model that yields maximum test R^2 score?"
   ]
  },
  {
   "cell_type": "markdown",
   "metadata": {},
   "source": [
    "**Solution:**"
   ]
  },
  {
   "cell_type": "code",
   "execution_count": 7,
   "metadata": {
    "collapsed": false
   },
   "outputs": [],
   "source": [
    "#--------  fit_degrees_aic_bic\n",
    "# Input: \n",
    "#      ax (axes)\n",
    "#      x_train (n x d array of x-vals) \n",
    "#      y_train (n x 1 array of y-vals) \n",
    "#      x_test (n x d array of x-vals) \n",
    "#      y_test (n x 1 array of y-vals) \n",
    "#      n_degrees (int)\n",
    "# Return: \n",
    "#      ax (axes)\n",
    "def fit_degrees_aic_bic(ax, x_train, y_train, x_test, y_test, n_degrees):\n",
    "\n",
    "    # Store aic, bic, train and test R^2 score\n",
    "    aic = np.zeros(n_degrees)\n",
    "    bic = np.zeros(n_degrees)\n",
    "    train_r_squared = np.zeros(n_degrees)\n",
    "    test_r_squared = np.zeros(n_degrees)\n",
    "\n",
    "    # Iterate over degrees 1 to n_degrees\n",
    "    for degree in range(1, n_degrees+1):\n",
    "        \n",
    "        # Fit polynomial model of degree 'degree' on training set\n",
    "        w, c = polynomial_regression_fit(x_train, y_train, degree)\n",
    "        \n",
    "        # Evaluate model on training set\n",
    "        y_pred = polynomial_regression_predict(w, c, degree, x_train)\n",
    "        train_r_squared[degree - 1], train_sq_error = polynomial_regression_score(y_pred, \n",
    "                                                                                  y_train)\n",
    "        \n",
    "        # Evaluate model on test set\n",
    "        y_pred = polynomial_regression_predict(w, c, degree, x_test)\n",
    "        test_r_squared[degree - 1], _ = polynomial_regression_score(y_pred, y_test)\n",
    "\n",
    "        # Compute AIC and BIC on training set\n",
    "        aic[degree-1] = n_train * np.log(train_sq_error) + 2 * (degree + 1)\n",
    "        bic[degree-1] = n_train * np.log(train_sq_error) + (degree + 1) * np.log(n_train)\n",
    "\n",
    "    # Plot AIC and BIC\n",
    "    ax.plot(np.arange(1,n_degrees+1), aic, label='AIC')\n",
    "    ax.plot(np.arange(1,n_degrees+1), bic, 'r', label='BIC')\n",
    "    ax.set_xlabel('Degree of polynomial')\n",
    "    ax.set_ylabel('Criterion')\n",
    "    ax.legend(loc='upper left')\n",
    "\n",
    "    # Observation from plot\n",
    "    aic_min_degree = np.argmin(aic) + 1\n",
    "    bic_min_degree = np.argmin(bic) + 1\n",
    "    r_sq_max_degree = np.argmax(test_r_squared) + 1\n",
    "    r_sq_max = max(test_r_squared)\n",
    "    \n",
    "    print 'AIC is minimized at degree', \\\n",
    "    aic_min_degree + 1, \\\n",
    "    'and yields test R^2 score', \\\n",
    "    round(test_r_squared[aic_min_degree], 5)\n",
    "        \n",
    "    print 'BIC is minimized at degree', \\\n",
    "    bic_min_degree + 1, \\\n",
    "    'and yields test R^2 score', \\\n",
    "    round(test_r_squared[bic_min_degree], 5)\n",
    "    \n",
    "    print 'Test R^2 score is maximum at degree', \\\n",
    "    r_sq_max_degree + 1, \\\n",
    "    'and yields test R^2 score', \\\n",
    "    round(r_sq_max, 5)\n",
    "    \n",
    "    return ax"
   ]
  },
  {
   "cell_type": "code",
   "execution_count": 8,
   "metadata": {
    "collapsed": false
   },
   "outputs": [
    {
     "name": "stdout",
     "output_type": "stream",
     "text": [
      "AIC is minimized at degree 5 and yields test R^2 score 0.91675\n",
      "BIC is minimized at degree 4 and yields test R^2 score 0.91648\n",
      "Test R^2 score is maximum at degree 4 and yields test R^2 score 0.92461\n"
     ]
    },
    {
     "data": {
      "image/png": "[encoded data removed]",
      "text/plain": [
       "<matplotlib.figure.Figure at 0x10e698d90>"
      ]
     },
     "metadata": {},
     "output_type": "display_data"
    }
   ],
   "source": [
    "# Load dataset_2\n",
    "data = np.loadtxt('datasets/dataset_3.txt', delimiter=',', skiprows = 1)\n",
    "\n",
    "# No. of training points\n",
    "n = data.shape[0]\n",
    "n_train = int(n * 0.5)\n",
    "\n",
    "# First 25% train, remaining test\n",
    "x_train = data[0:n_train, 0]\n",
    "y_train = data[0:n_train, 1]\n",
    "\n",
    "x_test = data[n_train:, 0]\n",
    "y_test = data[n_train:, 1]\n",
    "\n",
    "# Call wrapper function\n",
    "fig, ax = plt.subplots(1, 1, figsize=(6, 6))\n",
    "ax = fit_degrees_aic_bic(ax, x_train, y_train, x_test, y_test, 15)\n",
    "plt.title('AIC vs BIC Scores for dataset_2')\n",
    "plt.show()"
   ]
  },
  {
   "cell_type": "markdown",
   "metadata": {},
   "source": [
    "**Observation:** The degree prescribed by the model selection criteria are close to the best fit on the test set"
   ]
  },
  {
   "cell_type": "markdown",
   "metadata": {},
   "source": [
    "### Part (b): Application to New York taxi cab density estimation\n",
    "\n",
    "We shall now apply the concepts learned so far to a real-world prediction task. You are asked to build a regression model for estimating the density of Green cab taxis at any given time of a day in New York city. The model needs to take the time of the day (in minutes) as input, and predict the expected number of pick ups at that time.\n",
    "\n",
    "The data set for this problem can be downloaded from the following URL: https://s3.amazonaws.com/nyc-tlc/trip+data/green_tripdata_2015-01.csv. The file contains the details of all pickups by Green cabs in New York City during January 2015. "
   ]
  },
  {
   "cell_type": "code",
   "execution_count": 26,
   "metadata": {
    "collapsed": false
   },
   "outputs": [
    {
     "data": {
      "text/html": [
       "<div>\n",
       "<table border=\"1\" class=\"dataframe\">\n",
       "  <thead>\n",
       "    <tr style=\"text-align: right;\">\n",
       "      <th></th>\n",
       "      <th></th>\n",
       "      <th>VendorID</th>\n",
       "      <th>lpep_pickup_datetime</th>\n",
       "      <th>Lpep_dropoff_datetime</th>\n",
       "      <th>Store_and_fwd_flag</th>\n",
       "      <th>RateCodeID</th>\n",
       "      <th>Pickup_longitude</th>\n",
       "      <th>Pickup_latitude</th>\n",
       "      <th>Dropoff_longitude</th>\n",
       "      <th>Dropoff_latitude</th>\n",
       "      <th>Passenger_count</th>\n",
       "      <th>...</th>\n",
       "      <th>Fare_amount</th>\n",
       "      <th>Extra</th>\n",
       "      <th>MTA_tax</th>\n",
       "      <th>Tip_amount</th>\n",
       "      <th>Tolls_amount</th>\n",
       "      <th>Ehail_fee</th>\n",
       "      <th>improvement_surcharge</th>\n",
       "      <th>Total_amount</th>\n",
       "      <th>Payment_type</th>\n",
       "      <th>Trip_type</th>\n",
       "    </tr>\n",
       "  </thead>\n",
       "  <tbody>\n",
       "    <tr>\n",
       "      <th rowspan=\"2\" valign=\"top\">2</th>\n",
       "      <th>2015-01-01 00:34:42</th>\n",
       "      <td>2015-01-01 00:38:34</td>\n",
       "      <td>N</td>\n",
       "      <td>1</td>\n",
       "      <td>-73.922592</td>\n",
       "      <td>40.754528</td>\n",
       "      <td>-73.913635</td>\n",
       "      <td>40.765522</td>\n",
       "      <td>1</td>\n",
       "      <td>0.88</td>\n",
       "      <td>5</td>\n",
       "      <td>...</td>\n",
       "      <td>0.5</td>\n",
       "      <td>0.0</td>\n",
       "      <td>0</td>\n",
       "      <td>NaN</td>\n",
       "      <td>0.3</td>\n",
       "      <td>6.3</td>\n",
       "      <td>2</td>\n",
       "      <td>1</td>\n",
       "      <td>NaN</td>\n",
       "      <td>NaN</td>\n",
       "    </tr>\n",
       "    <tr>\n",
       "      <th>2015-01-01 00:34:46</th>\n",
       "      <td>2015-01-01 00:47:23</td>\n",
       "      <td>N</td>\n",
       "      <td>1</td>\n",
       "      <td>-73.952751</td>\n",
       "      <td>40.677711</td>\n",
       "      <td>-73.981529</td>\n",
       "      <td>40.658978</td>\n",
       "      <td>1</td>\n",
       "      <td>3.08</td>\n",
       "      <td>12</td>\n",
       "      <td>...</td>\n",
       "      <td>0.5</td>\n",
       "      <td>0.0</td>\n",
       "      <td>0</td>\n",
       "      <td>NaN</td>\n",
       "      <td>0.3</td>\n",
       "      <td>13.3</td>\n",
       "      <td>2</td>\n",
       "      <td>1</td>\n",
       "      <td>NaN</td>\n",
       "      <td>NaN</td>\n",
       "    </tr>\n",
       "    <tr>\n",
       "      <th>1</th>\n",
       "      <th>2015-01-01 00:34:44</th>\n",
       "      <td>2015-01-01 00:38:15</td>\n",
       "      <td>N</td>\n",
       "      <td>1</td>\n",
       "      <td>-73.843010</td>\n",
       "      <td>40.719055</td>\n",
       "      <td>-73.846581</td>\n",
       "      <td>40.711567</td>\n",
       "      <td>1</td>\n",
       "      <td>0.90</td>\n",
       "      <td>5</td>\n",
       "      <td>...</td>\n",
       "      <td>0.5</td>\n",
       "      <td>1.8</td>\n",
       "      <td>0</td>\n",
       "      <td>NaN</td>\n",
       "      <td>0.0</td>\n",
       "      <td>7.8</td>\n",
       "      <td>1</td>\n",
       "      <td>1</td>\n",
       "      <td>NaN</td>\n",
       "      <td>NaN</td>\n",
       "    </tr>\n",
       "  </tbody>\n",
       "</table>\n",
       "<p>3 rows × 21 columns</p>\n",
       "</div>"
      ],
      "text/plain": [
       "                                  VendorID lpep_pickup_datetime  \\\n",
       "2 2015-01-01 00:34:42  2015-01-01 00:38:34                    N   \n",
       "  2015-01-01 00:34:46  2015-01-01 00:47:23                    N   \n",
       "1 2015-01-01 00:34:44  2015-01-01 00:38:15                    N   \n",
       "\n",
       "                       Lpep_dropoff_datetime  Store_and_fwd_flag  RateCodeID  \\\n",
       "2 2015-01-01 00:34:42                      1          -73.922592   40.754528   \n",
       "  2015-01-01 00:34:46                      1          -73.952751   40.677711   \n",
       "1 2015-01-01 00:34:44                      1          -73.843010   40.719055   \n",
       "\n",
       "                       Pickup_longitude  Pickup_latitude  Dropoff_longitude  \\\n",
       "2 2015-01-01 00:34:42        -73.913635        40.765522                  1   \n",
       "  2015-01-01 00:34:46        -73.981529        40.658978                  1   \n",
       "1 2015-01-01 00:34:44        -73.846581        40.711567                  1   \n",
       "\n",
       "                       Dropoff_latitude  Passenger_count     ...      \\\n",
       "2 2015-01-01 00:34:42              0.88                5     ...       \n",
       "  2015-01-01 00:34:46              3.08               12     ...       \n",
       "1 2015-01-01 00:34:44              0.90                5     ...       \n",
       "\n",
       "                       Fare_amount  Extra  MTA_tax  Tip_amount  Tolls_amount  \\\n",
       "2 2015-01-01 00:34:42          0.5    0.0        0         NaN           0.3   \n",
       "  2015-01-01 00:34:46          0.5    0.0        0         NaN           0.3   \n",
       "1 2015-01-01 00:34:44          0.5    1.8        0         NaN           0.0   \n",
       "\n",
       "                       Ehail_fee  improvement_surcharge  Total_amount  \\\n",
       "2 2015-01-01 00:34:42        6.3                      2             1   \n",
       "  2015-01-01 00:34:46       13.3                      2             1   \n",
       "1 2015-01-01 00:34:44        7.8                      1             1   \n",
       "\n",
       "                       Payment_type  Trip_type   \n",
       "2 2015-01-01 00:34:42           NaN         NaN  \n",
       "  2015-01-01 00:34:46           NaN         NaN  \n",
       "1 2015-01-01 00:34:44           NaN         NaN  \n",
       "\n",
       "[3 rows x 21 columns]"
      ]
     },
     "execution_count": 26,
     "metadata": {},
     "output_type": "execute_result"
    }
   ],
   "source": [
    "##\n",
    "## STEP1: DATA EXTRACTION & VISUALIZATION\n",
    "## LOAD DATA, EXTRACT RELEVANT predictor, PLOT Y vs. X\n",
    "##\n",
    "\n",
    "# Dowload data set from URL and save to disk\n",
    "# Load full set from disk\n",
    "data = pd.read_csv('green_tripdata_2015-01.csv')\n",
    "data.head(n=3)"
   ]
  },
  {
   "cell_type": "markdown",
   "metadata": {},
   "source": [
    "It looks like the information we want (the time of day of the pickup) is in the first column and it's being **incorrectly** labeled as \"VendorID\". This indicates that the csv file is **malformed** (typically b/c each line ends with a delimiter, ',') causing pandas to use a column of values as row labels. You can get around this by setting some specialized parameters in the `read_csv` function (e.g. `index_col`) or you can just extract the information we want directly from the mislabeled column (be aware that doing this exposes you to the risk that values appearing in this column might be there as a result of `pandas` misreading the csv file!).\n",
    "\n",
    "Let's extract the value from the \"VendorID\" column."
   ]
  },
  {
   "cell_type": "code",
   "execution_count": 27,
   "metadata": {
    "collapsed": false
   },
   "outputs": [
    {
     "name": "stdout",
     "output_type": "stream",
     "text": [
      "['2015-01-01 00:38:34' '2015-01-01 00:47:23' '2015-01-01 00:38:15'\n",
      " '2015-01-01 00:38:08' '2015-01-01 01:09:10' '2015-01-01 00:40:58'\n",
      " '2015-01-01 00:53:10' '2015-01-01 00:35:08' '2015-01-01 00:41:04'\n",
      " '2015-01-01 00:42:39']\n"
     ]
    }
   ],
   "source": [
    "datetime = data['VendorID'].values\n",
    "\n",
    "print datetime[:10]"
   ]
  },
  {
   "cell_type": "markdown",
   "metadata": {},
   "source": [
    "Let's now read the csv file correctly and extract the time stamp values."
   ]
  },
  {
   "cell_type": "code",
   "execution_count": 30,
   "metadata": {
    "collapsed": false
   },
   "outputs": [
    {
     "data": {
      "text/html": [
       "<div>\n",
       "<table border=\"1\" class=\"dataframe\">\n",
       "  <thead>\n",
       "    <tr style=\"text-align: right;\">\n",
       "      <th></th>\n",
       "      <th>VendorID</th>\n",
       "      <th>lpep_pickup_datetime</th>\n",
       "      <th>Lpep_dropoff_datetime</th>\n",
       "      <th>Store_and_fwd_flag</th>\n",
       "      <th>RateCodeID</th>\n",
       "      <th>Pickup_longitude</th>\n",
       "      <th>Pickup_latitude</th>\n",
       "      <th>Dropoff_longitude</th>\n",
       "      <th>Dropoff_latitude</th>\n",
       "      <th>Passenger_count</th>\n",
       "      <th>...</th>\n",
       "      <th>Fare_amount</th>\n",
       "      <th>Extra</th>\n",
       "      <th>MTA_tax</th>\n",
       "      <th>Tip_amount</th>\n",
       "      <th>Tolls_amount</th>\n",
       "      <th>Ehail_fee</th>\n",
       "      <th>improvement_surcharge</th>\n",
       "      <th>Total_amount</th>\n",
       "      <th>Payment_type</th>\n",
       "      <th>Trip_type</th>\n",
       "    </tr>\n",
       "  </thead>\n",
       "  <tbody>\n",
       "    <tr>\n",
       "      <th>0</th>\n",
       "      <td>2</td>\n",
       "      <td>2015-01-01 00:34:42</td>\n",
       "      <td>2015-01-01 00:38:34</td>\n",
       "      <td>N</td>\n",
       "      <td>1</td>\n",
       "      <td>-73.922592</td>\n",
       "      <td>40.754528</td>\n",
       "      <td>-73.913635</td>\n",
       "      <td>40.765522</td>\n",
       "      <td>1</td>\n",
       "      <td>...</td>\n",
       "      <td>5</td>\n",
       "      <td>0.5</td>\n",
       "      <td>0.5</td>\n",
       "      <td>0.0</td>\n",
       "      <td>0</td>\n",
       "      <td>NaN</td>\n",
       "      <td>0.3</td>\n",
       "      <td>6.3</td>\n",
       "      <td>2</td>\n",
       "      <td>1</td>\n",
       "    </tr>\n",
       "    <tr>\n",
       "      <th>1</th>\n",
       "      <td>2</td>\n",
       "      <td>2015-01-01 00:34:46</td>\n",
       "      <td>2015-01-01 00:47:23</td>\n",
       "      <td>N</td>\n",
       "      <td>1</td>\n",
       "      <td>-73.952751</td>\n",
       "      <td>40.677711</td>\n",
       "      <td>-73.981529</td>\n",
       "      <td>40.658978</td>\n",
       "      <td>1</td>\n",
       "      <td>...</td>\n",
       "      <td>12</td>\n",
       "      <td>0.5</td>\n",
       "      <td>0.5</td>\n",
       "      <td>0.0</td>\n",
       "      <td>0</td>\n",
       "      <td>NaN</td>\n",
       "      <td>0.3</td>\n",
       "      <td>13.3</td>\n",
       "      <td>2</td>\n",
       "      <td>1</td>\n",
       "    </tr>\n",
       "    <tr>\n",
       "      <th>2</th>\n",
       "      <td>1</td>\n",
       "      <td>2015-01-01 00:34:44</td>\n",
       "      <td>2015-01-01 00:38:15</td>\n",
       "      <td>N</td>\n",
       "      <td>1</td>\n",
       "      <td>-73.843010</td>\n",
       "      <td>40.719055</td>\n",
       "      <td>-73.846581</td>\n",
       "      <td>40.711567</td>\n",
       "      <td>1</td>\n",
       "      <td>...</td>\n",
       "      <td>5</td>\n",
       "      <td>0.5</td>\n",
       "      <td>0.5</td>\n",
       "      <td>1.8</td>\n",
       "      <td>0</td>\n",
       "      <td>NaN</td>\n",
       "      <td>0.0</td>\n",
       "      <td>7.8</td>\n",
       "      <td>1</td>\n",
       "      <td>1</td>\n",
       "    </tr>\n",
       "  </tbody>\n",
       "</table>\n",
       "<p>3 rows × 21 columns</p>\n",
       "</div>"
      ],
      "text/plain": [
       "   VendorID lpep_pickup_datetime Lpep_dropoff_datetime Store_and_fwd_flag  \\\n",
       "0         2  2015-01-01 00:34:42   2015-01-01 00:38:34                  N   \n",
       "1         2  2015-01-01 00:34:46   2015-01-01 00:47:23                  N   \n",
       "2         1  2015-01-01 00:34:44   2015-01-01 00:38:15                  N   \n",
       "\n",
       "   RateCodeID  Pickup_longitude  Pickup_latitude  Dropoff_longitude  \\\n",
       "0           1        -73.922592        40.754528         -73.913635   \n",
       "1           1        -73.952751        40.677711         -73.981529   \n",
       "2           1        -73.843010        40.719055         -73.846581   \n",
       "\n",
       "   Dropoff_latitude  Passenger_count     ...      Fare_amount  Extra  MTA_tax  \\\n",
       "0         40.765522                1     ...                5    0.5      0.5   \n",
       "1         40.658978                1     ...               12    0.5      0.5   \n",
       "2         40.711567                1     ...                5    0.5      0.5   \n",
       "\n",
       "   Tip_amount  Tolls_amount  Ehail_fee  improvement_surcharge  Total_amount  \\\n",
       "0         0.0             0        NaN                    0.3           6.3   \n",
       "1         0.0             0        NaN                    0.3          13.3   \n",
       "2         1.8             0        NaN                    0.0           7.8   \n",
       "\n",
       "   Payment_type  Trip_type   \n",
       "0             2           1  \n",
       "1             2           1  \n",
       "2             1           1  \n",
       "\n",
       "[3 rows x 21 columns]"
      ]
     },
     "execution_count": 30,
     "metadata": {},
     "output_type": "execute_result"
    }
   ],
   "source": [
    "data = pd.read_csv('green_tripdata_2015-01.csv', usecols=range(0, 21), index_col=False)\n",
    "data.head(n=3)"
   ]
  },
  {
   "cell_type": "code",
   "execution_count": 31,
   "metadata": {
    "collapsed": false
   },
   "outputs": [
    {
     "name": "stdout",
     "output_type": "stream",
     "text": [
      "['2015-01-01 00:34:42' '2015-01-01 00:34:46' '2015-01-01 00:34:44'\n",
      " '2015-01-01 00:34:48' '2015-01-01 00:34:53' '2015-01-01 00:34:55'\n",
      " '2015-01-01 00:34:49' '2015-01-01 00:35:03' '2015-01-01 00:35:13'\n",
      " '2015-01-01 00:35:09']\n"
     ]
    }
   ],
   "source": [
    "datetime = data['lpep_pickup_datetime'].values\n",
    "\n",
    "print datetime[:10]"
   ]
  },
  {
   "cell_type": "markdown",
   "metadata": {},
   "source": [
    "Note that each date time is a string! Since we only need the minute of day information we need to do some processing (you might also consider using `pandas` built-in functions to convert a string time stamp into a time stamp datatype)."
   ]
  },
  {
   "cell_type": "code",
   "execution_count": 6,
   "metadata": {
    "collapsed": false
   },
   "outputs": [
    {
     "data": {
      "image/png": "[encoded data removed]",
      "text/plain": [
       "<matplotlib.figure.Figure at 0x112349650>"
      ]
     },
     "metadata": {},
     "output_type": "display_data"
    }
   ],
   "source": [
    "# Number of entries\n",
    "n = len(datetime)\n",
    "\n",
    "# Array to record taxi counts per min in day\n",
    "tot_mins_in_day = 24 * 60\n",
    "taxi_count = np.zeros(tot_mins_in_day)\n",
    "\n",
    "# Iterate over each entry, extract mins\n",
    "for i in range(n):\n",
    "    # Split date and time, and split time into hours and mins\n",
    "    hours_min = datetime[i].split()[1].split(':')\n",
    "    \n",
    "    # Compute the time in minutes: hr*60 + min\n",
    "    mins = int(hours_min[0]) * 60 + int(hours_min[1])\n",
    "    \n",
    "    # Add one to the number of taxi cabs observed at this minute in the day\n",
    "    taxi_count[mins] = taxi_count[mins] + 1\n",
    "    \n",
    "# Prepate data set\n",
    "# Normalize the minutes in a day so it's on a [0, 1] scale\n",
    "x = np.arange(0, tot_mins_in_day) * 1.0 / tot_mins_in_day # Multiple by 1.0 to convert to float\n",
    "\n",
    "# Average the number of taxi trips across 31 days\n",
    "y = taxi_count / 31.0\n",
    "\n",
    "# Plot taxiCount vs. mins\n",
    "plt.plot(x, y, 'xk')\n",
    "plt.xlim([0, 1])\n",
    "plt.xlabel('Time of day (normalized mins)')\n",
    "plt.ylabel('No. of pickups')\n",
    "plt.show()"
   ]
  },
  {
   "cell_type": "code",
   "execution_count": 10,
   "metadata": {
    "collapsed": false
   },
   "outputs": [
    {
     "data": {
      "image/png": "[encoded data removed]",
      "text/plain": [
       "<matplotlib.figure.Figure at 0x115de6290>"
      ]
     },
     "metadata": {},
     "output_type": "display_data"
    }
   ],
   "source": [
    "##\n",
    "## STEP2: FIT & EXPLORE DIFFERENT POLYNOMIAL MODELS\n",
    "##\n",
    "\n",
    "# Plot data again\n",
    "fig, ax = plt.subplots(1, 1, figsize=(6, 6))\n",
    "ax.plot(x, y, 'xk')\n",
    "ax.set_xlim([0, 1])\n",
    "ax.set_xlabel('Time of day (normalized mins)')\n",
    "ax.set_ylabel('No. of pickups')\n",
    "\n",
    "# Plot polynomial models\n",
    "ax = fit_and_plot_polynomial(ax, x, y, 3, 'g') # degree 3 polynomial\n",
    "ax = fit_and_plot_polynomial(ax, x, y, 10, 'r') # degree 10 polynomial\n",
    "ax = fit_and_plot_polynomial(ax, x, y, 25, 'b') # degree 25 polynomial\n",
    "\n",
    "ax.legend(loc='upper left')\n",
    "plt.show()"
   ]
  },
  {
   "cell_type": "markdown",
   "metadata": {},
   "source": [
    "It looks like a 25 degree polynomial fits the entire data very well. But perhaps the degree 25 polynomial is over-fitting! To choose an appropriate degree for our polynomial model we have to do some model selection!"
   ]
  },
  {
   "cell_type": "code",
   "execution_count": 14,
   "metadata": {
    "collapsed": false,
    "scrolled": false
   },
   "outputs": [
    {
     "name": "stdout",
     "output_type": "stream",
     "text": [
      "Best fit on test set at 26\n",
      "Max R^2 score on test set 0.99\n",
      "AIC is minimized at degree 28 and yields test R^2 score 0.98844\n",
      "BIC is minimized at degree 21 and yields test R^2 score 0.98823\n",
      "Test R^2 score is maximum at degree 27 and yields test R^2 score 0.98852\n"
     ]
    },
    {
     "data": {
      "image/png": "[encoded data removed]",
      "text/plain": [
       "<matplotlib.figure.Figure at 0x115110a50>"
      ]
     },
     "metadata": {},
     "output_type": "display_data"
    }
   ],
   "source": [
    "##\n",
    "## STEP3: SPLIT TRAIN-TEST SETS, CHOOSE BEST MODEL\n",
    "##\n",
    "\n",
    "# No. of training points\n",
    "n = len(x)\n",
    "n_train = int(n * 2.0 / 3.0)\n",
    "\n",
    "# Random 2/3rd train, remaining test\n",
    "perm = np.random.permutation(n)\n",
    "y_train = y[perm[0:n_train]]\n",
    "x_train = x[perm[0:n_train]]\n",
    "y_test = y[perm[n_train:]]\n",
    "x_test = x[perm[n_train:]]\n",
    "\n",
    "fig, ((ax1, ax2)) = plt.subplots(2, 1, figsize=(6, 6))\n",
    "ax1, best_deg, r_sq_max = fit_degrees_and_plot(ax1, x_train, y_train, x_test, y_test, 50)\n",
    "\n",
    "# Observations from plot\n",
    "print 'Best fit on test set at', best_deg\n",
    "print 'Max R^2 score on test set', round(r_sq_max, 2)\n",
    "\n",
    "ax2 = fit_degrees_aic_bic(ax2, x_train, y_train, x_test, y_test, 50)\n",
    "plt.show()"
   ]
  },
  {
   "cell_type": "markdown",
   "metadata": {},
   "source": [
    "Based on the BIC, AIC and test R^2 scores, it's defensible to choose a model with degree in the range of 21 to 28. "
   ]
  },
  {
   "cell_type": "markdown",
   "metadata": {},
   "source": [
    "## Challenge Problem: Advanced regression techniques\n",
    "In this problem, we revisit the automobile pricing data set in Problem 1(a) and explore advanced regression techniques to build better models. \n",
    "\n",
    "\n",
    "### Part (a): Polynomial regression on multi-dimensions\n",
    "In Problems 2-3, you had implemented a polynomial regression technique for data sets with a single predictor variable. How would you use a similar approach to fit a polynomial model on data sets with more than one predictor?\n",
    "\n",
    "Reload ``dataset_1_train.txt`` and ``dataset_1_test.txt``. Fit polynomial models of degrees 2 and 3 to the training set, and evaluate the R^2 score of the fitted model on the test set. How do they compare with the test performance of a linear regression model?"
   ]
  },
  {
   "cell_type": "markdown",
   "metadata": {
    "collapsed": true
   },
   "source": [
    "**Solution:**\n",
    "\n",
    "One can implement polynomial regression on a multi-dimensional data set by explicitly encoding higher order polynomial terms (quadratic, cubic, etc.) and fitting a multiple linear regression model to the expanded feature space. \n",
    "\n",
    "For example, to fit a polynomial model of degree 2 to a data set with two predictors $X_1$ and $X_2$, we include all linear and quadratic terms, resulting in the following expanded feature space:\n",
    "\n",
    "$[X_1,\\; X_2,\\; X_1^2,\\; X_2^2,\\; X_1X_2]$\n",
    "\n",
    "To fit a polynomial model of degree 3 to the same data set, we include all linear, quadratic and cubic terms:\n",
    "\n",
    "$[X_1,\\; X_2,\\; X_1^2,\\; X_2^2,\\; X_1X_2,\\; X_1^3,\\; X_2^3,\\; X_1^2X_2,\\; X_1X_2^2]$"
   ]
  },
  {
   "cell_type": "code",
   "execution_count": 4,
   "metadata": {
    "collapsed": false
   },
   "outputs": [],
   "source": [
    "# Load train and test data sets\n",
    "data_train = np.loadtxt('datasets/dataset_1_train.txt', delimiter=',', skiprows=1)\n",
    "data_test = np.loadtxt('datasets/dataset_1_test.txt', delimiter=',', skiprows=1)\n",
    "\n",
    "# Split predictors and response\n",
    "y_train = data_train[:, -1]\n",
    "x_train = data_train[:, :2]\n",
    "\n",
    "y_test = data_test[:, -1]\n",
    "x_test = data_test[:, :2]"
   ]
  },
  {
   "cell_type": "code",
   "execution_count": 35,
   "metadata": {
    "collapsed": false
   },
   "outputs": [
    {
     "name": "stdout",
     "output_type": "stream",
     "text": [
      "Linear regression: R^2 score on test set = 0.177944627327\n",
      "Polynomial regression of degree 2: R^2 score on test set = 0.272112446487\n",
      "Polynomial regression of degree 3: R^2 score on test set = 0.400632382413\n"
     ]
    }
   ],
   "source": [
    "# Expand features to include quadratic terms\n",
    "def poly_2_expand_features(x):\n",
    "    n = x.shape[0]\n",
    "    d = x.shape[1]\n",
    "    \n",
    "    # Expanded features with both linear and quadratic terms\n",
    "    x_expanded = np.zeros((n, d + d**2))\n",
    "    \n",
    "    # Add quadratic terms\n",
    "    for i in range(d):\n",
    "        for j in range(d):\n",
    "            x_expanded[:, i * d + j] = np.multiply(x[:, i], x[:, j])\n",
    "            \n",
    "    # Add linear terms\n",
    "    x_expanded[:, d**2 : d**2 + d] = x\n",
    "    \n",
    "    return(x_expanded)\n",
    "\n",
    "# Expand features to include quadratic terms\n",
    "def poly_3_expand_features(x):\n",
    "    n = x.shape[0]\n",
    "    d = x.shape[1]\n",
    "    \n",
    "    # Expanded features with both linear, quadratic, and cubic terms\n",
    "    x_expanded = np.zeros((n, d + d**2 + d**3))\n",
    "    \n",
    "    # Add quadratic terms\n",
    "    for i in range(d):\n",
    "        for j in range(d):\n",
    "            x_expanded[:, i * d + j] = np.multiply(x[:, i], x[:, j])\n",
    "    \n",
    "    # Add cubic terms\n",
    "    for i in range(d):\n",
    "        for j in range(d):\n",
    "            for k in range(d):\n",
    "                ind = d**2 + i * d**2 + j * d + k\n",
    "                x_expanded[:, ind] = np.multiply(x[:, i], x[:, j])\n",
    "                x_expanded[:, ind] = np.multiply(x_expanded[:, ind], x[:, k])\n",
    "            \n",
    "    # Add linear terms\n",
    "    end_index = d**2 + d**3\n",
    "    x_expanded[:, end_index : end_index + d] = x\n",
    "    \n",
    "    return(x_expanded)\n",
    "\n",
    "# Polynomial model of degree 1\n",
    "w, c = multiple_linear_regression_fit(x_train, y_train)\n",
    "\n",
    "# Evaluate model on test data\n",
    "r_squared, _ = multiple_linear_regression_score(w, c, x_test, y_test)\n",
    "print 'Linear regression: R^2 score on test set =', r_squared\n",
    "\n",
    "# Polynomial model of degree 2\n",
    "x_train_expanded = poly_2_expand_features(x_train)\n",
    "w, c = multiple_linear_regression_fit(x_train_expanded, y_train)\n",
    "\n",
    "# Evaluate model on test data\n",
    "x_test_expanded = poly_2_expand_features(x_test)\n",
    "r_squared,_ = multiple_linear_regression_score(w, c, x_test_expanded, y_test)\n",
    "print 'Polynomial regression of degree 2: R^2 score on test set =', r_squared\n",
    "\n",
    "# Polynomial model of degree 3\n",
    "x_train_expanded = poly_3_expand_features(x_train)\n",
    "w, c = multiple_linear_regression_fit(x_train_expanded, y_train)\n",
    "\n",
    "# Evaluate model on test data\n",
    "x_test_expanded = poly_3_expand_features(x_test)\n",
    "r_squared,_ = multiple_linear_regression_score(w, c, x_test_expanded, y_test)\n",
    "print 'Polynomial regression of degree 3: R^2 score on test set =',  r_squared"
   ]
  },
  {
   "cell_type": "markdown",
   "metadata": {},
   "source": [
    "### Part (b): Weighted linear regression\n",
    "\n",
    "Suppose you are told that some of the prices recorded in the training set are noisy, and you are given the list of noisy points, how would you use this information during training to fit a better regression model?\n",
    "\n",
    "The noise level for each training point is provided in the file dataset_1_train_noise_levels.txt. A noise level 'none' indicates that the price is accurate, and a noise level 'noisy' indicates that the price is only moderately accurate. \n",
    "\n",
    "We want to fit a linear regression model that accounts for this new information. One way to do this is to assign different weights to each training point based on the amount of noise associated to that training point. That is, our loss function is now\n",
    "$$\n",
    "\\sum_{i=1}^n \\alpha_i\\,(y_i \\,-\\, w^T x_i)^2\n",
    "$$\n",
    "where $\\alpha_i$ is a number representing how much you value the contribution of the data point $x_i$.\n",
    "\n",
    "How does the R^2 score (evaluated on the test set)  of the new linear model compare to the one fitted using plain linear regression?"
   ]
  },
  {
   "cell_type": "markdown",
   "metadata": {},
   "source": [
    "**Solution:**\n",
    "\n",
    "*Weighted Least Squared Linear Regression*: \n",
    "\n",
    "Assign a weight to each training point based on the noise level (higher weight for points with smaller amount of noise), and minimize a weighted least-squres loss during training.\n",
    "\n",
    "Sample: $X \\in \\mathbb{R}^{n\\times d}$, $Y \\in \\mathbb{R}^n$\n",
    "\n",
    "Weights on individual points: $\\alpha \\in \\mathbb{R}^n$   \n",
    "(Set $\\alpha_i$ to 1 for noise level 'none', to 0.25 for noise level 'noisy')\n",
    "\n",
    "Weighted least-squares loss: $\\sum_{i=1}^n \\alpha_i\\,(y_i \\,-\\, w^T x_i)^2$\n",
    "\n",
    "Do some algebra:  $\\sum_{i=1}^n \\left({\\sqrt{\\alpha_i}}y_i \\,-\\, w^T {\\sqrt{\\alpha_i}}x_i\\right)^2$\n",
    "\n",
    "Now, let $\\tilde{x}_i = {\\sqrt{\\alpha_i}}x_i$ and $\\tilde{y}_i = {\\sqrt{\\alpha_i}}y_i$. That is multiply each $x_i$ and $y_i$ by $\\sqrt{\\alpha_i}$! Finally, we get:\n",
    "$$\n",
    "\\sum_{i=1}^n \\left(\\tilde{y}_i \\,-\\, w^T \\tilde{x}_i\\right)^2\n",
    "$$\n",
    "and we can proceed with linear regression as usual!\n"
   ]
  },
  {
   "cell_type": "code",
   "execution_count": 5,
   "metadata": {
    "collapsed": true
   },
   "outputs": [],
   "source": [
    "#--------  weighted_linear_regression_fit\n",
    "# Function for fitting a weighted multiple linear regression\n",
    "# Input: \n",
    "#      x_train (n x d array of x-vals) \n",
    "#      y_train (n x 1 array of y-vals) \n",
    "#      alpha (n x 1 array of weightes)\n",
    "# Return: \n",
    "#      w (d x 1 array of coefficients) \n",
    "#      c (float representing intercept)\n",
    "def weighted_linear_regression_fit(x, y, alpha):\n",
    "    \n",
    "    # Change the x and y values\n",
    "    # Create a diagonal matrix where the ith diagonal is 1/np.sqrt(alpha[i])\n",
    "    weights = np.diag(np.sqrt(alpha))\n",
    "    # Multiply the weight matrix with y-vals: 1/np.sqrt(alpha[i]) * y[i]\n",
    "    y = np.dot(weights, y)\n",
    "    # Multiply the weight matrix with x-vals: 1/np.sqrt(alpha[i]) * x[i, :]\n",
    "    x = np.dot(weights, x)\n",
    "    \n",
    "    w, c = multiple_linear_regression_fit(x, y)\n",
    "    \n",
    "    return w, c"
   ]
  },
  {
   "cell_type": "code",
   "execution_count": 10,
   "metadata": {
    "collapsed": false,
    "scrolled": true
   },
   "outputs": [
    {
     "name": "stdout",
     "output_type": "stream",
     "text": [
      "Weighted linear regression: R^2 score on test set = 0.536746066269\n",
      "Unweighted linear regression: R^2 score on test set = 0.177944627327\n"
     ]
    }
   ],
   "source": [
    "# Download noise levels\n",
    "df_noise_levels = pd.read_csv('datasets/dataset_1_train_noise_levels.txt', index_col=False)\n",
    "\n",
    "# No. of training pointa\n",
    "n_train = len(df_noise_levels)\n",
    "\n",
    "# Assign weights to instances based on noise level:\n",
    "#  alpha_i = 1 if noise level is 'none'\n",
    "#  alpha_i = 0.5 if noise level is 'noisy'\n",
    "\n",
    "noise_levels = df_noise_levels['noise levels']\n",
    "\n",
    "noise_levels[noise_levels == 'noisy'] = 0.25\n",
    "noise_levels[noise_levels == 'none'] = 1.\n",
    "alpha = noise_levels.values\n",
    "        \n",
    "# Fit weighted model training set\n",
    "w, c = weighted_linear_regression_fit(x_train, y_train, alpha.astype('float64'))\n",
    "\n",
    "# Evaluate weigthed model on testing set\n",
    "r_squared, _ = multiple_linear_regression_score(w, c, x_test, y_test)\n",
    "print 'Weighted linear regression: R^2 score on test set =', r_squared\n",
    "\n",
    "\n",
    "# Fit unweighted model training set\n",
    "w, c = multiple_linear_regression_fit(x_train, y_train)\n",
    "\n",
    "# Evaluate unweigthed model on testing set\n",
    "r_squared,_ = multiple_linear_regression_score(w, c, x_test, y_test)\n",
    "print 'Unweighted linear regression: R^2 score on test set =', r_squared"
   ]
  }
 ],
 "metadata": {
  "anaconda-cloud": {},
  "kernelspec": {
   "display_name": "Python 2",
   "language": "python",
   "name": "python2"
  },
  "language_info": {
   "codemirror_mode": {
    "name": "ipython",
    "version": 2
   },
   "file_extension": ".py",
   "mimetype": "text/x-python",
   "name": "python",
   "nbconvert_exporter": "python",
   "pygments_lexer": "ipython2",
   "version": "2.7.11"
  }
 },
 "nbformat": 4,
 "nbformat_minor": 0
}
