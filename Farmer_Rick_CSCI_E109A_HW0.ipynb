{
 "cells": [
  {
   "cell_type": "markdown",
   "metadata": {},
   "source": [
    "# CS 109A/AC 209A/STAT 121A Data Science: Homework 0\n",
    "**Harvard University**<br>\n",
    "**Fall 2016**<br>\n",
    "**Instructors: W. Pan, P. Protopapas, K. Rader**"
   ]
  },
  {
   "cell_type": "markdown",
   "metadata": {},
   "source": [
    "Import libraries"
   ]
  },
  {
   "cell_type": "code",
   "execution_count": 5,
   "metadata": {
    "collapsed": false
   },
   "outputs": [],
   "source": [
    "import numpy as np\n",
    "import matplotlib\n",
    "import matplotlib.pyplot as plt\n",
    "import random\n",
    "from mpl_toolkits.mplot3d import Axes3D\n",
    "from bs4 import BeautifulSoup\n",
    "import urllib\n",
    "%matplotlib inline"
   ]
  },
  {
   "cell_type": "markdown",
   "metadata": {},
   "source": [
    "## Problem 1: Processing Tabular Data from File\n",
    "\n",
    "In this problem, we practice reading csv formatted data and doing some very simple data exploration."
   ]
  },
  {
   "cell_type": "markdown",
   "metadata": {},
   "source": [
    "### Part (a): Reading CSV Data with Numpy\n",
    "\n",
    "Open the file $\\mathtt{dataset}$\\_$\\mathtt{HW0.txt}$, containing birth biometrics as well as maternal data for a number of U.S. births, and inspect the csv formatting of the data. Load the data, without the column headers, into an numpy array. \n",
    "\n",
    "Do some preliminary explorations of the data by printing out the dimensions as well as the first three rows of the array. Finally, for each column, print out the range of the values. \n",
    "\n",
    "<b>Prettify your output</b>, add in some text and formatting to make sure your outputs are readable (e.g. \"36x4\" is less readable than \"array dimensions: 36x4\")."
   ]
  },
  {
   "cell_type": "code",
   "execution_count": 57,
   "metadata": {
    "collapsed": false
   },
   "outputs": [
    {
     "name": "stdout",
     "output_type": "stream",
     "text": [
      "Array dimensions: 400 x 3\n",
      "\n",
      "\n",
      "First three rows:\n",
      "[[  4.03896294   3.5556812   16.        ]\n",
      " [  5.30264328   3.3856329   15.        ]\n",
      " [  6.08610661   4.49542706  17.        ]]\n"
     ]
    }
   ],
   "source": [
    "# Open the file containing birth biometrics as well as maternal data for a number of U.S. births\n",
    "data = np.loadtxt(\"dataset_HW0.txt\", delimiter=\",\", skiprows=1)\n",
    "#data = np.genfromtxt(\"dataset_HW0.txt\", delimiter=\",\", skip_header=1)\n",
    "\n",
    "# Display the dimensions of the data with a pretty format\n",
    "sx, sy = data.shape\n",
    "print \"Array dimensions: \" + str(sx) + \" x \" + str(sy)\n",
    "print \"\\n\"\n",
    "\n",
    "# Display the first three rows of data\n",
    "print \"First three rows:\"\n",
    "print data[1:4,:]"
   ]
  },
  {
   "cell_type": "markdown",
   "metadata": {},
   "source": [
    "### Part (b): Simple Data Statistics\n",
    "\n",
    "Compute the mean birth weight and mean femur length for the entire dataset. Now, we want to split the birth data into three groups based on the mother's age:\n",
    "\n",
    "1. Group I: ages 0-17\n",
    "2. Group II: ages 18-34\n",
    "3. Group III: ages 35-50\n",
    "\n",
    "For each maternal age group, compute the mean birth weight and mean femure length. \n",
    "\n",
    "<b>Prettify your output.</b>\n",
    "\n",
    "Compare the group means with each other and with the overall mean, what can you conclude?"
   ]
  },
  {
   "cell_type": "code",
   "execution_count": 88,
   "metadata": {
    "collapsed": false
   },
   "outputs": [
    {
     "name": "stdout",
     "output_type": "stream",
     "text": [
      "[ Entire Dataset ]---------------------------\n",
      "|\tMean birth weight: 6.10\n",
      "|\tMean femur lenght: 3.83\n",
      "|\n",
      "[ Group I: ages 0-17 ]-----------------------\n",
      "|\tMean birth weight: 5.17\n",
      "|\tMean femur lenght: 3.51\n",
      "|\n",
      "[ Group II: ages 18-34 ]---------------------\n",
      "|\tMean birth weight: 6.71\n",
      "|\tMean femur lenght: 4.00\n",
      "|\n",
      "[ Group I: ages 35-50 ]-----------------------\n",
      "|\tMean birth weight: 5.84\n",
      "|\tMean femur lenght: 3.79\n"
     ]
    }
   ],
   "source": [
    "print \"[ Entire Dataset ]---------------------------\"\n",
    "print \"|\\tMean birth weight: \" + \"{:.2f}\".format(data[:,0].mean())\n",
    "print \"|\\tMean femur lenght: \" + \"{:.2f}\".format(data[:,1].mean())\n",
    "print \"|\"\n",
    "\n",
    "# Filter Group I data for ages 0-17\n",
    "group = data[data[:,2] <= 17]\n",
    "print \"[ Group I: ages 0-17 ]-----------------------\"\n",
    "print \"|\\tMean birth weight: \" + \"{:.2f}\".format(group[:,0].mean())\n",
    "print \"|\\tMean femur lenght: \" + \"{:.2f}\".format(group[:,1].mean())\n",
    "print \"|\"\n",
    "\n",
    "# Filter Group II data for ages 18-34\n",
    "group = data[(data[:,2] >= 18) & (data[:,2] <= 34)]\n",
    "print \"[ Group II: ages 18-34 ]---------------------\"\n",
    "print \"|\\tMean birth weight: \" + \"{:.2f}\".format(group[:,0].mean())\n",
    "print \"|\\tMean femur lenght: \" + \"{:.2f}\".format(group[:,1].mean())\n",
    "print \"|\"\n",
    "\n",
    "# Filter Group III data for ages 35-50\n",
    "group = data[(data[:,2] >= 35) & (data[:,2] <= 50)]\n",
    "print \"[ Group I: ages 35-50 ]-----------------------\"\n",
    "print \"|\\tMean birth weight: \" + \"{:.2f}\".format(group[:,0].mean())\n",
    "print \"|\\tMean femur lenght: \" + \"{:.2f}\".format(group[:,1].mean())"
   ]
  },
  {
   "cell_type": "markdown",
   "metadata": {},
   "source": [
    "**Conclusion**\n",
    "\n",
    "Lower mean birth weights and femur lengths are associated with the younger group I and the older group III.\n",
    "Whereas group II with the ages 18-34 are associated with higher mean birth weights and femur lengths."
   ]
  },
  {
   "cell_type": "markdown",
   "metadata": {},
   "source": [
    "### Part (c): Simple Data Visualization\n",
    "\n",
    "Visualize the data using a 3-D scatter plot. How does your visual analysis compare with the stats you've computed in Part (b)?"
   ]
  },
  {
   "cell_type": "code",
   "execution_count": 90,
   "metadata": {
    "collapsed": false
   },
   "outputs": [
    {
     "ename": "SyntaxError",
     "evalue": "invalid syntax (<ipython-input-90-91d960ab64e9>, line 2)",
     "output_type": "error",
     "traceback": [
      "\u001b[0;36m  File \u001b[0;32m\"<ipython-input-90-91d960ab64e9>\"\u001b[0;36m, line \u001b[0;32m2\u001b[0m\n\u001b[0;31m    axes = fig.add subplot(n, m, k, projection='3d')\u001b[0m\n\u001b[0m                         ^\u001b[0m\n\u001b[0;31mSyntaxError\u001b[0m\u001b[0;31m:\u001b[0m invalid syntax\n"
     ]
    }
   ],
   "source": [
    "x, y, z = data[:]\n",
    "fig = plt.figure()\n",
    "axes = fig.add_subplot(n, m, k, projection='3d')\n",
    "axes.scatter(x, y, z)\n"
   ]
  },
  {
   "cell_type": "markdown",
   "metadata": {},
   "source": [
    "### Part (d): Simple Data Visualization (Continued)\n",
    "\n",
    "Visualize two data attributes at a time,\n",
    "\n",
    "1. maternal age against birth weight\n",
    "2. maternal age against femur length\n",
    "3. birth weight against femur length\n",
    "\n",
    "using 2-D scatter plots.\n",
    "\n",
    "Compare your visual analysis with your analysis from Part (b) and (c)."
   ]
  },
  {
   "cell_type": "code",
   "execution_count": null,
   "metadata": {
    "collapsed": true
   },
   "outputs": [],
   "source": []
  },
  {
   "cell_type": "markdown",
   "metadata": {},
   "source": [
    "### Part (e): More Data Visualization\n",
    "\n",
    "Finally, we want to visualize the data by maternal age group. Plot the data again using a 3-D scatter plot, this time, color the points in the plot according to the age group of the mother (e.g. use red, blue, green to represent group I, II and III respectively).\n",
    "\n",
    "Compare your visual analysis with your analysis from Part (a) - (c)."
   ]
  },
  {
   "cell_type": "code",
   "execution_count": null,
   "metadata": {
    "collapsed": true
   },
   "outputs": [],
   "source": []
  },
  {
   "cell_type": "markdown",
   "metadata": {},
   "source": [
    "## Problem 2: Processing Web Data\n",
    "\n",
    "In this problem we practice some basic web-scrapping using Beautiful Soup."
   ]
  },
  {
   "cell_type": "markdown",
   "metadata": {},
   "source": [
    "### Part (a): Opening and Reading Webpages\n",
    "\n",
    "Open and load the page (Kafka's The Metamorphosis) at \n",
    "\n",
    "$\\mathtt{http://www.gutenberg.org/files/5200/5200-h/5200-h.htm}$\n",
    "\n",
    "into a BeautifulSoup object. \n",
    "\n",
    "The object we obtain is a parse tree (a data structure representing all tags and relationship between tags) of the html file. To concretely visualize this object, print out the first 1000 characters of a representation of the parse tree using the $\\mathtt{prettify()}$ function."
   ]
  },
  {
   "cell_type": "code",
   "execution_count": 102,
   "metadata": {
    "collapsed": false
   },
   "outputs": [
    {
     "name": "stdout",
     "output_type": "stream",
     "text": [
      "<!DOCTYPE HTML PUBLIC \"-//W3C//DTD HTML 4.01 Transitional//EN\">\n",
      "<html>\n",
      " <head>\n",
      "  <title>\n",
      "   Metamorphosis by Franz Kafka\n",
      "  </title>\n",
      "  <meta content=\"text/html; charset=utf-8\" http-equiv=\"Content-Type\">\n",
      "  </meta>\n",
      " </head>\n",
      " <body>\n",
      "  <pre>\r\n",
      "\r\n",
      "The Project Gutenberg EBook of Metamorphosis, by Franz Kafka\r\n",
      "Translated by David Wyllie.\r\n",
      "\r\n",
      "This eBook is for the use of anyone anywhere at no cost and with\r\n",
      "almost no restrictions whatsoever.  You may copy it, give it away or\r\n",
      "re-use it under the terms of the Project Gutenberg License included\r\n",
      "with this eBook or online at www.gutenberg.net\r\n",
      "\r\n",
      "** This is a COPYRIGHTED Project Gutenberg eBook, Details Below **\r\n",
      "**     Please follow the copyright guidelines in this file.     **\r\n",
      "\r\n",
      "\r\n",
      "Title: Metamorphosis\r\n",
      "\r\n",
      "Author: Franz Kafka\r\n",
      "\r\n",
      "Translator: David Wyllie\r\n",
      "\r\n",
      "Release Date: August 16, 2005 [EBook #5200]\r\n",
      "First posted: May 13, 2002\r\n",
      "Last updated: May 20, 2012\r\n",
      "\r\n",
      "Language: English\r\n",
      "\r\n",
      "Character set encoding: ISO-8859-1\r\n",
      "\r\n",
      "*** START OF THIS PROJECT GUTENBERG \n"
     ]
    }
   ],
   "source": [
    "page = urllib.urlopen(\"http://www.gutenberg.org/files/5200/5200-h/5200-h.htm\")\n",
    "soup = BeautifulSoup(page, 'html.parser')\n",
    "\n",
    "# Pretiffy the parse tree returned by Beautiful Soup\n",
    "parse_tree = soup.prettify()\n",
    "\n",
    "# Print the first 1000 characters of the parse tree\n",
    "print(parse_tree[:1001])"
   ]
  },
  {
   "cell_type": "markdown",
   "metadata": {},
   "source": [
    "### Part (b): Exploring the Parsed HTML\n",
    "\n",
    "Explore the nested data structure you obtain in Part (a) by printing out the following:\n",
    "\n",
    "1. the content of the head tag\n",
    "2. the text of the head tag\n",
    "3. each child of the head tag\n",
    "2. the text of the title tag\n",
    "3. the text of the preamble (pre) tag\n",
    "4. the text of the first paragraph (p) tag"
   ]
  },
  {
   "cell_type": "code",
   "execution_count": 129,
   "metadata": {
    "collapsed": false
   },
   "outputs": [
    {
     "name": "stdout",
     "output_type": "stream",
     "text": [
      "[ the content of the head tag ]---------------------------------------------\n",
      "\n",
      "[u'\\n', <title>Metamorphosis by Franz Kafka</title>, u'\\n', <meta content=\"text/html; charset=unicode-escape\" http-equiv=\"Content-Type\">\\n</meta>]\n",
      "\n",
      "[ the text of the head tag ]-----------------------------------------------\n",
      "\n",
      "Metamorphosis by Franz Kafka\n",
      "\n",
      "\n",
      "[ each child of the head tag ]---------------------------------------------\n",
      "\n",
      "<title>Metamorphosis by Franz Kafka</title>\n",
      "<meta content=\"text/html; charset=utf-8\" http-equiv=\"Content-Type\">\n",
      "</meta>\n",
      "\n",
      "[ the text of the title tag ]---------------------------------------------\n",
      "\n",
      "Metamorphosis by Franz Kafka\n",
      "\n",
      "[ the text of the preamble (pre) tag ]---------------------------------------------\n",
      "\r\n",
      "\r\n",
      "The Project Gutenberg EBook of Metamorphosis, by Franz Kafka\r\n",
      "Translated by David Wyllie.\r\n",
      "\r\n",
      "This eBook is for the use of anyone anywhere at no cost and with\r\n",
      "almost no restrictions whatsoever.  You may copy it, give it away or\r\n",
      "re-use it under the terms of the Project Gutenberg License included\r\n",
      "with this eBook or online at www.gutenberg.net\r\n",
      "\r\n",
      "** This is a COPYRIGHTED Project Gutenberg eBook, Details Below **\r\n",
      "**     Please follow the copyright guidelines in this file.     **\r\n",
      "\r\n",
      "\r\n",
      "Title: Metamorphosis\r\n",
      "\r\n",
      "Author: Franz Kafka\r\n",
      "\r\n",
      "Translator: David Wyllie\r\n",
      "\r\n",
      "Release Date: August 16, 2005 [EBook #5200]\r\n",
      "First posted: May 13, 2002\r\n",
      "Last updated: May 20, 2012\r\n",
      "\r\n",
      "Language: English\r\n",
      "\r\n",
      "Character set encoding: ISO-8859-1\r\n",
      "\r\n",
      "*** START OF THIS PROJECT GUTENBERG EBOOK METAMORPHOSIS ***\r\n",
      "\r\n",
      "\r\n",
      "\r\n",
      "\r\n",
      "\r\n",
      "\r\n",
      "Copyright (C) 2002 by David Wyllie.\r\n",
      "\r\n",
      "\r\n",
      "\n",
      "\n",
      "[ the text of the first paragraph (p) tag ]---------------------------------------------\n",
      "\n",
      "One morning, when Gregor Samsa woke from troubled dreams, he found\r\n",
      "himself transformed in his bed into a horrible vermin.  He lay on\r\n",
      "his armour-like back, and if he lifted his head a little he could\r\n",
      "see his brown belly, slightly domed and divided by arches into stiff\r\n",
      "sections.  The bedding was hardly able to cover it and seemed ready\r\n",
      "to slide off any moment.  His many legs, pitifully thin compared\r\n",
      "with the size of the rest of him, waved about helplessly as he\r\n",
      "looked.\n"
     ]
    }
   ],
   "source": [
    "# the content of the head tag\n",
    "print \"[ the content of the head tag ]---------------------------------------------\\n\"\n",
    "print soup.html.head.contents\n",
    "\n",
    "# the text of the head tag\n",
    "print \"\\n[ the text of the head tag ]-----------------------------------------------\"\n",
    "print soup.html.head.text\n",
    "\n",
    "# each child of the head tag\n",
    "print \"[ each child of the head tag ]---------------------------------------------\"\n",
    "print ''.join(map(str, soup.html.head.children))\n",
    "\n",
    "# the text of the title tag\n",
    "print \"\\n[ the text of the title tag ]---------------------------------------------\\n\"\n",
    "print soup.html.head.title.text\n",
    "\n",
    "# the text of the preamble (pre) tag\n",
    "print \"\\n[ the text of the preamble (pre) tag ]---------------------------------------------\"\n",
    "print soup.html.pre.text\n",
    "\n",
    "# the text of the first paragraph (p) tag\n",
    "print \"\\n[ the text of the first paragraph (p) tag ]---------------------------------------------\\n\"\n",
    "print soup.find('p').text\n"
   ]
  },
  {
   "cell_type": "markdown",
   "metadata": {},
   "source": [
    "### Part (c): Extracting Text\n",
    "\n",
    "Now we want to extract the text of The Metamorphosis and do some simple analysis. Beautiful Soup provides a way to extract all text from a webpage via the $\\mathtt{get}$_$\\mathtt{text()}$ function. \n",
    "\n",
    "Print the first and last 5000 characters of the text returned by $\\mathtt{get}$_$\\mathtt{text()}$. Is this the content of the novela? Where is the content of The Metamorphosis stored in the BeautifulSoup object?"
   ]
  },
  {
   "cell_type": "code",
   "execution_count": null,
   "metadata": {
    "collapsed": true
   },
   "outputs": [],
   "source": []
  },
  {
   "cell_type": "markdown",
   "metadata": {},
   "source": [
    "### Part (d): Extracting Text (Continued)\n",
    "\n",
    "Using the $\\mathtt{find}$_$\\mathtt{all()}$ function, extract the text of all $\\mathtt{p}$ tags and concatenate the result into a single string. Print out the first 1000 characters of the string as a sanity check."
   ]
  },
  {
   "cell_type": "code",
   "execution_count": null,
   "metadata": {
    "collapsed": true
   },
   "outputs": [],
   "source": []
  },
  {
   "cell_type": "markdown",
   "metadata": {},
   "source": [
    "### Part (e): Sentence and Word Count\n",
    "\n",
    "Count the number of words in The Metamorphosis. Compute the average word length and plot a histogram of word lengths.\n",
    "\n",
    "Count the number of sentences in The Metamorphosis. Compute the average sentence length and plot a histogram of sentence lengths.\n",
    "\n",
    "**Hint**: You'll need to pre-process the text in order to obtain the correct word/sentence length and count. "
   ]
  },
  {
   "cell_type": "code",
   "execution_count": null,
   "metadata": {
    "collapsed": true
   },
   "outputs": [],
   "source": []
  },
  {
   "cell_type": "markdown",
   "metadata": {},
   "source": [
    "## Problem 3: Data from Simulations\n",
    "\n",
    "In this problem we practice generating data by setting up a simulation of a simple phenomenon, a queue. \n",
    "\n",
    "Suppose we're interested in simulating a queue that forms in front of a small Bank of America branch with one teller, where the customers arrive one at a time.\n",
    "\n",
    "We want to study the queue length and customer waiting time."
   ]
  },
  {
   "cell_type": "markdown",
   "metadata": {},
   "source": [
    "### Part (a): Simulating Arrival and Service Time\n",
    "\n",
    "Assume that gaps between consecutive arrivals are uniformly distributed over the interval of 1 to 20 minutes (i.e. any two times between 1 minute and 6 minutes are equally likely). \n",
    "\n",
    "Assume that the service times are uniform over the interval of 5 to 15 minutes. \n",
    "\n",
    "Generate the arrival and service times for 100 customers, using the $\\mathtt{uniform()}$ function from the $\\mathtt{random}$ library."
   ]
  },
  {
   "cell_type": "code",
   "execution_count": null,
   "metadata": {
    "collapsed": false
   },
   "outputs": [],
   "source": []
  },
  {
   "cell_type": "markdown",
   "metadata": {},
   "source": [
    "### Part (b): Simulating the Queue\n",
    "\n",
    "Write function that computes the average queue length and the average customer wait time, given the arrival times and the service times."
   ]
  },
  {
   "cell_type": "code",
   "execution_count": null,
   "metadata": {
    "collapsed": true
   },
   "outputs": [],
   "source": []
  },
  {
   "cell_type": "markdown",
   "metadata": {},
   "source": [
    "### Part (c): Average Queue Length and Wait Time\n",
    "\n",
    "Run your simulation 500 times and report the mean and std of the average wait time and queue length for 100 customers. What do these statistics mean?\n",
    "\n",
    "Explain why is isn't sufficient to run our simulation **once** and report the average wait time/queue length we obtain."
   ]
  },
  {
   "cell_type": "code",
   "execution_count": null,
   "metadata": {
    "collapsed": true
   },
   "outputs": [],
   "source": []
  },
  {
   "cell_type": "markdown",
   "metadata": {},
   "source": [
    "## Problem 4 (Challenge Problem): More Web Scrapping\n",
    "\n",
    "In this problem we practice extracting tabular web data. Open and read the webpage at\n",
    "\n",
    "$\\mathtt{http://www.thisismoney.co.uk/money/news/article-2928285/Economy-tables-GDP-rates-inflation-history-unemployment.html}$\n",
    "\n",
    "Extract the Inflation History table and load it into a numpy array.\n",
    "\n",
    "Generate a line graph representing the trend of consumer price index vs time (in months)."
   ]
  },
  {
   "cell_type": "code",
   "execution_count": null,
   "metadata": {
    "collapsed": true
   },
   "outputs": [],
   "source": []
  }
 ],
 "metadata": {
  "kernelspec": {
   "display_name": "Python 2",
   "language": "python",
   "name": "python2"
  },
  "language_info": {
   "codemirror_mode": {
    "name": "ipython",
    "version": 2
   },
   "file_extension": ".py",
   "mimetype": "text/x-python",
   "name": "python",
   "nbconvert_exporter": "python",
   "pygments_lexer": "ipython2",
   "version": "2.7.10"
  }
 },
 "nbformat": 4,
 "nbformat_minor": 0
}
