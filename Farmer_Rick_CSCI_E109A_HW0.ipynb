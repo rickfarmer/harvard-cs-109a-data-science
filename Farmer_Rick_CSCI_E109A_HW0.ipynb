{
 "cells": [
  {
   "cell_type": "markdown",
   "metadata": {},
   "source": [
    "# CS 109A/AC 209A/STAT 121A Data Science: Homework 0\n",
    "**Harvard University**<br>\n",
    "**Fall 2016**<br>\n",
    "**Instructors: W. Pan, P. Protopapas, K. Rader**"
   ]
  },
  {
   "cell_type": "markdown",
   "metadata": {},
   "source": [
    "Import libraries"
   ]
  },
  {
   "cell_type": "code",
   "execution_count": 2,
   "metadata": {
    "collapsed": false
   },
   "outputs": [],
   "source": [
    "import numpy as np\n",
    "import matplotlib\n",
    "import matplotlib.pyplot as plt\n",
    "import random\n",
    "from mpl_toolkits.mplot3d import Axes3D\n",
    "from bs4 import BeautifulSoup\n",
    "import urllib\n",
    "%matplotlib inline"
   ]
  },
  {
   "cell_type": "markdown",
   "metadata": {},
   "source": [
    "## Problem 1: Processing Tabular Data from File\n",
    "\n",
    "In this problem, we practice reading csv formatted data and doing some very simple data exploration."
   ]
  },
  {
   "cell_type": "markdown",
   "metadata": {},
   "source": [
    "### Part (a): Reading CSV Data with Numpy\n",
    "\n",
    "Open the file $\\mathtt{dataset}$\\_$\\mathtt{HW0.txt}$, containing birth biometrics as well as maternal data for a number of U.S. births, and inspect the csv formatting of the data. Load the data, without the column headers, into an numpy array. \n",
    "\n",
    "Do some preliminary explorations of the data by printing out the dimensions as well as the first three rows of the array. Finally, for each column, print out the range of the values. \n",
    "\n",
    "<b>Prettify your output</b>, add in some text and formatting to make sure your outputs are readable (e.g. \"36x4\" is less readable than \"array dimensions: 36x4\")."
   ]
  },
  {
   "cell_type": "code",
   "execution_count": 3,
   "metadata": {
    "collapsed": false
   },
   "outputs": [
    {
     "name": "stdout",
     "output_type": "stream",
     "text": [
      "Array dimensions: 400 x 3\n",
      "\n",
      "\n",
      "First three rows:\n",
      "[[  4.03896294   3.5556812   16.        ]\n",
      " [  5.30264328   3.3856329   15.        ]\n",
      " [  6.08610661   4.49542706  17.        ]]\n"
     ]
    }
   ],
   "source": [
    "# Open the file containing birth biometrics as well as maternal data for a number of U.S. births\n",
    "data = np.loadtxt(\"dataset_HW0.txt\", delimiter=\",\", skiprows=1)\n",
    "#data = np.genfromtxt(\"dataset_HW0.txt\", delimiter=\",\", skip_header=1)\n",
    "\n",
    "# Display the dimensions of the data with a pretty format\n",
    "sx, sy = data.shape\n",
    "print \"Array dimensions: \" + str(sx) + \" x \" + str(sy)\n",
    "print \"\\n\"\n",
    "\n",
    "# Display the first three rows of data\n",
    "print \"First three rows:\"\n",
    "print data[1:4,:]"
   ]
  },
  {
   "cell_type": "markdown",
   "metadata": {},
   "source": [
    "### Part (b): Simple Data Statistics\n",
    "\n",
    "Compute the mean birth weight and mean femur length for the entire dataset. Now, we want to split the birth data into three groups based on the mother's age:\n",
    "\n",
    "1. Group I: ages 0-17\n",
    "2. Group II: ages 18-34\n",
    "3. Group III: ages 35-50\n",
    "\n",
    "For each maternal age group, compute the mean birth weight and mean femure length. \n",
    "\n",
    "<b>Prettify your output.</b>\n",
    "\n",
    "Compare the group means with each other and with the overall mean, what can you conclude?"
   ]
  },
  {
   "cell_type": "code",
   "execution_count": 4,
   "metadata": {
    "collapsed": false
   },
   "outputs": [
    {
     "name": "stdout",
     "output_type": "stream",
     "text": [
      "[ Entire Dataset ]---------------------------\n",
      "|\tMean birth weight: 6.10\n",
      "|\tMean femur lenght: 3.83\n",
      "|\n",
      "[ Group I: ages 0-17 ]-----------------------\n",
      "|\tMean birth weight: 5.17\n",
      "|\tMean femur lenght: 3.51\n",
      "|\n",
      "[ Group II: ages 18-34 ]---------------------\n",
      "|\tMean birth weight: 6.71\n",
      "|\tMean femur lenght: 4.00\n",
      "|\n",
      "[ Group I: ages 35-50 ]-----------------------\n",
      "|\tMean birth weight: 5.84\n",
      "|\tMean femur lenght: 3.79\n"
     ]
    }
   ],
   "source": [
    "print \"[ Entire Dataset ]---------------------------\"\n",
    "print \"|\\tMean birth weight: \" + \"{:.2f}\".format(data[:,0].mean())\n",
    "print \"|\\tMean femur lenght: \" + \"{:.2f}\".format(data[:,1].mean())\n",
    "print \"|\"\n",
    "\n",
    "# Filter Group I data for ages 0-17\n",
    "group = data[data[:,2] <= 17]\n",
    "print \"[ Group I: ages 0-17 ]-----------------------\"\n",
    "print \"|\\tMean birth weight: \" + \"{:.2f}\".format(group[:,0].mean())\n",
    "print \"|\\tMean femur lenght: \" + \"{:.2f}\".format(group[:,1].mean())\n",
    "print \"|\"\n",
    "\n",
    "# Filter Group II data for ages 18-34\n",
    "group = data[(data[:,2] >= 18) & (data[:,2] <= 34)]\n",
    "print \"[ Group II: ages 18-34 ]---------------------\"\n",
    "print \"|\\tMean birth weight: \" + \"{:.2f}\".format(group[:,0].mean())\n",
    "print \"|\\tMean femur lenght: \" + \"{:.2f}\".format(group[:,1].mean())\n",
    "print \"|\"\n",
    "\n",
    "# Filter Group III data for ages 35-50\n",
    "group = data[(data[:,2] >= 35) & (data[:,2] <= 50)]\n",
    "print \"[ Group I: ages 35-50 ]-----------------------\"\n",
    "print \"|\\tMean birth weight: \" + \"{:.2f}\".format(group[:,0].mean())\n",
    "print \"|\\tMean femur lenght: \" + \"{:.2f}\".format(group[:,1].mean())"
   ]
  },
  {
   "cell_type": "markdown",
   "metadata": {},
   "source": [
    "**Conclusion**\n",
    "\n",
    "Lower mean birth weights and femur lengths are associated with the younger group I and the older group III.\n",
    "Whereas group II with the ages 18-34 are associated with higher mean birth weights and femur lengths."
   ]
  },
  {
   "cell_type": "markdown",
   "metadata": {},
   "source": [
    "### Part (c): Simple Data Visualization\n",
    "\n",
    "Visualize the data using a 3-D scatter plot. How does your visual analysis compare with the stats you've computed in Part (b)?"
   ]
  },
  {
   "cell_type": "code",
   "execution_count": 90,
   "metadata": {
    "collapsed": false
   },
   "outputs": [
    {
     "ename": "SyntaxError",
     "evalue": "invalid syntax (<ipython-input-90-91d960ab64e9>, line 2)",
     "output_type": "error",
     "traceback": [
      "\u001b[0;36m  File \u001b[0;32m\"<ipython-input-90-91d960ab64e9>\"\u001b[0;36m, line \u001b[0;32m2\u001b[0m\n\u001b[0;31m    axes = fig.add subplot(n, m, k, projection='3d')\u001b[0m\n\u001b[0m                         ^\u001b[0m\n\u001b[0;31mSyntaxError\u001b[0m\u001b[0;31m:\u001b[0m invalid syntax\n"
     ]
    }
   ],
   "source": [
    "x, y, z = data[:]\n",
    "fig = plt.figure()\n",
    "axes = fig.add_subplot(n, m, k, projection='3d')\n",
    "axes.scatter(x, y, z)\n"
   ]
  },
  {
   "cell_type": "markdown",
   "metadata": {},
   "source": [
    "### Part (d): Simple Data Visualization (Continued)\n",
    "\n",
    "Visualize two data attributes at a time,\n",
    "\n",
    "1. maternal age against birth weight\n",
    "2. maternal age against femur length\n",
    "3. birth weight against femur length\n",
    "\n",
    "using 2-D scatter plots.\n",
    "\n",
    "Compare your visual analysis with your analysis from Part (b) and (c)."
   ]
  },
  {
   "cell_type": "code",
   "execution_count": null,
   "metadata": {
    "collapsed": true
   },
   "outputs": [],
   "source": []
  },
  {
   "cell_type": "markdown",
   "metadata": {},
   "source": [
    "### Part (e): More Data Visualization\n",
    "\n",
    "Finally, we want to visualize the data by maternal age group. Plot the data again using a 3-D scatter plot, this time, color the points in the plot according to the age group of the mother (e.g. use red, blue, green to represent group I, II and III respectively).\n",
    "\n",
    "Compare your visual analysis with your analysis from Part (a) - (c)."
   ]
  },
  {
   "cell_type": "code",
   "execution_count": null,
   "metadata": {
    "collapsed": true
   },
   "outputs": [],
   "source": []
  },
  {
   "cell_type": "markdown",
   "metadata": {},
   "source": [
    "## Problem 2: Processing Web Data\n",
    "\n",
    "In this problem we practice some basic web-scrapping using Beautiful Soup."
   ]
  },
  {
   "cell_type": "markdown",
   "metadata": {},
   "source": [
    "### Part (a): Opening and Reading Webpages\n",
    "\n",
    "Open and load the page (Kafka's The Metamorphosis) at \n",
    "\n",
    "$\\mathtt{http://www.gutenberg.org/files/5200/5200-h/5200-h.htm}$\n",
    "\n",
    "into a BeautifulSoup object. \n",
    "\n",
    "The object we obtain is a parse tree (a data structure representing all tags and relationship between tags) of the html file. To concretely visualize this object, print out the first 1000 characters of a representation of the parse tree using the $\\mathtt{prettify()}$ function."
   ]
  },
  {
   "cell_type": "code",
   "execution_count": 5,
   "metadata": {
    "collapsed": false
   },
   "outputs": [
    {
     "name": "stdout",
     "output_type": "stream",
     "text": [
      "<!DOCTYPE HTML PUBLIC \"-//W3C//DTD HTML 4.01 Transitional//EN\">\n",
      "<html>\n",
      " <head>\n",
      "  <title>\n",
      "   Metamorphosis by Franz Kafka\n",
      "  </title>\n",
      "  <meta content=\"text/html; charset=utf-8\" http-equiv=\"Content-Type\">\n",
      "  </meta>\n",
      " </head>\n",
      " <body>\n",
      "  <pre>\r\n",
      "\r\n",
      "The Project Gutenberg EBook of Metamorphosis, by Franz Kafka\r\n",
      "Translated by David Wyllie.\r\n",
      "\r\n",
      "This eBook is for the use of anyone anywhere at no cost and with\r\n",
      "almost no restrictions whatsoever.  You may copy it, give it away or\r\n",
      "re-use it under the terms of the Project Gutenberg License included\r\n",
      "with this eBook or online at www.gutenberg.net\r\n",
      "\r\n",
      "** This is a COPYRIGHTED Project Gutenberg eBook, Details Below **\r\n",
      "**     Please follow the copyright guidelines in this file.     **\r\n",
      "\r\n",
      "\r\n",
      "Title: Metamorphosis\r\n",
      "\r\n",
      "Author: Franz Kafka\r\n",
      "\r\n",
      "Translator: David Wyllie\r\n",
      "\r\n",
      "Release Date: August 16, 2005 [EBook #5200]\r\n",
      "First posted: May 13, 2002\r\n",
      "Last updated: May 20, 2012\r\n",
      "\r\n",
      "Language: English\r\n",
      "\r\n",
      "Character set encoding: ISO-8859-1\r\n",
      "\r\n",
      "*** START OF THIS PROJECT GUTENBERG \n"
     ]
    }
   ],
   "source": [
    "page = urllib.urlopen(\"http://www.gutenberg.org/files/5200/5200-h/5200-h.htm\")\n",
    "soup = BeautifulSoup(page, 'html.parser')\n",
    "\n",
    "# Pretiffy the parse tree returned by Beautiful Soup\n",
    "parse_tree = soup.prettify()\n",
    "\n",
    "# Print the first 1000 characters of the parse tree\n",
    "print(parse_tree[:1001])"
   ]
  },
  {
   "cell_type": "markdown",
   "metadata": {},
   "source": [
    "### Part (b): Exploring the Parsed HTML\n",
    "\n",
    "Explore the nested data structure you obtain in Part (a) by printing out the following:\n",
    "\n",
    "1. the content of the head tag\n",
    "2. the text of the head tag\n",
    "3. each child of the head tag\n",
    "2. the text of the title tag\n",
    "3. the text of the preamble (pre) tag\n",
    "4. the text of the first paragraph (p) tag"
   ]
  },
  {
   "cell_type": "code",
   "execution_count": 6,
   "metadata": {
    "collapsed": false
   },
   "outputs": [
    {
     "name": "stdout",
     "output_type": "stream",
     "text": [
      "[ the content of the head tag ]---------------------------------------------\n",
      "\n",
      "[u'\\n', <title>Metamorphosis by Franz Kafka</title>, u'\\n', <meta content=\"text/html; charset=unicode-escape\" http-equiv=\"Content-Type\">\\n</meta>]\n",
      "\n",
      "[ the text of the head tag ]-----------------------------------------------\n",
      "\n",
      "Metamorphosis by Franz Kafka\n",
      "\n",
      "\n",
      "[ each child of the head tag ]---------------------------------------------\n",
      "\n",
      "<title>Metamorphosis by Franz Kafka</title>\n",
      "<meta content=\"text/html; charset=utf-8\" http-equiv=\"Content-Type\">\n",
      "</meta>\n",
      "\n",
      "[ the text of the title tag ]---------------------------------------------\n",
      "\n",
      "Metamorphosis by Franz Kafka\n",
      "\n",
      "[ the text of the preamble (pre) tag ]---------------------------------------------\n",
      "\r\n",
      "\r\n",
      "The Project Gutenberg EBook of Metamorphosis, by Franz Kafka\r\n",
      "Translated by David Wyllie.\r\n",
      "\r\n",
      "This eBook is for the use of anyone anywhere at no cost and with\r\n",
      "almost no restrictions whatsoever.  You may copy it, give it away or\r\n",
      "re-use it under the terms of the Project Gutenberg License included\r\n",
      "with this eBook or online at www.gutenberg.net\r\n",
      "\r\n",
      "** This is a COPYRIGHTED Project Gutenberg eBook, Details Below **\r\n",
      "**     Please follow the copyright guidelines in this file.     **\r\n",
      "\r\n",
      "\r\n",
      "Title: Metamorphosis\r\n",
      "\r\n",
      "Author: Franz Kafka\r\n",
      "\r\n",
      "Translator: David Wyllie\r\n",
      "\r\n",
      "Release Date: August 16, 2005 [EBook #5200]\r\n",
      "First posted: May 13, 2002\r\n",
      "Last updated: May 20, 2012\r\n",
      "\r\n",
      "Language: English\r\n",
      "\r\n",
      "Character set encoding: ISO-8859-1\r\n",
      "\r\n",
      "*** START OF THIS PROJECT GUTENBERG EBOOK METAMORPHOSIS ***\r\n",
      "\r\n",
      "\r\n",
      "\r\n",
      "\r\n",
      "\r\n",
      "\r\n",
      "Copyright (C) 2002 by David Wyllie.\r\n",
      "\r\n",
      "\r\n",
      "\n",
      "\n",
      "[ the text of the first paragraph (p) tag ]---------------------------------------------\n",
      "\n",
      "One morning, when Gregor Samsa woke from troubled dreams, he found\r\n",
      "himself transformed in his bed into a horrible vermin.  He lay on\r\n",
      "his armour-like back, and if he lifted his head a little he could\r\n",
      "see his brown belly, slightly domed and divided by arches into stiff\r\n",
      "sections.  The bedding was hardly able to cover it and seemed ready\r\n",
      "to slide off any moment.  His many legs, pitifully thin compared\r\n",
      "with the size of the rest of him, waved about helplessly as he\r\n",
      "looked.\n"
     ]
    }
   ],
   "source": [
    "# the content of the head tag\n",
    "print \"[ the content of the head tag ]---------------------------------------------\\n\"\n",
    "print soup.html.head.contents\n",
    "\n",
    "# the text of the head tag\n",
    "print \"\\n[ the text of the head tag ]-----------------------------------------------\"\n",
    "print soup.html.head.text\n",
    "\n",
    "# each child of the head tag\n",
    "print \"[ each child of the head tag ]---------------------------------------------\"\n",
    "print ''.join(map(str, soup.html.head.children))\n",
    "\n",
    "# the text of the title tag\n",
    "print \"\\n[ the text of the title tag ]---------------------------------------------\\n\"\n",
    "print soup.html.head.title.text\n",
    "\n",
    "# the text of the preamble (pre) tag\n",
    "print \"\\n[ the text of the preamble (pre) tag ]---------------------------------------------\"\n",
    "print soup.html.pre.text\n",
    "\n",
    "# the text of the first paragraph (p) tag\n",
    "print \"\\n[ the text of the first paragraph (p) tag ]---------------------------------------------\\n\"\n",
    "print soup.find('p').text\n"
   ]
  },
  {
   "cell_type": "markdown",
   "metadata": {},
   "source": [
    "### Part (c): Extracting Text\n",
    "\n",
    "Now we want to extract the text of The Metamorphosis and do some simple analysis. Beautiful Soup provides a way to extract all text from a webpage via the $\\mathtt{get}$_$\\mathtt{text()}$ function. \n",
    "\n",
    "Print the first and last 5000 characters of the text returned by $\\mathtt{get}$_$\\mathtt{text()}$. Is this the content of the novela? Where is the content of The Metamorphosis stored in the BeautifulSoup object?"
   ]
  },
  {
   "cell_type": "code",
   "execution_count": 9,
   "metadata": {
    "collapsed": false
   },
   "outputs": [
    {
     "name": "stdout",
     "output_type": "stream",
     "text": [
      "\n",
      "[ first 5000 characters ]---------------------------------------------\n",
      "\n",
      "\n",
      "\n",
      "\n",
      "Metamorphosis by Franz Kafka\n",
      "\n",
      "\n",
      "\n",
      "\r\n",
      "\r\n",
      "The Project Gutenberg EBook of Metamorphosis, by Franz Kafka\r\n",
      "Translated by David Wyllie.\r\n",
      "\r\n",
      "This eBook is for the use of anyone anywhere at no cost and with\r\n",
      "almost no restrictions whatsoever.  You may copy it, give it away or\r\n",
      "re-use it under the terms of the Project Gutenberg License included\r\n",
      "with this eBook or online at www.gutenberg.net\r\n",
      "\r\n",
      "** This is a COPYRIGHTED Project Gutenberg eBook, Details Below **\r\n",
      "**     Please follow the copyright guidelines in this file.     **\r\n",
      "\r\n",
      "\r\n",
      "Title: Metamorphosis\r\n",
      "\r\n",
      "Author: Franz Kafka\r\n",
      "\r\n",
      "Translator: David Wyllie\r\n",
      "\r\n",
      "Release Date: August 16, 2005 [EBook #5200]\r\n",
      "First posted: May 13, 2002\r\n",
      "Last updated: May 20, 2012\r\n",
      "\r\n",
      "Language: English\r\n",
      "\r\n",
      "Character set encoding: ISO-8859-1\r\n",
      "\r\n",
      "*** START OF THIS PROJECT GUTENBERG EBOOK METAMORPHOSIS ***\r\n",
      "\r\n",
      "\r\n",
      "\r\n",
      "\r\n",
      "\r\n",
      "\r\n",
      "Copyright (C) 2002 by David Wyllie.\r\n",
      "\r\n",
      "\r\n",
      "\n",
      "\r\n",
      "  Metamorphosis\r\n",
      "  Franz Kafka\n",
      "Translated by David Wyllie\n",
      "I\n",
      "One morning, when Gregor Samsa woke from troubled dreams, he found\r\n",
      "himself transformed in his bed into a horrible vermin.  He lay on\r\n",
      "his armour-like back, and if he lifted his head a little he could\r\n",
      "see his brown belly, slightly domed and divided by arches into stiff\r\n",
      "sections.  The bedding was hardly able to cover it and seemed ready\r\n",
      "to slide off any moment.  His many legs, pitifully thin compared\r\n",
      "with the size of the rest of him, waved about helplessly as he\r\n",
      "looked.\n",
      "\"What's happened to me?\" he thought.  It wasn't a dream.  His room,\r\n",
      "a proper human room although a little too small, lay peacefully\r\n",
      "between its four familiar walls.  A collection of textile samples\r\n",
      "lay spread out on the table - Samsa was a travelling salesman - and\r\n",
      "above it there hung a picture that he had recently cut out of an\r\n",
      "illustrated magazine and housed in a nice, gilded frame.  It showed\r\n",
      "a lady fitted out with a fur hat and fur boa who sat upright,\r\n",
      "raising a heavy fur muff that covered the whole of her lower arm\r\n",
      "towards the viewer.\n",
      "Gregor then turned to look out the window at the dull weather.\r\n",
      "Drops of rain could be heard hitting the pane, which made him feel\r\n",
      "quite sad.  \"How about if I sleep a little bit longer and forget all\r\n",
      "this nonsense\", he thought, but that was something he was unable to\r\n",
      "do because he was used to sleeping on his right, and in his present\r\n",
      "state couldn't get into that position.  However hard he threw\r\n",
      "himself onto his right, he always rolled back to where he was.  He\r\n",
      "must have tried it a hundred times, shut his eyes so that he\r\n",
      "wouldn't have to look at the floundering legs, and only stopped when\r\n",
      "he began to feel a mild, dull pain there that he had never felt\r\n",
      "before.\n",
      "\"Oh, God\", he thought, \"what a strenuous career it is that I've\r\n",
      "chosen! Travelling day in and day out.  Doing business like this\r\n",
      "takes much more effort than doing your own business at home, and on\r\n",
      "top of that there's the curse of travelling, worries about making\r\n",
      "train connections, bad and irregular food, contact with different\r\n",
      "people all the time so that you can never get to know anyone or\r\n",
      "become friendly with them.  It can all go to Hell!\"  He felt a\r\n",
      "slight itch up on his belly; pushed himself slowly up on his back\r\n",
      "towards the headboard so that he could lift his head better; found\r\n",
      "where the itch was, and saw that it was covered with lots of little\r\n",
      "white spots which he didn't know what to make of; and when he tried\r\n",
      "to feel the place with one of his legs he drew it quickly back\r\n",
      "because as soon as he touched it he was overcome by a cold shudder.\n",
      "He slid back into his former position.  \"Getting up early all the\r\n",
      "time\", he thought, \"it makes you stupid.  You've got to get enough\r\n",
      "sleep.  Other travelling salesmen live a life of luxury.  For\r\n",
      "instance, whenever I go back to the guest house during the morning\r\n",
      "to copy out the contract, these gentlemen are always still sitting\r\n",
      "there eating their breakfasts.  I ought to just try that with my\r\n",
      "boss; I'd get kicked out on the spot.  But who knows, maybe that\r\n",
      "would be the best thing for me.  If I didn't have my parents to\r\n",
      "think about I'd have given in my notice a long time ago, I'd have\r\n",
      "gone up to the boss and told him just what I think, tell him\r\n",
      "everything I would, let him know just what I feel.  He'd fall right\r\n",
      "off his desk! And it's a funny sort of business to be sitting up\r\n",
      "there at your desk, talking down at your subordinates from up there,\r\n",
      "especially when you have to go right up close because the boss is\r\n",
      "hard of hearing.  Well, there's still some hope; once I've got the\r\n",
      "money together to pay off my parents' debt to him - another five or\r\n",
      "six years I suppose - that's definitely what I'll do.  That's when\r\n",
      "I'll make the big change.  First of all though, I've got to get up,\r\n",
      "my train leaves at five.\"\n",
      "And he looked over at the alarm clock, ticking on the chest of\r\n",
      "drawers.  \"God in Heaven!\" he thought.  It was half past six and the\r\n",
      "hands were quietly moving forwards, it was even later than half\r\n",
      "past, more like quarter to seven.  Had the alarm clo\n",
      "\n",
      "[ last 5000 characters ]---------------------------------------------\n",
      "\n",
      "\r\n",
      "Project Gutenberg-tm work, and (c) any Defect you cause.\r\n",
      "\r\n",
      "\r\n",
      "Section  2.  Information about the Mission of Project Gutenberg-tm\r\n",
      "\r\n",
      "Project Gutenberg-tm is synonymous with the free distribution of\r\n",
      "electronic works in formats readable by the widest variety of computers\r\n",
      "including obsolete, old, middle-aged and new computers.  It exists\r\n",
      "because of the efforts of hundreds of volunteers and donations from\r\n",
      "people in all walks of life.\r\n",
      "\r\n",
      "Volunteers and financial support to provide volunteers with the\r\n",
      "assistance they need, is critical to reaching Project Gutenberg-tm's\r\n",
      "goals and ensuring that the Project Gutenberg-tm collection will\r\n",
      "remain freely available for generations to come.  In 2001, the Project\r\n",
      "Gutenberg Literary Archive Foundation was created to provide a secure\r\n",
      "and permanent future for Project Gutenberg-tm and future generations.\r\n",
      "To learn more about the Project Gutenberg Literary Archive Foundation\r\n",
      "and how your efforts and donations can help, see Sections 3 and 4\r\n",
      "and the Foundation web page at http://www.pglaf.org.\r\n",
      "\r\n",
      "\r\n",
      "Section 3.  Information about the Project Gutenberg Literary Archive\r\n",
      "Foundation\r\n",
      "\r\n",
      "The Project Gutenberg Literary Archive Foundation is a non profit\r\n",
      "501(c)(3) educational corporation organized under the laws of the\r\n",
      "state of Mississippi and granted tax exempt status by the Internal\r\n",
      "Revenue Service.  The Foundation's EIN or federal tax identification\r\n",
      "number is 64-6221541.  Its 501(c)(3) letter is posted at\r\n",
      "http://pglaf.org/fundraising.  Contributions to the Project Gutenberg\r\n",
      "Literary Archive Foundation are tax deductible to the full extent\r\n",
      "permitted by U.S. federal laws and your state's laws.\r\n",
      "\r\n",
      "The Foundation's principal office is located at 4557 Melan Dr. S.\r\n",
      "Fairbanks, AK, 99712., but its volunteers and employees are scattered\r\n",
      "throughout numerous locations.  Its business office is located at\r\n",
      "809 North 1500 West, Salt Lake City, UT 84116, (801) 596-1887, email\r\n",
      "business@pglaf.org.  Email contact links and up to date contact\r\n",
      "information can be found at the Foundation's web site and official\r\n",
      "page at http://pglaf.org\r\n",
      "\r\n",
      "For additional contact information:\r\n",
      "     Dr. Gregory B. Newby\r\n",
      "     Chief Executive and Director\r\n",
      "     gbnewby@pglaf.org\r\n",
      "\r\n",
      "Section 4.  Information about Donations to the Project Gutenberg\r\n",
      "Literary Archive Foundation\r\n",
      "\r\n",
      "Project Gutenberg-tm depends upon and cannot survive without wide\r\n",
      "spread public support and donations to carry out its mission of\r\n",
      "increasing the number of public domain and licensed works that can be\r\n",
      "freely distributed in machine readable form accessible by the widest\r\n",
      "array of equipment including outdated equipment.  Many small donations\r\n",
      "($1 to $5,000) are particularly important to maintaining tax exempt\r\n",
      "status with the IRS.\r\n",
      "\r\n",
      "The Foundation is committed to complying with the laws regulating\r\n",
      "charities and charitable donations in all 50 states of the United\r\n",
      "States.  Compliance requirements are not uniform and it takes a\r\n",
      "considerable effort, much paperwork and many fees to meet and keep up\r\n",
      "with these requirements.  We do not solicit donations in locations\r\n",
      "where we have not received written confirmation of compliance.  To\r\n",
      "SEND DONATIONS or determine the status of compliance for any\r\n",
      "particular state visit http://pglaf.org\r\n",
      "\r\n",
      "While we cannot and do not solicit contributions from states where we\r\n",
      "have not met the solicitation requirements, we know of no prohibition\r\n",
      "against accepting unsolicited donations from donors in such states who\r\n",
      "approach us with offers to donate.\r\n",
      "\r\n",
      "International donations are gratefully accepted, but we cannot make\r\n",
      "any statements concerning tax treatment of donations received from\r\n",
      "outside the United States.  U.S. laws alone swamp our small staff.\r\n",
      "\r\n",
      "Please check the Project Gutenberg Web pages for current donation\r\n",
      "methods and addresses.  Donations are accepted in a number of other\r\n",
      "ways including including checks, online payments and credit card\r\n",
      "donations.  To donate, please visit: http://pglaf.org/donate\r\n",
      "\r\n",
      "\r\n",
      "Section 5.  General Information About Project Gutenberg-tm electronic\r\n",
      "works.\r\n",
      "\r\n",
      "Professor Michael S. Hart is the originator of the Project Gutenberg-tm\r\n",
      "concept of a library of electronic works that could be freely shared\r\n",
      "with anyone.  For thirty years, he produced and distributed Project\r\n",
      "Gutenberg-tm eBooks with only a loose network of volunteer support.\r\n",
      "\r\n",
      "Project Gutenberg-tm eBooks are often created from several printed\r\n",
      "editions, all of which are confirmed as Public Domain in the U.S.\r\n",
      "unless a copyright notice is included.  Thus, we do not necessarily\r\n",
      "keep eBooks in compliance with any particular paper edition.\r\n",
      "\r\n",
      "Most people start at our Web site which has the main PG search facility:\r\n",
      "\r\n",
      "http://www.gutenberg.net\r\n",
      "\r\n",
      "This Web site includes information about Project Gutenberg-tm,\r\n",
      "including how to make donations to the Project Gutenberg Literary\r\n",
      "Archive Foundation, how to help produce our new eBooks, and how to\r\n",
      "subscribe to our email newsletter to hear about new eBooks.\r\n",
      "\r\n",
      "\r\n",
      "\r\n",
      "\n",
      "\n",
      "\n",
      "\n"
     ]
    }
   ],
   "source": [
    "# Get the first 5000 characters\n",
    "print \"\\n[ first 5000 characters ]---------------------------------------------\\n\"\n",
    "print soup.get_text()[0:5001]\n",
    "\n",
    "# Get the last 5000 characters\n",
    "print \"\\n[ last 5000 characters ]---------------------------------------------\\n\"\n",
    "print soup.get_text()[-5000:]"
   ]
  },
  {
   "cell_type": "markdown",
   "metadata": {},
   "source": [
    "### Part (d): Extracting Text (Continued)\n",
    "\n",
    "Using the $\\mathtt{find}$_$\\mathtt{all()}$ function, extract the text of all $\\mathtt{p}$ tags and concatenate the result into a single string. Print out the first 1000 characters of the string as a sanity check."
   ]
  },
  {
   "cell_type": "code",
   "execution_count": 40,
   "metadata": {
    "collapsed": false
   },
   "outputs": [
    {
     "name": "stdout",
     "output_type": "stream",
     "text": [
      "\n",
      "[ First 1000 characters ]---------------------------------------------\n",
      "\n",
      "One morning, when Gregor Samsa woke from troubled dreams, he found\r\n",
      "himself transformed in his bed into a horrible vermin.  He lay on\r\n",
      "his armour-like back, and if he lifted his head a little he could\r\n",
      "see his brown belly, slightly domed and divided by arches into stiff\r\n",
      "sections.  The bedding was hardly able to cover it and seemed ready\r\n",
      "to slide off any moment.  His many legs, pitifully thin compared\r\n",
      "with the size of the rest of him, waved about helplessly as he\r\n",
      "looked. \"What's happened to me?\" he thought.  It wasn't a dream.  His room,\r\n",
      "a proper human room although a little too small, lay peacefully\r\n",
      "between its four familiar walls.  A collection of textile samples\r\n",
      "lay spread out on the table - Samsa was a travelling salesman - and\r\n",
      "above it there hung a picture that he had recently cut out of an\r\n",
      "illustrated magazine and housed in a nice, gilded frame.  It showed\r\n",
      "a lady fitted out with a fur hat and fur boa who sat upright,\r\n",
      "raising a heavy fur muff that covered the whole of her\n"
     ]
    }
   ],
   "source": [
    "# Collect all the paragraphs as a single list\n",
    "all_paragraphs = soup('p')\n",
    "\n",
    "# Function to convert to strings and remove <p> and </p> tags from each paragraph\n",
    "def clean_up(x): return str(x)[3:-4]\n",
    "\n",
    "# Concatenate the results into a single sring using the 'map' function\n",
    "all_words = ' '.join(map(clean_up, all_paragraphs))\n",
    "\n",
    "# Print out the first 1000 chars\n",
    "print \"\\n[ First 1000 characters ]---------------------------------------------\\n\"\n",
    "print all_words[0:1001]"
   ]
  },
  {
   "cell_type": "markdown",
   "metadata": {},
   "source": [
    "### Part (e): Sentence and Word Count\n",
    "\n",
    "Count the number of words in The Metamorphosis. Compute the average word length and plot a histogram of word lengths.\n",
    "\n",
    "Count the number of sentences in The Metamorphosis. Compute the average sentence length and plot a histogram of sentence lengths.\n",
    "\n",
    "**Hint**: You'll need to pre-process the text in order to obtain the correct word/sentence length and count. "
   ]
  },
  {
   "cell_type": "code",
   "execution_count": 51,
   "metadata": {
    "collapsed": false
   },
   "outputs": [
    {
     "name": "stdout",
     "output_type": "stream",
     "text": [
      "\n",
      "[ Word Count ]---------------------------------------------\n",
      "\n",
      "120800\n",
      "\n",
      "[ # of Sentences ]---------------------------------------------\n",
      "\n",
      "725\n",
      "\n",
      "[ Avg Sentence Length ]---------------------------------------------\n",
      "\n",
      "['One morning, when Gregor Samsa woke from troubled dreams, he found\\r\\nhimself transformed in his bed into a horrible vermin.', ' He lay on\\r\\nhis armour-like back, and if he lifted his head a little he could\\r\\nsee his brown belly, slightly domed and divided by arches into stiff\\r\\nsections.', ' The bedding was hardly able to cover it and seemed ready\\r\\nto slide off any moment.', ' His many legs, pitifully thin compared\\r\\nwith the size of the rest of him, waved about helplessly as he\\r\\nlooked.', '\"What\\'s happened to me?\" he thought.', \" It wasn't a dream.\", ' His room,\\r\\na proper human room although a little too small, lay peacefully\\r\\nbetween its four familiar walls.', ' A collection of textile samples\\r\\nlay spread out on the table - Samsa was a travelling salesman - and\\r\\nabove it there hung a picture that he had recently cut out of an\\r\\nillustrated magazine and housed in a nice, gilded frame.', ' It showed\\r\\na lady fitted out with a fur hat and fur boa who sat upright,\\r\\nraising a heavy fur muff that covered the whole of her lower arm\\r\\ntowards the viewer.', 'Gregor then turned to look out the window at the dull weather.', '\\nDrops of rain could be heard hitting the pane, which made him feel\\r\\nquite sad.', ' \"How about if I sleep a little bit longer and forget all\\r\\nthis nonsense\", he thought, but that was something he was unable to\\r\\ndo because he was used to sleeping on his right, and in his present\\r\\nstate couldn\\'t get into that position.', ' However hard he threw\\r\\nhimself onto his right, he always rolled back to where he was.', \" He\\r\\nmust have tried it a hundred times, shut his eyes so that he\\r\\nwouldn't have to look at the floundering legs, and only stopped when\\r\\nhe began to feel a mild, dull pain there that he had never felt\\r\\nbefore.\", '\"Oh, God\", he thought, \"what a strenuous career it is that I\\'ve\\r\\nchosen! Travelling day in and day out.', \" Doing business like this\\r\\ntakes much more effort than doing your own business at home, and on\\r\\ntop of that there's the curse of travelling, worries about making\\r\\ntrain connections, bad and irregular food, contact with different\\r\\npeople all the time so that you can never get to know anyone or\\r\\nbecome friendly with them.\", ' It can all go to Hell!\"  He felt a\\r\\nslight itch up on his belly; pushed himself slowly up on his back\\r\\ntowards the headboard so that he could lift his head better; found\\r\\nwhere the itch was, and saw that it was covered with lots of little\\r\\nwhite spots which he didn\\'t know what to make of; and when he tried\\r\\nto feel the place with one of his legs he drew it quickly back\\r\\nbecause as soon as he touched it he was overcome by a cold shudder.', 'He slid back into his former position.', ' \"Getting up early all the\\r\\ntime\", he thought, \"it makes you stupid.', \" You've got to get enough\\r\\nsleep.\", ' Other travelling salesmen live a life of luxury.', ' For\\r\\ninstance, whenever I go back to the guest house during the morning\\r\\nto copy out the contract, these gentlemen are always still sitting\\r\\nthere eating their breakfasts.', \" I ought to just try that with my\\r\\nboss; I'd get kicked out on the spot.\", ' But who knows, maybe that\\r\\nwould be the best thing for me.', \" If I didn't have my parents to\\r\\nthink about I'd have given in my notice a long time ago, I'd have\\r\\ngone up to the boss and told him just what I think, tell him\\r\\neverything I would, let him know just what I feel.\", \" He'd fall right\\r\\noff his desk! And it's a funny sort of business to be sitting up\\r\\nthere at your desk, talking down at your subordinates from up there,\\r\\nespecially when you have to go right up close because the boss is\\r\\nhard of hearing.\", \" Well, there's still some hope; once I've got the\\r\\nmoney together to pay off my parents' debt to him - another five or\\r\\nsix years I suppose - that's definitely what I'll do.\", \" That's when\\r\\nI'll make the big change.\", ' First of all though, I\\'ve got to get up,\\r\\nmy train leaves at five.\" And he looked over at the alarm clock, ticking on the chest of\\r\\ndrawers.', ' \"God in Heaven!\" he thought.', ' It was half past six and the\\r\\nhands were quietly moving forwards, it was even later than half\\r\\npast, more like quarter to seven.', ' Had the alarm clock not rung?', \"He\\r\\ncould see from the bed that it had been set for four o'clock as it\\r\\nshould have been; it certainly must have rung.\", ' Yes, but was it\\r\\npossible to quietly sleep through that furniture-rattling noise?', '\\nTrue, he had not slept peacefully, but probably all the more deeply\\r\\nbecause of that.', ' What should he do now?', 'The next train went at\\r\\nseven; if he were to catch that he would have to rush like mad and\\r\\nthe collection of samples was still not packed, and he did not at\\r\\nall feel particularly fresh and lively.', \" And even if he did catch\\r\\nthe train he would not avoid his boss's anger as the office\\r\\nassistant would have been there to see the five o'clock train go, he\\r\\nwould have put in his report about Gregor's not being there a long\\r\\ntime ago.\", \" The office assistant was the boss's man, spineless, and\\r\\nwith no understanding.\", ' What about if he reported sick?', 'But that\\r\\nwould be extremely strained and suspicious as in fifteen years of\\r\\nservice Gregor had never once yet been ill.', \" His boss would\\r\\ncertainly come round with the doctor from the medical insurance\\r\\ncompany, accuse his parents of having a lazy son, and accept the\\r\\ndoctor's recommendation not to make any claim as the doctor believed\\r\\nthat no-one was ever ill but that many were workshy.\", \" And what's\\r\\nmore, would he have been entirely wrong in this case?\", 'Gregor did in\\r\\nfact, apart from excessive sleepiness after sleeping for so long,\\r\\nfeel completely well and even felt much hungrier than usual.', 'He was still hurriedly thinking all this through, unable to decide\\r\\nto get out of the bed, when the clock struck quarter to seven.', '\\nThere was a cautious knock at the door near his head.', ' \"Gregor\",\\r\\nsomebody called - it was his mother - \"it\\'s quarter to seven.', '\\nDidn\\'t you want to go somewhere?\"  That gentle voice! Gregor was\\r\\nshocked when he heard his own voice answering, it could hardly be\\r\\nrecognised as the voice he had had before.', ' As if from deep inside\\r\\nhim, there was a painful and uncontrollable squeaking mixed in with\\r\\nit, the words could be made out at first but then there was a sort\\r\\nof echo which made them unclear, leaving the hearer unsure whether\\r\\nhe had heard properly or not.', ' Gregor had wanted to give a full\\r\\nanswer and explain everything, but in the circumstances contented\\r\\nhimself with saying: \"Yes, mother, yes, thank-you, I\\'m getting up\\r\\nnow.\"  The change in Gregor\\'s voice probably could not be noticed\\r\\noutside through the wooden door, as his mother was satisfied with\\r\\nthis explanation and shuffled away.', ' But this short conversation\\r\\nmade the other members of the family aware that Gregor, against\\r\\ntheir expectations was still at home, and soon his father came\\r\\nknocking at one of the side doors, gently, but with his fist.', '\\n\"Gregor, Gregor\", he called, \"what\\'s wrong?\"  And after a short\\r\\nwhile he called again with a warning deepness in his voice: \"Gregor!\\r\\nGregor!\"  At the other side door his sister came plaintively:\\r\\n\"Gregor?', \"Aren't you well?\", 'Do you need anything?\"  Gregor answered to\\r\\nboth sides: \"I\\'m ready, now\", making an effort to remove all the\\r\\nstrangeness from his voice by enunciating very carefully and putting\\r\\nlong pauses between each, individual word.', ' His father went back to\\r\\nhis breakfast, but his sister whispered: \"Gregor, open the door, I\\r\\nbeg of you.\"  Gregor, however, had no thought of opening the door,\\r\\nand instead congratulated himself for his cautious habit, acquired\\r\\nfrom his travelling, of locking all doors at night even when he was\\r\\nat home.', 'The first thing he wanted to do was to get up in peace without being\\r\\ndisturbed, to get dressed, and most of all to have his breakfast.', '\\nOnly then would he consider what to do next, as he was well aware\\r\\nthat he would not bring his thoughts to any sensible conclusions by\\r\\nlying in bed.', ' He remembered that he had often felt a slight pain in\\r\\nbed, perhaps caused by lying awkwardly, but that had always turned\\r\\nout to be pure imagination and he wondered how his imaginings would\\r\\nslowly resolve themselves today.', ' He did not have the slightest\\r\\ndoubt that the change in his voice was nothing more than the first\\r\\nsign of a serious cold, which was an occupational hazard for\\r\\ntravelling salesmen.', 'It was a simple matter to throw off the covers; he only had to blow\\r\\nhimself up a little and they fell off by themselves.', ' But it became\\r\\ndifficult after that, especially as he was so exceptionally broad.', '\\nHe would have used his arms and his hands to push himself up; but\\r\\ninstead of them he only had all those little legs continuously\\r\\nmoving in different directions, and which he was moreover unable to\\r\\ncontrol.', ' If he wanted to bend one of them, then that was the first\\r\\none that would stretch itself out; and if he finally managed to do\\r\\nwhat he wanted with that leg, all the others seemed to be set free\\r\\nand would move about painfully.', ' \"This is something that can\\'t be\\r\\ndone in bed\", Gregor said to himself, \"so don\\'t keep trying to do\\r\\nit\".', 'The first thing he wanted to do was get the lower part of his body\\r\\nout of the bed, but he had never seen this lower part, and could not\\r\\nimagine what it looked like; it turned out to be too hard to move;\\r\\nit went so slowly; and finally, almost in a frenzy, when he\\r\\ncarelessly shoved himself forwards with all the force he could\\r\\ngather, he chose the wrong direction, hit hard against the lower\\r\\nbedpost, and learned from the burning pain he felt that the lower\\r\\npart of his body might well, at present, be the most sensitive.', 'So then he tried to get the top part of his body out of the bed\\r\\nfirst, carefully turning his head to the side.', ' This he managed\\r\\nquite easily, and despite its breadth and its weight, the bulk of\\r\\nhis body eventually followed slowly in the direction of the head.', '\\nBut when he had at last got his head out of the bed and into the\\r\\nfresh air it occurred to him that if he let himself fall it would be\\r\\na miracle if his head were not injured, so he became afraid to carry\\r\\non pushing himself forward the same way.', ' And he could not knock\\r\\nhimself out now at any price; better to stay in bed than lose\\r\\nconsciousness.', 'It took just as much effort to get back to where he had been\\r\\nearlier, but when he lay there sighing, and was once more watching\\r\\nhis legs as they struggled against each other even harder than\\r\\nbefore, if that was possible, he could think of no way of bringing\\r\\npeace and order to this chaos.', ' He told himself once more that it\\r\\nwas not possible for him to stay in bed and that the most sensible\\r\\nthing to do would be to get free of it in whatever way he could at\\r\\nwhatever sacrifice.', ' At the same time, though, he did not forget to\\r\\nremind himself that calm consideration was much better than rushing\\r\\nto desperate conclusions.', ' At times like this he would direct his\\r\\neyes to the window and look out as clearly as he could, but\\r\\nunfortunately, even the other side of the narrow street was\\r\\nenveloped in morning fog and the view had little confidence or cheer\\r\\nto offer him.', ' \"Seven o\\'clock, already\", he said to himself when the\\r\\nclock struck again, \"seven o\\'clock, and there\\'s still a fog like\\r\\nthis.\"  And he lay there quietly a while longer, breathing lightly\\r\\nas if he perhaps expected the total stillness to bring things back\\r\\nto their real and natural state.', 'But then he said to himself: \"Before it strikes quarter past seven\\r\\nI\\'ll definitely have to have got properly out of bed.', ' And by then\\r\\nsomebody will have come round from work to ask what\\'s happened to me\\r\\nas well, as they open up at work before seven o\\'clock.\"  And so he\\r\\nset himself to the task of swinging the entire length of his body\\r\\nout of the bed all at the same time.', ' If he succeeded in falling out\\r\\nof bed in this way and kept his head raised as he did so he could\\r\\nprobably avoid injuring it.', ' His back seemed to be quite hard, and\\r\\nprobably nothing would happen to it falling onto the carpet.', ' His\\r\\nmain concern was for the loud noise he was bound to make, and which\\r\\neven through all the doors would probably raise concern if not\\r\\nalarm.', ' But it was something that had to be risked.', 'When Gregor was already sticking half way out of the bed - the new\\r\\nmethod was more of a game than an effort, all he had to do was rock\\r\\nback and forth - it occurred to him how simple everything would be\\r\\nif somebody came to help him.', ' Two strong people - he had his father\\r\\nand the maid in mind - would have been more than enough; they would\\r\\nonly have to push their arms under the dome of his back, peel him\\r\\naway from the bed, bend down with the load and then be patient and\\r\\ncareful as he swang over onto the floor, where, hopefully, the\\r\\nlittle legs would find a use.', ' Should he really call for help\\r\\nthough, even apart from the fact that all the doors were locked?', '\\nDespite all the difficulty he was in, he could not suppress a smile\\r\\nat this thought.', 'After a while he had already moved so far across that it would have\\r\\nbeen hard for him to keep his balance if he rocked too hard.', ' The\\r\\ntime was now ten past seven and he would have to make a final\\r\\ndecision very soon.', ' Then there was a ring at the door of the flat.', '\\n\"That\\'ll be someone from work\", he said to himself, and froze very\\r\\nstill, although his little legs only became all the more lively as\\r\\nthey danced around.', ' For a moment everything remained quiet.', '\\n\"They\\'re not opening the door\", Gregor said to himself, caught in\\r\\nsome nonsensical hope.', \" But then of course, the maid's firm steps\\r\\nwent to the door as ever and opened it.\", \" Gregor only needed to hear\\r\\nthe visitor's first words of greeting and he knew who it was - the\\r\\nchief clerk himself.\", ' Why did Gregor have to be the only one\\r\\ncondemned to work for a company where they immediately became highly\\r\\nsuspicious at the slightest shortcoming?', \"Were all employees, every\\r\\none of them, louts, was there not one of them who was faithful and\\r\\ndevoted who would go so mad with pangs of conscience that he\\r\\ncouldn't get out of bed if he didn't spend at least a couple of\\r\\nhours in the morning on company business?\", 'Was it really not enough\\r\\nto let one of the trainees make enquiries - assuming enquiries were\\r\\neven necessary - did the chief clerk have to come himself, and did\\r\\nthey have to show the whole, innocent family that this was so\\r\\nsuspicious that only the chief clerk could be trusted to have the\\r\\nwisdom to investigate it?', 'And more because these thoughts had made\\r\\nhim upset than through any proper decision, he swang himself with\\r\\nall his force out of the bed.', \" There was a loud thump, but it wasn't\\r\\nreally a loud noise.\", \" His fall was softened a little by the carpet,\\r\\nand Gregor's back was also more elastic than he had thought, which\\r\\nmade the sound muffled and not too noticeable.\", ' He had not held his\\r\\nhead carefully enough, though, and hit it as he fell; annoyed and in\\r\\npain, he turned it and rubbed it against the carpet.', '\"Something\\'s fallen down in there\", said the chief clerk in the room\\r\\non the left.', ' Gregor tried to imagine whether something of the sort\\r\\nthat had happened to him today could ever happen to the chief clerk\\r\\ntoo; you had to concede that it was possible.', \" But as if in gruff\\r\\nreply to this question, the chief clerk's firm footsteps in his\\r\\nhighly polished boots could now be heard in the adjoining room.\", '\\nFrom the room on his right, Gregor\\'s sister whispered to him to let\\r\\nhim know: \"Gregor, the chief clerk is here.\"  \"Yes, I know\", said\\r\\nGregor to himself; but without daring to raise his voice loud enough\\r\\nfor his sister to hear him.', '\"Gregor\", said his father now from the room to his left, \"the chief\\r\\nclerk has come round and wants to know why you didn\\'t leave on the\\r\\nearly train.', \" We don't know what to say to him.\", ' And anyway, he\\r\\nwants to speak to you personally.', ' So please open up this door.', ' I\\'m\\r\\nsure he\\'ll be good enough to forgive the untidiness of your room.\"\\r\\nThen the chief clerk called \"Good morning,  Mr. Samsa\".', '\"He isn\\'t\\r\\nwell\", said his mother to the chief clerk, while his father\\r\\ncontinued to speak through the door.', ' \"He isn\\'t well, please believe\\r\\nme.', ' Why else would Gregor have missed a train! The lad only ever\\r\\nthinks about the business.', \" It nearly makes me cross the way he\\r\\nnever goes out in the evenings; he's been in town for a week now but\\r\\nstayed home every evening.\", ' He sits with us in the kitchen and just\\r\\nreads the paper or studies train timetables.', ' His idea of relaxation\\r\\nis working with his fretsaw.', \" He's made a little frame, for\\r\\ninstance, it only took him two or three evenings, you'll be amazed\\r\\nhow nice it is; it's hanging up in his room; you'll see it as soon\\r\\nas Gregor opens the door.\", ' Anyway, I\\'m glad you\\'re here; we wouldn\\'t\\r\\nhave been able to get Gregor to open the door by ourselves; he\\'s so\\r\\nstubborn; and I\\'m sure he isn\\'t well, he said this morning that he\\r\\nis, but he isn\\'t.\"  \"I\\'ll be there in a moment\", said Gregor slowly\\r\\nand thoughtfully, but without moving so that he would not miss any\\r\\nword of the conversation.', ' \"Well I can\\'t think of any other way of\\r\\nexplaining it,  Mrs.', 'Samsa\", said the chief clerk, \"I hope it\\'s\\r\\nnothing serious.', ' But on the other hand, I must say that if we\\r\\npeople in commerce ever become slightly unwell then, fortunately or\\r\\nunfortunately as you like, we simply have to overcome it because of\\r\\nbusiness considerations.\"  \"Can the chief clerk come in to see you\\r\\nnow then?\", asked his father impatiently, knocking at the door\\r\\nagain.', ' \"No\", said Gregor.', ' In the room on his right there followed\\r\\na painful silence; in the room on his left his sister began to cry.', 'So why did his sister not go and join the others?', 'She had probably\\r\\nonly just got up and had not even begun to get dressed.', ' And why was\\r\\nshe crying?', 'Was it because he had not got up, and had not let the\\r\\nchief clerk in, because he was in danger of losing his job and if\\r\\nthat happened his boss would once more pursue their parents with the\\r\\nsame demands as before?', 'There was no need to worry about things like\\r\\nthat yet.', ' Gregor was still there and had not the slightest\\r\\nintention of abandoning his family.', ' For the time being he just lay\\r\\nthere on the carpet, and no-one who knew the condition he was in\\r\\nwould seriously have expected him to let the chief clerk in.', ' It was\\r\\nonly a minor discourtesy, and a suitable excuse could easily be\\r\\nfound for it later on, it was not something for which Gregor could\\r\\nbe sacked on the spot.', ' And it seemed to Gregor much more sensible\\r\\nto leave him now in peace instead of disturbing him with talking at\\r\\nhim and crying.', \" But the others didn't know what was happening, they\\r\\nwere worried, that would excuse their behaviour.\", 'The chief clerk now raised his voice, \"Mr. Samsa\", he called to him,\\r\\n\"what is wrong?', 'You barricade yourself in your room, give us no more\\r\\nthan yes or no for an answer, you are causing serious and\\r\\nunnecessary concern to your parents and you fail - and I mention\\r\\nthis just by the way - you fail to carry out your business duties in\\r\\na way that is quite unheard of.', \" I'm speaking here on behalf of your\\r\\nparents and of your employer, and really must request a clear and\\r\\nimmediate explanation.\", ' I am astonished, quite astonished.', ' I\\r\\nthought I knew you as a calm and sensible person, and now you\\r\\nsuddenly seem to be showing off with peculiar whims.', \" This morning,\\r\\nyour employer did suggest a possible reason for your failure to\\r\\nappear, it's true - it had to do with the money that was recently\\r\\nentrusted to you - but I came near to giving him my word of honour\\r\\nthat that could not be the right explanation.\", ' But now that I see\\r\\nyour incomprehensible stubbornness I no longer feel any wish\\r\\nwhatsoever to intercede on your behalf.', ' And nor is your position\\r\\nall that secure.', \" I had originally intended to say all this to you\\r\\nin private, but since you cause me to waste my time here for no good\\r\\nreason I don't see why your parents should not also learn of it.\", '\\nYour turnover has been very unsatisfactory of late; I grant you that\\r\\nit\\'s not the time of year to do especially good business, we\\r\\nrecognise that; but there simply is no time of year to do no\\r\\nbusiness at all,  Mr. Samsa, we cannot allow there to be.\" \"But Sir\", called Gregor, beside himself and forgetting all else in\\r\\nthe excitement, \"I\\'ll open up immediately, just a moment.', \" I'm\\r\\nslightly unwell, an attack of dizziness, I haven't been able to get\\r\\nup.\", \" I'm still in bed now.\", \" I'm quite fresh again now, though.\", \" I'm\\r\\njust getting out of bed.\", ' Just a moment.', \" Be patient! It's not quite\\r\\nas easy as I'd thought.\", \" I'm quite alright now, though.\", \" It's\\r\\nshocking, what can suddenly happen to a person! I was quite alright\\r\\nlast night, my parents know about it, perhaps better than me, I had\\r\\na small symptom of it last night already.\", ' They must have noticed\\r\\nit.', \" I don't know why I didn't let you know at work! But you always\\r\\nthink you can get over an illness without staying at home.\", \" Please,\\r\\ndon't make my parents suffer! There's no basis for any of the\\r\\naccusations you're making; nobody's ever said a word to me about any\\r\\nof these things.\", \" Maybe you haven't read the latest contracts I sent\\r\\nin.\", \" I'll set off with the eight o'clock train, as well, these few\\r\\nhours of rest have given me strength.\", ' You don\\'t need to wait, sir;\\r\\nI\\'ll be in the office soon after you, and please be so good as to\\r\\ntell that to the boss and recommend me to him!\" And while Gregor gushed out these words, hardly knowing what he was\\r\\nsaying, he made his way over to the chest of drawers - this was\\r\\neasily done, probably because of the practise he had already had in\\r\\nbed - where he now tried to get himself upright.', ' He really did want\\r\\nto open the door, really did want to let them see him and to speak\\r\\nwith the chief clerk; the others were being so insistent, and he was\\r\\ncurious to learn what they would say when they caught sight of him.', \"\\nIf they were shocked then it would no longer be Gregor's\\r\\nresponsibility and he could rest.\", \" If, however, they took everything\\r\\ncalmly he would still have no reason to be upset, and if he hurried\\r\\nhe really could be at the station for eight o'clock.\", ' The first few\\r\\ntimes he tried to climb up on the smooth chest of drawers he just\\r\\nslid down again, but he finally gave himself one last swing and\\r\\nstood there upright; the lower part of his body was in serious pain\\r\\nbut he no longer gave any attention to it.', ' Now he let himself fall\\r\\nagainst the back of a nearby chair and held tightly to the edges of\\r\\nit with his little legs.', ' By now he had also calmed down, and kept\\r\\nquiet so that he could listen to what the chief clerk was saying.', '\"Did you understand a word of all that?\" the chief clerk asked his\\r\\nparents, \"surely he\\'s not trying to make fools of us\".', '\"Oh, God!\"\\r\\ncalled his mother, who was already in tears, \"he could be seriously\\r\\nill and we\\'re making him suffer.', ' Grete! Grete!\" she then cried.', '\\n\"Mother?\" his sister called from the other side.', \" They communicated\\r\\nacross Gregor's room.\", ' \"You\\'ll have to go for the doctor straight\\r\\naway.', ' Gregor is ill.', ' Quick, get the doctor.', ' Did you hear the way\\r\\nGregor spoke just now?\"  \"That was the voice of an animal\", said the\\r\\nchief clerk, with a calmness that was in contrast with his mother\\'s\\r\\nscreams.', ' \"Anna! Anna!\" his father called into the kitchen through\\r\\nthe entrance hall, clapping his hands, \"get a locksmith here, now!\"\\r\\nAnd the two girls, their skirts swishing, immediately ran out\\r\\nthrough the hall, wrenching open the front door of the flat as they\\r\\nwent.', ' How had his sister managed to get dressed so quickly?', 'There\\r\\nwas no sound of the door banging shut again; they must have left it\\r\\nopen;  people often do in homes where something awful has happened.', 'Gregor, in contrast, had become much calmer.', \" So they couldn't\\r\\nunderstand his words any more, although they seemed clear enough to\\r\\nhim, clearer than before - perhaps his ears had become used to the\\r\\nsound.\", ' They had realised, though, that there was something wrong\\r\\nwith him, and were ready to help.', ' The first response to his\\r\\nsituation had been confident and wise, and that made him feel\\r\\nbetter.', ' He felt that he had been drawn back in among people, and\\r\\nfrom the doctor and the locksmith he expected great and surprising\\r\\nachievements - although he did not really distinguish one from the\\r\\nother.', ' Whatever was said next would be crucial, so, in order to\\r\\nmake his voice as clear as possible, he coughed a little, but taking\\r\\ncare to do this not too loudly as even this might well sound\\r\\ndifferent from the way that a human coughs and he was no longer sure\\r\\nhe could judge this for himself.', ' Meanwhile, it had become very\\r\\nquiet in the next room.', ' Perhaps his parents were sat at the table\\r\\nwhispering with the chief clerk, or perhaps they were all pressed\\r\\nagainst the door and listening.', 'Gregor slowly pushed his way over to the door with the chair.', ' Once\\r\\nthere he let go of it and threw himself onto the door, holding\\r\\nhimself upright against it using the adhesive on the tips of his\\r\\nlegs.', ' He rested there a little while to recover from the effort\\r\\ninvolved and then set himself to the task of turning the key in the\\r\\nlock with his mouth.', ' He seemed, unfortunately, to have no proper\\r\\nteeth - how was he, then, to grasp the key?', '- but the lack of teeth\\r\\nwas, of course, made up for with a very strong jaw; using the jaw,\\r\\nhe really was able to start the key turning, ignoring the fact that\\r\\nhe must have been causing some kind of damage as a brown fluid came\\r\\nfrom his mouth, flowed over the key and dripped onto the floor.', '\\n\"Listen\", said the chief clerk in the next room, \"he\\'s turning the\\r\\nkey.\"  Gregor was greatly encouraged by this; but they all should\\r\\nhave been calling to him, his father and his mother too: \"Well done,\\r\\nGregor\", they should have cried, \"keep at it, keep hold of the\\r\\nlock!\"  And with the idea that they were all excitedly following his\\r\\nefforts, he bit on the key with all his strength, paying no\\r\\nattention to the pain he was causing himself.', ' As the key turned\\r\\nround he turned around the lock with it, only holding himself\\r\\nupright with his mouth, and hung onto the key or pushed it down\\r\\nagain with the whole weight of his body as needed.', ' The clear sound\\r\\nof the lock as it snapped back was Gregor\\'s sign that he could break\\r\\nhis concentration, and as he regained his breath he said to himself:\\r\\n\"So, I didn\\'t need the locksmith after all\".', 'Then he lay his head on\\r\\nthe handle of the door to open it completely.', 'Because he had to open the door in this way, it was already wide\\r\\nopen before he could be seen.', ' He had first to slowly turn himself\\r\\naround one of the double doors, and he had to do it very carefully\\r\\nif he did not want to fall flat on his back before entering the\\r\\nroom.', ' He was still occupied with this difficult movement, unable to\\r\\npay attention to anything else, when he heard the chief clerk\\r\\nexclaim a loud \"Oh!\", which sounded like the soughing of the wind.', '\\nNow he also saw him - he was the nearest to the door - his hand\\r\\npressed against his open mouth and slowly retreating as if driven by\\r\\na steady and invisible force.', \" Gregor's mother, her hair still\\r\\ndishevelled from bed despite the chief clerk's being there, looked\\r\\nat his father.\", ' Then she unfolded her arms, took two steps forward\\r\\ntowards Gregor and sank down onto the floor into her skirts that\\r\\nspread themselves out around her as her head disappeared down onto\\r\\nher breast.', ' His father looked hostile, and clenched his fists as if\\r\\nwanting to knock Gregor back into his room.', ' Then he looked\\r\\nuncertainly round the living room, covered his eyes with his hands\\r\\nand wept so that his powerful chest shook.', 'So Gregor did not go into the room, but leant against the inside of\\r\\nthe other door which was still held bolted in place.', ' In this way\\r\\nonly half of his body could be seen, along with his head above it\\r\\nwhich he leant over to one side as he peered out at the others.', '\\nMeanwhile the day had become much lighter; part of the endless,\\r\\ngrey-black building on the other side of the street - which was a\\r\\nhospital - could be seen quite clearly with the austere and regular\\r\\nline of windows piercing its fa\\xc3\\xa7ade; the rain was still\\r\\nfalling, now throwing down large, individual droplets which hit the\\r\\nground one at a time.', \" The washing up from breakfast lay on the\\r\\ntable; there was so much of it because, for Gregor's father,\\r\\nbreakfast was the most important meal of the day and he would\\r\\nstretch it out for several hours as he sat reading a number of\\r\\ndifferent newspapers.\", ' On the wall exactly opposite there was\\r\\nphotograph of Gregor when he was a lieutenant in the army, his sword\\r\\nin his hand and a carefree smile on his face as he called forth\\r\\nrespect for his uniform and bearing.', ' The door to the entrance hall\\r\\nwas open and as the front door of the flat was also open he could\\r\\nsee onto the landing and the stairs where they began their way down\\r\\nbelow.', '\"Now, then\", said Gregor, well aware that he was the only one to\\r\\nhave kept calm, \"I\\'ll get dressed straight away now, pack up my\\r\\nsamples and set off.', ' Will you please just let me leave?', 'You can\\r\\nsee\", he said to the chief clerk, \"that I\\'m not stubborn and I\\r\\nlike to do my job; being a commercial traveller is arduous but\\r\\nwithout travelling I couldn\\'t earn my living.', ' So where are you\\r\\ngoing, in to the office?', 'Yes?', 'Will you report everything accurately,\\r\\nthen?', \"It's quite possible for someone to be temporarily unable to\\r\\nwork, but that's just the right time to remember what's been\\r\\nachieved in the past and consider that later on, once the difficulty\\r\\nhas been removed, he will certainly work with all the more diligence\\r\\nand concentration.\", \" You're well aware that I'm seriously in debt to\\r\\nour employer as well as having to look after my parents and my\\r\\nsister, so that I'm trapped in a difficult situation, but I will\\r\\nwork my way out of it again.\", \" Please don't make things any harder\\r\\nfor me than they are already, and don't take sides against me at the\\r\\noffice.\", ' I know that nobody likes the travellers.', ' They think we\\r\\nearn an enormous wage as well as having a soft time of it.', \" That's\\r\\njust prejudice but they have no particular reason to think better of\\r\\nit.\", \" But you, sir, you have a better overview than the rest of the\\r\\nstaff, in fact, if I can say this in confidence, a better overview\\r\\nthan the boss himself - it's very easy for a businessman like him to\\r\\nmake mistakes about his employees and judge them more harshly than\\r\\nhe should.\", \" And you're also well aware that we travellers spend\\r\\nalmost the whole year away from the office, so that we can very\\r\\neasily fall victim to gossip and chance and groundless complaints,\\r\\nand it's almost impossible to defend yourself from that sort of\\r\\nthing, we don't usually even hear about them, or if at all it's when\\r\\nwe arrive back home exhausted from a trip, and that's when we feel\\r\\nthe harmful effects of what's been going on without even knowing\\r\\nwhat caused them.\", ' Please, don\\'t go away, at least first say\\r\\nsomething to show that you grant that I\\'m at least partly right!\" But the chief clerk had turned away as soon as Gregor had started to\\r\\nspeak, and, with protruding lips, only stared back at him over his\\r\\ntrembling shoulders as he left.', ' He did not keep still for a moment\\r\\nwhile Gregor was speaking, but moved steadily towards the door\\r\\nwithout taking his eyes off him.', ' He moved very gradually, as if\\r\\nthere had been some secret prohibition on leaving the room.', ' It was\\r\\nonly when he had reached the entrance hall that he made a sudden\\r\\nmovement, drew his foot from the living room, and rushed forward in\\r\\na panic.', ' In the hall, he stretched his right hand far out towards\\r\\nthe stairway as if out there, there were some supernatural force\\r\\nwaiting to save him.', 'Gregor realised that it was out of the question to let the chief\\r\\nclerk go away in this mood if his position in the firm was not to be\\r\\nput into extreme danger.', ' That was something his parents did not\\r\\nunderstand very well; over the years, they had become convinced that\\r\\nthis job would provide for Gregor for his entire life, and besides,\\r\\nthey had so much to worry about at present that they had lost sight\\r\\nof any thought for the future.', ' Gregor, though, did think about the\\r\\nfuture.', ' The chief clerk had to be held back, calmed down, convinced\\r\\nand finally won over; the future of Gregor and his family depended\\r\\non it! If only his sister were here! She was clever; she was already\\r\\nin tears while Gregor was still lying peacefully on his back.', ' And\\r\\nthe chief clerk was a lover of women, surely she could persuade him;\\r\\nshe would close the front door in the entrance hall and talk him out\\r\\nof his shocked state.', ' But his sister was not there, Gregor would\\r\\nhave to do the job himself.', ' And without considering that he still\\r\\nwas not familiar with how well he could move about in his present\\r\\nstate, or that his speech still might not - or probably would not -\\r\\nbe understood, he let go of the door; pushed himself through the\\r\\nopening; tried to reach the chief clerk on the landing who,\\r\\nridiculously, was holding on to the banister with both hands; but\\r\\nGregor fell immediately over and, with a little scream as he sought\\r\\nsomething to hold onto, landed on his numerous little legs.', ' Hardly\\r\\nhad that happened than, for the first time that day, he began to\\r\\nfeel alright with his body; the little legs had the solid ground\\r\\nunder them; to his pleasure, they did exactly as he told them; they\\r\\nwere even making the effort to carry him where he wanted to go; and\\r\\nhe was soon believing that all his sorrows would soon be finally at\\r\\nan end.', ' He held back the urge to move but swayed from side to side\\r\\nas he crouched there on the floor.', ' His mother was not far away in\\r\\nfront of him and seemed, at first, quite engrossed in herself, but\\r\\nthen she suddenly jumped up with her arms outstretched and her\\r\\nfingers spread shouting: \"Help, for pity\\'s sake, Help!\"  The way she\\r\\nheld her head suggested she wanted to see Gregor better, but the\\r\\nunthinking way she was hurrying backwards showed that she did not;\\r\\nshe had forgotten that the table was behind her with all the\\r\\nbreakfast things on it; when she reached the table she sat quickly\\r\\ndown on it without knowing what she was doing; without even seeming\\r\\nto notice that the coffee pot had been knocked over and a gush of\\r\\ncoffee was pouring down onto the carpet.', '\"Mother, mother\", said Gregor gently, looking up at her.', ' He had\\r\\ncompletely forgotten the chief clerk for the moment, but could not\\r\\nhelp himself snapping in the air with his jaws at the sight of the\\r\\nflow of coffee.', ' That set his mother screaming anew, she fled from\\r\\nthe table and into the arms of his father as he rushed towards her.', '\\nGregor, though, had no time to spare for his parents now; the chief\\r\\nclerk had already reached the stairs; with his chin on the banister,\\r\\nhe looked back for the last time.', ' Gregor made a run for him; he\\r\\nwanted to be sure of reaching him; the chief clerk must have\\r\\nexpected something, as he leapt down several steps at once and\\r\\ndisappeared; his shouts resounding all around the staircase.', \" The\\r\\nflight of the chief clerk seemed, unfortunately, to put Gregor's\\r\\nfather into a panic as well.\", \" Until then he had been relatively self\\r\\ncontrolled, but now, instead of running after the chief clerk\\r\\nhimself, or at least not impeding Gregor as he ran after him,\\r\\nGregor's father seized the chief clerk's stick in his right hand\\r\\n(the chief clerk had left it behind on a chair, along with his hat\\r\\nand overcoat), picked up a large newspaper from the table with his\\r\\nleft, and used them to drive Gregor back into his room, stamping his\\r\\nfoot at him as he went.\", \" Gregor's appeals to his father were of no\\r\\nhelp, his appeals were simply not understood, however much he humbly\\r\\nturned his head his father merely stamped his foot all the harder.\", \"\\nAcross the room, despite the chilly weather, Gregor's mother had\\r\\npulled open a window, leant far out of it and pressed her hands to\\r\\nher face.\", ' A strong draught of air flew in from the street towards\\r\\nthe stairway, the curtains flew up, the newspapers on the table\\r\\nfluttered and some of them were blown onto the floor.', \" Nothing would\\r\\nstop Gregor's father as he drove him back, making hissing noises at\\r\\nhim like a wild man.\", ' Gregor had never had any practice in moving\\r\\nbackwards and was only able to go very slowly.', \" If Gregor had only\\r\\nbeen allowed to turn round he would have been back in his room\\r\\nstraight away, but he was afraid that if he took the time to do that\\r\\nhis father would become impatient, and there was the threat of a\\r\\nlethal blow to his back or head from the stick in his father's hand\\r\\nany moment.\", ' Eventually, though, Gregor realised that he had no\\r\\nchoice as he saw, to his disgust, that he was quite incapable of\\r\\ngoing backwards in a straight line; so he began, as quickly as\\r\\npossible and with frequent anxious glances at his father, to turn\\r\\nhimself round.', ' It went very slowly, but perhaps his father was able\\r\\nto see his good intentions as he did nothing to hinder him, in fact\\r\\nnow and then he used the tip of his stick to give directions from a\\r\\ndistance as to which way to turn.', ' If only his father would stop\\r\\nthat unbearable hissing! It was making Gregor quite confused.', ' When\\r\\nhe had nearly finished turning round, still listening to that\\r\\nhissing, he made a mistake and turned himself back a little the way\\r\\nhe had just come.', ' He was pleased when he finally had his head in\\r\\nfront of the doorway, but then saw that it was too narrow, and his\\r\\nbody was too broad to get through it without further difficulty.', ' In\\r\\nhis present mood, it obviously did not occur to his father to open\\r\\nthe other of the double doors so that Gregor would have enough space\\r\\nto get through.', ' He was merely fixed on the idea that Gregor should\\r\\nbe got back into his room as quickly as possible.', ' Nor would he ever\\r\\nhave allowed Gregor the time to get himself upright as preparation\\r\\nfor getting through the doorway.', ' What he did, making more noise\\r\\nthan ever, was to drive Gregor forwards all the harder as if there\\r\\nhad been nothing in the way; it sounded to Gregor as if there was\\r\\nnow more than one father behind him; it was not a pleasant\\r\\nexperience, and Gregor pushed himself into the doorway without\\r\\nregard for what might happen.', ' One side of his body lifted itself,\\r\\nhe lay at an angle in the doorway, one flank scraped on the white\\r\\ndoor and was painfully injured, leaving vile brown flecks on it,\\r\\nsoon he was stuck fast and would not have been able to move at all\\r\\nby himself, the little legs along one side hung quivering in the air\\r\\nwhile those on the other side were pressed painfully against the\\r\\nground.', ' Then his father gave him a hefty shove from behind which\\r\\nreleased him from where he was held and sent him flying, and heavily\\r\\nbleeding, deep into his room.', ' The door was slammed shut with the\\r\\nstick, then, finally, all was quiet.', 'It was not until it was getting dark that evening that Gregor awoke\\r\\nfrom his deep and coma-like sleep.', \" He would have woken soon\\r\\nafterwards anyway even if he hadn't been disturbed, as he had had\\r\\nenough sleep and felt fully rested.\", ' But he had the impression that\\r\\nsome hurried steps and the sound of the door leading into the front\\r\\nroom being carefully shut had woken him.', ' The light from the\\r\\nelectric street lamps shone palely here and there onto the ceiling\\r\\nand tops of the furniture, but down below, where Gregor was, it was\\r\\ndark.', ' He pushed himself over to the door, feeling his way clumsily\\r\\nwith his antennae - of which he was now beginning to learn the value\\r\\n- in order to see what had been happening there.', ' The whole of his\\r\\nleft side seemed like one, painfully stretched scar,  and he limped\\r\\nbadly on his two rows of legs.', ' One of the legs had been badly\\r\\ninjured in the events of that morning - it was nearly a miracle that\\r\\nonly one of them had been - and dragged along lifelessly.', 'It was only when he had reached the door that he realised what it\\r\\nactually was that had drawn him over to it; it was the smell of\\r\\nsomething to eat.', ' By the door there was a dish filled with\\r\\nsweetened milk with little pieces of white bread floating in it.', ' He\\r\\nwas so pleased he almost laughed, as he was even hungrier than he\\r\\nhad been that morning, and immediately dipped his head into the\\r\\nmilk, nearly covering his eyes with it.', ' But he soon drew his head\\r\\nback again in disappointment; not only did the pain in his tender\\r\\nleft side make it difficult to eat the food - he was only able to\\r\\neat if his whole body worked together as a snuffling whole - but the\\r\\nmilk did not taste at all nice.', ' Milk like this was normally his\\r\\nfavourite drink, and his sister had certainly left it there for him\\r\\nbecause of that, but he turned, almost against his own will, away\\r\\nfrom the dish and crawled back into the centre of the room.', 'Through the crack in the door, Gregor could see that the gas had\\r\\nbeen lit in the living room.', \" His father at this time would normally\\r\\nbe sat with his evening paper, reading it out in a loud voice to\\r\\nGregor's mother, and sometimes to his sister, but there was now not\\r\\na sound to be heard.\", \" Gregor's sister would often write and tell him\\r\\nabout this reading, but maybe his father had lost the habit in\\r\\nrecent times.\", ' It was so quiet all around too, even though there\\r\\nmust have been somebody in the flat.', ' \"What a quiet life it is the\\r\\nfamily lead\", said Gregor to himself, and, gazing into the darkness,\\r\\nfelt a great pride that he was able to provide a life like that in\\r\\nsuch a nice home for his sister and parents.', ' But what now, if all\\r\\nthis peace and wealth and comfort should come to a horrible and\\r\\nfrightening end?', 'That was something that Gregor did not want to\\r\\nthink about too much, so he started to move about, crawling up and\\r\\ndown the room.', 'Once during that long evening, the door on one side of the room was\\r\\nopened very slightly and hurriedly closed again; later on the door\\r\\non the other side did the same; it seemed that someone needed to\\r\\nenter the room but thought better of it.', ' Gregor went and waited\\r\\nimmediately by the door, resolved either to bring the timorous\\r\\nvisitor into the room in some way or at least to find out who it\\r\\nwas; but the door was opened no more that night and Gregor waited in\\r\\nvain.', ' The previous morning while the doors were locked everyone had\\r\\nwanted to get in there to him, but now, now that he had opened up\\r\\none of the doors and the other had clearly been unlocked some time\\r\\nduring the day, no-one came, and the keys were in the other sides.', 'It was not until late at night that the gaslight in the living room\\r\\nwas put out, and now it was easy to see that his parents and sister had\\r\\nstayed awake all that time, as they all could be distinctly heard as\\r\\nthey went away together on tip-toe.', \" It was clear that no-one would\\r\\ncome into Gregor's room any more until morning; that gave him plenty\\r\\nof time to think undisturbed about how he would have to re-arrange\\r\\nhis life.\", ' For some reason, the tall, empty room where he was forced\\r\\nto remain made him feel uneasy as he lay there flat on the floor,\\r\\neven though he had been living in it for five years.', ' Hardly aware\\r\\nof what he was doing other than a slight feeling of shame, he\\r\\nhurried under the couch.', ' It pressed down on his back a little, and\\r\\nhe was no longer able to lift his head, but he nonetheless felt\\r\\nimmediately at ease and his only regret was that his body was too\\r\\nbroad to get it all underneath.', 'He spent the whole night there.', ' Some of the time he passed in a\\r\\nlight sleep, although he frequently woke from it in alarm because of\\r\\nhis hunger, and some of the time was spent in worries and vague\\r\\nhopes which, however, always led to the same conclusion: for the\\r\\ntime being he must remain calm, he must show patience and the\\r\\ngreatest consideration so that his family could bear the\\r\\nunpleasantness that he, in his present condition, was forced to\\r\\nimpose on them.', 'Gregor soon had the opportunity to test the strength of his\\r\\ndecisions, as early the next morning, almost before the night had\\r\\nended, his sister, nearly fully dressed, opened the door from the\\r\\nfront room and looked anxiously in.', \" She did not see him straight\\r\\naway, but when she did notice him under the couch - he had to be\\r\\nsomewhere, for God's sake, he couldn't have flown away - she was so\\r\\nshocked that she lost control of herself and slammed the door shut\\r\\nagain from outside.\", ' But she seemed to regret her behaviour, as she\\r\\nopened the door again straight away and came in on tip-toe as if\\r\\nentering the room of someone seriously ill or even of a stranger.', '\\nGregor had pushed his head forward, right to the edge of the couch,\\r\\nand watched her.', ' Would she notice that he had left the milk as it\\r\\nwas, realise that it was not from any lack of hunger and bring him\\r\\nin some other food that was more suitable?', \"If she didn't do it\\r\\nherself he would rather go hungry than draw her attention to it,\\r\\nalthough he did feel a terrible urge to rush forward from under the\\r\\ncouch, throw himself at his sister's feet and beg her for something\\r\\ngood to eat.\", ' However, his sister noticed the full dish immediately\\r\\nand looked at it and the few drops of milk splashed around it with\\r\\nsome surprise.', ' She immediately picked it up - using a rag,\\r\\nnot her bare hands - and carried it out.', ' Gregor was extremely\\r\\ncurious as to what she would bring in its place, imagining the\\r\\nwildest possibilities, but he never could have guessed what his\\r\\nsister, in her goodness, actually did bring.', ' In order to test his\\r\\ntaste, she brought him a whole selection of things, all spread out\\r\\non an old newspaper.', ' There were old, half-rotten vegetables; bones\\r\\nfrom the evening meal, covered in white sauce that had gone hard; a\\r\\nfew raisins and almonds; some cheese that Gregor had declared\\r\\ninedible two days before; a dry roll and some bread spread with\\r\\nbutter and salt.', \" As well as all that she had poured some water into\\r\\nthe dish, which had probably been permanently set aside for Gregor's\\r\\nuse, and placed it beside them.\", \" Then, out of consideration for\\r\\nGregor's feelings, as she knew that he would not eat in front of\\r\\nher, she hurried out again and even turned the key in the lock so\\r\\nthat Gregor would know he could make things as comfortable for\\r\\nhimself as he liked.\", \" Gregor's little legs whirred, at last he could\\r\\neat.\", \" What's more, his injuries must already have completely healed\\r\\nas he found no difficulty in moving.\", ' This amazed him, as more than\\r\\na month earlier he had cut his finger slightly with a knife, he\\r\\nthought of how his finger had still hurt the day before yesterday.', '\\n\"Am I less sensitive than I used to be, then?\", he thought, and was\\r\\nalready sucking greedily at the cheese which had immediately, almost\\r\\ncompellingly, attracted him much more than the other foods on the\\r\\nnewspaper.', \" Quickly one after another, his eyes watering with\\r\\npleasure, he consumed the cheese, the vegetables and the sauce; the\\r\\nfresh foods, on the other hand, he didn't like at all, and even\\r\\ndragged the things he did want to eat a little way away from them\\r\\nbecause he couldn't stand the smell.\", ' Long after he had finished\\r\\neating and lay lethargic in the same place, his sister slowly turned\\r\\nthe key in the lock as a sign to him that he should withdraw.', ' He\\r\\nwas immediately startled, although he had been half asleep, and he\\r\\nhurried back under the couch.', ' But he needed great self-control to\\r\\nstay there even for the short time that his sister was in the room,\\r\\nas eating so much food had rounded out his body a little and he\\r\\ncould hardly breathe in that narrow space.', ' Half suffocating, he\\r\\nwatched with bulging eyes as his sister unselfconsciously took a\\r\\nbroom and swept up the left-overs, mixing them in with the food he\\r\\nhad not even touched at all as if it could not be used any more.', '\\nShe quickly dropped it all into a bin, closed it with its wooden\\r\\nlid, and carried everything out.', ' She had hardly turned her back\\r\\nbefore Gregor came out again from under the couch and stretched\\r\\nhimself.', \"This was how Gregor received his food each day now, once in the\\r\\nmorning while his parents and the maid were still asleep, and the\\r\\nsecond time after everyone had eaten their meal at midday as his\\r\\nparents would sleep for a little while then as well, and Gregor's\\r\\nsister would send the maid away on some errand.\", \" Gregor's father and\\r\\nmother certainly did not want him to starve either, but perhaps it\\r\\nwould have been more than they could stand to have any more\\r\\nexperience of his feeding than being told about it, and perhaps his\\r\\nsister wanted to spare them what distress she could as they were\\r\\nindeed suffering enough.\", 'It was impossible for Gregor to find out what they had told the\\r\\ndoctor and the locksmith that first morning to get them out of the\\r\\nflat.', \" As nobody could understand him, nobody, not even his sister,\\r\\nthought that he could understand them, so he had to be content to\\r\\nhear his sister's sighs and appeals to the saints as she moved about\\r\\nhis room.\", ' It was only later, when she had become a little more used\\r\\nto everything - there was, of course, no question of her ever\\r\\nbecoming fully used to the situation - that Gregor would sometimes\\r\\ncatch a friendly comment, or at least a comment that could be\\r\\nconstrued as friendly.', ' \"He\\'s enjoyed his dinner today\", she might\\r\\nsay when he had diligently cleared away all the food left for him,\\r\\nor if he left most of it, which slowly became more and more\\r\\nfrequent, she would often say, sadly, \"now everything\\'s just been\\r\\nleft there again\".', \"Although Gregor wasn't able to hear any news directly he did listen\\r\\nto much of what was said in the next rooms, and whenever he heard\\r\\nanyone speaking he would scurry straight to the appropriate door and\\r\\npress his whole body against it.\", ' There was seldom any conversation,\\r\\nespecially at first, that was not about him in some way, even if\\r\\nonly in secret.', ' For two whole days, all the talk at every mealtime\\r\\nwas about what they should do now; but even between meals they spoke\\r\\nabout the same subject as there were always at least two members of\\r\\nthe family at home - nobody wanted to be at home by themselves and\\r\\nit was out of the question to leave the flat entirely empty.', \" And on\\r\\nthe very first day the maid had fallen to her knees and begged\\r\\nGregor's mother to let her go without delay.\", \" It was not very clear\\r\\nhow much she knew of what had happened but she left within a quarter\\r\\nof an hour, tearfully thanking Gregor's mother for her dismissal as\\r\\nif she had done her an enormous service.\", ' She even swore\\r\\nemphatically not to tell anyone the slightest about what had\\r\\nhappened, even though no-one had asked that of her.', \"Now Gregor's sister also had to help his mother with the cooking;\\r\\nalthough that was not so much bother as no-one ate very much.\", '\\nGregor often heard how one of them would unsuccessfully urge another\\r\\nto eat, and receive no more answer than \"no thanks, I\\'ve had enough\"\\r\\nor something similar.', ' No-one drank very much either.', ' His sister\\r\\nwould sometimes ask his father whether he would like a beer, hoping\\r\\nfor the chance to go and fetch it herself.', ' When his father then\\r\\nsaid nothing she would add, so that he would not feel selfish, that\\r\\nshe could send the housekeeper for it, but then his father would\\r\\nclose the matter with a big, loud \"No\", and no more would be said.', \"Even before the first day had come to an end, his father had\\r\\nexplained to Gregor's mother and sister what their finances and\\r\\nprospects were.\", ' Now and then he stood up from the table and took\\r\\nsome receipt or document from the little cash box he had saved from\\r\\nhis business when it had collapsed five years earlier.', ' Gregor heard\\r\\nhow he opened the complicated lock and then closed it again after he\\r\\nhad taken the item he wanted.', ' What he heard his father say was some\\r\\nof the first good news that Gregor heard since he had first been\\r\\nincarcerated in his room.', \" He had thought that nothing at all\\r\\nremained from his father's business, at least he had never told him\\r\\nanything different, and Gregor had never asked him about it anyway.\", \"\\nTheir business misfortune had reduced the family to a state of total\\r\\ndespair, and Gregor's only concern at that time had been to arrange\\r\\nthings so that they could all forget about it as quickly as\\r\\npossible.\", ' So then he started working especially hard, with a fiery\\r\\nvigour that raised him from a junior salesman to a travelling\\r\\nrepresentative almost overnight, bringing with it the chance to earn\\r\\nmoney in quite different ways.', ' Gregor converted his success at work\\r\\nstraight into cash that he could lay on the table at home for the\\r\\nbenefit of his astonished and delighted family.', ' They had been good\\r\\ntimes and they had never come again, at least not with the same\\r\\nsplendour, even though Gregor had later earned so much that he was\\r\\nin a position to bear the costs of the whole family, and did bear\\r\\nthem.', ' They had even got used to it, both Gregor and the family,\\r\\nthey took the money with gratitude and he was glad to provide it,\\r\\nalthough there was no longer much warm affection given in return.', '\\nGregor only remained close to his sister now.', ' Unlike him, she was\\r\\nvery fond of music and a gifted and expressive violinist, it was his\\r\\nsecret plan to send her to the conservatory next year even though it\\r\\nwould cause great expense that would have to be made up for in some\\r\\nother way.', \" During Gregor's short periods in town, conversation with\\r\\nhis sister would often turn to the conservatory but it was only ever\\r\\nmentioned as a lovely dream that could never be realised.\", ' Their\\r\\nparents did not like to hear this innocent talk, but Gregor thought\\r\\nabout it quite hard and decided he would let them know what he\\r\\nplanned with a grand announcement of it on Christmas day.', 'That was the sort of totally pointless thing that went through his\\r\\nmind in his present state, pressed upright against the door and\\r\\nlistening.', ' There were times when he simply became too tired to\\r\\ncontinue listening, when his head would fall wearily against the\\r\\ndoor and he would pull it up again with a start, as even the\\r\\nslightest noise he caused would be heard next door and they would\\r\\nall go silent.', ' \"What\\'s that he\\'s doing now\", his father would say\\r\\nafter a while, clearly having gone over to the door, and only then\\r\\nwould the interrupted conversation slowly be taken up again.', \"When explaining things, his father repeated himself several times,\\r\\npartly because it was a long time since he had been occupied with\\r\\nthese matters himself and partly because Gregor's mother did not\\r\\nunderstand everything the first time.\", ' From these repeated explanations\\r\\nGregor learned, to his pleasure, that despite all their misfortunes\\r\\nthere was still some money available from the old days.', ' It was not\\r\\na lot, but it had not been touched in the meantime and some interest\\r\\nhad accumulated.', ' Besides that, they had not been using up all the\\r\\nmoney that Gregor had been bringing home every month, keeping only a\\r\\nlittle for himself, so that that, too, had been accumulating.', '\\nBehind the door, Gregor nodded with enthusiasm in his pleasure at\\r\\nthis unexpected thrift and caution.', \" He could actually have used\\r\\nthis surplus money to reduce his father's debt to his boss, and the\\r\\nday when he could have freed himself from that job would have come\\r\\nmuch closer, but now it was certainly better the way his father had\\r\\ndone things.\", 'This money, however, was certainly not enough to enable the family\\r\\nto live off the interest; it was enough to maintain them for,\\r\\nperhaps, one or two years, no more.', \" That's to say, it was money\\r\\nthat should not really be touched but set aside for emergencies;\\r\\nmoney to live on had to be earned.\", ' His father was healthy but old,\\r\\nand lacking in self confidence.', ' During the five years that he had\\r\\nnot been working - the first holiday in a life that had been full of\\r\\nstrain and no success - he had put on a lot of weight and become\\r\\nvery slow and clumsy.', \" Would Gregor's elderly mother now have to go\\r\\nand earn money?\", 'She suffered from asthma and it was a strain for her\\r\\njust to move about the home, every other day would be spent\\r\\nstruggling for breath on the sofa by the open window.', ' Would his\\r\\nsister have to go and earn money?', 'She was still a child of\\r\\nseventeen, her life up till then had been very enviable, consisting\\r\\nof wearing nice clothes, sleeping late, helping out in the business,\\r\\njoining in with a few modest pleasures and most of all playing the\\r\\nviolin.', ' Whenever they began to talk of the need to earn money,\\r\\nGregor would always first let go of the door and then throw himself\\r\\nonto the cool, leather sofa next to it, as he became quite hot with\\r\\nshame and regret.', 'He would often lie there the whole night through, not sleeping a\\r\\nwink but scratching at the leather for hours on end.', ' Or he might go\\r\\nto all the effort of pushing a chair to the window, climbing up onto\\r\\nthe sill and, propped up in the chair, leaning on the window to\\r\\nstare out of it.', ' He had used to feel a great sense of freedom from\\r\\ndoing this, but doing it now was obviously something more remembered\\r\\nthan experienced,  as what he actually saw in this way was becoming\\r\\nless distinct every day, even things that were quite near; he had\\r\\nused to curse the ever-present view of the hospital across the\\r\\nstreet, but now he could not see it at all, and if he had not known\\r\\nthat he lived in Charlottenstrasse, which was a quiet street despite\\r\\nbeing in the middle of the city, he could have thought that he was\\r\\nlooking out the window at a barren waste where the grey sky and the\\r\\ngrey earth mingled inseparably.', ' His observant sister only needed to\\r\\nnotice the chair twice before she would always push it back to its\\r\\nexact position by the window after she had tidied up the room, and\\r\\neven left the inner pane of the window open from then on.', 'If Gregor had only been able to speak to his sister and thank her\\r\\nfor all that she had to do for him it would have been easier for him\\r\\nto bear it; but as it was it caused him pain.', ' His sister,\\r\\nnaturally, tried as far as possible to pretend there was nothing\\r\\nburdensome about it, and the longer it went on, of course, the\\r\\nbetter she was able to do so, but as time went by Gregor was also\\r\\nable to see through it all so much better.', ' It had even become very\\r\\nunpleasant for him, now, whenever she entered the room.', \" No sooner\\r\\nhad she come in than she would quickly close the door as a\\r\\nprecaution so that no-one would have to suffer the view into\\r\\nGregor's room, then she would go straight to the window and pull it\\r\\nhurriedly open almost as if she were suffocating.\", ' Even if it was\\r\\ncold, she would stay at the window breathing deeply for a little\\r\\nwhile.', ' She would alarm Gregor twice a day with this running about\\r\\nand noise making; he would stay under the couch shivering the whole\\r\\nwhile, knowing full well that she would certainly have liked to\\r\\nspare him this ordeal, but it was impossible for her to be in the\\r\\nsame room with him with the windows closed.', \"One day, about a month after Gregor's transformation when his sister\\r\\nno longer had any particular reason to be shocked at his appearance,\\r\\nshe came into the room a little earlier than usual and found him\\r\\nstill staring out the window, motionless, and just where he would be\\r\\nmost horrible.\", \" In itself, his sister's not coming into the room\\r\\nwould have been no surprise for Gregor as it would have been\\r\\ndifficult for her to immediately open the window while he was still\\r\\nthere, but not only did she not come in, she went straight back and\\r\\nclosed the door behind her, a stranger would have thought he had\\r\\nthreatened her and tried to bite her.\", ' Gregor went straight to hide\\r\\nhimself under the couch, of course, but he had to wait until midday\\r\\nbefore his sister came back and she seemed much more uneasy than\\r\\nusual.', ' It made him realise that she still found his appearance\\r\\nunbearable and would continue to do so, she probably even had to\\r\\novercome the urge to flee when she saw the little bit of him that\\r\\nprotruded from under the couch.', ' One day, in order to spare her even\\r\\nthis sight, he spent four hours carrying the bedsheet over to the\\r\\ncouch on his back and arranged it so that he was completely covered\\r\\nand his sister would not be able to see him even if she bent down.', '\\nIf she did not think this sheet was necessary then all she had to do\\r\\nwas take it off again, as it was clear enough that it was no\\r\\npleasure for Gregor to cut himself off so completely.', ' She left the\\r\\nsheet where it was.', ' Gregor even thought he glimpsed a look of\\r\\ngratitude one time when he carefully looked out from under the sheet\\r\\nto see how his sister liked the new arrangement.', \"For the first fourteen days, Gregor's parents could not bring\\r\\nthemselves to come into the room to see him.\", ' He would often hear\\r\\nthem say how they appreciated all the new work his sister was doing\\r\\neven though, before, they had seen her as a girl who was somewhat\\r\\nuseless and frequently been annoyed with her.', \" But now the two of\\r\\nthem, father and mother, would often both wait outside the door of\\r\\nGregor's room while his sister tidied up in there, and as soon as\\r\\nshe went out again she would have to tell them exactly how\\r\\neverything looked, what Gregor had eaten, how he had behaved this\\r\\ntime and whether, perhaps, any slight improvement could be seen.\", '\\nHis mother also wanted to go in and visit Gregor relatively soon but\\r\\nhis father and sister at first persuaded her against it.', ' Gregor\\r\\nlistened very closely to all this, and approved fully.', ' Later,\\r\\nthough, she had to be held back by force, which made her call out:\\r\\n\"Let me go and see Gregor, he is my unfortunate son! Can\\'t you\\r\\nunderstand I have to see him?\", and Gregor would think to himself\\r\\nthat maybe it would be better if his mother came in, not every day\\r\\nof course, but one day a week, perhaps; she could understand\\r\\neverything much better than his sister who, for all her courage, was\\r\\nstill just a child after all, and really might not have had an\\r\\nadult\\'s appreciation of the burdensome job she had taken on.', \"Gregor's wish to see his mother was soon realised.\", ' Out of\\r\\nconsideration for his parents, Gregor wanted to avoid being seen at\\r\\nthe window during the day, the few square meters of the floor did\\r\\nnot give him much room to crawl about, it was hard to just lie\\r\\nquietly through the night, his food soon stopped giving him any\\r\\npleasure at all, and so, to entertain himself, he got into the habit\\r\\nof crawling up and down the walls and ceiling.', ' He was especially\\r\\nfond of hanging from the ceiling; it was quite different from lying\\r\\non the floor; he could breathe more freely; his body had a light\\r\\nswing to it; and up there, relaxed and almost happy, it might happen\\r\\nthat he would surprise even himself by letting go of the ceiling and\\r\\nlanding on the floor with a crash.', ' But now, of course, he had far\\r\\nbetter control of his body than before and, even with a fall as\\r\\ngreat as that, caused himself no damage.', \" Very soon his sister\\r\\nnoticed Gregor's new way of entertaining himself - he had, after\\r\\nall, left traces of the adhesive from his feet as he crawled about -\\r\\nand got it into her head to make it as easy as possible for him by\\r\\nremoving the furniture that got in his way, especially the chest of\\r\\ndrawers and the desk.\", \" Now, this was not something that she would be\\r\\nable to do by herself; she did not dare to ask for help from her\\r\\nfather; the sixteen year old maid had carried on bravely since the\\r\\ncook had left but she certainly would not have helped in this, she\\r\\nhad even asked to be allowed to keep the kitchen locked at all times\\r\\nand never to have to open the door unless it was especially\\r\\nimportant; so his sister had no choice but to choose some time when\\r\\nGregor's father was not there and fetch his mother to help her.\", ' As\\r\\nshe approached the room, Gregor could hear his mother express her\\r\\njoy, but once at the door she went silent.', ' First, of course, his\\r\\nsister came in and looked round to see that everything in the room\\r\\nwas alright; and only then did she let her mother enter.', ' Gregor had\\r\\nhurriedly pulled the sheet down lower over the couch and put more\\r\\nfolds into it so that everything really looked as if it had just\\r\\nbeen thrown down by chance.', ' Gregor also refrained, this time, from\\r\\nspying out from under the sheet; he gave up the chance to see his\\r\\nmother until later and was simply glad that she had come.', ' \"You can\\r\\ncome in, he can\\'t be seen\", said his sister, obviously leading her\\r\\nin by the hand.', \" The old chest of drawers was too heavy for a pair\\r\\nof feeble women to be heaving about, but Gregor listened as they\\r\\npushed it from its place, his sister always taking on the heaviest\\r\\npart of the work for herself and ignoring her mother's warnings that\\r\\nshe would strain herself.\", ' This lasted a very long time.', \" After\\r\\nlabouring at it for fifteen minutes or more his mother said it would\\r\\nbe better to leave the chest where it was, for one thing it was too\\r\\nheavy for them to get the job finished before Gregor's father got\\r\\nhome and leaving it in the middle of the room it would be in his way\\r\\neven more, and for another thing it wasn't even sure that taking the\\r\\nfurniture away would really be any help to him.\", \" She thought just\\r\\nthe opposite; the sight of the bare walls saddened her right to her\\r\\nheart; and why wouldn't Gregor feel the same way about it, he'd been\\r\\nused to this furniture in his room for a long time and it would make\\r\\nhim feel abandoned to be in an empty room like that.\", ' Then, quietly,\\r\\nalmost whispering as if wanting Gregor (whose whereabouts she did\\r\\nnot know) to hear not even the tone of her voice, as she was\\r\\nconvinced that he did not understand her words, she added \"and by\\r\\ntaking the furniture away, won\\'t it seem like we\\'re showing that\\r\\nwe\\'ve given up all hope of improvement and we\\'re abandoning him to\\r\\ncope for himself?', 'I think it\\'d be best to leave the room exactly the\\r\\nway it was before so that when Gregor comes back to us again he\\'ll\\r\\nfind everything unchanged and he\\'ll be able to forget the time in\\r\\nbetween all the easier\".', 'Hearing these words from his mother made Gregor realise that the\\r\\nlack of any direct human communication, along with the monotonous\\r\\nlife led by the family during these two months, must have made him\\r\\nconfused - he could think of no other way of explaining to himself\\r\\nwhy he had seriously wanted his room emptied out.', ' Had he really\\r\\nwanted to transform his room into a cave, a warm room fitted out\\r\\nwith the nice furniture he had inherited?', 'That would have let him\\r\\ncrawl around unimpeded in any direction, but it would also have let\\r\\nhim quickly forget his past when he had still been human.', ' He had\\r\\ncome very close to forgetting, and it had only been the voice of his\\r\\nmother, unheard for so long, that had shaken him out of it.', ' Nothing\\r\\nshould be removed; everything had to stay; he could not do without\\r\\nthe good influence the furniture had on his condition; and if the\\r\\nfurniture made it difficult for him to crawl about mindlessly that\\r\\nwas not a loss but a great advantage.', \"His sister, unfortunately, did not agree; she had become used to the\\r\\nidea, not without reason, that she was Gregor's spokesman to his\\r\\nparents about the things that concerned him.\", \" This meant that his\\r\\nmother's advice now was sufficient reason for her to insist on\\r\\nremoving not only the chest of drawers and the desk, as she had\\r\\nthought at first, but all the furniture apart from the all-important\\r\\ncouch.\", ' It was more than childish perversity, of course, or the\\r\\nunexpected confidence she had recently acquired, that made her\\r\\ninsist; she had indeed noticed that Gregor needed a lot of room to\\r\\ncrawl about in, whereas the furniture, as far as anyone could see,\\r\\nwas of no use to him at all.', ' Girls of that age, though, do become\\r\\nenthusiastic about things and feel they must get their way whenever\\r\\nthey can.', \" Perhaps this was what tempted Grete to make Gregor's\\r\\nsituation seem even more shocking than it was so that she could do\\r\\neven more for him.\", ' Grete would probably be the only one who would\\r\\ndare enter a room dominated by Gregor crawling about the bare walls\\r\\nby himself.', 'So she refused to let her mother dissuade her.', \" Gregor's mother\\r\\nalready looked uneasy in his room, she soon stopped speaking and\\r\\nhelped Gregor's sister to get the chest of drawers out with what\\r\\nstrength she had.\", ' The chest of drawers was something that Gregor\\r\\ncould do without if he had to, but the writing desk had to stay.', '\\nHardly had the two women pushed the chest of drawers, groaning, out\\r\\nof the room than Gregor poked his head out from under the couch to\\r\\nsee what he could do about it.', ' He meant to be as careful and\\r\\nconsiderate as he could, but, unfortunately, it was his mother who\\r\\ncame back first while Grete in the next room had her arms round the\\r\\nchest, pushing and pulling at it from side to side by herself\\r\\nwithout, of course, moving it an inch.', ' His mother was not used to\\r\\nthe sight of Gregor, he might have made her ill, so Gregor hurried\\r\\nbackwards to the far end of the couch.', ' In his startlement, though,\\r\\nhe was not able to prevent the sheet at its front from moving a\\r\\nlittle.', \" It was enough to attract his mother's attention.\", ' She stood\\r\\nvery still, remained there a moment, and then went back out to\\r\\nGrete.', 'Gregor kept trying to assure himself that nothing unusual was\\r\\nhappening, it was just a few pieces of furniture being moved after\\r\\nall, but he soon had to admit that the women going to and fro, their\\r\\nlittle calls to each other, the scraping of the furniture on the\\r\\nfloor, all these things made him feel as if he were being assailed\\r\\nfrom all sides.', ' With his head and legs pulled in against him and\\r\\nhis body pressed to the floor, he was forced to admit to himself\\r\\nthat he could not stand all of this much longer.', \" They were emptying\\r\\nhis room out; taking away everything that was dear to him; they had\\r\\nalready taken out the chest containing his fretsaw and other tools;\\r\\nnow they threatened to remove the writing desk with its place\\r\\nclearly worn into the floor, the desk where he had done his homework\\r\\nas a business trainee, at high school, even while he had been at\\r\\ninfant school - he really could not wait any longer to see whether\\r\\nthe two women's intentions were good.\", ' He had nearly forgotten they\\r\\nwere there anyway, as they were now too tired to say anything while\\r\\nthey worked and he could only hear their feet as they stepped\\r\\nheavily on the floor.', 'So, while the women were leant against the desk in the other room\\r\\ncatching their breath, he sallied out, changed direction four times\\r\\nnot knowing what he should save first before his attention was\\r\\nsuddenly caught by the picture on the wall - which was already\\r\\ndenuded of everything else that had been on it - of the lady dressed\\r\\nin copious fur.', ' He hurried up onto the picture and pressed himself\\r\\nagainst its glass, it held him firmly and felt good on his hot\\r\\nbelly.', ' This picture at least, now totally covered by Gregor, would\\r\\ncertainly be taken away by no-one.', ' He turned his head to face the\\r\\ndoor into the living room so that he could watch the women when they\\r\\ncame back.', 'They had not allowed themselves a long rest and came back quite\\r\\nsoon; Grete had put her arm around her mother and was nearly\\r\\ncarrying her.', ' \"What shall we take now, then?\", said Grete and\\r\\nlooked around.', ' Her eyes met those of Gregor on the wall.', ' Perhaps\\r\\nonly because her mother was there, she remained calm, bent her face\\r\\nto her so that she would not look round and said, albeit hurriedly\\r\\nand with a tremor in her voice: \"Come on, let\\'s go back in the\\r\\nliving room for a while?\"  Gregor could see what Grete had in mind,\\r\\nshe wanted to take her mother somewhere safe and then chase him down\\r\\nfrom the wall.', ' Well, she could certainly try it! He sat unyielding\\r\\non his picture.', \" He would rather jump at Grete's face.\", 'But Grete\\'s words had made her mother quite worried, she stepped to\\r\\none side, saw the enormous brown patch against the flowers of the\\r\\nwallpaper, and before she even realised it was Gregor that she saw\\r\\nscreamed: \"Oh God, oh God!\"  Arms outstretched, she fell onto the\\r\\ncouch as if she had given up everything and stayed there immobile.', '\\n\"Gregor!\" shouted his sister, glowering at him and shaking her fist.', '\\n That was the first word she had spoken to him directly since his\\r\\ntransformation.', \" She ran into the other room to fetch some kind of\\r\\nsmelling salts to bring her mother out of her faint; Gregor wanted\\r\\nto help too - he could save his picture later, although he stuck\\r\\nfast to the glass and had to pull himself off by force; then he,\\r\\ntoo, ran into the next room as if he could advise his sister like in\\r\\nthe old days; but he had to just stand behind her doing nothing; she\\r\\nwas looking into various bottles, he startled her when she turned\\r\\nround; a bottle fell to the ground and broke; a splinter cut\\r\\nGregor's face, some kind of caustic medicine splashed all over him;\\r\\nnow, without delaying any longer, Grete took hold of all the bottles\\r\\nshe could and ran with them in to her mother; she slammed the door\\r\\nshut with her foot.\", ' So now Gregor was shut out from his mother,\\r\\nwho, because of him, might be near to death; he could not open the\\r\\ndoor if he did not want to chase his sister away, and she had to\\r\\nstay with his mother; there was nothing for him to do but wait; and,\\r\\noppressed with anxiety and self-reproach, he began to crawl about,\\r\\nhe crawled over everything, walls, furniture, ceiling, and finally\\r\\nin his confusion as the whole room began to spin around him he fell\\r\\ndown into the middle of the dinner table.', 'He lay there for a while, numb and immobile, all around him it was\\r\\nquiet, maybe that was a good sign.', ' Then there was someone at the\\r\\ndoor.', ' The maid, of course, had locked herself in her kitchen so\\r\\nthat Grete would have to go and answer it.', ' His father had arrived\\r\\nhome.', ' \"What\\'s happened?\" were his first words; Grete\\'s appearance\\r\\nmust have made everything clear to him.', ' She answered him with\\r\\nsubdued voice, and openly pressed her face into his chest: \"Mother\\'s\\r\\nfainted, but she\\'s better now.', ' Gregor got out.\"  \"Just as I\\r\\nexpected\", said his father, \"just as I always said, but you women\\r\\nwouldn\\'t listen, would you.\"  It was clear to Gregor that Grete had\\r\\nnot said enough and that his father took it to mean that something\\r\\nbad had happened, that he was responsible for some act of violence.', '\\nThat meant Gregor would now have to try to calm his father, as he\\r\\ndid not have the time to explain things to him even if that had been\\r\\npossible.', ' So he fled to the door of his room and pressed himself\\r\\nagainst it so that his father, when he came in from the hall, could\\r\\nsee straight away that Gregor had the best intentions and would go\\r\\nback into his room without delay, that it would not be necessary to\\r\\ndrive him back but that they had only to open the door and he would\\r\\ndisappear.', 'His father, though, was not in the mood to notice subtleties like\\r\\nthat; \"Ah!\", he shouted as he came in, sounding as if he were both\\r\\nangry and glad at the same time.', ' Gregor drew his head back from the\\r\\ndoor and lifted it towards his father.', ' He really had not imagined\\r\\nhis father the way he stood there now; of late, with his new habit\\r\\nof crawling about, he had neglected to pay attention to what was\\r\\ngoing on the rest of the flat the way he had done before.', ' He really\\r\\nought to have expected things to have changed, but still, still, was\\r\\nthat really his father?', 'The same tired man as used to be laying\\r\\nthere entombed in his bed when Gregor came back from his business\\r\\ntrips, who would receive him sitting in the armchair in his\\r\\nnightgown when he came back in the evenings; who was hardly even\\r\\nable to stand up but, as a sign of his pleasure, would just raise\\r\\nhis arms and who, on the couple of times a year when they went for a\\r\\nwalk together on a Sunday or public holiday wrapped up tightly in\\r\\nhis overcoat between Gregor and his mother, would always labour his\\r\\nway forward a little more slowly than them, who were already walking\\r\\nslowly for his sake; who would place his stick down carefully and,\\r\\nif he wanted to say something would invariably stop and gather his\\r\\ncompanions around him.', ' He was standing up straight enough now;\\r\\ndressed in a smart blue uniform with gold buttons, the sort worn by\\r\\nthe employees at the banking institute; above the high, stiff collar\\r\\nof the coat his strong double-chin emerged; under the bushy\\r\\neyebrows, his piercing, dark eyes looked out fresh and alert; his\\r\\nnormally unkempt white hair was combed down painfully close to his\\r\\nscalp.', ' He took his cap, with its gold monogram from, probably, some\\r\\nbank, and threw it in an arc right across the room onto the sofa,\\r\\nput his hands in his trouser pockets, pushing back the bottom of his\\r\\nlong uniform coat, and, with look of determination, walked towards\\r\\nGregor.', ' He probably did not even know himself what he had in mind,\\r\\nbut nonetheless lifted his feet unusually high.', ' Gregor was amazed\\r\\nat the enormous size of the soles of his boots, but wasted no time\\r\\nwith that - he knew full well, right from the first day of his new\\r\\nlife, that his father thought it necessary to always be extremely\\r\\nstrict with him.', ' And so he ran up to his father, stopped when his\\r\\nfather stopped, scurried forwards again when he moved, even\\r\\nslightly.', ' In this way they went round the room several times\\r\\nwithout anything decisive happening, without even giving the\\r\\nimpression of a chase as everything went so slowly.', ' Gregor remained\\r\\nall this time on the floor, largely because he feared his father\\r\\nmight see it as especially provoking if he fled onto the wall or\\r\\nceiling.', ' Whatever he did, Gregor had to admit that he certainly\\r\\nwould not be able to keep up this running about for long, as for\\r\\neach step his father took he had to carry out countless movements.', '\\nHe became noticeably short of breath, even in his earlier life his\\r\\nlungs had not been very reliable.', ' Now, as he lurched about in his\\r\\nefforts to muster all the strength he could for running he could\\r\\nhardly keep his eyes open; his thoughts became too slow for him to\\r\\nthink of any other way of saving himself than running; he almost\\r\\nforgot that the walls were there for him to use although, here, they\\r\\nwere concealed behind carefully carved furniture full of notches and\\r\\nprotrusions - then, right beside him, lightly tossed, something flew\\r\\ndown and rolled in front of him.', ' It was an apple; then another one\\r\\nimmediately flew at him; Gregor froze in shock; there was no longer\\r\\nany point in running as his father had decided to bombard him.', ' He\\r\\nhad filled his pockets with fruit from the bowl on the sideboard and\\r\\nnow, without even taking the time for careful aim, threw one apple\\r\\nafter another.', ' These little, red apples rolled about on the floor,\\r\\nknocking into each other as if they had electric motors.', \" An apple\\r\\nthrown without much force glanced against Gregor's back and slid off\\r\\nwithout doing any harm.\", ' Another one however, immediately following\\r\\nit, hit squarely and lodged in his back; Gregor wanted to drag\\r\\nhimself away, as if he could remove the surprising, the incredible\\r\\npain by changing his position; but he felt as if nailed to the spot\\r\\nand spread himself out, all his senses in confusion.', \" The last thing\\r\\nhe saw was the door of his room being pulled open, his sister was\\r\\nscreaming, his mother ran out in front of her in her blouse (as his\\r\\nsister had taken off some of her clothes after she had fainted to\\r\\nmake it easier for her to breathe), she ran to his father, her\\r\\nskirts unfastened and sliding one after another to the ground,\\r\\nstumbling over the skirts she pushed herself to his father, her arms\\r\\naround him, uniting herself with him totally - now Gregor lost his\\r\\nability to see anything - her hands behind his father's head begging\\r\\nhim to spare Gregor's life.\", \"No-one dared to remove the apple lodged in Gregor's flesh, so it\\r\\nremained there as a visible reminder of his injury.\", ' He had suffered\\r\\nit there for more than a month, and his condition seemed serious\\r\\nenough to remind even his father that Gregor, despite his current\\r\\nsad and revolting form, was a family member who could not be treated\\r\\nas an enemy.', ' On the contrary, as a family there was a duty to\\r\\nswallow any revulsion for him and to be patient, just to be patient.', 'Because of his injuries, Gregor had lost much of his mobility -\\r\\nprobably permanently.', ' He had been reduced to the condition of an\\r\\nancient invalid and it took him long, long minutes to crawl across\\r\\nhis room - crawling over the ceiling was out of the question - but\\r\\nthis deterioration in his condition was fully (in his opinion) made\\r\\nup for by the door to the living room being left open every evening.', \"\\n He got into the habit of closely watching it for one or two hours\\r\\nbefore it was opened and then, lying in the darkness of his room\\r\\nwhere he could not be seen from the living room, he could watch the\\r\\nfamily in the light of the dinner table and listen to their\\r\\nconversation - with everyone's permission, in a way, and thus quite\\r\\ndifferently from before.\", 'They no longer held the lively conversations of earlier times, of\\r\\ncourse, the ones that Gregor always thought about with longing when\\r\\nhe was tired and getting into the damp bed in some small hotel room.', '\\n All of them were usually very quiet nowadays.', ' Soon after dinner,\\r\\nhis father would go to sleep in his chair; his mother and sister\\r\\nwould urge each other to be quiet; his mother, bent deeply under the\\r\\nlamp, would sew fancy underwear for a fashion shop; his sister, who\\r\\nhad taken a sales job, learned shorthand and French in the evenings\\r\\nso that she might be able to get a better position later on.', '\\nSometimes his father would wake up and say to Gregor\\'s mother\\r\\n\"you\\'re doing so much sewing again today!\", as if he did not know\\r\\nthat he had been dozing - and then he would go back to sleep again\\r\\nwhile mother and sister would exchange a tired grin.', \"With a kind of stubbornness, Gregor's father refused to take his\\r\\nuniform off even at home; while his nightgown hung unused on its peg\\r\\nGregor's father would slumber where he was, fully dressed, as if\\r\\nalways ready to serve and expecting to hear the voice of his\\r\\nsuperior even here.\", \" The uniform had not been new to start with, but\\r\\nas a result of this it slowly became even shabbier despite the\\r\\nefforts of Gregor's mother and sister to look after it.\", ' Gregor\\r\\nwould often spend the whole evening looking at all the stains on\\r\\nthis coat, with its gold buttons always kept polished and shiny,\\r\\nwhile the old man in it would sleep, highly uncomfortable but\\r\\npeaceful.', \"As soon as it struck ten, Gregor's mother would speak gently to his\\r\\nfather to wake him and try to persuade him to go to bed, as he\\r\\ncouldn't sleep properly where he was and he really had to get his\\r\\nsleep if he was to be up at six to get to work.\", ' But since he had\\r\\nbeen in work he had become more obstinate and would always insist on\\r\\nstaying longer at the table, even though he regularly fell asleep\\r\\nand it was then harder than ever to persuade him to exchange the\\r\\nchair for his bed.', ' Then, however much mother and sister would\\r\\nimportune him with little reproaches and warnings he would keep\\r\\nslowly shaking his head for a quarter of an hour with his eyes\\r\\nclosed and refusing to get up.', \" Gregor's mother would tug at his\\r\\nsleeve, whisper endearments into his ear, Gregor's sister would\\r\\nleave her work to help her mother, but nothing would have any effect\\r\\non him.\", ' He would just sink deeper into his chair.', ' Only when the\\r\\ntwo women took him under the arms he would abruptly open his eyes,\\r\\nlook at them one after the other and say: \"What a life! This is what\\r\\npeace I get in my old age!\"  And supported by the two women he would\\r\\nlift himself up carefully as if he were carrying the greatest load\\r\\nhimself, let the women take him to the door, send them off and carry\\r\\non by himself while Gregor\\'s mother would throw down her needle and\\r\\nhis sister her pen so that they could run after his father and\\r\\ncontinue being of help to him.', 'Who, in this tired and overworked family, would have had time to\\r\\ngive more attention to Gregor than was absolutely necessary?', \"The\\r\\nhousehold budget became even smaller; so now the maid was dismissed;\\r\\nan enormous, thick-boned charwoman with white hair that flapped\\r\\naround her head came every morning and evening to do the heaviest\\r\\nwork; everything else was looked after by Gregor's mother on top of\\r\\nthe large amount of sewing work she did.\", ' Gregor even learned,\\r\\nlistening to the evening conversation about what price they had\\r\\nhoped for, that several items of jewellery belonging to the family\\r\\nhad been sold, even though both mother and sister had been very fond\\r\\nof wearing them at functions and celebrations.', ' But the loudest\\r\\ncomplaint was that although the flat was much too big for their\\r\\npresent circumstances, they could not move out of it, there was no\\r\\nimaginable way of transferring Gregor to the new address.', ' He could\\r\\nsee quite well, though, that there were more reasons than\\r\\nconsideration for him that made it difficult for them to move, it\\r\\nwould have been quite easy to transport him in any suitable crate\\r\\nwith a few air holes in it; the main thing holding the family back\\r\\nfrom their decision to move was much more to do with their total\\r\\ndespair, and the thought that they had been struck with a misfortune\\r\\nunlike anything experienced by anyone else they knew or were related\\r\\nto.', \" They carried out absolutely everything that the world expects\\r\\nfrom poor people, Gregor's father brought bank employees their\\r\\nbreakfast, his mother sacrificed herself by washing clothes for\\r\\nstrangers, his sister ran back and forth behind her desk at the\\r\\nbehest of the customers, but they just did not have the strength to\\r\\ndo any more.\", \" And the injury in Gregor's back began to hurt as much\\r\\nas when it was new.\", ' After they had come back from taking his father\\r\\nto bed Gregor\\'s mother and sister would now leave their work where\\r\\nit was and sit close together, cheek to cheek; his mother would\\r\\npoint to Gregor\\'s room and say \"Close that door, Grete\", and then,\\r\\nwhen he was in the dark again, they would sit in the next room and\\r\\ntheir tears would mingle, or they would simply sit there staring\\r\\ndry-eyed at the table.', 'Gregor hardly slept at all, either night or day.', \" Sometimes he would\\r\\nthink of taking over the family's affairs, just like before, the\\r\\nnext time the door was opened; he had long forgotten about his boss\\r\\nand the chief clerk, but they would appear again in his thoughts,\\r\\nthe salesmen and the apprentices, that stupid teaboy, two or three\\r\\nfriends from other businesses, one of the chambermaids from a\\r\\nprovincial hotel, a tender memory that appeared and disappeared\\r\\nagain, a cashier from a hat shop for whom his attention had been\\r\\nserious but too slow, - all of them appeared to him, mixed together\\r\\nwith strangers and others he had forgotten, but instead of helping\\r\\nhim and his family they were all of them inaccessible, and he was\\r\\nglad when they disappeared.\", ' Other times he was not at all in the\\r\\nmood to look after his family, he was filled with simple rage about\\r\\nthe lack of attention he was shown, and although he could think of\\r\\nnothing he would have wanted, he made plans of how he could get into\\r\\nthe pantry where he could take all the things he was entitled to,\\r\\neven if he was not hungry.', \" Gregor's sister no longer thought about\\r\\nhow she could please him but would hurriedly push some food or other\\r\\ninto his room with her foot before she rushed out to work in the\\r\\nmorning and at midday, and in the evening she would sweep it away\\r\\nagain with the broom, indifferent as to whether it had been eaten or\\r\\n- more often than not - had been left totally untouched.\", ' She still\\r\\ncleared up the room in the evening, but now she could not have been\\r\\nany quicker about it.', ' Smears of dirt were left on the walls, here\\r\\nand there were little balls of dust and filth.', ' At first, Gregor\\r\\nwent into one of the worst of these places when his sister arrived\\r\\nas a reproach to her, but he could have stayed there for weeks\\r\\nwithout his sister doing anything about it; she could see the dirt\\r\\nas well as he could but she had simply decided to leave him to it.', \"\\nAt the same time she became touchy in a way that was quite new for\\r\\nher and which everyone in the family understood - cleaning up\\r\\nGregor's room was for her and her alone.\", \" Gregor's mother did once\\r\\nthoroughly clean his room, and needed to use several bucketfuls of\\r\\nwater to do it - although that much dampness also made Gregor ill\\r\\nand he lay flat on the couch, bitter and immobile.\", \" But his mother\\r\\nwas to be punished still more for what she had done, as hardly had\\r\\nhis sister arrived home in the evening than she noticed the change\\r\\nin Gregor's room and, highly aggrieved, ran back into the living\\r\\nroom where, despite her mothers raised and imploring hands, she\\r\\nbroke into convulsive tears.\", \" Her father, of course, was startled\\r\\nout of his chair and the two parents looked on astonished and\\r\\nhelpless; then they, too, became agitated; Gregor's father, standing\\r\\nto the right of his mother, accused her of not leaving the cleaning\\r\\nof Gregor's room to his sister; from her left, Gregor's sister\\r\\nscreamed at her that she was never to clean Gregor's room again;\\r\\nwhile his mother tried to draw his father, who was beside himself\\r\\nwith anger, into the bedroom; his sister, quaking with tears,\\r\\nthumped on the table with her small fists; and Gregor hissed in\\r\\nanger that no-one had even thought of closing the door to save him\\r\\nthe sight of this and all its noise.\", \"Gregor's sister was exhausted from going out to work, and looking\\r\\nafter Gregor as she had done before was even more work for her, but\\r\\neven so his mother ought certainly not to have taken her place.\", '\\nGregor, on the other hand, ought not to be neglected.', ' Now, though,\\r\\nthe charwoman was here.', \" This elderly widow, with a robust bone\\r\\nstructure that made her able to withstand the hardest of things in\\r\\nher long life, wasn't really repelled by Gregor.\", \" Just by chance one\\r\\nday, rather than any real curiosity, she opened the door to Gregor's\\r\\nroom and found herself face to face with him.\", ' He was taken totally\\r\\nby surprise, no-one was chasing him but he began to rush to and fro\\r\\nwhile she just stood there in amazement with her hands crossed in\\r\\nfront of her.', ' From then on she never failed to open the door\\r\\nslightly every evening and morning and look briefly in on him.', ' At\\r\\nfirst she would call to him as she did so with words that she\\r\\nprobably considered friendly, such as \"come on then, you old\\r\\ndung-beetle!\", or \"look at the old dung-beetle there!\"  Gregor never\\r\\nresponded to being spoken to in that way, but just remained where he\\r\\nwas without moving as if the door had never even been opened.', ' If\\r\\nonly they had told this charwoman to clean up his room every day\\r\\ninstead of letting her disturb him for no reason whenever she felt\\r\\nlike it! One day, early in the morning while a heavy rain struck the\\r\\nwindowpanes, perhaps indicating that spring was coming, she began to\\r\\nspeak to him in that way once again.', ' Gregor was so resentful of it\\r\\nthat he started to move toward her, he was slow and infirm, but it\\r\\nwas like a kind of attack.', \" Instead of being afraid, the charwoman\\r\\njust lifted up one of the chairs from near the door and stood there\\r\\nwith her mouth open, clearly intending not to close her mouth until\\r\\nthe chair in her hand had been slammed down into Gregor's back.\", '\\n\"Aren\\'t you coming any closer, then?\", she asked when Gregor turned\\r\\nround again, and she calmly put the chair back in the corner.', 'Gregor had almost entirely stopped eating.', ' Only if he happened to\\r\\nfind himself next to the food that had been prepared for him he\\r\\nmight take some of it into his mouth to play with it, leave it there\\r\\na few hours and then, more often than not, spit it out again.', ' At\\r\\nfirst he thought it was distress at the state of his room that\\r\\nstopped him eating, but he had soon got used to the changes made\\r\\nthere.', ' They had got into the habit of putting things into this room\\r\\nthat they had no room for anywhere else, and there were now many\\r\\nsuch things as one of the rooms in the flat had been rented out to\\r\\nthree gentlemen.', \" These earnest gentlemen - all three of them had\\r\\nfull beards, as Gregor learned peering through the crack in the door\\r\\none day - were painfully insistent on things' being tidy.\", ' This\\r\\nmeant not only in their own room but, since they had taken a room in\\r\\nthis establishment, in the entire flat and especially in the\\r\\nkitchen.', ' Unnecessary clutter was something they could not tolerate,\\r\\nespecially if it was dirty.', ' They had moreover brought most of their\\r\\nown furnishings and equipment with them.', ' For this reason, many\\r\\nthings had become superfluous which, although they could not be\\r\\nsold, the family did not wish to discard.', \" All these things found\\r\\ntheir way into Gregor's room.\", ' The dustbins from the kitchen found\\r\\ntheir way in there too.', \" The charwoman was always in a hurry, and\\r\\nanything she couldn't use for the time being she would just chuck in\\r\\nthere.\", ' He, fortunately, would usually see no more than the object\\r\\nand the hand that held it.', ' The woman most likely meant to fetch the\\r\\nthings back out again when she had time and the opportunity, or to\\r\\nthrow everything out in one go, but what actually happened was that\\r\\nthey were left where they landed when they had first been thrown\\r\\nunless Gregor made his way through the junk and moved it somewhere\\r\\nelse.', ' At first he moved it because, with no other room free where\\r\\nhe could crawl about, he was forced to, but later on he came to\\r\\nenjoy it although moving about in that the way left him sad and tired to\\r\\ndeath and he would remain immobile for hours afterwards.', 'The gentlemen who rented the room would sometimes take their evening\\r\\nmeal at home in the living room that was used by everyone, and so\\r\\nthe door to this room was often kept closed in the evening.', ' But\\r\\nGregor found it easy to give up having the door open, he had, after\\r\\nall, often failed to make use of it when it was open and, without\\r\\nthe family having noticed it, lain in his room in its darkest\\r\\ncorner.', ' One time, though, the charwoman left the door to the living\\r\\nroom slightly open, and it remained open when the gentlemen who\\r\\nrented the room came in in the evening and the light was put on.', '\\nThey sat up at the table where, formerly, Gregor had taken his meals\\r\\nwith his father and mother, they unfolded the serviettes and picked\\r\\nup their knives and forks.', \" Gregor's mother immediately appeared in\\r\\nthe doorway with a dish of meat and soon behind her came his sister\\r\\nwith a dish piled high with potatoes.\", ' The food was steaming, and\\r\\nfilled the room with its smell.', ' The gentlemen bent over the dishes\\r\\nset in front of them as if they wanted to test the food before\\r\\neating it, and the gentleman in the middle, who seemed to count as\\r\\nan authority for the other two, did indeed cut off a piece of meat\\r\\nwhile it was still in its dish, clearly wishing to establish whether\\r\\nit was sufficiently cooked or whether it should be sent back to the\\r\\nkitchen.', \" It was to his satisfaction, and Gregor's mother and\\r\\nsister, who had been looking on anxiously, began to breathe again\\r\\nand smiled.\", 'The family themselves ate in the kitchen.', \" Nonetheless, Gregor's\\r\\nfather came into the living room before he went into the kitchen,\\r\\nbowed once with his cap in his hand and did his round of the table.\", '\\nThe gentlemen stood as one, and mumbled something into their beards.', '\\n Then, once they were alone, they ate in near perfect silence.', ' It\\r\\nseemed remarkable to Gregor that above all the various noises of\\r\\neating their chewing teeth could still be heard, as if they had\\r\\nwanted to show Gregor that you need teeth in order to eat and it was\\r\\nnot possible to perform anything with jaws that are toothless\\r\\nhowever nice they might be.', ' \"I\\'d like to eat something\", said\\r\\nGregor anxiously, \"but not anything like they\\'re eating.', ' They do\\r\\nfeed themselves.', ' And here I am, dying!\" Throughout all this time, Gregor could not remember having heard the\\r\\nviolin being played, but this evening it began to be heard from the\\r\\nkitchen.', ' The three gentlemen had already finished their meal, the\\r\\none in the middle had produced a newspaper, given a page to each of\\r\\nthe others, and now they leant back in their chairs reading them and\\r\\nsmoking.', ' When the violin began playing they became attentive, stood\\r\\nup and went on tip-toe over to the door of the hallway where they\\r\\nstood pressed against each other.', ' Someone must have heard them in\\r\\nthe kitchen, as Gregor\\'s father called out: \"Is the playing perhaps\\r\\nunpleasant for the gentlemen?', 'We can stop it straight away.\"  \"On\\r\\nthe contrary\", said the middle gentleman, \"would the young lady not\\r\\nlike to come in and play for us here in the room, where it is, after\\r\\nall, much more cosy and comfortable?\"  \"Oh yes, we\\'d love to\",\\r\\ncalled back Gregor\\'s father as if he had been the violin player\\r\\nhimself.', ' The gentlemen stepped back into the room and waited.', \"\\nGregor's father soon appeared with the music stand, his mother with\\r\\nthe music and his sister with the violin.\", ' She calmly prepared\\r\\neverything for her to begin playing; his parents, who had never\\r\\nrented a room out before and therefore showed an exaggerated\\r\\ncourtesy towards the three gentlemen, did not even dare to sit on\\r\\ntheir own chairs; his father leant against the door with his right\\r\\nhand pushed in between two buttons on his uniform coat; his mother,\\r\\nthough, was offered a seat by one of the gentlemen and sat - leaving\\r\\nthe chair where the gentleman happened to have placed it - out of\\r\\nthe way in a corner.', 'His sister began to play; father and mother paid close attention,\\r\\none on each side, to the movements of her hands.', ' Drawn in by the\\r\\nplaying, Gregor had dared to come forward a little and already had\\r\\nhis head in the living room.', ' Before, he had taken great pride in\\r\\nhow considerate he was but now it hardly occurred to him that he had\\r\\nbecome so thoughtless about the others.', \" What's more, there was now\\r\\nall the more reason to keep himself hidden as he was covered in the\\r\\ndust that lay everywhere in his room and flew up at the slightest\\r\\nmovement; he carried threads, hairs, and remains of food about on\\r\\nhis back and sides; he was much too indifferent to everything now to\\r\\nlay on his back and wipe himself on the carpet like he had used to\\r\\ndo several times a day.\", ' And despite this condition, he was not too\\r\\nshy to move forward a little onto the immaculate floor of the living\\r\\nroom.', 'No-one noticed him, though.', \" The family was totally preoccupied with\\r\\nthe violin playing; at first, the three gentlemen had put their\\r\\nhands in their pockets and come up far too close behind the music\\r\\nstand to look at all the notes being played, and they must have\\r\\ndisturbed Gregor's sister, but soon, in contrast with the family,\\r\\nthey  withdrew back to the window with their heads sunk and talking\\r\\nto each other at half volume, and they stayed by the window while\\r\\nGregor's father observed them anxiously.\", ' It really now seemed very\\r\\nobvious that they had expected to hear some beautiful or\\r\\nentertaining violin playing but had been disappointed, that they had\\r\\nhad enough of the whole performance and it was only now out of\\r\\npoliteness that they allowed their peace to be disturbed.', ' It was\\r\\nespecially unnerving, the way they all blew the smoke from their\\r\\ncigarettes upwards from their mouth and noses.', \" Yet Gregor's sister\\r\\nwas playing so beautifully.\", ' Her face was leant to one side,\\r\\nfollowing the lines of music with a careful and melancholy\\r\\nexpression.', ' Gregor crawled a little further forward, keeping his\\r\\nhead close to the ground so that he could meet her eyes if the\\r\\nchance came.', ' Was he an animal if music could captivate him so?', 'It\\r\\nseemed to him that he was being shown the way to the unknown\\r\\nnourishment he had been yearning for.', ' He was determined to make his\\r\\nway forward to his sister and tug at her skirt to show her she might\\r\\ncome into his room with her violin, as no-one appreciated her\\r\\nplaying here as much as he would.', ' He never wanted to let her out of\\r\\nhis room, not while he lived, anyway; his shocking appearance\\r\\nshould, for once, be of some use to him; he wanted to be at every\\r\\ndoor of his room at once to hiss and spit at the attackers; his\\r\\nsister should not be forced to stay with him, though, but stay of\\r\\nher own free will; she would sit beside him on the couch with her\\r\\near bent down to him while he told her how he had always intended to\\r\\nsend her to the conservatory, how he would have told everyone about\\r\\nit last Christmas - had Christmas really come and gone already?', \"- if\\r\\nthis misfortune hadn't got in the way, and refuse to let anyone\\r\\ndissuade him from it.\", ' On hearing all this, his sister would break\\r\\nout in tears of emotion, and Gregor would climb up to her shoulder\\r\\nand kiss her neck, which, since she had been going out to work, she\\r\\nhad kept free without any necklace or collar.', '\"Mr. Samsa!\", shouted the middle gentleman to Gregor\\'s father,\\r\\npointing, without wasting any more words, with his forefinger at\\r\\nGregor as he slowly moved forward.', ' The violin went silent, the\\r\\nmiddle of the three gentlemen first smiled at his two friends,\\r\\nshaking his head, and then looked back at Gregor.', ' His father seemed\\r\\nto think it more important to calm the three gentlemen before\\r\\ndriving Gregor out, even though they were not at all upset and\\r\\nseemed to think Gregor was more entertaining than the violin playing\\r\\nhad been.', ' He rushed up to them with his arms spread out and\\r\\nattempted to drive them back into their room at the same time as\\r\\ntrying to block their view of Gregor with his body.', \" Now they did\\r\\nbecome a little annoyed, and it was not clear whether it was his\\r\\nfather's behaviour that annoyed them or the dawning realisation that\\r\\nthey had had a neighbour like Gregor in the next room without\\r\\nknowing it.\", \" They asked Gregor's father for explanations, raised\\r\\ntheir arms like he had, tugged excitedly at their beards and moved\\r\\nback towards their room only very slowly.\", \" Meanwhile Gregor's sister\\r\\nhad overcome the despair she had fallen into when her playing was\\r\\nsuddenly interrupted.\", \" She had let her hands drop and let violin and\\r\\nbow hang limply for a while but continued to look at the music as if\\r\\nstill playing, but then she suddenly pulled herself together, lay\\r\\nthe instrument on her mother's lap who still sat laboriously\\r\\nstruggling for breath where she was, and ran into the next room\\r\\nwhich, under pressure from her father, the three gentlemen were more\\r\\nquickly moving toward.\", \" Under his sister's experienced hand, the\\r\\npillows and covers on the beds flew up and were put into order and\\r\\nshe had already finished making the beds and slipped out again\\r\\nbefore the three gentlemen had reached the room.\", \" Gregor's father\\r\\nseemed so obsessed with what he was doing that he forgot all the\\r\\nrespect he owed to his tenants.\", \" He urged them and pressed them\\r\\nuntil, when he was already at the door of the room, the middle of\\r\\nthe three gentlemen shouted like thunder and stamped his foot and\\r\\nthereby brought Gregor's father to a halt.\", ' \"I declare here and\\r\\nnow\", he said, raising his hand and glancing at Gregor\\'s mother and\\r\\nsister to gain their attention too, \"that with regard to the\\r\\nrepugnant conditions that prevail in this flat and with this family\"\\r\\n- here he looked briefly but decisively at the floor - \"I give\\r\\nimmediate notice on my room.', ' For the days that I have been living\\r\\nhere I will, of course, pay nothing at all, on the contrary I will\\r\\nconsider whether to proceed with some kind of action for damages\\r\\nfrom you, and believe me it would be very easy to set out the\\r\\ngrounds for such an action.\"  He was silent and looked straight\\r\\nahead as if waiting for something.', ' And indeed, his two friends\\r\\njoined in with the words: \"And we also give immediate notice.\"  With\\r\\nthat, he took hold of the door handle and slammed the door.', \"Gregor's father staggered back to his seat, feeling his way with his\\r\\nhands, and fell into it; it looked as if he was stretching himself\\r\\nout for his usual evening nap but from the uncontrolled way his head\\r\\nkept nodding it could be seen that he was not sleeping at all.\", '\\nThroughout all this, Gregor had lain still where the three gentlemen\\r\\nhad first seen him.', ' His disappointment at the failure of his plan,\\r\\nand perhaps also because he was weak from hunger, made it impossible\\r\\nfor him to move.', ' He was sure that everyone would turn on him any\\r\\nmoment, and he waited.', \" He was not even startled out of this state\\r\\nwhen the violin on his mother's lap fell from her trembling fingers\\r\\nand landed loudly on the floor.\", '\"Father, Mother\", said his sister, hitting the table with her hand\\r\\nas introduction, \"we can\\'t carry on like this.', \" Maybe you can't see\\r\\nit, but I can.\", \" I don't want to call this monster my brother, all I\\r\\ncan say is: we have to try and get rid of it.\", ' We\\'ve done all that\\'s\\r\\nhumanly possible to look after it and be patient, I don\\'t think\\r\\nanyone could accuse us of doing anything wrong.\" \"She\\'s absolutely right\", said Gregor\\'s father to himself.', ' His\\r\\nmother, who still had not had time to catch her breath, began to\\r\\ncough dully, her hand held out in front of her and a deranged\\r\\nexpression in her eyes.', \"Gregor's sister rushed to his mother and put her hand on her\\r\\nforehead.\", \" Her words seemed to give Gregor's father some more\\r\\ndefinite ideas.\", ' He sat upright, played with his uniform cap between\\r\\nthe plates left by the three gentlemen after their meal, and\\r\\noccasionally looked down at Gregor as he lay there immobile.', '\"We have to try and get rid of it\", said Gregor\\'s sister, now\\r\\nspeaking only to her father, as her mother was too occupied with\\r\\ncoughing to listen, \"it\\'ll be the death of both of you, I can see it\\r\\ncoming.', \" We can't all work as hard as we have to and then come home\\r\\nto be tortured like this, we can't endure it.\", ' I can\\'t endure it any\\r\\nmore.\"  And she broke out so heavily in tears that they flowed down\\r\\nthe face of her mother, and she wiped them away with mechanical hand\\r\\nmovements.', '\"My child\", said her father with sympathy and obvious understanding,\\r\\n\"what are we to do?\" His sister just shrugged her shoulders as a sign of the helplessness\\r\\nand tears that had taken hold of her, displacing her earlier\\r\\ncertainty.', '\"If he could just understand us\", said his father almost as a\\r\\nquestion; his sister shook her hand vigorously through her tears as\\r\\na sign that of that there was no question.', '\"If he could just understand us\", repeated Gregor\\'s father, closing\\r\\nhis eyes in acceptance of his sister\\'s certainty that that was quite\\r\\nimpossible, \"then perhaps we could come to some kind of arrangement\\r\\nwith him.', ' But as it is ...\" \"It\\'s got to go\", shouted his sister, \"that\\'s the only way, Father.', \"\\nYou've got to get rid of the idea that that's Gregor.\", \" We've only\\r\\nharmed ourselves by believing it for so long.\", ' How can that be\\r\\nGregor?', \"If it were Gregor he would have seen long ago that it's not\\r\\npossible for human beings to live with an animal like that and he\\r\\nwould have gone of his own free will.\", \" We wouldn't have a brother\\r\\nany more, then, but we could carry on with our lives and remember\\r\\nhim with respect.\", \" As it is this animal is persecuting us, it's\\r\\ndriven out our tenants, it obviously wants to take over the whole\\r\\nflat and force us to sleep on the streets.\", ' Father, look, just\\r\\nlook\", she suddenly screamed, \"he\\'s starting again!\"   In her alarm,\\r\\nwhich was totally beyond Gregor\\'s comprehension, his sister even\\r\\nabandoned his mother as she pushed herself vigorously out of her\\r\\nchair as if more willing to sacrifice her own mother than stay\\r\\nanywhere near Gregor.', \" She rushed over to behind her father, who had\\r\\nbecome excited merely because she was and stood up half raising his\\r\\nhands in front of Gregor's sister as if to protect her.\", 'But Gregor had had no intention of frightening anyone, least of all\\r\\nhis sister.', ' All he had done was begin to turn round so that he\\r\\ncould go back into his room, although that was in itself quite\\r\\nstartling as his pain-wracked condition meant that turning round\\r\\nrequired a great deal of effort and he was using his head to help\\r\\nhimself do it, repeatedly raising it and striking it against the\\r\\nfloor.', ' He stopped and looked round.', ' They seemed to have realised\\r\\nhis good intention and had only been alarmed briefly.', ' Now they all\\r\\nlooked at him in unhappy silence.', ' His mother lay in her chair with\\r\\nher legs stretched out and pressed against each other, her eyes\\r\\nnearly closed with exhaustion; his sister sat next to his father\\r\\nwith her arms around his neck.', '\"Maybe now they\\'ll let me turn round\", thought Gregor and went back\\r\\nto work.', ' He could not help panting loudly with the effort and had\\r\\nsometimes to stop and take a rest.', ' No-one was making him rush any\\r\\nmore, everything was left up to him.', ' As soon as he had finally\\r\\nfinished turning round he began to move straight ahead.', ' He was\\r\\namazed at the great distance that separated him from his room, and\\r\\ncould not understand how he had covered that distance in his weak\\r\\nstate a little while before and almost without noticing it.', ' He\\r\\nconcentrated on crawling as fast as he could and hardly noticed that\\r\\nthere was not a word, not any cry, from his family to distract him.', '\\nHe did not turn his head until he had reached the doorway.', ' He did\\r\\nnot turn it all the way round as he felt his neck becoming stiff,\\r\\nbut it was nonetheless enough to see that nothing behind him had\\r\\nchanged, only his sister had stood up.', ' With his last glance he saw\\r\\nthat his mother had now fallen completely asleep.', 'He was hardly inside his room before the door was hurriedly shut,\\r\\nbolted and locked.', ' The sudden noise behind Gregor so startled him\\r\\nthat his little legs collapsed under him.', ' It was his sister who had\\r\\nbeen in so much of a rush.', ' She had been standing there waiting and\\r\\nsprung forward lightly, Gregor had not heard her coming at all, and\\r\\nas she turned the key in the lock she said loudly to her parents \"At\\r\\nlast!\".', '\"What now, then?\", Gregor asked himself as he looked round in the\\r\\ndarkness.', ' He soon made the discovery that he could no longer move\\r\\nat all.', ' This was no surprise to him, it seemed rather that being\\r\\nable to actually move around on those spindly little legs until then\\r\\nwas unnatural.', ' He also felt relatively comfortable.', ' It is true\\r\\nthat his entire body was aching, but the pain seemed to be slowly\\r\\ngetting weaker and weaker and would finally disappear altogether.', '\\nHe could already hardly feel the decayed apple in his back or the\\r\\ninflamed area around it, which was entirely covered in white dust.', '\\nHe thought back of his family with emotion and love.', ' If it was\\r\\npossible, he felt that he must go away even more strongly than his\\r\\nsister.', ' He remained in this state of empty and peaceful rumination\\r\\nuntil he heard the clock tower strike three in the morning.', ' He\\r\\nwatched as it slowly began to get light everywhere outside the\\r\\nwindow too.', ' Then, without his willing it, his head sank down\\r\\ncompletely, and his last breath flowed weakly from his nostrils.', \"When the cleaner came in early in the morning - they'd often asked\\r\\nher not to keep slamming the doors but with her strength and in her\\r\\nhurry she still did, so that everyone in the flat knew when she'd\\r\\narrived and from then on it was impossible to sleep in peace - she\\r\\nmade her usual brief look in on Gregor and at first found nothing\\r\\nspecial.\", ' She thought he was laying there so still on purpose,\\r\\nplaying the martyr; she attributed all possible understanding to\\r\\nhim.', ' She happened to be holding the long broom in her hand, so she\\r\\ntried to tickle Gregor with it from the doorway.', ' When she had no\\r\\nsuccess with that she tried to make a nuisance of herself and poked\\r\\nat him a little, and only when she found she could shove him across\\r\\nthe floor with no resistance at all did she start to pay attention.', '\\nShe soon realised what had really happened, opened her eyes wide,\\r\\nwhistled to herself, but did not waste time to yank open the bedroom\\r\\ndoors and shout loudly into the darkness of the bedrooms: \"Come and\\r\\n\\'ave a look at this, it\\'s dead, just lying there, stone dead!\" Mr. and  Mrs.', 'Samsa sat upright there in their marriage bed and had\\r\\nto make an effort to get over the shock caused by the cleaner before\\r\\nthey could grasp what she was saying.', ' But then, each from his own\\r\\nside, they hurried out of bed.', ' Mr. Samsa threw the blanket over his\\r\\nshoulders,  Mrs.', \"Samsa just came out in her nightdress; and that is\\r\\nhow they went into Gregor's room.\", ' On the way they opened the door\\r\\nto the living room where Grete had been sleeping since the three\\r\\ngentlemen had moved in; she was fully dressed as if she had never\\r\\nbeen asleep, and the paleness of her face seemed to confirm this.', '\\n\"Dead?\", asked  Mrs.', 'Samsa, looking at the charwoman enquiringly,\\r\\neven though she could have checked for herself and could have known\\r\\nit even without checking.', ' \"That\\'s what I said\",  replied the\\r\\ncleaner, and to prove it she gave Gregor\\'s body another shove with\\r\\nthe broom, sending it sideways across the floor.', ' Mrs.', 'Samsa made a\\r\\nmovement as if she wanted to hold back the broom, but did not\\r\\ncomplete it.', ' \"Now then\", said  Mr. Samsa, \"let\\'s give thanks to God\\r\\nfor that\".', 'He crossed himself, and the three women followed his\\r\\nexample.', ' Grete, who had not taken her eyes from the corpse, said:\\r\\n\"Just look how thin he was.', \" He didn't eat anything for so long.\", '\\nThe food came out again just the same as when it went in\".', \"Gregor's\\r\\nbody was indeed completely dried up and flat, they had not seen it\\r\\nuntil then, but now he was not lifted up on his little legs, nor did\\r\\nhe do anything to make them look away.\", '\"Grete, come with us in here for a little while\", said  Mrs.', 'Samsa\\r\\nwith a pained smile, and Grete followed her parents into the bedroom\\r\\nbut not without looking back at the body.', ' The cleaner shut the door\\r\\nand opened the window wide.', ' Although it was still early in the\\r\\nmorning the fresh air had something of warmth mixed in with it.', ' It\\r\\nwas already the end of March, after all.', 'The three gentlemen stepped out of their room and looked round in\\r\\namazement for their breakfasts;  they had been forgotten about.', '\\n\"Where is our breakfast?\", the middle gentleman asked the cleaner\\r\\nirritably.', \" She just put her finger on her lips and made a quick and\\r\\nsilent sign to the men that they might like to come into Gregor's\\r\\nroom.\", \" They did so, and stood around Gregor's corpse with their\\r\\nhands in the pockets of their well-worn coats.\", 'It was now quite\\r\\nlight in the room.', 'Then the door of the bedroom opened and  Mr. Samsa appeared in his\\r\\nuniform with his wife on one arm and his daughter on the other.', \" All\\r\\nof them had been crying a little; Grete now and then pressed her\\r\\nface against her father's arm.\", '\"Leave my home.', ' Now!\", said  Mr. Samsa, indicating the door and\\r\\nwithout letting the women from him.', ' \"What do you mean?\", asked the\\r\\nmiddle of the three gentlemen somewhat disconcerted, and he smiled\\r\\nsweetly.', ' The other two held their hands behind their backs and\\r\\ncontinually rubbed them together in gleeful anticipation of a loud\\r\\nquarrel which could only end in their favour.', ' \"I mean just what I\\r\\nsaid\", answered  Mr. Samsa, and, with his two companions, went in a\\r\\nstraight line towards the man.', ' At first, he stood there still,\\r\\nlooking at the ground as if the contents of his head were\\r\\nrearranging themselves into new positions.', ' \"Alright, we\\'ll go\\r\\nthen\", he said, and looked up at  Mr. Samsa as if he had been\\r\\nsuddenly overcome with humility and wanted permission again from\\r\\nMr. Samsa for his decision.', ' Mr. Samsa merely opened his eyes wide\\r\\nand briefly nodded to him several times.', ' At that, and without\\r\\ndelay, the man actually did take long strides into the front\\r\\nhallway; his two friends had stopped rubbing their hands some time\\r\\nbefore and had been listening to what was being said.', ' Now they\\r\\njumped off after their friend as if taken with a sudden fear that\\r\\nMr. Samsa might go into the hallway in front of them and break the\\r\\nconnection with their leader.', ' Once there, all three took their hats\\r\\nfrom the stand, took their sticks from the holder, bowed without a\\r\\nword and left the premises.', \" Mr. Samsa and the two women followed\\r\\nthem out onto the landing; but they had had no reason to mistrust\\r\\nthe men's intentions and as they leaned over the landing they saw how\\r\\nthe three gentlemen made slow but steady progress down the many\\r\\nsteps.\", \" As they turned the corner on each floor they disappeared and\\r\\nwould reappear a few moments later; the further down they went, the\\r\\nmore that the Samsa family lost interest in them; when a butcher's\\r\\nboy, proud of posture with his tray on his head, passed them on his\\r\\nway up and came nearer than they were,  Mr. Samsa and the women came\\r\\naway from the landing and went, as if relieved, back into the flat.\", 'They decided the best way to make use of that day was for relaxation\\r\\nand to go for a walk; not only had they earned a break from work but\\r\\nthey were in serious need of it.', ' So they sat at the table and wrote\\r\\nthree letters of excusal,  Mr. Samsa to his employers,  Mrs.', 'Samsa\\r\\nto her contractor and Grete to her principal.', \" The cleaner came in\\r\\nwhile they were writing to tell them she was going, she'd finished\\r\\nher work for that morning.\", ' The three of them at first just nodded\\r\\nwithout looking up from what they were writing, and it was only when\\r\\nthe cleaner still did not seem to want to leave that they looked up\\r\\nin irritation.', ' \"Well?\", asked  Mr. Samsa.', ' The charwoman stood in\\r\\nthe doorway with a smile on her face as if she had some tremendous\\r\\ngood news to report, but would only do it if she was clearly asked\\r\\nto.', ' The almost vertical little ostrich feather on her hat, which\\r\\nhad been a source of irritation to  Mr. Samsa all the time she had\\r\\nbeen working for them, swayed gently in all directions.', ' \"What is it\\r\\nyou want then?\", asked  Mrs.', 'Samsa, whom the cleaner had the most\\r\\nrespect for.', ' \"Yes\", she answered, and broke into a friendly laugh\\r\\nthat made her unable to speak straight away, \"well then, that thing\\r\\nin there, you needn\\'t worry about how you\\'re going to get rid of it.', '\\n That\\'s all been sorted out.\"   Mrs.', 'Samsa and Grete bent down over\\r\\ntheir letters as if intent on continuing with what they were\\r\\nwriting;  Mr. Samsa saw that the cleaner wanted to start describing\\r\\neverything in detail but, with outstretched hand, he made it quite\\r\\nclear that she was not to.', ' So, as she was prevented from telling\\r\\nthem all about it, she suddenly remembered what a hurry she was in\\r\\nand, clearly peeved, called out \"Cheerio then, everyone\", turned\\r\\nround sharply and left, slamming the door terribly as she went.', '\"Tonight she gets sacked\", said  Mr. Samsa, but he received no reply\\r\\nfrom either his wife or his daughter as the charwoman seemed to have\\r\\ndestroyed the peace they had only just gained.', ' They got up and went\\r\\nover to the window where they remained with their arms around each\\r\\nother.', ' Mr. Samsa twisted round in his chair to look at them and sat\\r\\nthere watching for a while.', ' Then he called out: \"Come here, then.', \"\\nLet's forget about all that old stuff, shall we.\", ' Come and give me a\\r\\nbit of attention\".', 'The two women immediately did as he said,\\r\\nhurrying over to him where they kissed him and hugged him and then\\r\\nthey quickly finished their letters.', 'After that, the three of them left the flat together, which was\\r\\nsomething they had not done for months, and took the tram out to the\\r\\nopen country outside the town.', ' They had the tram, filled with warm\\r\\nsunshine, all to themselves.', ' Leant back comfortably on their seats,\\r\\nthey discussed their prospects and found that on closer examination\\r\\nthey were not at all bad - until then they had never asked each\\r\\nother about their work but all three had jobs which were very good\\r\\nand held particularly good promise for the future.', ' The greatest\\r\\nimprovement for the time being, of course, would be achieved quite\\r\\neasily by moving house; what they needed now was a flat that was\\r\\nsmaller and cheaper than the current one which had been chosen by\\r\\nGregor, one that was in a better location and, most of all, more\\r\\npractical.', ' All the time, Grete was becoming livelier.', ' With all the\\r\\nworry they had been having of late her cheeks had become pale, but,\\r\\nwhile they were talking,  Mr. and  Mrs.', 'Samsa were struck, almost\\r\\nsimultaneously, with the thought of how their daughter was\\r\\nblossoming into a well built and beautiful young lady.', ' They became\\r\\nquieter.', \" Just from each other's glance and almost without knowing\\r\\nit they agreed that it would soon be time to find a good man for\\r\\nher.\", ' And, as if in confirmation of their new dreams and good\\r\\nintentions, as soon as they reached their destination Grete was the\\r\\nfirst to get up and stretch out her young body.']\n"
     ]
    }
   ],
   "source": [
    "import re\n",
    "from collections import Counter\n",
    "\n",
    "word_count = len(all_words)\n",
    "words = all_words.split()\n",
    "sentences = re.split(r'(?<!\\w\\.\\w.)(?<![A-Z][a-z]\\.)(?<=\\.|\\?)\\s', all_words)\n",
    "sentence_count = len(sentences)\n",
    "\n",
    "def get_avg(x): return str(x)[3:-4]\n",
    "\n",
    "\n",
    "\n",
    "\n",
    "print \"\\n[ Word Count ]---------------------------------------------\\n\"\n",
    "print word_count\n",
    "\n",
    "print \"\\n[ # of Sentences ]---------------------------------------------\\n\"\n",
    "print sentence_count\n",
    "\n",
    "print \"\\n[ Avg Sentence Length ]---------------------------------------------\\n\"\n",
    "print sentences"
   ]
  },
  {
   "cell_type": "markdown",
   "metadata": {},
   "source": [
    "## Problem 3: Data from Simulations\n",
    "\n",
    "In this problem we practice generating data by setting up a simulation of a simple phenomenon, a queue. \n",
    "\n",
    "Suppose we're interested in simulating a queue that forms in front of a small Bank of America branch with one teller, where the customers arrive one at a time.\n",
    "\n",
    "We want to study the queue length and customer waiting time."
   ]
  },
  {
   "cell_type": "markdown",
   "metadata": {},
   "source": [
    "### Part (a): Simulating Arrival and Service Time\n",
    "\n",
    "Assume that gaps between consecutive arrivals are uniformly distributed over the interval of 1 to 20 minutes (i.e. any two times between 1 minute and 6 minutes are equally likely). \n",
    "\n",
    "Assume that the service times are uniform over the interval of 5 to 15 minutes. \n",
    "\n",
    "Generate the arrival and service times for 100 customers, using the $\\mathtt{uniform()}$ function from the $\\mathtt{random}$ library."
   ]
  },
  {
   "cell_type": "code",
   "execution_count": null,
   "metadata": {
    "collapsed": false
   },
   "outputs": [],
   "source": []
  },
  {
   "cell_type": "markdown",
   "metadata": {},
   "source": [
    "### Part (b): Simulating the Queue\n",
    "\n",
    "Write function that computes the average queue length and the average customer wait time, given the arrival times and the service times."
   ]
  },
  {
   "cell_type": "code",
   "execution_count": null,
   "metadata": {
    "collapsed": true
   },
   "outputs": [],
   "source": []
  },
  {
   "cell_type": "markdown",
   "metadata": {},
   "source": [
    "### Part (c): Average Queue Length and Wait Time\n",
    "\n",
    "Run your simulation 500 times and report the mean and std of the average wait time and queue length for 100 customers. What do these statistics mean?\n",
    "\n",
    "Explain why is isn't sufficient to run our simulation **once** and report the average wait time/queue length we obtain."
   ]
  },
  {
   "cell_type": "code",
   "execution_count": null,
   "metadata": {
    "collapsed": true
   },
   "outputs": [],
   "source": []
  },
  {
   "cell_type": "markdown",
   "metadata": {},
   "source": [
    "## Problem 4 (Challenge Problem): More Web Scrapping\n",
    "\n",
    "In this problem we practice extracting tabular web data. Open and read the webpage at\n",
    "\n",
    "$\\mathtt{http://www.thisismoney.co.uk/money/news/article-2928285/Economy-tables-GDP-rates-inflation-history-unemployment.html}$\n",
    "\n",
    "Extract the Inflation History table and load it into a numpy array.\n",
    "\n",
    "Generate a line graph representing the trend of consumer price index vs time (in months)."
   ]
  },
  {
   "cell_type": "code",
   "execution_count": null,
   "metadata": {
    "collapsed": true
   },
   "outputs": [],
   "source": []
  }
 ],
 "metadata": {
  "kernelspec": {
   "display_name": "Python 2",
   "language": "python",
   "name": "python2"
  },
  "language_info": {
   "codemirror_mode": {
    "name": "ipython",
    "version": 2
   },
   "file_extension": ".py",
   "mimetype": "text/x-python",
   "name": "python",
   "nbconvert_exporter": "python",
   "pygments_lexer": "ipython2",
   "version": "2.7.10"
  }
 },
 "nbformat": 4,
 "nbformat_minor": 0
}
