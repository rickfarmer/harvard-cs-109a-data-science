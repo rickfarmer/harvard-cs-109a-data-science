{
 "cells": [
  {
   "cell_type": "markdown",
   "metadata": {},
   "source": [
    "# CS 109A/AC 209A/STAT 121A Data Science: Homework 4 (Solutions)\n",
    "**Harvard University**<br>\n",
    "**Fall 2016**<br>\n",
    "**Instructors: W. Pan, P. Protopapas, K. Rader**<br>\n",
    "**Due Date: ** Wednesday, October 5th, 2016 at 11:59pm"
   ]
  },
  {
   "cell_type": "markdown",
   "metadata": {},
   "source": [
    "Download the `IPython` notebook as well as the data file from Vocareum and complete locally.\n",
    "\n",
    "To submit your assignment, in Vocareum, upload (using the 'Upload' button on your Jupyter Dashboard) your solution to Vocareum as a single notebook with following file name format:\n",
    "\n",
    "`last_first_CourseNumber_HW4.ipynb`\n",
    "\n",
    "where `CourseNumber` is the course in which you're enrolled (CS 109a, Stats 121a, AC 209a). Submit your assignment in Vocareum using the 'Submit' button.\n",
    "\n",
    "**Avoid editing your file in Vocareum after uploading. If you need to make a change in a solution. Delete your old solution file from Vocareum and upload a new solution. Click submit only ONCE after verifying that you have uploaded the correct file. The assignment will CLOSE after you click the submit button.**\n",
    "\n",
    "Problems on homework assignments are equally weighted. The Challenge Question is required for AC 209A students and optional for all others. Student who complete the Challenge Problem as optional extra credit will receive +0.5% towards your final grade for each correct solution. "
   ]
  },
  {
   "cell_type": "markdown",
   "metadata": {},
   "source": [
    "Import libraries"
   ]
  },
  {
   "cell_type": "code",
   "execution_count": 2,
   "metadata": {
    "collapsed": false
   },
   "outputs": [],
   "source": [
    "import numpy as np\n",
    "import pandas as pd\n",
    "from sklearn.linear_model import LinearRegression as Lin_Reg\n",
    "from sklearn.linear_model import Ridge as Ridge_Reg\n",
    "from sklearn.linear_model import Lasso as Lasso_Reg\n",
    "from statsmodels.regression.linear_model import OLS\n",
    "import sklearn.preprocessing as Preprocessing\n",
    "from sklearn.preprocessing import StandardScaler as Standardize\n",
    "import itertools as it\n",
    "import matplotlib\n",
    "import matplotlib.pyplot as plt\n",
    "import matplotlib.cm as cmx\n",
    "import matplotlib.colors as colors\n",
    "import scipy as sp\n",
    "from itertools import combinations\n",
    "%matplotlib inline"
   ]
  },
  {
   "cell_type": "markdown",
   "metadata": {},
   "source": [
    "## Problem 0: Basic Information\n",
    "\n",
    "Fill in your basic information. \n",
    "\n",
    "### Part (a): Your name"
   ]
  },
  {
   "cell_type": "markdown",
   "metadata": {},
   "source": [
    "[Last, First]"
   ]
  },
  {
   "cell_type": "markdown",
   "metadata": {},
   "source": [
    "### Part (b): Course Number"
   ]
  },
  {
   "cell_type": "markdown",
   "metadata": {},
   "source": [
    "[CS 109a or STATS 121a or AC 209a]"
   ]
  },
  {
   "cell_type": "markdown",
   "metadata": {},
   "source": [
    "### Part (c): Who did you work with?"
   ]
  },
  {
   "cell_type": "markdown",
   "metadata": {},
   "source": [
    "[First and Land names of students with whom you have collaborated]"
   ]
  },
  {
   "cell_type": "markdown",
   "metadata": {},
   "source": [
    "**All data sets can be found in the ``datasets`` folder and are in comma separated value (CSV) format**"
   ]
  },
  {
   "cell_type": "markdown",
   "metadata": {},
   "source": [
    "## Problem 1: Variable selection and regularization\n",
    "\n",
    "The data set for this problem is provided in ``dataset_1.txt`` and contains 10 predictors and a response variable.\n",
    "\n",
    "### Part (a): Analyze correlation among predictors\n",
    "- By visually inspecting the data set, do find that some of the predictors are correlated amongst themselves?\n",
    "\n",
    "\n",
    "- Compute the cofficient of correlation between each pair of predictors, and visualize the matrix of correlation coefficients using a heat map. Do the predictors fall naturally into groups based on the correlation values?\n",
    "\n",
    "\n",
    "- If you were asked to select a minimal subset of predictors to build a good regression model, how many predictors will you pick, and which ones will you choose? "
   ]
  },
  {
   "cell_type": "markdown",
   "metadata": {},
   "source": [
    "**Solution:**\n",
    "\n",
    "On visual inspection of the data, it is seen that the predictors 0, 1 and 2 are identical."
   ]
  },
  {
   "cell_type": "code",
   "execution_count": 22,
   "metadata": {
    "collapsed": false
   },
   "outputs": [
    {
     "data": {
      "image/png": "[encoded data removed]",
      "text/plain": [
       "<matplotlib.figure.Figure at 0x10d0bcb50>"
      ]
     },
     "metadata": {},
     "output_type": "display_data"
    }
   ],
   "source": [
    "# Load data\n",
    "data = np.loadtxt('datasets/dataset_1.txt', delimiter=',', skiprows=1)\n",
    "\n",
    "# Split predictors and response\n",
    "x = data[:, :-1]\n",
    "y = data[:, -1]\n",
    "\n",
    "# Compute matrix of correlation coefficients\n",
    "corr_matrix = np.corrcoef(x.T)\n",
    "\n",
    "# Display heat map \n",
    "fig, ax = plt.subplots(1, 1, figsize=(6, 6))\n",
    "\n",
    "ax.pcolor(corr_matrix)\n",
    "\n",
    "ax.set_title('Heatmap of correlation matrix')\n",
    "\n",
    "plt.show()"
   ]
  },
  {
   "cell_type": "markdown",
   "metadata": {},
   "source": [
    "It appears that the predictors fall into **5 natural groups**. To build a regression model, one might pick a total of **5 predictors**, one from each group."
   ]
  },
  {
   "cell_type": "markdown",
   "metadata": {},
   "source": [
    "### Part (b): Selecting minimal subset of predictors\n",
    "\n",
    "- Apply the variable selection methods discussed in class to choose a minimal subset of predictors that yield high prediction accuracy:\n",
    "    \n",
    "    - Exhaustive search\n",
    "    \n",
    "    - Step-wise forward selection\n",
    "    \n",
    "    - Step-wise backward selection  \n",
    "\n",
    "&emsp;&nbsp;&nbsp; In each method, use the Bayesian Information Criterion (BIC) to choose the subset size.\n",
    "\n",
    "- Do the chosen subsets match the ones you picked using the correlation matrix you had visualized in Part (a)?\n",
    "\n",
    "**Note**: You may use the `statsmodels`'s `OLS` module to fit a linear regression model and evaluate BIC."
   ]
  },
  {
   "cell_type": "markdown",
   "metadata": {},
   "source": [
    "**Solution:**"
   ]
  },
  {
   "cell_type": "code",
   "execution_count": 23,
   "metadata": {
    "collapsed": false
   },
   "outputs": [
    {
     "name": "stdout",
     "output_type": "stream",
     "text": [
      "Best subset by exhaustive search:\n",
      "[0, 5, 7, 8, 9]\n"
     ]
    }
   ],
   "source": [
    "min_bic = 1e10 # set some initial large value for min BIC score\n",
    "best_subset = [] # best subset of predictors\n",
    "\n",
    "# Create all possible subsets of the set of 10 predictors\n",
    "predictor_set = set(range(10)) # predictor set = {0, 1, 2, 3, 4, 5, 6, 7, 8, 9}\n",
    "\n",
    "# Repeat for every possible size of subset\n",
    "for size_k in range(10): \n",
    "    # Create all possible subsets of size 'size', \n",
    "    # using the 'combination' function from the 'itertools' library\n",
    "    subsets_of_size_k = it.combinations(predictor_set, size_k + 1) \n",
    "    \n",
    "    max_r_squared = -1e10 # set some initial small value for max R^2 score\n",
    "    best_k_subset = [] # best subset of predictors of size k\n",
    "    \n",
    "    # Iterate over all subsets of our predictor set\n",
    "    for predictor_subset in subsets_of_size_k:    \n",
    "        # Use only a subset of predictors in the training data\n",
    "        x_subset = x[:, predictor_subset]\n",
    "        # Add a column of ones\n",
    "        x_subset = np.hstack((x_subset, np.ones((x_subset.shape[0], 1))))\n",
    "        \n",
    "        # Fit and evaluate R^2\n",
    "        model = OLS(y, x_subset)\n",
    "        results = model.fit()\n",
    "        r_squared = results.rsquared\n",
    "        \n",
    "        # Update max R^2 and best predictor subset of size k\n",
    "        # If current predictor subset has a higher R^2 score than that of the best subset \n",
    "        # we've found so far, remember the current predictor subset as the best!\n",
    "        if(r_squared > max_r_squared): \n",
    "            max_r_squared = r_squared\n",
    "            best_k_subset = predictor_subset[:]\n",
    "                \n",
    "\n",
    "    # Use only the best subset of size k for the predictors\n",
    "    x_subset = x[:, best_k_subset]\n",
    "        \n",
    "    # Fit and evaluate BIC of the best subset of size k\n",
    "    model = OLS(y, x_subset)\n",
    "    results = model.fit()\n",
    "    bic = results.bic\n",
    "    \n",
    "    # Update minimum BIC and best predictor subset\n",
    "    # If current predictor has a lower BIC score than that of the best subset \n",
    "    # we've found so far, remember the current predictor as the best!\n",
    "    if(bic < min_bic): \n",
    "        min_bic = bic\n",
    "        best_subset = best_k_subset[:]\n",
    "    \n",
    "print('Best subset by exhaustive search:')\n",
    "print sorted(best_subset)"
   ]
  },
  {
   "cell_type": "code",
   "execution_count": 24,
   "metadata": {
    "collapsed": false
   },
   "outputs": [
    {
     "name": "stdout",
     "output_type": "stream",
     "text": [
      "Step-wise forward subset selection:\n",
      "[0, 5, 7, 8, 9]\n"
     ]
    }
   ],
   "source": [
    "### Step-wise Forward Selection\n",
    "d = x.shape[1] # total no. of predictors\n",
    "\n",
    "# Keep track of current set of chosen predictors, and the remaining set of predictors\n",
    "current_predictors = [] \n",
    "remaining_predictors = range(d)\n",
    "\n",
    "# Set some initial large value for min BIC score for all possible subsets\n",
    "global_min_bic = 1e10 \n",
    "\n",
    "# Keep track of the best subset of predictors\n",
    "best_subset = [] \n",
    "\n",
    "# Iterate over all possible subset sizes, 0 predictors to d predictors\n",
    "for size in range(d):    \n",
    "    max_r_squared = -1e10 # set some initial small value for max R^2\n",
    "    best_predictor = -1 # set some throwaway initial number for the best predictor to add\n",
    "    bic_with_best_predictor = 1e10 # set some initial large value for BIC score   \n",
    "        \n",
    "    # Iterate over all remaining predictors to find best predictor to add\n",
    "    for i in remaining_predictors:\n",
    "        # Make copy of current set of predictors\n",
    "        temp = current_predictors[:]\n",
    "        # Add predictor 'i'\n",
    "        temp.append(i)\n",
    "                                    \n",
    "        # Use only a subset of predictors in the training data\n",
    "        x_subset = x[:, temp]\n",
    "        # Add a column of ones\n",
    "        x_subset = np.hstack((x_subset, np.ones((x_subset.shape[0], 1))))\n",
    "        \n",
    "        # Fit and evaluate R^2\n",
    "        model = OLS(y, x_subset)\n",
    "        results = model.fit()\n",
    "        r_squared = results.rsquared\n",
    "        \n",
    "        # Check if we get a higher R^2 value than than current max R^2, if so, update\n",
    "        if(r_squared > max_r_squared):\n",
    "            max_r_squared = r_squared\n",
    "            best_predictor = i\n",
    "            bic_with_best_predictor = results.bic\n",
    "    \n",
    "    # Remove best predictor from remaining list, and add best predictor to current list\n",
    "    remaining_predictors.remove(best_predictor)\n",
    "    current_predictors.append(best_predictor)\n",
    "    \n",
    "    # Check if BIC for with the predictor we just added is lower than \n",
    "    # the global minimum across all subset of predictors\n",
    "    if(bic_with_best_predictor < global_min_bic):\n",
    "        best_subset = current_predictors[:]\n",
    "        global_min_bic = bic_with_best_predictor\n",
    "    \n",
    "print 'Step-wise forward subset selection:'\n",
    "print sorted(best_subset) # add 1 as indices start from 0"
   ]
  },
  {
   "cell_type": "code",
   "execution_count": 25,
   "metadata": {
    "collapsed": false
   },
   "outputs": [
    {
     "name": "stdout",
     "output_type": "stream",
     "text": [
      "Step-wise backward subset selection:\n",
      "[2, 5, 7, 8, 9]\n"
     ]
    }
   ],
   "source": [
    "###  Step-wise Backward Selection\n",
    "d = x.shape[1] # total no. of predictors\n",
    "\n",
    "# Keep track of current set of chosen predictors\n",
    "current_predictors = range(d)\n",
    "\n",
    "# First, fit and evaluate BIC using all 'd' number of predictors\n",
    "model = OLS(y, x)\n",
    "results = model.fit()\n",
    "bic_all = results.bic\n",
    "\n",
    "# Set the minimum BIC score, initially, to the BIC score using all 'd' predictors\n",
    "global_min_bic = bic_all\n",
    "# Keep track of the best subset of predictors\n",
    "best_subset = [] \n",
    "\n",
    "# Iterate over all possible subset sizes, d predictors to 1 predictor\n",
    "for size in range(d - 1, 0, -1): # stop before 0 to avoid choosing an empty set of predictors\n",
    "    max_r_squared = -1e10 # set some initial small value for max R^2\n",
    "    worst_predictor = -1 # set some throwaway initial number for the worst predictor to remove\n",
    "    bic_without_worst_predictor = 1e10 # set some initial large value for min BIC score  \n",
    "        \n",
    "    # Iterate over current set of predictors (for potential elimination)\n",
    "    for i in current_predictors:\n",
    "        # Create copy of current predictors, and remove predictor 'i'\n",
    "        temp = current_predictors[:]\n",
    "        temp.remove(i)\n",
    "                                    \n",
    "        # Use only a subset of predictors in the training data\n",
    "        x_subset = x[:, temp]\n",
    "        # Add a column of ones\n",
    "        x_subset = np.hstack((x_subset, np.ones((x_subset.shape[0], 1))))\n",
    "        \n",
    "        # Fit and evaluate R^2\n",
    "        model = OLS(y, x_subset)\n",
    "        results = model.fit()\n",
    "        r_squared = results.rsquared\n",
    "        \n",
    "        # Check if we get a higher R^2 value than than current max R^2, if so, update\n",
    "        if(r_squared > max_r_squared):\n",
    "            max_r_squared = r_squared\n",
    "            worst_predictor = i\n",
    "            bic_without_worst_predictor = results.bic\n",
    "          \n",
    "    # Remove worst predictor from current set of predictors\n",
    "    current_predictors.remove(worst_predictor)\n",
    "    \n",
    "    # Check if BIC for the predictor we just removed is lower than \n",
    "    # the global minimum across all subset of predictors\n",
    "    if(bic_without_worst_predictor < global_min_bic):\n",
    "        best_subset = current_predictors[:]\n",
    "        global_min_bic = bic_without_worst_predictor\n",
    "    \n",
    "print 'Step-wise backward subset selection:'\n",
    "print sorted(best_subset)"
   ]
  },
  {
   "cell_type": "markdown",
   "metadata": {},
   "source": [
    "The subset of predictors chosen by exhaustive search, backward selection and forward selection agrees with the correlation matrix we visualize in Part (a). That is, the best predictor subset contains five predictors, with **one predictor from each group of correlated predictors**."
   ]
  },
  {
   "cell_type": "markdown",
   "metadata": {},
   "source": [
    "### Part (c): Apply Lasso and Ridge regression\n",
    "\n",
    "- Apply Lasso regression with regularization parameter $\\lambda = 0.01$ and fit a regression model.\n",
    "\n",
    "    - Identify the predictors that are assigned non-zero coefficients. Do these correspond to  the correlation matrix in Part (a)?\n",
    "\n",
    "\n",
    "- Apply Ridge regression with regularization parameter $\\lambda = 0.01$ and fit a regression model.\n",
    "\n",
    "    - Is there a difference between the model parameters you obtain different and those obtained from Lasso regression? If so, explain why.\n",
    "\n",
    "    - Identify the predictors that are assigned non-zero coefficients. Do these correspond to  the correlation matrix in Part (a)?\n",
    "\n",
    "\n",
    "- Is there anything peculiar that you observe about the coefficients Ridge regression assigns to the first three predictors? Do you observe the same with Lasso regression? Give an explanation for your observation."
   ]
  },
  {
   "cell_type": "markdown",
   "metadata": {},
   "source": [
    "**Solution:**"
   ]
  },
  {
   "cell_type": "code",
   "execution_count": 26,
   "metadata": {
    "collapsed": false
   },
   "outputs": [
    {
     "name": "stdout",
     "output_type": "stream",
     "text": [
      "Lasso:\n",
      "Coefficients: [ 0.02717417  0.          0.         -0.         -0.02532806 -0.         -0.\n",
      "  0.04397321 -0.40612185 -0.22260474]\n",
      "Predictors with non-zero coefficients: [0, 4, 7, 8, 9]\n"
     ]
    }
   ],
   "source": [
    "# Lasso regression\n",
    "reg = Lasso_Reg(alpha = 0.01)\n",
    "reg.fit(x, y)\n",
    "coefficients = reg.coef_\n",
    "\n",
    "print 'Lasso:'\n",
    "print 'Coefficients:', coefficients\n",
    "print  'Predictors with non-zero coefficients:', [i for i, item in enumerate(coefficients) if abs(item) > 0]"
   ]
  },
  {
   "cell_type": "markdown",
   "metadata": {},
   "source": [
    "The subset of predictors chosen by Lasso agrees with the correlation matrix we visualize in Part (a). That is, the best predictor subset contains five predictors, with **one predictor from each group of correlated predictors**."
   ]
  },
  {
   "cell_type": "code",
   "execution_count": 27,
   "metadata": {
    "collapsed": false
   },
   "outputs": [
    {
     "name": "stdout",
     "output_type": "stream",
     "text": [
      "Ridge:\n",
      "Coefficients: [ 0.01202839  0.01202839  0.01202839  0.08215546 -0.05164384 -0.13888768\n",
      "  0.06613925  0.05307179 -0.12990042 -0.10333556]\n",
      "Predictors with non-zero coefficients: [0, 1, 2, 3, 4, 5, 6, 7, 8, 9]\n"
     ]
    }
   ],
   "source": [
    "# Standardize data\n",
    "x_std = Standardize(with_mean=False).fit_transform(x)\n",
    "\n",
    "# Ridge regression: Fit and evaluate \n",
    "reg = Ridge_Reg(alpha = 0.01)\n",
    "reg.fit(x_std, y)\n",
    "coefficients = reg.coef_\n",
    "\n",
    "print 'Ridge:'\n",
    "print 'Coefficients:', coefficients\n",
    "print 'Predictors with non-zero coefficients:', [i for i, item in enumerate(coefficients) if abs(item) > 0]"
   ]
  },
  {
   "cell_type": "markdown",
   "metadata": {},
   "source": [
    "Unlike Lasso, the model parameters are **dense**. All predictors are assigned non-zero coefficients.\n",
    "\n",
    "Also, the first three predictors are assigned the same coefficient in Ridge regression.\n",
    "This is because the first three predictors take identical values. Hence, in building a regression model, one gets the same squared-error whether we use one or all of them. \n",
    "\n",
    "Now, the L2-norm penalty is minimized when the three predictors are assigned the same coefficients. More formally, let $C$ be a constant, and let $\\beta_1, \\beta_2, \\beta_3$ be coefficients on the first three predictors that sum up to $C$, i.e. $\\beta_1+\\beta_2+\\beta_3 = C$. Note that since the three predictors are identical, all such coefficients yield the same least square loss. However, among all these coefficients that sum up to $C$, the minimum L2-norm penalty $\\beta_1^2 + \\beta^2_2 + \\beta^3_3$ is attained at $\\beta^*_1 = \\beta^*_2 = \\beta^*_3 = \\frac{C}{3}$."
   ]
  },
  {
   "cell_type": "markdown",
   "metadata": {},
   "source": [
    "## Problem 2: Cross-validation and Bootstrapping\n",
    "In this problem, you will work with an expanded version of the automobile pricing data set you analyzed in Homework 3. The data set is contained ``dataset_2.txt``, with 26 attribues (i.e. predictors) for each automobile and corresponding prices. \n",
    "\n",
    "### Part(a): Encode categorical attributes and fill missing values\n",
    "Identify the categorical attributes in the data. Replace their values with the one-hot binary encoding. You may do this using the `get_dummies()` function in `pandas`. If you do this task correctly, you should get a total of 69 predictors after the encoding.\n"
   ]
  },
  {
   "cell_type": "markdown",
   "metadata": {},
   "source": [
    "**Solution:**"
   ]
  },
  {
   "cell_type": "code",
   "execution_count": 28,
   "metadata": {
    "collapsed": false
   },
   "outputs": [
    {
     "data": {
      "text/html": [
       "<div>\n",
       "<table border=\"1\" class=\"dataframe\">\n",
       "  <thead>\n",
       "    <tr style=\"text-align: right;\">\n",
       "      <th></th>\n",
       "      <th>horsepower</th>\n",
       "      <th>highway-mpg</th>\n",
       "      <th>symboling</th>\n",
       "      <th>normalized-losses</th>\n",
       "      <th>make</th>\n",
       "      <th>fuel-type</th>\n",
       "      <th>aspiration</th>\n",
       "      <th>num-of-doors</th>\n",
       "      <th>body-style</th>\n",
       "      <th>drive-wheels</th>\n",
       "      <th>...</th>\n",
       "      <th>curb-weight</th>\n",
       "      <th>engine-type</th>\n",
       "      <th>num-of-cylinders</th>\n",
       "      <th>engine-size</th>\n",
       "      <th>fuel-system</th>\n",
       "      <th>bore</th>\n",
       "      <th>stroke</th>\n",
       "      <th>compression-ratio</th>\n",
       "      <th>peak-rpm</th>\n",
       "      <th>city-mpg</th>\n",
       "    </tr>\n",
       "  </thead>\n",
       "  <tbody>\n",
       "    <tr>\n",
       "      <th>0</th>\n",
       "      <td>95</td>\n",
       "      <td>24</td>\n",
       "      <td>0</td>\n",
       "      <td>120.232558</td>\n",
       "      <td>peugot</td>\n",
       "      <td>gas</td>\n",
       "      <td>std</td>\n",
       "      <td>four</td>\n",
       "      <td>wagon</td>\n",
       "      <td>rwd</td>\n",
       "      <td>...</td>\n",
       "      <td>3285</td>\n",
       "      <td>l</td>\n",
       "      <td>four</td>\n",
       "      <td>120</td>\n",
       "      <td>mpfi</td>\n",
       "      <td>3.46</td>\n",
       "      <td>2.19</td>\n",
       "      <td>8.4</td>\n",
       "      <td>5000</td>\n",
       "      <td>19</td>\n",
       "    </tr>\n",
       "    <tr>\n",
       "      <th>1</th>\n",
       "      <td>116</td>\n",
       "      <td>30</td>\n",
       "      <td>2</td>\n",
       "      <td>134.000000</td>\n",
       "      <td>toyota</td>\n",
       "      <td>gas</td>\n",
       "      <td>std</td>\n",
       "      <td>two</td>\n",
       "      <td>hardtop</td>\n",
       "      <td>rwd</td>\n",
       "      <td>...</td>\n",
       "      <td>2679</td>\n",
       "      <td>ohc</td>\n",
       "      <td>four</td>\n",
       "      <td>146</td>\n",
       "      <td>mpfi</td>\n",
       "      <td>3.62</td>\n",
       "      <td>3.50</td>\n",
       "      <td>9.3</td>\n",
       "      <td>4800</td>\n",
       "      <td>24</td>\n",
       "    </tr>\n",
       "    <tr>\n",
       "      <th>2</th>\n",
       "      <td>121</td>\n",
       "      <td>28</td>\n",
       "      <td>0</td>\n",
       "      <td>188.000000</td>\n",
       "      <td>bmw</td>\n",
       "      <td>gas</td>\n",
       "      <td>std</td>\n",
       "      <td>two</td>\n",
       "      <td>sedan</td>\n",
       "      <td>rwd</td>\n",
       "      <td>...</td>\n",
       "      <td>2710</td>\n",
       "      <td>ohc</td>\n",
       "      <td>six</td>\n",
       "      <td>164</td>\n",
       "      <td>mpfi</td>\n",
       "      <td>3.31</td>\n",
       "      <td>3.19</td>\n",
       "      <td>9.0</td>\n",
       "      <td>4250</td>\n",
       "      <td>21</td>\n",
       "    </tr>\n",
       "    <tr>\n",
       "      <th>3</th>\n",
       "      <td>184</td>\n",
       "      <td>16</td>\n",
       "      <td>0</td>\n",
       "      <td>120.232558</td>\n",
       "      <td>mercedes-benz</td>\n",
       "      <td>gas</td>\n",
       "      <td>std</td>\n",
       "      <td>four</td>\n",
       "      <td>sedan</td>\n",
       "      <td>rwd</td>\n",
       "      <td>...</td>\n",
       "      <td>3900</td>\n",
       "      <td>ohcv</td>\n",
       "      <td>eight</td>\n",
       "      <td>308</td>\n",
       "      <td>mpfi</td>\n",
       "      <td>3.80</td>\n",
       "      <td>3.35</td>\n",
       "      <td>8.0</td>\n",
       "      <td>4500</td>\n",
       "      <td>14</td>\n",
       "    </tr>\n",
       "    <tr>\n",
       "      <th>4</th>\n",
       "      <td>111</td>\n",
       "      <td>29</td>\n",
       "      <td>0</td>\n",
       "      <td>102.000000</td>\n",
       "      <td>subaru</td>\n",
       "      <td>gas</td>\n",
       "      <td>turbo</td>\n",
       "      <td>four</td>\n",
       "      <td>sedan</td>\n",
       "      <td>4wd</td>\n",
       "      <td>...</td>\n",
       "      <td>2510</td>\n",
       "      <td>ohcf</td>\n",
       "      <td>four</td>\n",
       "      <td>108</td>\n",
       "      <td>mpfi</td>\n",
       "      <td>3.62</td>\n",
       "      <td>2.64</td>\n",
       "      <td>7.7</td>\n",
       "      <td>4800</td>\n",
       "      <td>24</td>\n",
       "    </tr>\n",
       "  </tbody>\n",
       "</table>\n",
       "<p>5 rows × 25 columns</p>\n",
       "</div>"
      ],
      "text/plain": [
       "   horsepower  highway-mpg  symboling  normalized-losses           make  \\\n",
       "0          95           24          0         120.232558         peugot   \n",
       "1         116           30          2         134.000000         toyota   \n",
       "2         121           28          0         188.000000            bmw   \n",
       "3         184           16          0         120.232558  mercedes-benz   \n",
       "4         111           29          0         102.000000         subaru   \n",
       "\n",
       "  fuel-type aspiration num-of-doors body-style drive-wheels   ...     \\\n",
       "0       gas        std         four      wagon          rwd   ...      \n",
       "1       gas        std          two    hardtop          rwd   ...      \n",
       "2       gas        std          two      sedan          rwd   ...      \n",
       "3       gas        std         four      sedan          rwd   ...      \n",
       "4       gas      turbo         four      sedan          4wd   ...      \n",
       "\n",
       "  curb-weight  engine-type  num-of-cylinders  engine-size  fuel-system  bore  \\\n",
       "0        3285            l              four          120         mpfi  3.46   \n",
       "1        2679          ohc              four          146         mpfi  3.62   \n",
       "2        2710          ohc               six          164         mpfi  3.31   \n",
       "3        3900         ohcv             eight          308         mpfi  3.80   \n",
       "4        2510         ohcf              four          108         mpfi  3.62   \n",
       "\n",
       "  stroke compression-ratio  peak-rpm city-mpg  \n",
       "0   2.19               8.4      5000       19  \n",
       "1   3.50               9.3      4800       24  \n",
       "2   3.19               9.0      4250       21  \n",
       "3   3.35               8.0      4500       14  \n",
       "4   2.64               7.7      4800       24  \n",
       "\n",
       "[5 rows x 25 columns]"
      ]
     },
     "execution_count": 28,
     "metadata": {},
     "output_type": "execute_result"
    }
   ],
   "source": [
    "# Load data\n",
    "data = pd.read_csv('datasets/dataset_2.txt')\n",
    "        \n",
    "# Separate predictors and response\n",
    "x_df = data.iloc[:, :-1]\n",
    "y_df = data.iloc[:, -1]\n",
    "\n",
    "x_df.head(n=5)"
   ]
  },
  {
   "cell_type": "markdown",
   "metadata": {},
   "source": [
    "It certainly is the case that all string valued attributes are categorical (the type of some of these columns is 'object'). There are some numerical valued attributes that are also categorical (like symboling). "
   ]
  },
  {
   "cell_type": "code",
   "execution_count": 29,
   "metadata": {
    "collapsed": false,
    "scrolled": false
   },
   "outputs": [
    {
     "data": {
      "text/html": [
       "<div>\n",
       "<table border=\"1\" class=\"dataframe\">\n",
       "  <thead>\n",
       "    <tr style=\"text-align: right;\">\n",
       "      <th></th>\n",
       "      <th>horsepower</th>\n",
       "      <th>highway-mpg</th>\n",
       "      <th>-2.0</th>\n",
       "      <th>0.0</th>\n",
       "      <th>1.0</th>\n",
       "      <th>1.09604519774</th>\n",
       "      <th>2.0</th>\n",
       "      <th>3.0</th>\n",
       "      <th>normalized-losses</th>\n",
       "      <th>audi</th>\n",
       "      <th>...</th>\n",
       "      <th>1bbl</th>\n",
       "      <th>2bbl</th>\n",
       "      <th>idi</th>\n",
       "      <th>mpfi</th>\n",
       "      <th>spdi</th>\n",
       "      <th>bore</th>\n",
       "      <th>stroke</th>\n",
       "      <th>compression-ratio</th>\n",
       "      <th>peak-rpm</th>\n",
       "      <th>city-mpg</th>\n",
       "    </tr>\n",
       "  </thead>\n",
       "  <tbody>\n",
       "    <tr>\n",
       "      <th>0</th>\n",
       "      <td>95</td>\n",
       "      <td>24</td>\n",
       "      <td>0</td>\n",
       "      <td>1</td>\n",
       "      <td>0</td>\n",
       "      <td>0</td>\n",
       "      <td>0</td>\n",
       "      <td>0</td>\n",
       "      <td>120.232558</td>\n",
       "      <td>0</td>\n",
       "      <td>...</td>\n",
       "      <td>0</td>\n",
       "      <td>0</td>\n",
       "      <td>0</td>\n",
       "      <td>1</td>\n",
       "      <td>0</td>\n",
       "      <td>3.46</td>\n",
       "      <td>2.19</td>\n",
       "      <td>8.4</td>\n",
       "      <td>5000</td>\n",
       "      <td>19</td>\n",
       "    </tr>\n",
       "    <tr>\n",
       "      <th>1</th>\n",
       "      <td>116</td>\n",
       "      <td>30</td>\n",
       "      <td>0</td>\n",
       "      <td>0</td>\n",
       "      <td>0</td>\n",
       "      <td>0</td>\n",
       "      <td>1</td>\n",
       "      <td>0</td>\n",
       "      <td>134.000000</td>\n",
       "      <td>0</td>\n",
       "      <td>...</td>\n",
       "      <td>0</td>\n",
       "      <td>0</td>\n",
       "      <td>0</td>\n",
       "      <td>1</td>\n",
       "      <td>0</td>\n",
       "      <td>3.62</td>\n",
       "      <td>3.50</td>\n",
       "      <td>9.3</td>\n",
       "      <td>4800</td>\n",
       "      <td>24</td>\n",
       "    </tr>\n",
       "    <tr>\n",
       "      <th>2</th>\n",
       "      <td>121</td>\n",
       "      <td>28</td>\n",
       "      <td>0</td>\n",
       "      <td>1</td>\n",
       "      <td>0</td>\n",
       "      <td>0</td>\n",
       "      <td>0</td>\n",
       "      <td>0</td>\n",
       "      <td>188.000000</td>\n",
       "      <td>0</td>\n",
       "      <td>...</td>\n",
       "      <td>0</td>\n",
       "      <td>0</td>\n",
       "      <td>0</td>\n",
       "      <td>1</td>\n",
       "      <td>0</td>\n",
       "      <td>3.31</td>\n",
       "      <td>3.19</td>\n",
       "      <td>9.0</td>\n",
       "      <td>4250</td>\n",
       "      <td>21</td>\n",
       "    </tr>\n",
       "  </tbody>\n",
       "</table>\n",
       "<p>3 rows × 69 columns</p>\n",
       "</div>"
      ],
      "text/plain": [
       "   horsepower  highway-mpg  -2.0  0.0  1.0  1.09604519774  2.0  3.0  \\\n",
       "0          95           24     0    1    0              0    0    0   \n",
       "1         116           30     0    0    0              0    1    0   \n",
       "2         121           28     0    1    0              0    0    0   \n",
       "\n",
       "   normalized-losses  audi    ...     1bbl  2bbl  idi  mpfi  spdi  bore  \\\n",
       "0         120.232558     0    ...        0     0    0     1     0  3.46   \n",
       "1         134.000000     0    ...        0     0    0     1     0  3.62   \n",
       "2         188.000000     0    ...        0     0    0     1     0  3.31   \n",
       "\n",
       "   stroke  compression-ratio  peak-rpm  city-mpg  \n",
       "0    2.19                8.4      5000        19  \n",
       "1    3.50                9.3      4800        24  \n",
       "2    3.19                9.0      4250        21  \n",
       "\n",
       "[3 rows x 69 columns]"
      ]
     },
     "execution_count": 29,
     "metadata": {},
     "output_type": "execute_result"
    }
   ],
   "source": [
    "# Create a new data frame to store one-hot encoding of attributes\n",
    "x_df_expanded = pd.DataFrame({}) \n",
    "\n",
    "# Iterate over all attributes\n",
    "for column in x_df.columns:\n",
    "    # Check if attribute is categorical: has less than 8 unique values,\n",
    "    # or is string values (column has type 'object')\n",
    "    if len(x_df[column].unique()) < 8 or x_df[column].dtype == np.dtype('object'):\n",
    "        # use one-hot encoding for this column\n",
    "        encoding = pd.get_dummies(x_df[column])\n",
    "        # append expanded attribute to data frame\n",
    "        x_df_expanded = pd.concat([x_df_expanded, encoding], axis=1)\n",
    "    else:\n",
    "        x_df_expanded = pd.concat([x_df_expanded, x_df[[column]]], axis=1)\n",
    "\n",
    "x_df_expanded.head(n=3)"
   ]
  },
  {
   "cell_type": "markdown",
   "metadata": {},
   "source": [
    "### Part (b): Apply regular linear regression\n",
    "- Split the data set into train and test sets, with the first 25% of the data for training and the remaining for testing.  \n",
    "\n",
    "\n",
    "- Use regular linear regression to fit a model to the training set and evaluate the R^2 score of the fitted model on both the training and test sets. What do you observe about these values?\n",
    "\n",
    "\n",
    "- You had seen in class that the R^2 value of a least-squares fit to a data set would lie between 0 and 1. Is this true for the test R^2 values reported above? If not, give a reason for why this is the case.\n",
    "\n",
    "\n",
    "- Is there a need for regularization while fitting a linear model to this data set?"
   ]
  },
  {
   "cell_type": "markdown",
   "metadata": {},
   "source": [
    "**Solution:**"
   ]
  },
  {
   "cell_type": "code",
   "execution_count": 30,
   "metadata": {
    "collapsed": true
   },
   "outputs": [],
   "source": [
    "# Convert data frame to numpy array\n",
    "x = x_df_expanded.values\n",
    "y = y_df.values\n",
    "\n",
    "# Split data into train and test\n",
    "n = x.shape[0]\n",
    "n_train = int(np.round(n * 0.25))\n",
    "\n",
    "# First 25% train, remaining test\n",
    "x_train = x[:n_train, :]\n",
    "y_train = y[:n_train]\n",
    "x_test = x[n_train:, :]\n",
    "y_test = y[n_train:]"
   ]
  },
  {
   "cell_type": "code",
   "execution_count": 31,
   "metadata": {
    "collapsed": false
   },
   "outputs": [
    {
     "name": "stdout",
     "output_type": "stream",
     "text": [
      "Plain Regression: R^2 score on training set 1.0\n",
      "Plain Regression: R^2 score on test set -5.97542556701\n"
     ]
    }
   ],
   "source": [
    "# Fit plain regression on train set, evaluate on train and test sets\n",
    "reg = Lin_Reg() #automatically fits intercept (adds column of one's) for you\n",
    "reg.fit(x_train, y_train)\n",
    "\n",
    "train_r_squared_plain = reg.score(x_train, y_train)\n",
    "test_r_squared_plain = reg.score(x_test, y_test)\n",
    "\n",
    "print 'Plain Regression: R^2 score on training set', train_r_squared_plain\n",
    "print 'Plain Regression: R^2 score on test set', test_r_squared_plain"
   ]
  },
  {
   "cell_type": "markdown",
   "metadata": {},
   "source": [
    "**Observations:** \n",
    "\n",
    "The train R^2 score for plain regression is 1.0, while the test R^2 is negative. \n",
    "\n",
    "The test R^2 value is negative. While the R^2 score of a model evaluated on the same data set that it is fitted to needs to lie between 0 and 1, this need not be true when the model is evaluated on a held-out test set. \n",
    "\n",
    "In the case of dataset_2, the model over-fits the train set as the number of predictors (69) are comparable to the number of training instances (100), and a perfect fit is easily achieved. This is the reason for a train R^2 of 1, and a poor test R^2.\n",
    "\n",
    "Clearly, there is a need for using regularization while fitting the regression model."
   ]
  },
  {
   "cell_type": "markdown",
   "metadata": {},
   "source": [
    "### Part (c): Apply Ridge regression\n",
    "\n",
    "- Apply Ridge regression on the training set for different values of the regularization parameter $\\lambda$ in the range $\\{10^{-7}, 10^{-6}, \\ldots, 10^7\\}$. Evaluate the R^2 score for the models you obtain on both the train and test sets. Plot both values as a function of $\\lambda$. \n",
    "\n",
    "\n",
    "- Explain the relationship between the regularization parameter and the training and test R^2 scores.\n",
    "\n",
    "\n",
    "- How does the best test R^2 value obtained using Ridge regression compare with that of plain linear regression? Explain."
   ]
  },
  {
   "cell_type": "markdown",
   "metadata": {},
   "source": [
    "**Solution:**"
   ]
  },
  {
   "cell_type": "code",
   "execution_count": 32,
   "metadata": {
    "collapsed": false
   },
   "outputs": [
    {
     "name": "stdout",
     "output_type": "stream",
     "text": [
      "Ridge Regression: max R^2 score on training set 0.999999999666\n",
      "Ridge Regression: max R^2 score on test set 0.933696632242\n"
     ]
    },
    {
     "data": {
      "image/png": "[encoded data removed]",
      "text/plain": [
       "<matplotlib.figure.Figure at 0x1145996d0>"
      ]
     },
     "metadata": {},
     "output_type": "display_data"
    }
   ],
   "source": [
    "# Store test R-squared for different regression parameters\n",
    "max_pow_of_10 = 7 # maximum power of 10\n",
    "min_pow_of_10 = -7 # minimum power of 10\n",
    "num_params = max_pow_of_10 - min_pow_of_10 + 1\n",
    "\n",
    "train_r_squared = []\n",
    "test_r_squared = []\n",
    "\n",
    "#standardize x_train and y_train\n",
    "std = Standardize(with_mean=False)\n",
    "x_train_std = std.fit_transform(x_train)\n",
    "x_test_std = x_test / std.scale_ \n",
    "\n",
    "for i in range(min_pow_of_10, max_pow_of_10 + 1):    \n",
    "    # Fit ridge regression on train set\n",
    "    reg = Ridge_Reg(alpha = 10**i)\n",
    "    reg.fit(x_train_std, y_train)\n",
    "        \n",
    "    # Evaluate train & test performance\n",
    "    train_r_squared.append(reg.score(x_train_std, y_train))\n",
    "    test_r_squared.append(reg.score(x_test_std, y_test))\n",
    "    \n",
    "# Plot train an test R-squared as a function parameter value\n",
    "fig, ax = plt.subplots(1, 1, figsize=(6, 6))\n",
    "\n",
    "ax.semilogx(10.0**np.arange(min_pow_of_10, max_pow_of_10 + 1), \n",
    "            train_r_squared, \n",
    "            c='b', \n",
    "            label='Ridge: Train')\n",
    "ax.semilogx(10.0**np.arange(min_pow_of_10, max_pow_of_10 + 1), \n",
    "            test_r_squared, \n",
    "            c='r', \n",
    "            label='Ridge: Test')\n",
    "ax.axhline(y=test_r_squared_plain, \n",
    "           c='g', \n",
    "           label='Plain Regression')\n",
    "\n",
    "ax.set_xlabel('Regularization parameter')\n",
    "ax.set_ylabel('R^2 score')\n",
    "ax.set_ylim((test_r_squared_plain - 0.2, 1.2))\n",
    "ax.set_title('Comparison of R^2 Score')\n",
    "ax.legend(loc='best')\n",
    "\n",
    "print 'Ridge Regression: max R^2 score on training set', max(train_r_squared)\n",
    "print 'Ridge Regression: max R^2 score on test set', max(test_r_squared)\n",
    "\n",
    "plt.show()"
   ]
  },
  {
   "cell_type": "markdown",
   "metadata": {},
   "source": [
    "**Observations:**\n",
    "- As the regularization parameter increases, the complexity of the fitted model reduces, and hence the train R^2 decreases. On the other hand, the test R^2 increases until a tipping point, and then decreases. This is because with lower model complexity, there is lower over-fitting. However, after the tipping point, the fitted model under-fits the data, leading to poor test R^2 values.\n",
    "\n",
    "- As expected, Ridge regression with the best regularization parameter yields a slightly lower R^2 value than plain linear regression on the train set, but is significantly better on the test set.\n",
    "\n",
    "**Note:** this exercise is to help you explore the relationship between the regularization parameter and R^2 values on train and test. In practice, you should **never** using test R^2 to tune your regularization parameters!"
   ]
  },
  {
   "cell_type": "markdown",
   "metadata": {},
   "source": [
    "### Part (d): Tune regularization parameter using cross-validation and bootstrapping\n",
    "-  Evaluate the performance of the Ridge regression for different regularization parameters $\\lambda$ using 5-fold cross validation on the training set. \n",
    "\n",
    "    - Plot the cross-validation (CV) R^2 score as a function of $\\lambda$. \n",
    "    \n",
    "    - How closely does the CV score match the R^2 score on the test set? Does the model with lowest CV score (if calculating CV with MSE) or highest CV score (if calculating CV with R^2) correspond to the one with maximum R^2 on the test set?\n",
    "    \n",
    "    - Does the model chosen by CV perform better than plain linear regression?\n",
    "\n",
    "\n",
    "-  Evaluate the performance of the Ridge regression for different regularization parameters $\\lambda$ by bootstrapping the training set with 100 samples. \n",
    "\n",
    "    - Plot the bootstrap R^2 score as a function of $\\lambda$. \n",
    "    \n",
    "    - How closely does the bootstrap score match the R^2 score on the test set? Does the model with lowest CV score (if calculating CV with MSE) or highest CV score (if calculating CV with R^2) correspond to the one the one with maximum R^2 on the test set?\n",
    "    \n",
    "    - Does the model chosen by bootstrapping perform better than plain linear regression?\n"
   ]
  },
  {
   "cell_type": "markdown",
   "metadata": {},
   "source": [
    "**Solution:**"
   ]
  },
  {
   "cell_type": "code",
   "execution_count": 33,
   "metadata": {
    "collapsed": false
   },
   "outputs": [
    {
     "name": "stdout",
     "output_type": "stream",
     "text": [
      "Ridge regression: Test R^2 score for CV choice 0.93363015961\n",
      "Ridge regression: Max Test R^2 score 0.933696632242\n",
      "Plain regression: Test R^2 score: -5.97542556701\n"
     ]
    },
    {
     "data": {
      "image/png": "[encoded data removed]",
      "text/plain": [
       "<matplotlib.figure.Figure at 0x1146d5e50>"
      ]
     },
     "metadata": {},
     "output_type": "display_data"
    }
   ],
   "source": [
    "#--------  k_fold_r_squared\n",
    "# A function for k-fold cross validation with Ridge regression\n",
    "# Input: \n",
    "#      x_train (n x d array of predictors in training data)\n",
    "#      y_train (n x 1 array of response variable vals in training data)\n",
    "#      num_folds (no. of folds for CV)\n",
    "#      param_val (regularization parameter value)\n",
    "# Return: \n",
    "#      average R^2 value across folds\n",
    "\n",
    "def k_fold_r_squared(x_train, y_train, num_folds, param_val):\n",
    "    n_train = x_train.shape[0]\n",
    "    n = int(np.round(n_train * 1. / num_folds)) # points per fold\n",
    "\n",
    "    # Iterate over folds\n",
    "    cv_r_squared = 0\n",
    "    \n",
    "    for fold in range(1, num_folds + 1):\n",
    "        # Take k-1 folds for training \n",
    "        x_first_half = x_train[:n * (fold - 1), :]\n",
    "        x_second_half = x_train[n * fold + 1:, :]\n",
    "        x_train_cv = np.concatenate((x_first_half, x_second_half), axis=0)\n",
    "        \n",
    "        y_first_half = y_train[:n * (fold - 1)]\n",
    "        y_second_half = y_train[n * fold + 1:]\n",
    "        y_train_cv = np.concatenate((y_first_half, y_second_half), axis=0)\n",
    "        \n",
    "        # Take the middle fold for testing\n",
    "        x_test_cv = x_train[1 + n * (fold - 1):n * fold, :]\n",
    "        y_test_cv = y_train[1 + n * (fold - 1):n * fold]\n",
    "\n",
    "        # Fit ridge regression model with parameter value on CV train set, and evaluate CV test performance\n",
    "        reg = Ridge_Reg(alpha = param_val)\n",
    "        reg.fit(x_train_cv, y_train_cv)\n",
    "        r_squared = reg.score(x_test_cv, y_test_cv)\n",
    "    \n",
    "        # Cummulative R^2 value across folds\n",
    "        cv_r_squared += r_squared\n",
    "\n",
    "    # Return average R^2 value across folds\n",
    "    return cv_r_squared * 1.0 / num_folds\n",
    "\n",
    "# Store test & CV R^2 values for different regression parameter values\n",
    "# Range: 10^-7, ... 10^7\n",
    "max_pow_of_10 = 7\n",
    "min_pow_of_10 = -7\n",
    "num_params = max_pow_of_10 - min_pow_of_10 + 1\n",
    "\n",
    "test_r_squared = []\n",
    "cv_r_squared = []\n",
    "\n",
    "# Iterate over various parameter values\n",
    "for power_of_10 in range(min_pow_of_10, max_pow_of_10+1):\n",
    "    \n",
    "    #standardize x_train and y_train\n",
    "    std = Standardize(with_mean=False)\n",
    "    x_train_std = std.fit_transform(x_train)\n",
    "    x_test_std = x_test / std.scale_ \n",
    "    \n",
    "    # Fit regression model on train set, and evaluate test R^2\n",
    "    reg = Ridge_Reg(alpha=10**power_of_10)\n",
    "    reg.fit(x_train_std, y_train)\n",
    "    test_r_squared.append(reg.score(x_test_std, y_test))\n",
    "    \n",
    "    # Evaluate 5-fold CV R^2\n",
    "    cv_r_squared.append(k_fold_r_squared(x_train_std, y_train, 5, 10**power_of_10))\n",
    "\n",
    "# Plot CV and test R^2 values as a function of parameter value\n",
    "fig, ax = plt.subplots(1, 1, figsize=(6, 6))\n",
    "\n",
    "ax.semilogx(10.0**np.arange(min_pow_of_10, max_pow_of_10 + 1), \n",
    "            cv_r_squared, \n",
    "            c='b', \n",
    "            label='5-fold CV')\n",
    "ax.semilogx(10.0**np.arange(min_pow_of_10, max_pow_of_10 + 1), \n",
    "            test_r_squared, \n",
    "            c='r', \n",
    "            label='Test')\n",
    "\n",
    "ax.set_xlabel('Regularization parameter')\n",
    "ax.set_ylabel('R^2 score')\n",
    "ax.set_title('Comparison of R^2 Score')\n",
    "ax.legend(loc='lower right')\n",
    "\n",
    "# Best CV parameter value\n",
    "best_cv_param = np.argmax(cv_r_squared)\n",
    "\n",
    "# Print R^2 for best CV parameter, max R^2 across all parameters, and R^2 for plain regression\n",
    "print 'Ridge regression: Test R^2 score for CV choice', test_r_squared[best_cv_param]\n",
    "print 'Ridge regression: Max Test R^2 score', max(test_r_squared)\n",
    "print 'Plain regression: Test R^2 score:', test_r_squared_plain\n",
    "\n",
    "plt.show()"
   ]
  },
  {
   "cell_type": "markdown",
   "metadata": {},
   "source": [
    "CV yields values that follow the **same 'trend'** as the test R^2 values. The test R^2 for the best CV choice is **slightly lower than the maximum test R^2**, but is however significantly **better than plain linear regression**. Since in practice we can **never** use test R^2 to select our regularization parameters, this exercises shows that CV score is a sufficient substitute for test R^2 in helping us select the best $\\lambda$!"
   ]
  },
  {
   "cell_type": "code",
   "execution_count": 34,
   "metadata": {
    "collapsed": false
   },
   "outputs": [
    {
     "name": "stdout",
     "output_type": "stream",
     "text": [
      "Ridge regression: Test R^2 for bootstrap choice 0.93363015961\n",
      "Ridge regression: Max Test R^2 0.933696632242\n",
      "Plain regression: Test R^2 score -5.97542556701\n"
     ]
    },
    {
     "data": {
      "image/png": "[encoded data removed]",
      "text/plain": [
       "<matplotlib.figure.Figure at 0x1029e4350>"
      ]
     },
     "metadata": {},
     "output_type": "display_data"
    }
   ],
   "source": [
    "#--------  boot_strap_r_squared\n",
    "# A function for k-fold cross validation with Ridge regression\n",
    "# Input: \n",
    "#      x_train (n x d array of predictors in training data)\n",
    "#      y_train (n x 1 array of response variable vals in training data)\n",
    "#      num_samples (no. of bootstrap samples)\n",
    "#      param_val (regularization parameter value)\n",
    "# Return: \n",
    "#      average R^2 value across bootstrap samples\n",
    "\n",
    "def boot_strap_r_squared(x_train, y_train, num_samples, param_val):\n",
    "    n = x_train.shape[0]\n",
    "\n",
    "    # Average of num_samples number of samples of size 'n'\n",
    "    bs_r_squared = 0\n",
    "    \n",
    "    for fold in range(0, num_samples):\n",
    "        # Randomly a sample points from the train set of size 'n'\n",
    "        indices = np.random.choice(np.arange(0, n), size=n)\n",
    "        \n",
    "        x_train_sample = x_train[indices, :]\n",
    "        y_train_sample = y_train[indices]\n",
    "\n",
    "        # Evaluate R^2 on entire train set\n",
    "        reg = Ridge_Reg(alpha = param_val)\n",
    "        reg.fit(x_train_sample, y_train_sample)\n",
    "        r_squared = reg.score(x_train, y_train)\n",
    "        \n",
    "        # Cumulative R^2 across bootstrap samples\n",
    "        bs_r_squared += r_squared\n",
    "    \n",
    "    # Return average R^2 across bootstrap samples\n",
    "    return bs_r_squared  * 1.0 / num_samples\n",
    "\n",
    "# Store test & bootstrap R^2 for different regularization parameter values\n",
    "# Range: 10^-7, ... 10^7\n",
    "max_pow_of_10 = 7\n",
    "min_pow_of_10 = -7\n",
    "num_params = max_pow_of_10 - min_pow_of_10 + 1\n",
    "\n",
    "test_r_squared = []\n",
    "bs_r_squared = []\n",
    "\n",
    "# Fit regression model on train set, and evaluate test R^2\n",
    "for power_of_10 in range(min_pow_of_10,max_pow_of_10+1):\n",
    "    \n",
    "    #standardize x_train and y_train\n",
    "    std = Standardize(with_mean=False)\n",
    "    x_train_std = std.fit_transform(x_train)\n",
    "    x_test_std = x_test / std.scale_ \n",
    "    \n",
    "    # Fit ridge regression model on train set\n",
    "    reg = Ridge_Reg(10**power_of_10)\n",
    "    reg.fit(x_train_std, y_train)\n",
    "\n",
    "    # Evaluate test R^2\n",
    "    test_r_squared.append(reg.score(x_test_std, y_test))\n",
    "    \n",
    "    # Evaluate boostrap R^2\n",
    "    bs_r_squared.append(boot_strap_r_squared(x_train_std, y_train, 100, 10**power_of_10))\n",
    "\n",
    "# Plot bootstrap and test R^2 values as a function of parameter value\n",
    "fig, ax = plt.subplots(1, 1, figsize=(6, 6))\n",
    "\n",
    "ax.semilogx(10.0**np.arange(min_pow_of_10, max_pow_of_10+1), \n",
    "            bs_r_squared, \n",
    "            c='b', \n",
    "            label='Bootstrap')\n",
    "ax.semilogx(10.0**np.arange(min_pow_of_10, max_pow_of_10+1), \n",
    "            test_r_squared, \n",
    "            c='r', \n",
    "            label='Test')\n",
    "\n",
    "ax.set_xlabel('Regularization parameter')\n",
    "ax.set_ylabel('R^2 score')\n",
    "ax.set_title('Comparison of R^2 Score')\n",
    "ax.legend(loc='lower right')\n",
    "\n",
    "# Best boostrap parameter value\n",
    "best_bs_param = np.argmax(bs_r_squared)\n",
    "\n",
    "# Print R^2 for best boostrap parameter, max R^2 across all parameters, and R^2 for plain regression\n",
    "print 'Ridge regression: Test R^2 for bootstrap choice', test_r_squared[best_bs_param]\n",
    "print 'Ridge regression: Max Test R^2', max(test_r_squared)\n",
    "print 'Plain regression: Test R^2 score', test_r_squared_plain\n",
    "\n",
    "plt.show()"
   ]
  },
  {
   "cell_type": "markdown",
   "metadata": {},
   "source": [
    "Bootstrapping yields values that follow the **same 'trend'** as the test R^2 values. The test R^2 for the best bootstrap choice is **slightly lower than the maximum test R^2**, but is however significantly **better than plain linear regression**. Since in practice we can **never** use test R^2 to select our regularization parameters, this exercises shows that bootstrapping is a sufficient substitute for test R^2 in helping us select the best $\\lambda$!"
   ]
  },
  {
   "cell_type": "markdown",
   "metadata": {},
   "source": [
    "## Problem 3: Ridge regression *via* ordinary least-squares regression\n",
    "\n",
    "We present an approach to implement Ridge regression using oridinary least-squares regression. Given a matrix of responses $\\mathbf{X} \\in \\mathbb{R}^{n\\times p}$ and response vector $\\mathbf{y} \\in \\mathbb{R}^{n}$, one can implement Ridge regression with regularization parameter $\\lambda$ as follows:\n",
    "\n",
    "- Augment the matrix of predictors $\\mathbf{X}$ with $p$ new rows containing the scaled identity matrix $\\sqrt{\\lambda}\\mathbf{I} \\in \\mathbb{R}^{p \\times p}$, i.e.\n",
    "$$\\overline{\\mathbf{X}} \\,=\\, \n",
    "\\begin{bmatrix}\n",
    "X_{11} & \\ldots & X_{1p}\\\\\n",
    "\\vdots & \\ddots & \\vdots\\\\\n",
    "X_{n1} & \\ldots & X_{np}\\\\\n",
    "\\sqrt{\\lambda} & \\ldots & 0\\\\\n",
    "\\vdots & \\ddots & \\vdots\\\\\n",
    "0 & \\ldots & \\sqrt{\\lambda}\n",
    "\\end{bmatrix}\n",
    "\\,\\in\\,\n",
    "\\mathbb{R}^{(n+p)\\times p}\n",
    ".\n",
    "$$\n",
    "\n",
    "\n",
    "- Augment the response vector $\\mathbf{y}$ with a column of $p$ zeros, i.e.\n",
    "$$\n",
    "\\overline{\\mathbf{y}} \\,=\\, \n",
    "\\begin{bmatrix}\n",
    "y_{1}\\\\\n",
    "\\vdots\\\\\n",
    "y_{n}\\\\\n",
    "0\\\\\n",
    "\\vdots\\\\\n",
    "0\n",
    "\\end{bmatrix}\n",
    "\\,\\in\\,\n",
    "\\mathbb{R}^{n+p}.\n",
    "$$\n",
    "\n",
    "\n",
    "- Apply ordinary least-squares regression on the augmented data set $(\\overline{\\mathbf{X}}, \\overline{\\mathbf{y}})$.\n",
    "\n",
    "### Part (a): Show the proposed approach implements Ridge regression\n",
    "Show that the approach proposed above implements Ridge regression with parameter $\\lambda$."
   ]
  },
  {
   "cell_type": "markdown",
   "metadata": {},
   "source": [
    "**Solution:**\n",
    "\n",
    "The ordinary least-squares loss function with the augmented data is given by\n",
    "$$\n",
    "\\begin{eqnarray*}\n",
    "\\overline{L}(\\beta) &=& (\\overline{\\mathbf{X}}\\beta \\,-\\, \\overline{\\mathbf{y}})^\\top(\\overline{\\mathbf{X}}\\beta \\,-\\, \\overline{\\mathbf{y}})\\\\\n",
    "&=& (\\beta^\\top\\overline{\\mathbf{X}}^\\top \\,-\\, \\overline{\\mathbf{y}}^\\top)(\\overline{\\mathbf{X}}\\beta \\,-\\, \\overline{\\mathbf{y}})\\\\\n",
    "&=& (\\overline{\\mathbf{X}}\\beta)^\\top\\overline{\\mathbf{X}}\\beta \\,-\\, \\overline{\\mathbf{y}}^\\top\\overline{\\mathbf{X}}\\beta \\,-\\, (\\overline{\\mathbf{X}}\\beta)^\\top\\overline{\\mathbf{y}} \\,+\\, \\overline{\\mathbf{y}}^\\top\\overline{\\mathbf{y}}\\\\\n",
    "&=& (\\overline{\\mathbf{X}}\\beta)^\\top\\overline{\\mathbf{X}}\\beta \\,-\\, ((\\overline{\\mathbf{X}}\\beta)^\\top\\overline{\\mathbf{y}})^\\top \\,-\\, (\\overline{\\mathbf{X}}\\beta)^\\top\\overline{\\mathbf{y}} \\,+\\, \\overline{\\mathbf{y}}^\\top\\overline{\\mathbf{y}}\n",
    "\\end{eqnarray*},\n",
    "$$\n",
    "where $\\beta \\in \\mathbb{R}^p$ is the coefficient vector (1-d array).\n",
    "\n",
    "Now, note that since $\\overline{\\mathbf{y}}$ and $\\overline{\\mathbf{X}}\\beta$ are vectors (1-dimensional arrays), $(\\overline{\\mathbf{X}}\\beta)^\\top\\overline{\\mathbf{y}}$ is just a real number. Thus, we have $$((\\overline{\\mathbf{X}}\\beta)^\\top\\overline{\\mathbf{y}})^\\top = (\\overline{\\mathbf{X}}\\beta)^\\top\\overline{\\mathbf{y}}.$$ \n",
    "\n",
    "So we get:\n",
    "$$\n",
    "\\begin{eqnarray*}\n",
    "\\overline{L}(\\beta) &=& (\\overline{\\mathbf{X}}\\beta)^\\top\\overline{\\mathbf{X}}\\beta \\,-\\, ((\\overline{\\mathbf{X}}\\beta)^\\top\\overline{\\mathbf{y}})^\\top \\,-\\, (\\overline{\\mathbf{X}}\\beta)^\\top\\overline{\\mathbf{y}} \\,+\\, \\overline{\\mathbf{y}}^\\top\\overline{\\mathbf{y}}\\\\\n",
    "&=& (\\overline{\\mathbf{X}}\\beta)^\\top\\overline{\\mathbf{X}}\\beta \\,-\\,2 (\\overline{\\mathbf{X}}\\beta)^\\top\\overline{\\mathbf{y}} \\,+\\,  \\overline{\\mathbf{y}}^\\top\\overline{\\mathbf{y}}\\\\\n",
    "&=& \\sum_{i=1}^{n+p} \\overline{\\mathbf{X}}_i\\beta^2 - 2 \\sum_{i=1}^{n+p} (\\overline{\\mathbf{X}}_i\\beta) \\overline{\\mathbf{y}}_i \\,+\\, \\sum_{i=1}^{n+p} \\overline{\\mathbf{y}}_i^2\\\\\n",
    "&=& \\sum_{i=1}^{n+p} \\overline{\\mathbf{X}}_i\\beta^2 - 2(\\overline{\\mathbf{X}}_i\\beta)\\overline{\\mathbf{y}}_i + \\overline{\\mathbf{y}}_i^2\\\\\n",
    "&=& \\sum_{i=1}^{n+p} (\\overline{\\mathbf{X}}_i\\beta - \\overline{\\mathbf{y}}_i)^2\\\\\n",
    "&=& \\sum_{i=1}^{n}(X_i\\beta \\,-\\, y_i)^2 + \\sum_{i=n + 1}^p(\\overline{\\mathbf{X}}_i\\beta - \\overline{\\mathbf{y}}_i)^2\\\\\n",
    "&=& \\sum_{i=1}^n (X_i\\beta \\,-\\, y_i)^2  \\,+\\, \\sum_{j=1}^p (\\sqrt{\\lambda}\\beta_j \\,-\\, 0)^2\\\\\n",
    "&=& \\sum_{i=1}^n (X_i\\beta \\,-\\, y_i)^2 \\,+\\, \\lambda \\sum_{j=1}^p \\beta_j^2\\\\\n",
    "\\end{eqnarray*},\n",
    "$$\n",
    "From the above, we see that the OLS loss function with $\\overline{\\mathbf{X}}$ and $\\overline{\\mathbf{y}}$ is exactly the loss function of Ridge regression.\n",
    "\n",
    "Thus the ordinary least-squares solution to the augmented data set is the same as the Ridge regression solution to the original data set."
   ]
  },
  {
   "cell_type": "markdown",
   "metadata": {},
   "source": [
    "### Part (b): Debug our implementation of ridge regression\n",
    "You're a grader for CS109A, the following is an implemention of Ridge regression (via the above approach) submitted by a student. The dataset is ``dataset_3.txt``. The regression model is fitted to a training set, and the R^2 scores of the fitted model on the training and test sets are plotted as a function of the regularization parameter. Grade this solution according to the following rubric (each category is equally weighted): \n",
    "\n",
    "- correctness\n",
    "\n",
    "- interpretation (if applicable)\n",
    "\n",
    "- code/algorithm design\n",
    "\n",
    "- presentation\n",
    "\n",
    "In addition to providing an holistic grade (between 0 to 5), provide a corrected version of this code that is submission quality."
   ]
  },
  {
   "cell_type": "code",
   "execution_count": 91,
   "metadata": {
    "collapsed": false
   },
   "outputs": [
    {
     "data": {
      "text/plain": [
       "[<matplotlib.lines.Line2D at 0x1149841d0>]"
      ]
     },
     "execution_count": 91,
     "metadata": {},
     "output_type": "execute_result"
    },
    {
     "data": {
      "image/png": "[encoded data removed]",
      "text/plain": [
       "<matplotlib.figure.Figure at 0x114906290>"
      ]
     },
     "metadata": {},
     "output_type": "display_data"
    }
   ],
   "source": [
    "# Fit\n",
    "def ridge(x_train, y_train, reg_param):\n",
    "    n=np.shape(x_train)[0]\n",
    "    x_train=np.concatenate((x_train,reg_param*np.identity(n)),axis=1)\n",
    "    y_train_=np.zeros((n+np.shape(x_train)[1],1))\n",
    "    for c in range(n):\n",
    "        y_train_[c]= y_train[c]\n",
    "    import sklearn\n",
    "    model = sklearn.linear_model.LinearRegression()\n",
    "    model.fit(x_train,y_train.reshape(-1,1))\n",
    "    return model\n",
    "\n",
    "# Score\n",
    "def score(m,x_test,y_test, reg_param):\n",
    "    n=np.shape(x_train)[0]\n",
    "    x_test=np.concatenate((x_test,reg_param*np.identity(n)),axis=1)\n",
    "    y_test_=np.zeros((n+np.shape(x_test)[1],1))\n",
    "    for c in range(n):\n",
    "        y_test_[c]= y_test[c]\n",
    "    return m.score(x_test,y_test.reshape(-1,1))\n",
    "\n",
    "# Load\n",
    "data = np.loadtxt('datasets/dataset_3.txt', delimiter=',')\n",
    "n = data.shape[0]\n",
    "n = int(np.round(n*0.5))\n",
    "x_train = data[0:n,0:100]\n",
    "y_train = data[0:n,100]\n",
    "x_test = data[n:2*n,0:100]\n",
    "y_test = data[n:2*n,100]\n",
    "\n",
    "# Params\n",
    "a=np.zeros(5)\n",
    "for i in range(-2,2):\n",
    "    a[i+2]=10**i\n",
    "\n",
    "# Iterate\n",
    "rstr =np.zeros(5)\n",
    "rsts =np.zeros(5)\n",
    "for j in range(0,5):    \n",
    "    m =ridge(x_train,y_train,a[i])\n",
    "    rstr[j]=score(m,x_train,y_train,a[j])\n",
    "    rsts[i]=score(m,x_test,y_test,a[i])\n",
    "\n",
    "# Plot\n",
    "plt.plot(a,rstr)\n",
    "plt.plot(a,rsts)"
   ]
  },
  {
   "cell_type": "markdown",
   "metadata": {},
   "source": [
    "**Solution:**"
   ]
  },
  {
   "cell_type": "code",
   "execution_count": 92,
   "metadata": {
    "collapsed": false
   },
   "outputs": [
    {
     "data": {
      "image/png": "[encoded data removed]",
      "text/plain": [
       "<matplotlib.figure.Figure at 0x11494bf90>"
      ]
     },
     "metadata": {},
     "output_type": "display_data"
    }
   ],
   "source": [
    "# CHANGES TO IMPROVE READABILITY:\n",
    "#    Split operations into multiple statements\n",
    "#    Rename variables with meaningful names\n",
    "#    Add comments\n",
    "\n",
    "#--------  ridge_regression_fit\n",
    "# A function to fit a Ridge regression, using a call to linear regression\n",
    "# Input: \n",
    "#      x_train (n x d array of predictors in training data)\n",
    "#      y_train (n x 1 array of response variable vals in training data)\n",
    "#      reg_param (regularization parameter value)\n",
    "# Return: \n",
    "#      sklern regression model object\n",
    "\n",
    "def ridge_regression_fit(x_train, y_train, reg_param):\n",
    "    # No. of predictors\n",
    "    d = x_train.shape[1]\n",
    "    \n",
    "    # CORRECT BUG 1:\n",
    "    #   Replace axis = 1 with axis = 0 (append rows not columns)\n",
    "    \n",
    "    # Append an identity matrix of size d to the predictors matrix\n",
    "    identity = reg_param * np.identity(d)\n",
    "    x_train_expanded = np.concatenate((x_train, identity), axis=0)\n",
    "    \n",
    "    # CHANGE:\n",
    "    #   Replace loop with a concatenation operation (more efficient)\n",
    "    \n",
    "    # Append a column of zeros of size d to the response vector\n",
    "    zeros_col = np.zeros((d, 1))\n",
    "    y_train = y_train.reshape((d, 1))\n",
    "    y_train_expanded = np.concatenate((y_train, zeros_col), axis=0)\n",
    "    \n",
    "    # CORRECT BUG 2:\n",
    "    #   Passto fit() function the expanded response vector instead of original vector\n",
    "    \n",
    "    # Fit linear regression on expanded data set\n",
    "    model = Lin_Reg()\n",
    "    model.fit(x_train_expanded, y_train_expanded)\n",
    "    \n",
    "    return model\n",
    "\n",
    "#--------  ridge_regression_score\n",
    "# A function to score a Ridge regression model\n",
    "# Input: \n",
    "#      model (sklearn regression model object)\n",
    "#      x_test (n x d array of predictors in test data)\n",
    "#      y_test (n x 1 array of response variable vals in test data)\n",
    "# Return: \n",
    "#      r_squared (float)\n",
    "\n",
    "def ridge_regression_score(model, x_test, y_test):\n",
    "    # SIMPLIFY FUNCTION:\n",
    "    #    No need to modify the test set\n",
    "    #    Directly call score() function in model object\n",
    "    #    Regularization parameter not required as input\n",
    "    \n",
    "    r_squared = model.score(x_test, y_test)\n",
    "    return r_squared\n",
    "\n",
    "# Load data, split predictors and response\n",
    "data = np.loadtxt('datasets/dataset_3.txt', delimiter=',')\n",
    "x = data[:, 0:-1]\n",
    "y = data[:, -1]\n",
    "\n",
    "# CHANGE:\n",
    "#   Remove hard-coded dimension/indices\n",
    "\n",
    "# No. of training points\n",
    "n = x.shape[0]\n",
    "n_train = int(np.round(n * 0.5))\n",
    "\n",
    "# First 25% train, remaining test\n",
    "x_train = x[:n_train, :]\n",
    "y_train = y[:n_train]\n",
    "x_test = x[n_train:, :]\n",
    "y_test = y[n_train:]\n",
    "\n",
    "# CHANGE:\n",
    "#   Remove hard-coded parameter ranges, instead store the limits in variables\n",
    "\n",
    "# Range of parameters\n",
    "min_pow_of_10 = -2 # minimum power of 10\n",
    "max_pow_of_10 = 2 # maximum power of 10\n",
    "num_params = max_pow_of_10 - min_pow_of_10 + 1 # Total no. of parameters\n",
    "\n",
    "# Store train and test R-squared for different regression parameters\n",
    "train_r_squared = np.zeros(num_params)\n",
    "test_r_squared = np.zeros(num_params)\n",
    "\n",
    "# CORRECT BUG 3:\n",
    "#   The range() needs to take values from -2 to 3, since range(-2, 2) \n",
    "#   doesn't include the last index!\n",
    "#   Here we we replace loop with the arange() function (more efficient)\n",
    "#   The upper limit is max_pow_of_10 + 1\n",
    "\n",
    "# Iterate over parameter values\n",
    "parameter_values = 10.0**np.arange(min_pow_of_10, max_pow_of_10 + 1)\n",
    "\n",
    "# CORRECT BUG 4:\n",
    "#   Correct bug in loop indexing ('i' and 'j' mixed)\n",
    "\n",
    "for i in range(num_params):    \n",
    "    # Fit ridge regression on train set\n",
    "    model = ridge_regression_fit(x_train, y_train, parameter_values[i])\n",
    "        \n",
    "    # Evaluate test performance, and store in array\n",
    "    train_r_squared[i] = ridge_regression_score(model, x_train, y_train)\n",
    "    test_r_squared[i] = ridge_regression_score(model, x_test, y_test)\n",
    "\n",
    "# CHANGE:\n",
    "#   Change axis to log-scale\n",
    "#   Add x-label, y-label, legend, title\n",
    "\n",
    "# Plot test R-squared as a function parameter value\n",
    "fig, ax = plt.subplots(1, 1, figsize=(6, 4))\n",
    "\n",
    "ax.semilogx(parameter_values, train_r_squared, c='b', label='Train')\n",
    "ax.semilogx(parameter_values, test_r_squared, c='r', label='Test')\n",
    "\n",
    "ax.set_xlabel('Regularization parameter')\n",
    "ax.set_ylabel('R^2 score')\n",
    "ax.set_title('Train R^2 vs. Test R^2')\n",
    "\n",
    "ax.legend(loc = 'best')\n",
    "\n",
    "plt.show()"
   ]
  },
  {
   "cell_type": "markdown",
   "metadata": {},
   "source": [
    "## Challenge Problem: Predicting Outcome of a Fund-raising Campaign\n",
    "You are provided a data set containing details of mail sent to 95,412 potential donors for a fund-raising campaign of a not-for-profit organization. This data set also contains the amount donated by each donor. The task is to build a model that can estimate the amount that a donor would donate using his/her attributes. The data is contained in the file `dataset_3.txt`. Each row contains 376 attributes for a donor, followed by the donation amount.\n",
    "\n",
    "### Part (a): Fit regression model\n",
    "Build a suitable model to predict the donation amount. How good is your model? \n",
    "\n",
    "\n",
    "### Part (b): Evaluate the total profit of the fitted model\n",
    "Suppose you are told that the cost of mailing the donor is \\$7. Use your model to maximize net gain from contributions. Implement, explain and rigorously justify your strategy. How does your strategy compare with blanket mailing everyone.\n",
    "\n",
    "### Part (c): Further Discussion\n",
    "In hindsight, thoroughly discuss the appropriateness of using a regression model for this dataset (you must at least address the suitability with respect to profit maximization and model assumptions). Rigorously justify your reasoning. "
   ]
  },
  {
   "cell_type": "markdown",
   "metadata": {},
   "source": [
    "**Solutions to all parts**:\n",
    "\n",
    "Since it costs \\$7 to mail an envelope, we should only send one if the doner is predicted to donate more than \\$7! Our baic strategy, rather than blanket mailing everyone, is to find doners who are predicted to donate more that \\$7 and mail evelopes to them."
   ]
  },
  {
   "cell_type": "code",
   "execution_count": 3,
   "metadata": {
    "collapsed": false
   },
   "outputs": [
    {
     "data": {
      "text/html": [
       "<div>\n",
       "<table border=\"1\" class=\"dataframe\">\n",
       "  <thead>\n",
       "    <tr style=\"text-align: right;\">\n",
       "      <th></th>\n",
       "      <th>OSOURCE</th>\n",
       "      <th>TCODE</th>\n",
       "      <th>STATE</th>\n",
       "      <th>MAILCODE</th>\n",
       "      <th>NOEXCH</th>\n",
       "      <th>RECINHSE</th>\n",
       "      <th>RECP3</th>\n",
       "      <th>RECPGVG</th>\n",
       "      <th>RECSWEEP</th>\n",
       "      <th>MDMAUD</th>\n",
       "      <th>...</th>\n",
       "      <th>HPHONE_D</th>\n",
       "      <th>RFA_2R</th>\n",
       "      <th>RFA_2F</th>\n",
       "      <th>RFA_2A</th>\n",
       "      <th>MDMAUD_R</th>\n",
       "      <th>MDMAUD_F</th>\n",
       "      <th>MDMAUD_A</th>\n",
       "      <th>CLUSTER2</th>\n",
       "      <th>GEOCODE2</th>\n",
       "      <th>TARGET_D</th>\n",
       "    </tr>\n",
       "  </thead>\n",
       "  <tbody>\n",
       "    <tr>\n",
       "      <th>0</th>\n",
       "      <td>BBK</td>\n",
       "      <td>2</td>\n",
       "      <td>MN</td>\n",
       "      <td>_</td>\n",
       "      <td>0</td>\n",
       "      <td>_</td>\n",
       "      <td>_</td>\n",
       "      <td>_</td>\n",
       "      <td>_</td>\n",
       "      <td>XXXX</td>\n",
       "      <td>...</td>\n",
       "      <td>1</td>\n",
       "      <td>L</td>\n",
       "      <td>3</td>\n",
       "      <td>D</td>\n",
       "      <td>X</td>\n",
       "      <td>X</td>\n",
       "      <td>X</td>\n",
       "      <td>3</td>\n",
       "      <td>A</td>\n",
       "      <td>4</td>\n",
       "    </tr>\n",
       "    <tr>\n",
       "      <th>1</th>\n",
       "      <td>SYN</td>\n",
       "      <td>0</td>\n",
       "      <td>TX</td>\n",
       "      <td>_</td>\n",
       "      <td>0</td>\n",
       "      <td>_</td>\n",
       "      <td>_</td>\n",
       "      <td>_</td>\n",
       "      <td>_</td>\n",
       "      <td>XXXX</td>\n",
       "      <td>...</td>\n",
       "      <td>1</td>\n",
       "      <td>L</td>\n",
       "      <td>3</td>\n",
       "      <td>D</td>\n",
       "      <td>X</td>\n",
       "      <td>X</td>\n",
       "      <td>X</td>\n",
       "      <td>14</td>\n",
       "      <td>A</td>\n",
       "      <td>7</td>\n",
       "    </tr>\n",
       "    <tr>\n",
       "      <th>2</th>\n",
       "      <td>DRK</td>\n",
       "      <td>0</td>\n",
       "      <td>IA</td>\n",
       "      <td>_</td>\n",
       "      <td>0</td>\n",
       "      <td>_</td>\n",
       "      <td>_</td>\n",
       "      <td>_</td>\n",
       "      <td>_</td>\n",
       "      <td>XXXX</td>\n",
       "      <td>...</td>\n",
       "      <td>1</td>\n",
       "      <td>L</td>\n",
       "      <td>3</td>\n",
       "      <td>D</td>\n",
       "      <td>X</td>\n",
       "      <td>X</td>\n",
       "      <td>X</td>\n",
       "      <td>11</td>\n",
       "      <td>C</td>\n",
       "      <td>5</td>\n",
       "    </tr>\n",
       "    <tr>\n",
       "      <th>3</th>\n",
       "      <td>BHG</td>\n",
       "      <td>0</td>\n",
       "      <td>CA</td>\n",
       "      <td>_</td>\n",
       "      <td>0</td>\n",
       "      <td>_</td>\n",
       "      <td>_</td>\n",
       "      <td>_</td>\n",
       "      <td>_</td>\n",
       "      <td>XXXX</td>\n",
       "      <td>...</td>\n",
       "      <td>0</td>\n",
       "      <td>L</td>\n",
       "      <td>2</td>\n",
       "      <td>F</td>\n",
       "      <td>X</td>\n",
       "      <td>X</td>\n",
       "      <td>X</td>\n",
       "      <td>2</td>\n",
       "      <td>A</td>\n",
       "      <td>13</td>\n",
       "    </tr>\n",
       "    <tr>\n",
       "      <th>4</th>\n",
       "      <td>L01</td>\n",
       "      <td>1</td>\n",
       "      <td>GA</td>\n",
       "      <td>_</td>\n",
       "      <td>0</td>\n",
       "      <td>_</td>\n",
       "      <td>_</td>\n",
       "      <td>_</td>\n",
       "      <td>_</td>\n",
       "      <td>XXXX</td>\n",
       "      <td>...</td>\n",
       "      <td>1</td>\n",
       "      <td>L</td>\n",
       "      <td>3</td>\n",
       "      <td>E</td>\n",
       "      <td>X</td>\n",
       "      <td>X</td>\n",
       "      <td>X</td>\n",
       "      <td>22</td>\n",
       "      <td>A</td>\n",
       "      <td>10</td>\n",
       "    </tr>\n",
       "  </tbody>\n",
       "</table>\n",
       "<p>5 rows × 377 columns</p>\n",
       "</div>"
      ],
      "text/plain": [
       "  OSOURCE  TCODE STATE MAILCODE NOEXCH RECINHSE RECP3 RECPGVG RECSWEEP MDMAUD  \\\n",
       "0     BBK      2    MN        _      0        _     _       _        _   XXXX   \n",
       "1     SYN      0    TX        _      0        _     _       _        _   XXXX   \n",
       "2     DRK      0    IA        _      0        _     _       _        _   XXXX   \n",
       "3     BHG      0    CA        _      0        _     _       _        _   XXXX   \n",
       "4     L01      1    GA        _      0        _     _       _        _   XXXX   \n",
       "\n",
       "    ...    HPHONE_D RFA_2R RFA_2F RFA_2A MDMAUD_R MDMAUD_F MDMAUD_A CLUSTER2  \\\n",
       "0   ...           1      L      3      D        X        X        X        3   \n",
       "1   ...           1      L      3      D        X        X        X       14   \n",
       "2   ...           1      L      3      D        X        X        X       11   \n",
       "3   ...           0      L      2      F        X        X        X        2   \n",
       "4   ...           1      L      3      E        X        X        X       22   \n",
       "\n",
       "   GEOCODE2 TARGET_D  \n",
       "0         A        4  \n",
       "1         A        7  \n",
       "2         C        5  \n",
       "3         A       13  \n",
       "4         A       10  \n",
       "\n",
       "[5 rows x 377 columns]"
      ]
     },
     "execution_count": 3,
     "metadata": {},
     "output_type": "execute_result"
    }
   ],
   "source": [
    "# STEP 1: Load and inspect the data\n",
    "\n",
    "data = pd.read_csv('datasets/dataset_4.txt', low_memory=False)  # low memory is set false for better type inference\n",
    "data.head()"
   ]
  },
  {
   "cell_type": "code",
   "execution_count": 8,
   "metadata": {
    "collapsed": false
   },
   "outputs": [],
   "source": [
    "# STEP 2: Clean the data\n",
    "\n",
    "# Categoricals will be int or str (object), the rest float\n",
    "\n",
    "# List of columns to be converted to floating point\n",
    "to_float = ['HIT', 'MALEMILI', 'MALEVET', 'VIETVETS', 'WWIIVETS', 'LOCALGOV', 'STATEGOV', 'FEDGOV', 'NUMPRM12', \n",
    "           'CARDPM12', 'CARDPROM', 'NUMPROM', 'NGIFTALL', 'CARDGIFT']\n",
    "\n",
    "# Converted columns to floating point\n",
    "for feature_name in to_float:\n",
    "    data[feature_name] = data[feature_name].astype(float)\n",
    "\n",
    "# Columns between POP901 to AC2 should all be float\n",
    "index1 = data.columns.get_loc(\"POP901\")\n",
    "index2 = data.columns.get_loc(\"AC2\")\n",
    "\n",
    "for i in range(index1, index2 + 1):\n",
    "    data.iloc[:, i] = data.iloc[:, i].astype(float)"
   ]
  },
  {
   "cell_type": "code",
   "execution_count": null,
   "metadata": {
    "collapsed": true
   },
   "outputs": [],
   "source": [
    "# STEP 3: Encode categorical variables using sklearn's one-hot encoder\n",
    "def encode_categorical(array):\n",
    "    if not array.dtype == np.dtype('float64'):\n",
    "        return Preprocessing.LabelEncoder().fit_transform(array) \n",
    "    else:\n",
    "        return array\n",
    "    \n",
    "# Categorical columns for use in one-hot encoder\n",
    "categorical = (data.dtypes.values != np.dtype('float64'))\n",
    "\n",
    "# Encode all labels\n",
    "data = data.apply(encode_categorical)\n",
    "\n",
    "# Get numpy array from data\n",
    "x = data.iloc[:, :-1].as_matrix()\n",
    "y = data.iloc[:, -1].as_matrix()\n",
    "\n",
    "# Apply one hot endcoing\n",
    "encoder = Preprocessing.OneHotEncoder(categorical_features=categorical[:-1], sparse=False)  # Last value in mask is y\n",
    "x = encoder.fit_transform(x)"
   ]
  },
  {
   "cell_type": "code",
   "execution_count": 10,
   "metadata": {
    "collapsed": false
   },
   "outputs": [
    {
     "name": "stdout",
     "output_type": "stream",
     "text": [
      "done\n"
     ]
    }
   ],
   "source": [
    "# STEP 4: Train regression model\n",
    "\n",
    "# Test/train split\n",
    "n_samples = x.shape[0]\n",
    "train = np.random.uniform(size=n_samples) > 1. / 3.  # Select two thirds for train\n",
    "\n",
    "x_train = x[train]\n",
    "y_train = y[train]\n",
    "\n",
    "x_test = x[~train]\n",
    "y_test = y[~train]\n",
    "\n",
    "cost_per_donor = 7"
   ]
  },
  {
   "cell_type": "markdown",
   "metadata": {},
   "source": [
    "### Plain Linear Regression"
   ]
  },
  {
   "cell_type": "code",
   "execution_count": 11,
   "metadata": {
    "collapsed": false
   },
   "outputs": [
    {
     "name": "stdout",
     "output_type": "stream",
     "text": [
      "Plain Linear Regression\n",
      "Train R^2 score: 0.591180205269\n",
      "Test R^2 score: -3.67498089869e+13\n",
      "Total donation: 4208.75\n"
     ]
    }
   ],
   "source": [
    "# TEST profits with regular regression (no regularization)\n",
    "\n",
    "# Fit regression model on train set\n",
    "reg = Lin_Reg()\n",
    "reg.fit(x_train, y_train)\n",
    "\n",
    "# Evaluate R^2 score on train and test sets\n",
    "train_r_squared = reg.score(x_train, y_train)\n",
    "test_r_squared = reg.score(x_test, y_test)\n",
    "\n",
    "print 'Plain Linear Regression'\n",
    "print 'Train R^2 score:', train_r_squared \n",
    "print 'Test R^2 score:', test_r_squared\n",
    "\n",
    "# Evaluate profit on test set\n",
    "y_pred = reg.predict(x_test)\n",
    "\n",
    "doners = (y_pred - cost_per_donor) > 0\n",
    "profit = (y_test[doners] - cost_per_donor).sum()\n",
    "\n",
    "print 'Total donation:', profit"
   ]
  },
  {
   "cell_type": "markdown",
   "metadata": {},
   "source": [
    "### Ridge regression"
   ]
  },
  {
   "cell_type": "code",
   "execution_count": 62,
   "metadata": {
    "collapsed": false
   },
   "outputs": [
    {
     "name": "stdout",
     "output_type": "stream",
     "text": [
      "Ridge regression\n",
      "Train R-squared: 0.112346229735\n",
      "Test R-squared: 0.117767484207\n",
      "Total donations: 6047.0\n"
     ]
    }
   ],
   "source": [
    "# Rewrite with MSE instead of R-squared\n",
    "# (as the labels have a lot of zeros, hence r_squared can blow up)\n",
    "def k_fold_perf_mse(x, y, n_folds, param_val):\n",
    "    n_train = np.shape(x_train)[0]\n",
    "    n = int(np.round(n_train * 1. / n_folds)) # points per fold\n",
    "    \n",
    "    # Iterate over folds\n",
    "    cv_mse = 0\n",
    "    for fold in range(1, n_folds + 1):\n",
    "        x_train_cv = np.concatenate((x_train[:n * (fold - 1), :], x_train[n * fold + 1:, :]), axis=0)\n",
    "        y_train_cv = np.concatenate((y_train[:n * (fold - 1)], y_train[n * fold + 1:]), axis=0)\n",
    "\n",
    "        x_test_cv = x_train[1 + n * (fold - 1):n * fold, :]\n",
    "        y_test_cv = y_train[1 + n * (fold - 1):n * fold]\n",
    "\n",
    "        # Fit ridge regression model with parameter value on CV train set\n",
    "        reg = Ridge_Reg(alpha = param_val)\n",
    "        reg.fit(x_train_cv, y_train_cv)\n",
    "        \n",
    "        # Evaluate mean squared error of model on CV test set\n",
    "        y_pred_cv = reg.predict(x_test_cv)\n",
    "        mse = np.mean(np.square(y_test_cv - y_pred_cv))\n",
    "\n",
    "        cv_mse += mse\n",
    "\n",
    "    return cv_mse * 1.0 / n_folds\n",
    "\n",
    "\n",
    "# CV to tune parameter in Ridge regression\n",
    "min_mse = 1e10 # some high value\n",
    "min_param = -1\n",
    "\n",
    "for power_of_10 in range(-7, 7):\n",
    "    cv_mse = k_fold_perf_mse(x, y, 5, 10.0**power_of_10)\n",
    "    \n",
    "    if(cv_mse < min_mse):\n",
    "        min_mse = cv_mse\n",
    "        min_param = 10**power_of_10\n",
    "    \n",
    "# Fit regression model with opt parameter on train set\n",
    "reg = Ridge_Reg(alpha = min_param)\n",
    "reg.fit(x_train, y_train)\n",
    "\n",
    "# Evaluate R-squared on train and test sets\n",
    "train_r_squared = reg.score(x_train, y_train)\n",
    "test_r_squared = reg.score(x_test, y_test)\n",
    "\n",
    "print 'Ridge regression'\n",
    "\n",
    "print \"Train R-squared:\", train_r_squared \n",
    "print \"Test R-squared:\", test_r_squared\n",
    "\n",
    "# Evaluate profit on test set\n",
    "y_pred = reg.predict(x_test)\n",
    "\n",
    "doners = (y_pred - cost_per_donor) > 0\n",
    "profit = (y_test[doners] - cost_per_donor).sum()\n",
    "\n",
    "print \"Total donations:\", profit"
   ]
  },
  {
   "cell_type": "markdown",
   "metadata": {},
   "source": [
    "### Default Strategy"
   ]
  },
  {
   "cell_type": "code",
   "execution_count": 61,
   "metadata": {
    "collapsed": false
   },
   "outputs": [
    {
     "name": "stdout",
     "output_type": "stream",
     "text": [
      "Default strategy\n",
      "Total donation: 4825.42\n"
     ]
    }
   ],
   "source": [
    "print 'Default strategy'\n",
    "print 'Total donation:', (y_test - cost_per_donor).sum()"
   ]
  },
  {
   "cell_type": "markdown",
   "metadata": {},
   "source": [
    "Notice that both linear regression and ridge regression have very low R^2 scores on the test set. In terms of R^2, both models are extremely poor fits. On ther other hand notice that using the ridge regression's donation predictions to only send mailers to doners who are predicted to donate more than \\$7 yields a much higher net gain than blanket mailing very one! Should we be surprised? One conclusion to draw here is that R^2 shouldn't be the end-all be-all final word on model fit. **How we evaluate the \"goodness\" of a model should depend on ultimately what we want to use the model to do.** In this regard, a \"bad\" model by some measures can be a \"good\" model by others.\n",
    "\n",
    "Now, why is it that both linear and ridge regression do poorly in terms of R^2 on this data? Is it that the data is simply not linear? What else might make doing regression (and linear regression in particular) inappropriate for this data? **Hint:** think about, again, what the model should ultimately do: not to predict how much a doner will donate but whether the doner will donate over \\$7. Think also about the number of categorical variables present in the data set."
   ]
  }
 ],
 "metadata": {
  "anaconda-cloud": {},
  "kernelspec": {
   "display_name": "Python 2",
   "language": "python",
   "name": "python2"
  },
  "language_info": {
   "codemirror_mode": {
    "name": "ipython",
    "version": 2
   },
   "file_extension": ".py",
   "mimetype": "text/x-python",
   "name": "python",
   "nbconvert_exporter": "python",
   "pygments_lexer": "ipython2",
   "version": "2.7.11"
  }
 },
 "nbformat": 4,
 "nbformat_minor": 0
}
