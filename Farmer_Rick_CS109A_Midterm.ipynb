{
 "cells": [
  {
   "cell_type": "markdown",
   "metadata": {},
   "source": [
    "# CS 109A/AC 209A/STAT 121A Data Science: Midterm I\n",
    "**Harvard University**<br>\n",
    "**Fall 2016**<br>\n",
    "**Instructors: W. Pan, P. Protopapas, K. Rader**"
   ]
  },
  {
   "cell_type": "markdown",
   "metadata": {},
   "source": [
    "---\n",
    "\n",
    "### Basic Information\n",
    "\n",
    "**Name:** Farmer, Rick\n",
    "\n",
    "**Course Number:** CS 109a\n",
    "\n",
    "**Note:** \n",
    "\n",
    "- _All data sets can be found in the `datasets` folder_\n",
    "\n",
    "---"
   ]
  },
  {
   "cell_type": "markdown",
   "metadata": {},
   "source": [
    "Import libraries"
   ]
  },
  {
   "cell_type": "code",
   "execution_count": 2,
   "metadata": {
    "collapsed": false
   },
   "outputs": [],
   "source": [
    "import random\n",
    "import numpy as np\n",
    "import pandas as pd\n",
    "from sklearn.linear_model import LinearRegression as Lin_Reg\n",
    "from sklearn.linear_model import Ridge as Ridge_Reg\n",
    "from sklearn.linear_model import Lasso as Lasso_Reg\n",
    "from statsmodels.regression.linear_model import OLS\n",
    "import sklearn.preprocessing as Preprocessing\n",
    "import itertools as it\n",
    "from itertools import combinations\n",
    "\n",
    "import matplotlib\n",
    "import matplotlib.pyplot as plt\n",
    "import matplotlib.cm as cmx\n",
    "import matplotlib.colors as colors\n",
    "import scipy as sp\n",
    "\n",
    "from mpl_toolkits.mplot3d import Axes3D\n",
    "from bs4 import BeautifulSoup\n",
    "import urllib\n",
    "from __future__ import division # Python 2.7 uses integer division by default, so that 5 / 2 equals 2, this sfixes that\n",
    "%matplotlib inline"
   ]
  },
  {
   "cell_type": "markdown",
   "metadata": {},
   "source": [
    "![Asteroid](https://github.com/cs109Alabs/lab_files/blob/master/astroid.gif?raw=true)"
   ]
  },
  {
   "cell_type": "markdown",
   "metadata": {},
   "source": [
    "# Save the Earth \n",
    "\n",
    "\n",
    "\n",
    "It is Oct 13, 2016. NASA's radars discovered a small, 3 meter, iron base meteorite that just entered the Earth's atmosphere.  A small meteorite will not create a wide-spread devastation but will still be dangerous for the citizens. Local authorities would like to know the location of the impact point so they that can warn residents and allocate resources based on the population affected.\n",
    "\n",
    "\n",
    "The Governor has sought out the best data scientist in the state - you - to help save the day!\n",
    "\n",
    "You are given two data sets:\n",
    "\n",
    "\n",
    "1.  Radar position estimates (x, y, z - coordinates; z being the altitude) of the meteorite at various times are available here (https://cs109alabs.github.io/lab_files/). x, y, z coordinates are in kilometers and time is in seconds. \n",
    "\n",
    "2. Locations and other details of every dwelling in the town are provided herePreview the documentView in a new window.  \n",
    "\n",
    "\n",
    "I. Using methods you learned in class to estimate the expected point of impact along with the region with 90% certainty.\n",
    "\n",
    "\n",
    "II. Using the dwelling database, estimate the total number of people that will most likely be affected within this region.\n",
    "\n",
    "\n",
    "AC209 students only: Additional measurements from another radar are available herePreview the documentView in a new window. The accuracy of this radar is approximately 5 times higher than that of the first radar. Your model should take into account both radar data sets."
   ]
  },
  {
   "cell_type": "markdown",
   "metadata": {},
   "source": [
    "## Load and Examine the Population Data"
   ]
  },
  {
   "cell_type": "code",
   "execution_count": 13,
   "metadata": {
    "collapsed": false
   },
   "outputs": [
    {
     "name": "stdout",
     "output_type": "stream",
     "text": [
      "Population data dimensions: \n",
      "(2417, 5)\n",
      "\n",
      "\n",
      "First five rows:\n"
     ]
    },
    {
     "data": {
      "text/html": [
       "<div>\n",
       "<table border=\"1\" class=\"dataframe\">\n",
       "  <thead>\n",
       "    <tr style=\"text-align: right;\">\n",
       "      <th></th>\n",
       "      <th>residents</th>\n",
       "      <th>bed</th>\n",
       "      <th>bath</th>\n",
       "      <th>x</th>\n",
       "      <th>y</th>\n",
       "    </tr>\n",
       "  </thead>\n",
       "  <tbody>\n",
       "    <tr>\n",
       "      <th>0</th>\n",
       "      <td>3.0</td>\n",
       "      <td>4</td>\n",
       "      <td>3</td>\n",
       "      <td>7201.60</td>\n",
       "      <td>6752.56</td>\n",
       "    </tr>\n",
       "    <tr>\n",
       "      <th>1</th>\n",
       "      <td>2.0</td>\n",
       "      <td>2</td>\n",
       "      <td>1</td>\n",
       "      <td>7079.68</td>\n",
       "      <td>6622.32</td>\n",
       "    </tr>\n",
       "    <tr>\n",
       "      <th>2</th>\n",
       "      <td>4.0</td>\n",
       "      <td>2</td>\n",
       "      <td>1</td>\n",
       "      <td>7154.40</td>\n",
       "      <td>6683.28</td>\n",
       "    </tr>\n",
       "    <tr>\n",
       "      <th>3</th>\n",
       "      <td>2.0</td>\n",
       "      <td>1</td>\n",
       "      <td>2</td>\n",
       "      <td>7093.44</td>\n",
       "      <td>6680.56</td>\n",
       "    </tr>\n",
       "    <tr>\n",
       "      <th>4</th>\n",
       "      <td>1.0</td>\n",
       "      <td>2</td>\n",
       "      <td>2</td>\n",
       "      <td>7198.72</td>\n",
       "      <td>6674.96</td>\n",
       "    </tr>\n",
       "  </tbody>\n",
       "</table>\n",
       "</div>"
      ],
      "text/plain": [
       "   residents  bed  bath        x        y\n",
       "0        3.0    4     3  7201.60  6752.56\n",
       "1        2.0    2     1  7079.68  6622.32\n",
       "2        4.0    2     1  7154.40  6683.28\n",
       "3        2.0    1     2  7093.44  6680.56\n",
       "4        1.0    2     2  7198.72  6674.96"
      ]
     },
     "execution_count": 13,
     "metadata": {},
     "output_type": "execute_result"
    }
   ],
   "source": [
    "# Open the file containing the population data\n",
    "population_df = pd.read_csv('datasets/pop_data.csv')\n",
    "\n",
    "# Display the dimensions of the data with a pretty format\n",
    "print \"Population data dimensions: \"\n",
    "print population_df.shape\n",
    "print \"\\n\"\n",
    "\n",
    "# Display the first five rows of data\n",
    "print \"First five rows:\"\n",
    "population_df.head()\n",
    "\n",
    "\n"
   ]
  },
  {
   "cell_type": "markdown",
   "metadata": {},
   "source": [
    "## Load and Examine the Radar Data"
   ]
  },
  {
   "cell_type": "code",
   "execution_count": 27,
   "metadata": {
    "collapsed": false
   },
   "outputs": [
    {
     "name": "stdout",
     "output_type": "stream",
     "text": [
      "<html>\n",
      " <head>\n",
      "  <title>\n",
      "   Save the World!\n",
      "  </title>\n",
      " </head>\n",
      " <style type=\"text/css\">\n",
      "  .tg  {bord\n"
     ]
    }
   ],
   "source": [
    "page = urllib.urlopen(\"https://raw.githubusercontent.com/cs109Alabs/lab_files/master/index.html\")\n",
    "soup = BeautifulSoup(page, 'html.parser')\n",
    "\n",
    "# Pretiffy the parse tree returned by Beautiful Soup\n",
    "parse_tree = soup.prettify()\n",
    "\n",
    "# Print the first 100 characters of the parse tree\n",
    "print(parse_tree[:101])"
   ]
  },
  {
   "cell_type": "code",
   "execution_count": 31,
   "metadata": {
    "collapsed": false
   },
   "outputs": [
    {
     "name": "stdout",
     "output_type": "stream",
     "text": [
      "\n",
      "# Text of the <title> tag is:\n",
      "\n",
      "Save the World!\n",
      "\n",
      "\n",
      "# Each child of the <table> tag:\n",
      "\n",
      "<tr>\n",
      "<th class=\"tg-yw4l\">Time</th>\n",
      "<th class=\"tg-yw4l\">X-Coord</th>\n",
      "<th class=\"tg-yw4l\">Y-Coord</th>\n",
      "<th class=\"tg-yw4l\">Z-Coord</th>\n",
      "</tr>\n",
      "<tr>\n",
      "<td class=\"tg-yw4l\">0.000000000000000000e+00</td>\n",
      "<td c\n"
     ]
    }
   ],
   "source": [
    "# Let's make sure that our html element parsed correctly and that we are able to access them\n",
    "\n",
    "# Display the text of the title tag\n",
    "print \"\\n# Text of the <title> tag is:\\n\"\n",
    "print soup.html.head.title.text\n",
    "\n",
    "# Display each child of the head tag, first 200\n",
    "print \"\\n\\n# Each child of the <table> tag:\"\n",
    "print ''.join(map(str, soup.html.table.children))[:201]"
   ]
  },
  {
   "cell_type": "markdown",
   "metadata": {},
   "source": [
    "**Conclusion**\n",
    "\n",
    "Lower mean birth weights and femur lengths are associated with the younger group I and the older group III.\n",
    "Whereas group II with the ages 18-34 are associated with higher mean birth weights and femur lengths."
   ]
  },
  {
   "cell_type": "markdown",
   "metadata": {},
   "source": [
    "### Part (c): Simple Data Visualization\n",
    "\n",
    "Visualize the data using a 3-D scatter plot. How does your visual analysis compare with the stats you've computed in Part (b)?"
   ]
  },
  {
   "cell_type": "code",
   "execution_count": 90,
   "metadata": {
    "collapsed": false
   },
   "outputs": [
    {
     "ename": "SyntaxError",
     "evalue": "invalid syntax (<ipython-input-90-91d960ab64e9>, line 2)",
     "output_type": "error",
     "traceback": [
      "\u001b[0;36m  File \u001b[0;32m\"<ipython-input-90-91d960ab64e9>\"\u001b[0;36m, line \u001b[0;32m2\u001b[0m\n\u001b[0;31m    axes = fig.add subplot(n, m, k, projection='3d')\u001b[0m\n\u001b[0m                         ^\u001b[0m\n\u001b[0;31mSyntaxError\u001b[0m\u001b[0;31m:\u001b[0m invalid syntax\n"
     ]
    }
   ],
   "source": [
    "x, y, z = data[:]\n",
    "fig = plt.figure()\n",
    "axes = fig.add_subplot(n, m, k, projection='3d')\n",
    "axes.scatter(x, y, z)\n"
   ]
  },
  {
   "cell_type": "markdown",
   "metadata": {},
   "source": [
    "### Part (d): Simple Data Visualization (Continued)\n",
    "\n",
    "Visualize two data attributes at a time,\n",
    "\n",
    "1. maternal age against birth weight\n",
    "2. maternal age against femur length\n",
    "3. birth weight against femur length\n",
    "\n",
    "using 2-D scatter plots.\n",
    "\n",
    "Compare your visual analysis with your analysis from Part (b) and (c)."
   ]
  },
  {
   "cell_type": "code",
   "execution_count": null,
   "metadata": {
    "collapsed": true
   },
   "outputs": [],
   "source": []
  },
  {
   "cell_type": "markdown",
   "metadata": {},
   "source": [
    "### Part (e): More Data Visualization\n",
    "\n",
    "Finally, we want to visualize the data by maternal age group. Plot the data again using a 3-D scatter plot, this time, color the points in the plot according to the age group of the mother (e.g. use red, blue, green to represent group I, II and III respectively).\n",
    "\n",
    "Compare your visual analysis with your analysis from Part (a) - (c)."
   ]
  },
  {
   "cell_type": "code",
   "execution_count": null,
   "metadata": {
    "collapsed": true
   },
   "outputs": [],
   "source": []
  },
  {
   "cell_type": "code",
   "execution_count": null,
   "metadata": {
    "collapsed": true
   },
   "outputs": [],
   "source": []
  },
  {
   "cell_type": "code",
   "execution_count": null,
   "metadata": {
    "collapsed": true
   },
   "outputs": [],
   "source": []
  },
  {
   "cell_type": "code",
   "execution_count": null,
   "metadata": {
    "collapsed": true
   },
   "outputs": [],
   "source": []
  },
  {
   "cell_type": "code",
   "execution_count": null,
   "metadata": {
    "collapsed": false
   },
   "outputs": [],
   "source": []
  },
  {
   "cell_type": "code",
   "execution_count": null,
   "metadata": {
    "collapsed": true
   },
   "outputs": [],
   "source": []
  },
  {
   "cell_type": "code",
   "execution_count": null,
   "metadata": {
    "collapsed": true
   },
   "outputs": [],
   "source": []
  },
  {
   "cell_type": "code",
   "execution_count": null,
   "metadata": {
    "collapsed": true
   },
   "outputs": [],
   "source": []
  }
 ],
 "metadata": {
  "anaconda-cloud": {},
  "kernelspec": {
   "display_name": "Python [Root]",
   "language": "python",
   "name": "Python [Root]"
  },
  "language_info": {
   "codemirror_mode": {
    "name": "ipython",
    "version": 2
   },
   "file_extension": ".py",
   "mimetype": "text/x-python",
   "name": "python",
   "nbconvert_exporter": "python",
   "pygments_lexer": "ipython2",
   "version": "2.7.12"
  }
 },
 "nbformat": 4,
 "nbformat_minor": 0
}
