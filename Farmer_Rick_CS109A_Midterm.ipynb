{
 "cells": [
  {
   "cell_type": "markdown",
   "metadata": {},
   "source": [
    "# CS 109A/AC 209A/STAT 121A Data Science: Midterm I\n",
    "**Harvard University**<br>\n",
    "**Fall 2016**<br>\n",
    "**Instructors: W. Pan, P. Protopapas, K. Rader**"
   ]
  },
  {
   "cell_type": "markdown",
   "metadata": {},
   "source": [
    "---\n",
    "\n",
    "### Basic Information\n",
    "\n",
    "**Name:** Farmer, Rick\n",
    "\n",
    "**Course Number:** CS 109a\n",
    "\n",
    "**Note:** \n",
    "\n",
    "- _All data sets can be found in the `datasets` folder_\n",
    "\n",
    "---"
   ]
  },
  {
   "cell_type": "markdown",
   "metadata": {},
   "source": [
    "Import libraries"
   ]
  },
  {
   "cell_type": "code",
   "execution_count": 178,
   "metadata": {
    "collapsed": false
   },
   "outputs": [],
   "source": [
    "import time\n",
    "import random\n",
    "import numpy as np\n",
    "import pandas as pd\n",
    "import scipy as sp\n",
    "from sklearn.linear_model import LinearRegression as Lin_Reg\n",
    "from sklearn.linear_model import Ridge as Ridge_Reg\n",
    "from sklearn.linear_model import Lasso as Lasso_Reg\n",
    "from statsmodels.regression.linear_model import OLS\n",
    "import sklearn.preprocessing as Preprocessing\n",
    "import itertools as it\n",
    "from itertools import combinations\n",
    "\n",
    "from bs4 import BeautifulSoup\n",
    "import urllib\n",
    "# The \"requests\" library makes working with HTTP requests easier\n",
    "# than the built-in urllib libraries\n",
    "import requests\n",
    "\n",
    "import matplotlib\n",
    "import matplotlib.pyplot as plt\n",
    "import matplotlib.cm as cmx\n",
    "import matplotlib.colors as colors\n",
    "\n",
    "from mpl_toolkits.mplot3d import Axes3D\n",
    "\n",
    "from __future__ import division # Python 2.7 uses integer division by default, so that 5 / 2 equals 2, this sfixes that\n",
    "\n",
    "%matplotlib inline"
   ]
  },
  {
   "cell_type": "markdown",
   "metadata": {},
   "source": [
    "![Asteroid](https://github.com/cs109Alabs/lab_files/blob/master/astroid.gif?raw=true)"
   ]
  },
  {
   "cell_type": "markdown",
   "metadata": {},
   "source": [
    "# Save the World! \n",
    "\n",
    "\n",
    "\n",
    "It is Oct 13, 2016. NASA's radars discovered a small, 3 meter, iron base meteorite that just entered the Earth's atmosphere.  A small meteorite will not create a wide-spread devastation but will still be dangerous for the citizens. Local authorities would like to know the location of the impact point so they that can warn residents and allocate resources based on the population affected.\n",
    "\n",
    "\n",
    "The Governor has sought out the best data scientist in the state - you - to help save the day!\n",
    "\n",
    "You are given two data sets:\n",
    "\n",
    "\n",
    "1.  Radar position estimates (x, y, z - coordinates; z being the altitude) of the meteorite at various times are available here (https://cs109alabs.github.io/lab_files/). x, y, z coordinates are in kilometers and time is in seconds. \n",
    "\n",
    "2. Locations and other details of every dwelling in the town are provided herePreview the documentView in a new window.  \n",
    "\n",
    "\n",
    "I. Using methods you learned in class to estimate the expected point of impact along with the region with 90% certainty.\n",
    "\n",
    "\n",
    "II. Using the dwelling database, estimate the total number of people that will most likely be affected within this region.\n",
    "\n",
    "\n",
    "AC209 students only: Additional measurements from another radar are available herePreview the documentView in a new window. The accuracy of this radar is approximately 5 times higher than that of the first radar. Your model should take into account both radar data sets."
   ]
  },
  {
   "cell_type": "markdown",
   "metadata": {},
   "source": [
    "## Load and Examine the Population Data"
   ]
  },
  {
   "cell_type": "code",
   "execution_count": 179,
   "metadata": {
    "collapsed": false
   },
   "outputs": [
    {
     "name": "stdout",
     "output_type": "stream",
     "text": [
      "Population data dimensions:\n",
      "(2417, 5)\n",
      "\n",
      "\n",
      "First five rows:\n"
     ]
    },
    {
     "data": {
      "text/html": [
       "<div>\n",
       "<table border=\"1\" class=\"dataframe\">\n",
       "  <thead>\n",
       "    <tr style=\"text-align: right;\">\n",
       "      <th></th>\n",
       "      <th>residents</th>\n",
       "      <th>bed</th>\n",
       "      <th>bath</th>\n",
       "      <th>x</th>\n",
       "      <th>y</th>\n",
       "    </tr>\n",
       "  </thead>\n",
       "  <tbody>\n",
       "    <tr>\n",
       "      <th>0</th>\n",
       "      <td>3.0</td>\n",
       "      <td>4</td>\n",
       "      <td>3</td>\n",
       "      <td>7201.60</td>\n",
       "      <td>6752.56</td>\n",
       "    </tr>\n",
       "    <tr>\n",
       "      <th>1</th>\n",
       "      <td>2.0</td>\n",
       "      <td>2</td>\n",
       "      <td>1</td>\n",
       "      <td>7079.68</td>\n",
       "      <td>6622.32</td>\n",
       "    </tr>\n",
       "    <tr>\n",
       "      <th>2</th>\n",
       "      <td>4.0</td>\n",
       "      <td>2</td>\n",
       "      <td>1</td>\n",
       "      <td>7154.40</td>\n",
       "      <td>6683.28</td>\n",
       "    </tr>\n",
       "    <tr>\n",
       "      <th>3</th>\n",
       "      <td>2.0</td>\n",
       "      <td>1</td>\n",
       "      <td>2</td>\n",
       "      <td>7093.44</td>\n",
       "      <td>6680.56</td>\n",
       "    </tr>\n",
       "    <tr>\n",
       "      <th>4</th>\n",
       "      <td>1.0</td>\n",
       "      <td>2</td>\n",
       "      <td>2</td>\n",
       "      <td>7198.72</td>\n",
       "      <td>6674.96</td>\n",
       "    </tr>\n",
       "  </tbody>\n",
       "</table>\n",
       "</div>"
      ],
      "text/plain": [
       "   residents  bed  bath        x        y\n",
       "0        3.0    4     3  7201.60  6752.56\n",
       "1        2.0    2     1  7079.68  6622.32\n",
       "2        4.0    2     1  7154.40  6683.28\n",
       "3        2.0    1     2  7093.44  6680.56\n",
       "4        1.0    2     2  7198.72  6674.96"
      ]
     },
     "execution_count": 179,
     "metadata": {},
     "output_type": "execute_result"
    }
   ],
   "source": [
    "# Open the file containing the population data\n",
    "population_df = pd.read_csv('datasets/pop_data.csv')\n",
    "\n",
    "# Display the dimensions of the data with a pretty format\n",
    "print \"Population data dimensions:\"\n",
    "print population_df.shape\n",
    "print \"\\n\"\n",
    "\n",
    "# Display the first five rows of data\n",
    "print \"First five rows:\"\n",
    "population_df.head()\n"
   ]
  },
  {
   "cell_type": "markdown",
   "metadata": {},
   "source": [
    "## Load and Examine the Radar Position Data"
   ]
  },
  {
   "cell_type": "code",
   "execution_count": 199,
   "metadata": {
    "collapsed": false
   },
   "outputs": [
    {
     "name": "stdout",
     "output_type": "stream",
     "text": [
      "<html>\n",
      " <head>\n",
      "  <title>\n",
      "   Save the World!\n",
      "  </title>\n",
      " </head>\n",
      " <style type=\"text/css\">\n",
      "  .tg  {bord\n"
     ]
    }
   ],
   "source": [
    "# Get the Asteroid radar data from the lab repository on GitHub\n",
    "radar = requests.get(\"https://raw.githubusercontent.com/cs109Alabs/lab_files/master/index.html\")\n",
    "\n",
    "# Use Beautiful Soup to parse the html text into a DOM object\n",
    "soup = BeautifulSoup(radar.text, 'html.parser')\n",
    "\n",
    "# Prettify the parse tree returned by Beautiful Soup\n",
    "parse_tree = soup.prettify()\n",
    "\n",
    "# Print the first 100 characters of the parse tree to see if it is there\n",
    "print(parse_tree[:101])"
   ]
  },
  {
   "cell_type": "code",
   "execution_count": 200,
   "metadata": {
    "collapsed": false
   },
   "outputs": [
    {
     "name": "stdout",
     "output_type": "stream",
     "text": [
      "\n",
      "# Text of the <title> tag is:\n",
      "\n",
      "Save the World!\n",
      "\n",
      "\n",
      "# Each child of the <table> tag:\n",
      "\n",
      "<tr>\n",
      "<th class=\"tg-yw4l\">Time</th>\n",
      "<th class=\"tg-yw4l\">X-Coord</th>\n",
      "<th class=\"tg-yw4l\">Y-Coord</th>\n",
      "<th class=\"tg-yw4l\">Z-Coord</th>\n",
      "</tr>\n",
      "<tr>\n",
      "<td class=\"tg-yw4l\">0.000000000000000000e+00</td>\n",
      "<td c\n"
     ]
    }
   ],
   "source": [
    "# Let's make sure that our html element parsed correctly and that we are able to access them\n",
    "\n",
    "# Display the text of the title tag\n",
    "print \"\\n# Text of the <title> tag is:\\n\"\n",
    "print soup.html.head.title.text\n",
    "\n",
    "# Display each child of the head tag, first 200\n",
    "print \"\\n\\n# Each child of the <table> tag:\"\n",
    "print ''.join(map(str, soup.html.table.children))[:201]"
   ]
  },
  {
   "cell_type": "code",
   "execution_count": 205,
   "metadata": {
    "collapsed": false
   },
   "outputs": [
    {
     "data": {
      "text/plain": [
       "[{'time': 0.0,\n",
       "  'x': 48.829114978261245,\n",
       "  'y': 8.475320943737545,\n",
       "  'z': 17005.09768524586},\n",
       " {'time': 10.0,\n",
       "  'x': 69.15037477111318,\n",
       "  'y': 69.21075417425614,\n",
       "  'z': 16941.295532073807},\n",
       " {'time': 20.0,\n",
       "  'x': 177.87772942855491,\n",
       "  'y': 134.0117758000764,\n",
       "  'z': 16831.33032964538},\n",
       " {'time': 30.0,\n",
       "  'x': 199.73400225858478,\n",
       "  'y': 220.7435235846259,\n",
       "  'z': 16569.07798159552},\n",
       " {'time': 40.0,\n",
       "  'x': 278.017525735722,\n",
       "  'y': 221.40312090873607,\n",
       "  'z': 16849.67301245895}]"
      ]
     },
     "execution_count": 205,
     "metadata": {},
     "output_type": "execute_result"
    }
   ],
   "source": [
    "# Look for a single \"table\" element with a class of tg-yw4l;\n",
    "# Then look for all the \"tr\" elements on that table\n",
    "rows = soup.find(\"table\").find_all(\"tr\")[1:]\n",
    "\n",
    "# We then define a function to act on\n",
    "# each column's element in each row in the table to convert them to floats\n",
    "def cleaner(r):\n",
    "    time = float(r[0].get_text())\n",
    "    x = float(r[1].get_text())\n",
    "    y = float(r[2].get_text())\n",
    "    z = float(r[3].get_text())\n",
    "    return [time, x, y, z]\n",
    "\n",
    "# Next we'll create a list of names that will be used as dictionary keys.\n",
    "fields = [\"time\", \"x\", \"y\", \"z\"]\n",
    "\n",
    "# The zip function creates a list of pairs; which the dict function then uses\n",
    "# to create a dictionary, using the first element of the pair as the key and the second as\n",
    "# the value; and finally, the list comprehension iterates over each row element, and puts\n",
    "# the result of each iteration on a list, which is then bound to the radar variable.\n",
    "radar = [dict(zip(fields, cleaner(row.find_all(\"td\")))) for row in rows]\n",
    "\n",
    "# Print the first five elements\n",
    "radar[:5]"
   ]
  },
  {
   "cell_type": "code",
   "execution_count": 207,
   "metadata": {
    "collapsed": true
   },
   "outputs": [],
   "source": [
    "# We want to keep the radar data safe in case it becomes unavailable online at some point\n",
    "import json\n",
    "\n",
    "# Write the radar data to the local file system as a JSON file\n",
    "fd = open(\"datasets/radar.json\",\"w\")\n",
    "json.dump(radar, fd)\n",
    "fd.close()"
   ]
  },
  {
   "cell_type": "markdown",
   "metadata": {},
   "source": [
    "### Part (c): Simple Data Visualization\n",
    "\n",
    "Visualize the data using a 3-D scatter plot. How does your visual analysis compare with the stats you've computed in Part (b)?"
   ]
  },
  {
   "cell_type": "code",
   "execution_count": 90,
   "metadata": {
    "collapsed": false
   },
   "outputs": [
    {
     "ename": "SyntaxError",
     "evalue": "invalid syntax (<ipython-input-90-91d960ab64e9>, line 2)",
     "output_type": "error",
     "traceback": [
      "\u001b[0;36m  File \u001b[0;32m\"<ipython-input-90-91d960ab64e9>\"\u001b[0;36m, line \u001b[0;32m2\u001b[0m\n\u001b[0;31m    axes = fig.add subplot(n, m, k, projection='3d')\u001b[0m\n\u001b[0m                         ^\u001b[0m\n\u001b[0;31mSyntaxError\u001b[0m\u001b[0;31m:\u001b[0m invalid syntax\n"
     ]
    }
   ],
   "source": [
    "x, y, z = data[:]\n",
    "fig = plt.figure()\n",
    "axes = fig.add_subplot(n, m, k, projection='3d')\n",
    "axes.scatter(x, y, z)\n"
   ]
  },
  {
   "cell_type": "markdown",
   "metadata": {},
   "source": [
    "### Part (d): Simple Data Visualization (Continued)\n",
    "\n",
    "Visualize two data attributes at a time,\n",
    "\n",
    "1. maternal age against birth weight\n",
    "2. maternal age against femur length\n",
    "3. birth weight against femur length\n",
    "\n",
    "using 2-D scatter plots.\n",
    "\n",
    "Compare your visual analysis with your analysis from Part (b) and (c)."
   ]
  },
  {
   "cell_type": "code",
   "execution_count": null,
   "metadata": {
    "collapsed": true
   },
   "outputs": [],
   "source": []
  },
  {
   "cell_type": "markdown",
   "metadata": {},
   "source": [
    "### Part (e): More Data Visualization\n",
    "\n",
    "Finally, we want to visualize the data by maternal age group. Plot the data again using a 3-D scatter plot, this time, color the points in the plot according to the age group of the mother (e.g. use red, blue, green to represent group I, II and III respectively).\n",
    "\n",
    "Compare your visual analysis with your analysis from Part (a) - (c)."
   ]
  },
  {
   "cell_type": "code",
   "execution_count": null,
   "metadata": {
    "collapsed": true
   },
   "outputs": [],
   "source": []
  },
  {
   "cell_type": "code",
   "execution_count": null,
   "metadata": {
    "collapsed": true
   },
   "outputs": [],
   "source": []
  },
  {
   "cell_type": "code",
   "execution_count": null,
   "metadata": {
    "collapsed": true
   },
   "outputs": [],
   "source": []
  },
  {
   "cell_type": "code",
   "execution_count": null,
   "metadata": {
    "collapsed": true
   },
   "outputs": [],
   "source": []
  },
  {
   "cell_type": "code",
   "execution_count": null,
   "metadata": {
    "collapsed": false
   },
   "outputs": [],
   "source": []
  },
  {
   "cell_type": "code",
   "execution_count": null,
   "metadata": {
    "collapsed": true
   },
   "outputs": [],
   "source": []
  },
  {
   "cell_type": "code",
   "execution_count": null,
   "metadata": {
    "collapsed": true
   },
   "outputs": [],
   "source": []
  },
  {
   "cell_type": "code",
   "execution_count": null,
   "metadata": {
    "collapsed": true
   },
   "outputs": [],
   "source": []
  }
 ],
 "metadata": {
  "anaconda-cloud": {},
  "kernelspec": {
   "display_name": "Python [Root]",
   "language": "python",
   "name": "Python [Root]"
  },
  "language_info": {
   "codemirror_mode": {
    "name": "ipython",
    "version": 2
   },
   "file_extension": ".py",
   "mimetype": "text/x-python",
   "name": "python",
   "nbconvert_exporter": "python",
   "pygments_lexer": "ipython2",
   "version": "2.7.12"
  }
 },
 "nbformat": 4,
 "nbformat_minor": 0
}
