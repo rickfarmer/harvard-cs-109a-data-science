{
 "cells": [
  {
   "cell_type": "markdown",
   "metadata": {},
   "source": [
    "# Merging, Grouping and Sythnesizing Data in Pandas\n",
    "# CS 109A/AC 209A/STAT 121A Data Science: Lab 5\n",
    "**Harvard University**<br>\n",
    "**Fall 2016**<br>\n",
    "**Instructors: W. Pan, P. Protopapas, K. Rader**<br>"
   ]
  },
  {
   "cell_type": "code",
   "execution_count": 2,
   "metadata": {
    "collapsed": true
   },
   "outputs": [],
   "source": [
    "#Import libraries\n",
    "import pandas as pd\n",
    "import numpy as np\n",
    "import matplotlib.pyplot as plt\n",
    "%matplotlib inline"
   ]
  },
  {
   "cell_type": "markdown",
   "metadata": {},
   "source": [
    "## How to synthesize data from multiple sources\n",
    "\n",
    "This simple data scraping exercise is designed to show you how to combine data frames.  Often in data science you will be bringing together data from different places to answer new and interesting questions.\n",
    "\n",
    "Your goal here is to make a scatter plot of cheese consumption versus cardiovascular disease rates for countries of the world, however you must first combine these data.  Let's start by loading them.\n",
    "\n",
    "Load `cheese.csv` and `cardio_disease.csv`. Examine your data."
   ]
  },
  {
   "cell_type": "markdown",
   "metadata": {},
   "source": [
    "## Joining dataframes and plotting\n",
    "\n",
    "Pandas has functionality to combine the two data frames and sort them by a key.  Read the documentation here for information on how to do this:  http://pandas.pydata.org/pandas-docs/stable/merging.html\n",
    "\n",
    "1. Merge the infromation in the two data frames by country, using the `merge` function. Why won't concatenating the dataframes work?\n",
    "```\n",
    "pd.merge(df1, df2, ...)\n",
    "```\n",
    "\n",
    "2. Make a scatter plot of cheese consumption versus cardiovascular disease\n",
    "\n",
    "3. What do you notice in the relationship between these variables?"
   ]
  },
  {
   "cell_type": "markdown",
   "metadata": {},
   "source": [
    "## Data scraping issues\n",
    "\n",
    "What countries included in the merged data frame?  How do they compare to the countries in the original frames?\n",
    "\n",
    "What difficulties do you anticipate when merging dataframes like this?  For example, from disparate sources, the same country may be spelled differently.  How would you identify and deal with such issues?"
   ]
  },
  {
   "cell_type": "markdown",
   "metadata": {},
   "source": [
    "## Grouping Data in Pandas Data Frames\n",
    "\n",
    "Say we want to split the data frame into two subsets: those countries whose cheese consumption is above the world mean and those countries whose cheese consumption is below the world mean.\n",
    "\n",
    "We could do this by filtering the data frame and record the two subsets each as a data frame, but later we might have to recombine the data! Instead we can create groups within one data frame using `pandas`' `groupby` functionality.\n",
    "\n",
    "1. First define two bins of values for the cheese colum to separate the values into those below the mean and those above the mean. Store the end points of your bins in a list:\n",
    "```\n",
    "[0, cheese_mean, cheese_max]\n",
    "```\n",
    "\n",
    "2. Use `pandas`' `cut` functionality to sort each cheese value into one of the bins:\n",
    "```\n",
    "pd.cut(cheese_values, bins=[0, cheese_mean, cheese_max])\n",
    "```\n",
    "\n",
    "3. Group the data in your data frame into two groups, those whose cheese assumption falls into the first bin, and those that fall into the second:\n",
    "```\n",
    "df.groupby(the cut you just made in step 2)\n",
    "```\n",
    "\n",
    "4. Play around with the object returned by `groupby`, try accessing each of the groups, using `get_group`.\n",
    "\n",
    "5. Now, we want to compute the stats for the mortality column by group. Try applying the `mean` function to the mortality column in the `groupby` object you got from step 4. What does the result look like?\n",
    "\n",
    "6. If you want to apply a list of functions to the mortality column, you can use the `aggregate` function:\n",
    "```\n",
    "df['column'].agg([function_1, funciton_2, ...])\n",
    "```\n",
    "\n",
    "7. Use `aggregate` to compute the mean and the std of the mortality column in your grouped dataframe. What does the result look like? Try to access each value in the resuliting structure."
   ]
  }
 ],
 "metadata": {
  "kernelspec": {
   "display_name": "Python 2",
   "language": "python",
   "name": "python2"
  },
  "language_info": {
   "codemirror_mode": {
    "name": "ipython",
    "version": 2
   },
   "file_extension": ".py",
   "mimetype": "text/x-python",
   "name": "python",
   "nbconvert_exporter": "python",
   "pygments_lexer": "ipython2",
   "version": "2.7.11"
  }
 },
 "nbformat": 4,
 "nbformat_minor": 0
}
