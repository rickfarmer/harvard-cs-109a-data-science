{
 "cells": [
  {
   "cell_type": "markdown",
   "metadata": {},
   "source": [
    "# Map Drawing and Geolocation Plotting \n",
    "# CS 109A/AC 209A/STAT 121A Data Science: Lab 5\n",
    "**Harvard University**<br>\n",
    "**Fall 2016**<br>\n",
    "**Instructors: W. Pan, P. Protopapas, K. Rader**<br>"
   ]
  },
  {
   "cell_type": "code",
   "execution_count": 2,
   "metadata": {
    "collapsed": true
   },
   "outputs": [],
   "source": [
    "import pandas as pd\n",
    "\n",
    "# Import the basemap package\n",
    "from mpl_toolkits.basemap import Basemap\n",
    "from matplotlib.patches import Polygon"
   ]
  },
  {
   "cell_type": "markdown",
   "metadata": {},
   "source": [
    "## How to Plot Data on Maps\n",
    "\n",
    "This a data visualization exercise that is designed to show you how to draw maps with regional details in `python`.  \n",
    "\n",
    "Your goal is to extract the longitude, latitude information from a data set and visualize the data as points on a map with regional details.\n",
    "\n",
    "1. Load `WIC.csv`, this is a data set describing authorized WIC service providers. Examine your data.\n",
    "\n",
    "2. Clean the data set. Form an array of logitudes from the location information, do the same for latitudes. (Use only `.apply` to do the extraction)\n",
    "\n",
    "3. Create a map of California using `Basemap`. You can follow the basic tutorial [here](https://www.getdatajoy.com/examples/python-plots/plot-data-points-on-a-map). **Hint:** You need to get the longitude, latitude values of a bounding box around the state  of California, use Google Map to get these values of the corners of your box.\n",
    "\n",
    "4. The map you produce from step 3 will be crude. You can add some regional information, like county lines, to your map by plotting \"shape data\". Do this by reading the shape file contained in `California_County`:\n",
    "```\n",
    "my_map.readshapefile('./California_County/CaliforniaCounty', ...)\n",
    "```\n",
    "\n",
    "5. Plot the `WIC` data points on the final map of California with county lines. "
   ]
  },
  {
   "cell_type": "code",
   "execution_count": null,
   "metadata": {
    "collapsed": true
   },
   "outputs": [],
   "source": []
  }
 ],
 "metadata": {
  "kernelspec": {
   "display_name": "Python 2",
   "language": "python",
   "name": "python2"
  },
  "language_info": {
   "codemirror_mode": {
    "name": "ipython",
    "version": 2
   },
   "file_extension": ".py",
   "mimetype": "text/x-python",
   "name": "python",
   "nbconvert_exporter": "python",
   "pygments_lexer": "ipython2",
   "version": "2.7.11"
  }
 },
 "nbformat": 4,
 "nbformat_minor": 0
}
