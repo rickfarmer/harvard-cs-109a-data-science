{
 "cells": [
  {
   "cell_type": "code",
   "execution_count": 4,
   "metadata": {
    "collapsed": false
   },
   "outputs": [],
   "source": [
    "\n",
    "import numpy as np \n",
    "import math\n",
    "import matplotlib\n",
    "import matplotlib.pyplot as plt\n",
    "%matplotlib inline\n",
    "from sklearn.linear_model import LinearRegression as regress\n",
    "import statsmodels.formula.api as sm\n",
    "\n",
    "import pandas as pd\n",
    "from sklearn.preprocessing import scale\n",
    "from sklearn.decomposition import PCA\n",
    "from sklearn import cross_validation\n",
    "from sklearn.linear_model import LinearRegression"
   ]
  },
  {
   "cell_type": "code",
   "execution_count": 12,
   "metadata": {
    "collapsed": false
   },
   "outputs": [
    {
     "data": {
      "text/plain": [
       "1379"
      ]
     },
     "execution_count": 12,
     "metadata": {},
     "output_type": "execute_result"
    }
   ],
   "source": [
    "dt = pd.read_csv(\"gssincome.csv\")\n",
    "data=dt.values.T\n",
    "income=dt['income'].values\n",
    "age=dt['age'].values\n",
    "foreignborn=dt['foreignborn'].values\n",
    "female=dt['female'].values\n",
    "crack=dt['crack'].values\n",
    "educ=dt['educ'].values\n",
    "numchildren=dt['numchildren'].values\n",
    "\n",
    "Y=income\n",
    "X=np.vstack([age,foreignborn,female,crack,educ,numchildren])\n",
    "Y.size"
   ]
  },
  {
   "cell_type": "code",
   "execution_count": 6,
   "metadata": {
    "collapsed": false
   },
   "outputs": [
    {
     "name": "stdout",
     "output_type": "stream",
     "text": [
      "[  9.54963189e-01   4.28744682e-02   1.82324631e-03   2.47076004e-04\n",
      "   9.20200233e-05   7.10738993e-31]\n",
      "[[ -3.23932056e-02  -1.06328609e-02  -3.41185390e-02 ...,  -8.92354013e-03\n",
      "   -1.08692734e-02  -4.53411599e-02]\n",
      " [  3.40398982e-03   4.73257505e-02  -3.30280864e-03 ...,   4.30662761e-02\n",
      "    3.34829452e-02  -4.40360127e-02]\n",
      " [ -3.26519540e-02  -1.38971478e-02  -3.09446802e-03 ...,  -6.32701478e-03\n",
      "   -1.54132319e-02  -1.70608556e-02]\n",
      " [ -2.13374373e-02   2.61816829e-02   2.67657473e-02 ...,  -1.94361000e-02\n",
      "   -3.51111513e-02   3.28620216e-02]\n",
      " [  1.08287061e-02  -9.50585074e-04  -3.90115104e-04 ...,   9.82593006e-03\n",
      "    8.24883560e-02  -3.44630483e-03]\n",
      " [  9.96136323e-01  -3.27274123e-02  -1.12253558e-02 ...,  -4.21259752e-04\n",
      "   -4.05229026e-03   7.61510077e-04]]\n"
     ]
    }
   ],
   "source": [
    "\n",
    "pca = PCA(n_components=6)\n",
    "pca.fit(X)\n",
    "print(pca.explained_variance_ratio_)\n",
    "print(pca.components_)\n",
    "\n"
   ]
  },
  {
   "cell_type": "code",
   "execution_count": 7,
   "metadata": {
    "collapsed": false
   },
   "outputs": [
    {
     "data": {
      "text/plain": [
       "array([ 95.496,  99.783,  99.965,  99.99 ,  99.999,  99.999])"
      ]
     },
     "execution_count": 7,
     "metadata": {},
     "output_type": "execute_result"
    }
   ],
   "source": [
    "\n",
    "np.cumsum(np.round(pca.explained_variance_ratio_, decimals=5)*100)"
   ]
  },
  {
   "cell_type": "code",
   "execution_count": 19,
   "metadata": {
    "collapsed": false
   },
   "outputs": [
    {
     "name": "stdout",
     "output_type": "stream",
     "text": [
      "Intercept    35403.678568\n",
      "Z1          -14286.081076\n",
      "dtype: float64\n",
      "SSE from first PCA Component = 2.78580434095e+12 and R-sq = 0.0446253661996\n",
      "SSE from first two PCA Components = 2.77204468056e+12 and R-sq = 0.0493441579363\n",
      "[ 52526.24111917  36922.69770219  54900.48711927  38006.33739291]\n",
      "[87470 88570 13140 41050]\n"
     ]
    }
   ],
   "source": [
    "Z=X*pca.components_\n",
    "#print(Z[0])\n",
    "df = pd.DataFrame({\"Y\": Y, \"Z1\": Z[0], \"Z2\": Z[1]})\n",
    "result = sm.ols(formula=\"Y ~ Z1\", data=df).fit()\n",
    "print(result.params)\n",
    "Yhat = result.params[0]+result.params[1]*Z[0]\n",
    "SSE = np.sum((Y - Yhat)**2)\n",
    "SST = (Y.size-1)*np.var(Y)\n",
    "print(\"SSE from first PCA Component =\", SSE,\"and R-sq =\",1-SSE/SST)\n",
    "result2 = sm.ols(formula=\"Y ~ Z1 + Z2\", data=df).fit()\n",
    "Yhat2 = result2.params[0]+result2.params[1]*Z[0]+result2.params[2]*Z[1]\n",
    "SSE2 = np.sum((Y - Yhat2)**2)\n",
    "print(\"SSE from first two PCA Components =\",SSE2,\"and R-sq =\",1-SSE2/SST)\n",
    "print(Yhat[0:4])\n",
    "print(Y[0:4])"
   ]
  },
  {
   "cell_type": "code",
   "execution_count": null,
   "metadata": {
    "collapsed": true
   },
   "outputs": [],
   "source": []
  }
 ],
 "metadata": {
  "anaconda-cloud": {},
  "kernelspec": {
   "display_name": "Python [Root]",
   "language": "python",
   "name": "Python [Root]"
  },
  "language_info": {
   "codemirror_mode": {
    "name": "ipython",
    "version": 3
   },
   "file_extension": ".py",
   "mimetype": "text/x-python",
   "name": "python",
   "nbconvert_exporter": "python",
   "pygments_lexer": "ipython3",
   "version": "3.5.1"
  }
 },
 "nbformat": 4,
 "nbformat_minor": 0
}
